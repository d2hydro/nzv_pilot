{
 "cells": [
  {
   "cell_type": "markdown",
   "id": "774ff9e6",
   "metadata": {},
   "source": [
    "# Genereer buien\n",
    "\n",
    "Notebook voor het aanmaken van BUI-bestanden voor RR-modellen"
   ]
  },
  {
   "cell_type": "code",
   "execution_count": 1,
   "id": "147ebcb8",
   "metadata": {},
   "outputs": [],
   "source": [
    "from delft3dfmpy import DFlowRRModel, DFlowRRWriter\n",
    "import pandas as pd\n",
    "import geopandas as gpd\n",
    "import hydrotools\n",
    "from pathlib import Path\n",
    "\n",
    "data_path = Path(r\"..\\data\").absolute().resolve()\n",
    "hydrologische_eenheden = data_path.joinpath(\"hydrologische_eenheden\",\n",
    "                                            \"HydrologischeEenheden_selectie.shp\")\n",
    "buien_dir = Path(r\"..\\modellen\\buien\\rr\")\n",
    "\n",
    "start_datetime = pd.Timestamp('2020-06-01 00:00:00')\n",
    "end_datetime = start_datetime + pd.Timedelta(days=15)\n",
    "\n",
    "drrmodel = DFlowRRModel()\n",
    "\n",
    "precipitation = hydrotools.generate_meteo_series(7, start_datetime, end_datetime)\n",
    "evaporation = hydrotools.generate_meteo_series(0, start_datetime, end_datetime)\n",
    "meteo_stations = gpd.read_file(hydrologische_eenheden)[\"HEIDENT\"].to_list()\n",
    "\n",
    "for station in meteo_stations:\n",
    "    drrmodel.external_forcings.add_precip(station, precipitation)\n",
    "    drrmodel.external_forcings.add_evap(station, evaporation)   \n",
    "\n",
    "rr_writer = DFlowRRWriter(drrmodel,\n",
    "                          output_dir=r\"modellen\\buien\",\n",
    "                          name=\"buien\")    \n",
    "buien_dir.mkdir(exist_ok=True, parents=True)\n",
    "rr_writer.write_meteo()"
   ]
  }
 ],
 "metadata": {
  "kernelspec": {
   "display_name": "Python 3",
   "language": "python",
   "name": "python3"
  },
  "language_info": {
   "codemirror_mode": {
    "name": "ipython",
    "version": 3
   },
   "file_extension": ".py",
   "mimetype": "text/x-python",
   "name": "python",
   "nbconvert_exporter": "python",
   "pygments_lexer": "ipython3",
   "version": "3.7.10"
  }
 },
 "nbformat": 4,
 "nbformat_minor": 5
}
