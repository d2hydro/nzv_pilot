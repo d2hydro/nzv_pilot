{
 "cells": [
  {
   "cell_type": "markdown",
   "id": "698f476a",
   "metadata": {},
   "source": [
    "# Herschrijven RR-boundaries\n",
    "\n",
    "Notebook voor het schrijven van de koppeling tussen het RR-model en het FM-model zonder daarbij de afzondelijke modellen te schrijven.\n",
    "\n",
    "Let op (!): voor het uitvoeren van deze notebook is er een HyDAMO model opgeslagen in Python-pickle nodig. Deze wordt weggeschreven als onderdeel van de modelbouw"
   ]
  },
  {
   "cell_type": "code",
   "execution_count": 1,
   "id": "ac47d879",
   "metadata": {},
   "outputs": [],
   "source": [
    "from delft3dfmpy import DFlowRRModel, DFlowRRWriter, DFlowFMModel, DFlowFMWriter\n",
    "from pathlib import Path\n",
    "import hydrotools\n",
    "import pandas as pd\n",
    "\n",
    "drrmodel = DFlowRRModel()\n",
    "dfmmodel = DFlowFMModel()"
   ]
  },
  {
   "cell_type": "code",
   "execution_count": 2,
   "id": "57badec0",
   "metadata": {},
   "outputs": [],
   "source": [
    "data_path = Path(r\"..\\data\").absolute().resolve()\n",
    "sobek_rr = data_path.joinpath(\"sobek_rr\")"
   ]
  },
  {
   "cell_type": "code",
   "execution_count": 3,
   "id": "d34116b1",
   "metadata": {},
   "outputs": [],
   "source": [
    "hydamo = hydrotools.load_model(file_name=Path(r\"../hydamo_model/boezemmodel_v4.pickle\"))\n",
    "dfmmodel.network.set_branches(hydamo.branches)"
   ]
  },
  {
   "cell_type": "code",
   "execution_count": 4,
   "id": "f2d7cded",
   "metadata": {},
   "outputs": [],
   "source": [
    "sobek_case = \"20210826 Boezemmodel 0D1D\"\n",
    "sobek = hydrotools.Sobek(sobek_rr.joinpath(\"TKI3_NZV.lit\"))\n",
    "rr_laterals = sobek.read_rr_laterals(sobek_case)"
   ]
  },
  {
   "cell_type": "code",
   "execution_count": 5,
   "id": "b1547dac",
   "metadata": {},
   "outputs": [],
   "source": [
    "for k,v in rr_laterals.items():\n",
    "    if \"branch\" in v.keys():\n",
    "        drrmodel.external_forcings.add_boundary_node(k, v[\"x\"], v[\"y\"])\n",
    "        dfmmodel.external_forcings.laterals[k] = {\n",
    "            'branchid': v[\"branch\"],\n",
    "            'branch_offset': v[\"chainage\"]                    \n",
    "                    }"
   ]
  },
  {
   "cell_type": "code",
   "execution_count": 6,
   "id": "bdb349d8",
   "metadata": {},
   "outputs": [],
   "source": [
    "for k,v in drrmodel.external_forcings.boundary_nodes.items():\n",
    "    v[\"level\"] = rr_laterals[k][\"level\"]"
   ]
  },
  {
   "cell_type": "code",
   "execution_count": 7,
   "id": "306156a2",
   "metadata": {},
   "outputs": [],
   "source": [
    "import pandas as pd\n",
    "from config import dimr_path\n",
    "start_datetime = pd.Timestamp('2020-01-01 00:00:00')\n",
    "end_datetime = start_datetime + pd.Timedelta(days=15)\n",
    "\n",
    "drrmodel.d3b_parameters['Timestepsize'] = 300\n",
    "drrmodel.d3b_parameters['StartTime'] = start_datetime.strftime('%Y/%m/%d;%H:%M:%S') # should be equal to refdate for D-HYDRO\n",
    "#drrmodel.d3b_parameters['EndTime'] = end_datetime.strftime('\"%Y/%m/%d;%H:%M:%S\"')\n",
    "drrmodel.d3b_parameters['EndTime'] = end_datetime.strftime('%Y/%m/%d;%H:%M:%S')\n",
    "drrmodel.d3b_parameters['RestartIn'] = 0\n",
    "drrmodel.d3b_parameters['RestartOut'] = 0\n",
    "drrmodel.d3b_parameters['RestartFileNamePrefix'] ='Test'\n",
    "drrmodel.d3b_parameters['UnsaturatedZone'] = 1\n",
    "drrmodel.d3b_parameters['UnpavedPercolationLikeSobek213']=-1\n",
    "drrmodel.d3b_parameters['VolumeCheckFactorToCF']=100000\n",
    "drrmodel.dimr_path = dimr_path\n",
    "\n",
    "\n",
    "rr_writer = DFlowRRWriter(drrmodel,\n",
    "                          output_dir=r\"modellen\\new_boundaries\",\n",
    "                          name=\"boezemmodel\")\n",
    "\n",
    "rr_writer.copyRRFiles()\n",
    "    \n",
    "hydrotools.write_rr_boundaries(rr_writer, write_level=True)\n",
    "sobek.copy_rr(sobek_case,\n",
    "              rr_writer.output_dir,\n",
    "              sobek_rr.joinpath(\"Sobek_3b.fnm\"))\n",
    "\n",
    "rr_writer.write_coupling()\n"
   ]
  },
  {
   "cell_type": "code",
   "execution_count": 1,
   "id": "65e1d1bc",
   "metadata": {},
   "outputs": [
    {
     "ename": "NameError",
     "evalue": "name 'start_datetime' is not defined",
     "output_type": "error",
     "traceback": [
      "\u001b[1;31m---------------------------------------------------------------------------\u001b[0m",
      "\u001b[1;31mNameError\u001b[0m                                 Traceback (most recent call last)",
      "\u001b[1;32m<ipython-input-1-27da38979dc7>\u001b[0m in \u001b[0;36m<module>\u001b[1;34m\u001b[0m\n\u001b[1;32m----> 1\u001b[1;33m \u001b[0mdfmmodel\u001b[0m\u001b[1;33m.\u001b[0m\u001b[0mmdu_parameters\u001b[0m\u001b[1;33m[\u001b[0m\u001b[1;34m\"refdate\"\u001b[0m\u001b[1;33m]\u001b[0m \u001b[1;33m=\u001b[0m \u001b[0mint\u001b[0m\u001b[1;33m(\u001b[0m\u001b[0mstart_datetime\u001b[0m\u001b[1;33m.\u001b[0m\u001b[0mstrftime\u001b[0m\u001b[1;33m(\u001b[0m\u001b[1;34m\"%Y%m%d\"\u001b[0m\u001b[1;33m)\u001b[0m\u001b[1;33m)\u001b[0m\u001b[1;33m\u001b[0m\u001b[1;33m\u001b[0m\u001b[0m\n\u001b[0m\u001b[0;32m      2\u001b[0m \u001b[0mdfmmodel\u001b[0m\u001b[1;33m.\u001b[0m\u001b[0mmdu_parameters\u001b[0m\u001b[1;33m[\u001b[0m\u001b[1;34m\"tstart\"\u001b[0m\u001b[1;33m]\u001b[0m \u001b[1;33m=\u001b[0m \u001b[1;36m0.0\u001b[0m \u001b[1;33m*\u001b[0m \u001b[1;36m3600\u001b[0m\u001b[1;33m\u001b[0m\u001b[1;33m\u001b[0m\u001b[0m\n\u001b[0;32m      3\u001b[0m \u001b[0mdfmmodel\u001b[0m\u001b[1;33m.\u001b[0m\u001b[0mmdu_parameters\u001b[0m\u001b[1;33m[\u001b[0m\u001b[1;34m\"tstop\"\u001b[0m\u001b[1;33m]\u001b[0m \u001b[1;33m=\u001b[0m \u001b[1;36m10\u001b[0m \u001b[1;33m*\u001b[0m \u001b[1;36m24\u001b[0m \u001b[1;33m*\u001b[0m \u001b[1;36m3600\u001b[0m\u001b[1;33m\u001b[0m\u001b[1;33m\u001b[0m\u001b[0m\n\u001b[0;32m      4\u001b[0m \u001b[0mdfmmodel\u001b[0m\u001b[1;33m.\u001b[0m\u001b[0mmdu_parameters\u001b[0m\u001b[1;33m[\u001b[0m\u001b[1;34m\"hisinterval\"\u001b[0m\u001b[1;33m]\u001b[0m \u001b[1;33m=\u001b[0m \u001b[1;34m\"600. 0. 0.\"\u001b[0m\u001b[1;33m\u001b[0m\u001b[1;33m\u001b[0m\u001b[0m\n\u001b[0;32m      5\u001b[0m \u001b[0mdfmmodel\u001b[0m\u001b[1;33m.\u001b[0m\u001b[0mmdu_parameters\u001b[0m\u001b[1;33m[\u001b[0m\u001b[1;34m\"mapinterval\"\u001b[0m\u001b[1;33m]\u001b[0m \u001b[1;33m=\u001b[0m \u001b[1;34m\"600. 0. 0.\"\u001b[0m\u001b[1;33m\u001b[0m\u001b[1;33m\u001b[0m\u001b[0m\n",
      "\u001b[1;31mNameError\u001b[0m: name 'start_datetime' is not defined"
     ]
    }
   ],
   "source": [
    "dfmmodel.mdu_parameters[\"refdate\"] = int(start_datetime.strftime(\"%Y%m%d\"))\n",
    "dfmmodel.mdu_parameters[\"tstart\"] = 0.0 * 3600\n",
    "dfmmodel.mdu_parameters[\"tstop\"] = 10 * 24 * 3600\n",
    "dfmmodel.mdu_parameters[\"hisinterval\"] = \"600. 0. 0.\"\n",
    "dfmmodel.mdu_parameters[\"mapinterval\"] = \"600. 0. 0.\"\n",
    "dfmmodel.mdu_parameters[\"wrirst_bnd\"] = 0\n",
    "dfmmodel.mdu_parameters[\"cflmax\"] = 0.7\n",
    "dfmmodel.mdu_parameters[\"outputdir\"] = \"pir_winter\"\n",
    "dfmmodel.dimr_path = dimr_path\n",
    "\n",
    "fm_writer = DFlowFMWriter(dfmmodel, output_dir=r\"modellen\\new_boundaries\", name=\"boezemmodel\")\n",
    "fm_writer.write_boundary_conditions()\n",
    "fm_writer.write_laterals()"
   ]
  },
  {
   "cell_type": "code",
   "execution_count": null,
   "id": "564ec76b",
   "metadata": {},
   "outputs": [],
   "source": []
  },
  {
   "cell_type": "code",
   "execution_count": null,
   "id": "5ecd6356",
   "metadata": {},
   "outputs": [],
   "source": []
  }
 ],
 "metadata": {
  "kernelspec": {
   "display_name": "Python 3",
   "language": "python",
   "name": "python3"
  },
  "language_info": {
   "codemirror_mode": {
    "name": "ipython",
    "version": 3
   },
   "file_extension": ".py",
   "mimetype": "text/x-python",
   "name": "python",
   "nbconvert_exporter": "python",
   "pygments_lexer": "ipython3",
   "version": "3.7.10"
  }
 },
 "nbformat": 4,
 "nbformat_minor": 5
}
