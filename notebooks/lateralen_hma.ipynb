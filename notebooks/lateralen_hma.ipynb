{
 "cells": [
  {
   "cell_type": "markdown",
   "id": "b1cbb20b",
   "metadata": {},
   "source": [
    "# HMA lateralen\n",
    "\n",
    "Het webschrijven van een lateral-bestand voor het FM model op basis van de Hydrologische eenheden"
   ]
  },
  {
   "cell_type": "code",
   "execution_count": 1,
   "id": "2c51c7a1",
   "metadata": {},
   "outputs": [],
   "source": [
    "from delft3dfmpy import DFlowRRModel, DFlowRRWriter, DFlowFMModel, DFlowFMWriter\n",
    "import hydrotools\n",
    "from pathlib import Path\n",
    "import geopandas as gpd\n",
    "import pandas as pd\n",
    "\n",
    "dfmmodel = DFlowFMModel()\n",
    "\n",
    "hydamo = hydrotools.load_model(file_name=Path(r\"../hydamo_model/boezemmodel_v4.pickle\"))\n",
    "hydrologische_eenheden = Path(r\"../data/hydrologische_eenheden/HydrologischeEenheden_selectie.shp\")\n",
    "dfmmodel.network.set_branches(hydamo.branches)"
   ]
  },
  {
   "cell_type": "code",
   "execution_count": 2,
   "id": "b8d6c03d",
   "metadata": {},
   "outputs": [
    {
     "name": "stdout",
     "output_type": "stream",
     "text": [
      "rStorGFE01769_1\n",
      "rStorGFE02842\n",
      "rStorGFE06531\n",
      "rStorGFE06898\n",
      "rStorGFE07028\n",
      "rStorGPGKGM069_4\n",
      "rStorGPGKGM037_2\n",
      "rStorKGM024_2\n",
      "rStorGFE00365_5\n",
      "rStorGFE00737_2\n",
      "rStorGFE03439_2\n",
      "rStorGFE04908_2\n",
      "rStorGFE04023_3\n",
      "rStorGFE02838_3\n",
      "rStorGFE04605_4\n",
      "rStorGFE04010_2\n",
      "rStorGFE01514_2\n",
      "rStorGFE04254_2\n",
      "rStorGFE02948_3\n",
      "rStorGFE04350_2\n",
      "rStorGFE04662_2\n",
      "rStorGPGKST6123\n",
      "rStorGFE07445_3\n",
      "rStorGFE04949_2\n",
      "rStorGFE04957_3\n",
      "rStorGFE00945_2\n",
      "rStorGFE00623_3\n",
      "rStorGFE0442_3\n",
      "rStorGPGKST0589_2\n",
      "rStorGFE00733_3\n",
      "rStorGFE04162_2\n",
      "rStorGFE00916_2\n",
      "rStorGFE03056_2\n",
      "rStorGFE04761_3\n",
      "rStorGPGKST0391_1\n",
      "rStorGPGKST0391_2\n"
     ]
    }
   ],
   "source": [
    "intensity = 7 #mm/dag\n",
    "inflow = 0\n",
    "\n",
    "gdf = hydamo.branches.loc[hydamo.branches.index.str.startswith(\"rStor\")]\n",
    "he_gdf = gpd.read_file(hydrologische_eenheden)\n",
    "he_gdf.set_index(\"HEIDENT\", inplace=True)\n",
    "for idx, row in he_gdf.iterrows():\n",
    "    branch = f\"rStor{idx}\"\n",
    "    if branch in dfmmodel.network.branches.index:\n",
    "        area = row[\"Area\"]\n",
    "        discharge = area * intensity / 1000 / 86400\n",
    "        inflow += discharge\n",
    "        series = pd.Series(data=[discharge, discharge],\n",
    "                       index=[pd.Timestamp(\"2000-01-01\"),\n",
    "                              pd.Timestamp(\"2100-01-01\")])\n",
    "\n",
    "        dfmmodel.external_forcings.laterals[idx] = {\n",
    "                'branchid': branch,\n",
    "                'branch_offset': row[\"geometry\"].length / 2,\n",
    "                'timeseries': series\n",
    "                        }\n",
    "    else:\n",
    "        print(branch)\n",
    "\n",
    "start_datetime = pd.Timestamp('2020-01-01 00:00:00')\n",
    "dfmmodel.mdu_parameters[\"refdate\"] = int(start_datetime.strftime(\"%Y%m%d\"))\n",
    "\n",
    "fm_writer = DFlowFMWriter(dfmmodel, output_dir=r\"modellen\\hma\", name=\"boezemmodel\")\n",
    "fm_writer.write_laterals()\n",
    "fm_writer.write_boundary_conditions()"
   ]
  },
  {
   "cell_type": "code",
   "execution_count": 3,
   "id": "c26ad206",
   "metadata": {},
   "outputs": [],
   "source": [
    "area = he_gdf[\"Area\"].sum()"
   ]
  },
  {
   "cell_type": "code",
   "execution_count": 4,
   "id": "5453431a",
   "metadata": {},
   "outputs": [
    {
     "name": "stdout",
     "output_type": "stream",
     "text": [
      "109.06665989384817\n",
      "114.14547181860617\n"
     ]
    }
   ],
   "source": [
    "print(inflow)\n",
    "\n",
    "print(area * intensity / 1000 / 86400)"
   ]
  }
 ],
 "metadata": {
  "kernelspec": {
   "display_name": "Python 3",
   "language": "python",
   "name": "python3"
  },
  "language_info": {
   "codemirror_mode": {
    "name": "ipython",
    "version": 3
   },
   "file_extension": ".py",
   "mimetype": "text/x-python",
   "name": "python",
   "nbconvert_exporter": "python",
   "pygments_lexer": "ipython3",
   "version": "3.7.10"
  }
 },
 "nbformat": 4,
 "nbformat_minor": 5
}
