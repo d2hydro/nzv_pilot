{
 "cells": [
  {
   "cell_type": "markdown",
   "metadata": {},
   "source": [
    "# Deelmodel Steenbergerloop"
   ]
  },
  {
   "cell_type": "code",
   "execution_count": 1,
   "metadata": {},
   "outputs": [],
   "source": [
    "import hydrotools\n",
    "from pathlib import Path\n",
    "import geopandas as gpd\n",
    "import pandas as pd\n",
    "from delft3dfmpy import DFlowFMModel, DFlowFMWriter"
   ]
  },
  {
   "cell_type": "code",
   "execution_count": 2,
   "metadata": {},
   "outputs": [],
   "source": [
    "dimr_path = r\"c:\\Program Files (x86)\\Deltares\\D-HYDRO Suite 1D2D (Beta) (0.9.7.52006)\\plugins\\DeltaShell.Dimr\\\"kernels\\x64\\dimr\\scripts\\run_dimr.bat\"\n",
    "\n",
    "hydamo = hydrotools.load_model(Path(r\"./hydamo_model/boezemmodel_v4.pickle\"))\n",
    "shp_file = r\".\\shp\\steenbergerloop.shp\"\n",
    "geometry = gpd.read_file(shp_file).loc[0]['geometry']\n",
    "hydamo = hydrotools.filter_model(hydamo, geometry=geometry)\n",
    "hydrotools.export_shapes(hydamo, path=Path(r\"./hydamo_shp/steenbergerloop\"))\n",
    "principe_profielen_df = pd.read_excel(r\".\\xlsx\\principe_profielen.xlsx\", index_col=0)"
   ]
  },
  {
   "cell_type": "markdown",
   "metadata": {},
   "source": [
    "## Converteren naar DFM\n",
    "\n",
    "### Aanmaken dfm-klasse"
   ]
  },
  {
   "cell_type": "code",
   "execution_count": 3,
   "metadata": {},
   "outputs": [],
   "source": [
    "dfmmodel = DFlowFMModel()"
   ]
  },
  {
   "cell_type": "markdown",
   "metadata": {},
   "source": [
    "### Inlezen kunstwerken"
   ]
  },
  {
   "cell_type": "code",
   "execution_count": 4,
   "metadata": {},
   "outputs": [
    {
     "name": "stdout",
     "output_type": "stream",
     "text": [
      "2021-02-25 13:41:12,127 - delft3dfmpy.converters.hydamo_to_dflowfm - hydamo_to_dflowfm - INFO - Currently only simple weirs can be applied. From Hydamo the attributes 'laagstedoorstroomhoogte' and 'kruinbreedte' are used to define the weir dimensions.\n"
     ]
    }
   ],
   "source": [
    "dfmmodel.structures.io.weirs_from_hydamo(hydamo.weirs,\n",
    "                                         yz_profiles=hydamo.crosssections,\n",
    "                                         parametrised_profiles=hydamo.parametrised_profiles)\n",
    "\n",
    "dfmmodel.structures.io.culverts_from_hydamo(hydamo.culverts,\n",
    "                                            hydamo.afsluitmiddel)\n",
    "\n",
    "dfmmodel.structures.io.bridges_from_hydamo(hydamo.bridges,\n",
    "                                           yz_profiles=hydamo.crosssections,\n",
    "                                           parametrised_profiles=hydamo.parametrised_profiles)\n",
    "\n",
    "dfmmodel.structures.io.orifices_from_hydamo(hydamo.orifices)\n",
    "\n",
    "dfmmodel.structures.io.pumps_from_hydamo(pompen=hydamo.pumps,\n",
    "                                         sturing=hydamo.sturing,\n",
    "                                         gemalen=hydamo.gemalen)"
   ]
  },
  {
   "cell_type": "markdown",
   "metadata": {},
   "source": [
    "### Aanmaken 1d netwerk"
   ]
  },
  {
   "cell_type": "code",
   "execution_count": 5,
   "metadata": {},
   "outputs": [
    {
     "name": "stdout",
     "output_type": "stream",
     "text": [
      "2021-02-25 13:41:12,280 - delft3dfmpy.core.dfm - dfm - WARNING - Some structures are not linked to a branch.\n",
      "2021-02-25 13:41:12,287 - delft3dfmpy.core.dfm - dfm - INFO - Added 1d mesh nodes on branch OAF000211 at: [0.0, 216.9435, 221.8745, 228.02550000000002, 235.7845, 241.2600977488463], due to the structures at [-0.001, 215.157, 218.73, 225.019, 231.032, 240.537, 241.2610977488463].\n",
      "2021-02-25 13:41:12,294 - delft3dfmpy.core.dfm - dfm - INFO - Added 1d mesh nodes on branch OAF000494 at: [0.0, 40.601, 103.154, 141.216, 159.891, 202.399, 366.126, 517.109, 579.6005, 647.528, 681.4304999999999, 685.625, 736.38, 786.4423733018544], due to the structures at [-0.001, 0.5, 80.702, 125.606, 156.826, 162.956, 241.842, 338.468, 393.784, 490.151, 544.067, 615.134, 679.922, 682.939, 688.311, 784.449, 786.4433733018544].\n",
      "2021-02-25 13:41:12,297 - delft3dfmpy.core.dfm - dfm - INFO - Added 1d mesh nodes on branch OAF002236 at: [0.0, 409.8995, 455.097191363579], due to the structures at [-0.001, 395.691, 424.108, 455.09819136357896].\n",
      "2021-02-25 13:41:12,301 - delft3dfmpy.core.dfm - dfm - INFO - Added 1d mesh nodes on branch OAF002353 at: [0.0, 37.2405, 100.61850000000001, 130.575, 625.5515, 670.4125745004662], due to the structures at [-0.001, 1.467, 73.014, 128.223, 132.927, 318.338, 366.228, 594.053, 657.05, 670.4135745004662].\n",
      "2021-02-25 13:41:12,305 - delft3dfmpy.core.dfm - dfm - INFO - Added 1d mesh nodes on branch OAF004380 at: [0.0, 222.7995, 229.8545, 241.31726949857457], due to the structures at [-0.001, 35.98, 220.047, 225.552, 234.157, 241.31826949857458].\n",
      "2021-02-25 13:41:12,309 - delft3dfmpy.core.dfm - dfm - INFO - Added 1d mesh nodes on branch OAF010593 at: [0.0, 497.668, 523.7080000000001, 617.4527064596491], due to the structures at [-0.001, 494.577, 500.759, 546.657, 617.4537064596491].\n"
     ]
    }
   ],
   "source": [
    "dfmmodel.network.set_branches(hydamo.branches)\n",
    "dfmmodel.network.generate_1dnetwork(one_d_mesh_distance=100.0, seperate_structures=True)"
   ]
  },
  {
   "cell_type": "markdown",
   "metadata": {},
   "source": [
    "### Toevoegen dwarsprofielen\n",
    "\n",
    "We kennen profielen toe, waar we profielen missen vullen we deze aan met principeprofielen."
   ]
  },
  {
   "cell_type": "code",
   "execution_count": 6,
   "metadata": {},
   "outputs": [
    {
     "name": "stdout",
     "output_type": "stream",
     "text": [
      "2021-02-25 13:41:12,376 - delft3dfmpy.io.dfmreader - dfmreader - INFO - Before adding the number of branches without cross section is: 20.\n",
      "2021-02-25 13:41:12,415 - delft3dfmpy.io.dfmreader - dfmreader - INFO - After adding 'dwarsprofielen' the number of branches without cross section is: 9.\n",
      "No parametrised crossections available for branches.\n",
      "2021-02-25 13:41:12,417 - delft3dfmpy.io.dfmreader - dfmreader - INFO - Before adding the number of structures without cross section is: 10.\n",
      "2021-02-25 13:41:12,439 - delft3dfmpy.io.dfmreader - dfmreader - INFO - After adding 'dwarsprofielen' the number of branches without cross section is: 10.\n",
      "2021-02-25 13:41:12,485 - delft3dfmpy.io.dfmreader - dfmreader - INFO - After adding 'normgeparametriseerd' the number of structures without cross section is: 0.\n",
      "9 branches are still missing a cross section.\n",
      "0 structures are still missing a cross section.\n",
      "adding trapezium profiles on branches with missing crosssections.\n"
     ]
    },
    {
     "name": "stderr",
     "output_type": "stream",
     "text": [
      "C:\\Anaconda3\\envs\\delft3dfmpy\\lib\\site-packages\\delft3dfmpy\\core\\dfm.py:449: RuntimeWarning: invalid value encountered in double_scalars\n",
      "  levels = f'0 {(maximumflowwidth - bottomwidth) / (2 * slope):.2f}'\n"
     ]
    }
   ],
   "source": [
    "dfmmodel.crosssections.io.from_hydamo(\n",
    "    dwarsprofielen=hydamo.crosssections,\n",
    "    parametrised=hydamo.parametrised_profiles,\n",
    "    branches=hydamo.branches\n",
    ")\n",
    "\n",
    "print(f\"{len(dfmmodel.crosssections.get_branches_without_crosssection())} branches are still missing a cross section.\")\n",
    "print(f\"{len(dfmmodel.crosssections.get_structures_without_crosssection())} structures are still missing a cross section.\")\n",
    "\n",
    "if len(dfmmodel.crosssections.get_branches_without_crosssection()) > 0:\n",
    "    print(\"adding trapezium profiles on branches with missing crosssections.\")\n",
    "    dfmmodel = hydrotools.add_trapeziums(dfmmodel, principe_profielen_df)"
   ]
  },
  {
   "cell_type": "markdown",
   "metadata": {},
   "source": [
    "### Wegschrijven model"
   ]
  },
  {
   "cell_type": "code",
   "execution_count": 7,
   "metadata": {},
   "outputs": [
    {
     "name": "stdout",
     "output_type": "stream",
     "text": [
      "Model is weggeschreven\n"
     ]
    }
   ],
   "source": [
    "dfmmodel.mdu_parameters[\"refdate\"] = 20000101\n",
    "dfmmodel.mdu_parameters[\"tstart\"] = 0.0 * 3600\n",
    "dfmmodel.mdu_parameters[\"tstop\"] = 144.0 * 1 * 3600\n",
    "dfmmodel.mdu_parameters[\"hisinterval\"] = \"120. 0. 0.\"\n",
    "dfmmodel.mdu_parameters[\"cflmax\"] = 0.7\n",
    "\n",
    "dfmmodel.dimr_path = dimr_path\n",
    "fm_writer = DFlowFMWriter(dfmmodel, output_dir=\"modellen\\steenbergerloop\", name=\"steenbergerloop\")\n",
    "\n",
    "fm_writer.objects_to_ldb()\n",
    "fm_writer.write_all()\n",
    "\n",
    "if Path(r\".modellen\\steenbergerloop\\fm\\steenbergerloop.mdu\").exists():\n",
    "    print(\"Model is weggeschreven\")\n",
    "else:\n",
    "    print(\"Er is geen model geschreven. Waarschijnlijk is iets fout gegaan\")"
   ]
  }
 ],
 "metadata": {
  "kernelspec": {
   "display_name": "Python 3",
   "language": "python",
   "name": "python3"
  },
  "language_info": {
   "codemirror_mode": {
    "name": "ipython",
    "version": 3
   },
   "file_extension": ".py",
   "mimetype": "text/x-python",
   "name": "python",
   "nbconvert_exporter": "python",
   "pygments_lexer": "ipython3",
   "version": "3.7.10"
  }
 },
 "nbformat": 4,
 "nbformat_minor": 4
}
