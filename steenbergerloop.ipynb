{
 "cells": [
  {
   "cell_type": "markdown",
   "metadata": {},
   "source": [
    "# Deelmodel Steenbergerloop"
   ]
  },
  {
   "cell_type": "code",
   "execution_count": 1,
   "metadata": {},
   "outputs": [],
   "source": [
    "import hydrotools\n",
    "from pathlib import Path\n",
    "import geopandas as gpd\n",
    "from delft3dfmpy import DFlowFMModel, DFlowFMWriter"
   ]
  },
  {
   "cell_type": "code",
   "execution_count": 2,
   "metadata": {},
   "outputs": [],
   "source": [
    "hydamo = hydrotools.load_model(Path(r\"./hydamo_model/boezemmodel_v4.pickle\"))\n",
    "shp_file = r\".\\shp\\steenbergerloop.shp\"\n",
    "geometry = gpd.read_file(shp_file).loc[0]['geometry']\n",
    "hydamo = hydrotools.filter_model(hydamo, geometry=geometry)\n",
    "hydrotools.export_shapes(hydamo, path=Path(r\"./hydamo_shp/steenbergerloop\"))"
   ]
  },
  {
   "cell_type": "markdown",
   "metadata": {},
   "source": [
    "## Converteren naar DFM\n",
    "\n",
    "### Aanmaken dfm-klasse"
   ]
  },
  {
   "cell_type": "code",
   "execution_count": 3,
   "metadata": {},
   "outputs": [],
   "source": [
    "dfmmodel = DFlowFMModel()"
   ]
  },
  {
   "cell_type": "markdown",
   "metadata": {},
   "source": [
    "### Inlezen kunstwerken"
   ]
  },
  {
   "cell_type": "code",
   "execution_count": 4,
   "metadata": {},
   "outputs": [],
   "source": [
    "dfmmodel.structures.io.weirs_from_hydamo(hydamo.weirs,\n",
    "                                         yz_profiles=hydamo.crosssections,\n",
    "                                         parametrised_profiles=hydamo.parametrised_profiles)\n",
    "\n",
    "dfmmodel.structures.io.culverts_from_hydamo(hydamo.culverts,\n",
    "                                            hydamo.afsluitmiddel)\n",
    "\n",
    "dfmmodel.structures.io.bridges_from_hydamo(hydamo.bridges,\n",
    "                                           yz_profiles=hydamo.crosssections,\n",
    "                                           parametrised_profiles=hydamo.parametrised_profiles)\n",
    "\n",
    "dfmmodel.structures.io.orifices_from_hydamo(hydamo.orifices)\n",
    "\n",
    "dfmmodel.structures.io.pumps_from_hydamo(pompen=hydamo.pumps,\n",
    "                                         sturing=hydamo.sturing,\n",
    "                                         gemalen=hydamo.gemalen)"
   ]
  },
  {
   "cell_type": "markdown",
   "metadata": {},
   "source": [
    "### Aanmaken 1d netwerk"
   ]
  },
  {
   "cell_type": "code",
   "execution_count": 5,
   "metadata": {},
   "outputs": [],
   "source": [
    "dfmmodel.network.set_branches(hydamo.branches)\n",
    "dfmmodel.network.generate_1dnetwork(one_d_mesh_distance=100.0, seperate_structures=True)"
   ]
  },
  {
   "cell_type": "markdown",
   "metadata": {},
   "source": [
    "### Toevoegen cross-sections"
   ]
  },
  {
   "cell_type": "code",
   "execution_count": 6,
   "metadata": {},
   "outputs": [
    {
     "name": "stdout",
     "output_type": "stream",
     "text": [
      "No parametrised crossections available for branches.\n",
      "867 branches are still missing a cross section.\n",
      "0 structures are still missing a cross section.\n"
     ]
    }
   ],
   "source": [
    "dfmmodel.crosssections.io.from_hydamo(\n",
    "    dwarsprofielen=hydamo.crosssections,\n",
    "    parametrised=hydamo.parametrised_profiles,\n",
    "    branches=hydamo.branches\n",
    ")\n",
    "\n",
    "print(f\"{len(dfmmodel.crosssections.get_branches_without_crosssection())} branches are still missing a cross section.\")\n",
    "print(f\"{len(dfmmodel.crosssections.get_structures_without_crosssection())} structures are still missing a cross section.\")"
   ]
  },
  {
   "cell_type": "markdown",
   "metadata": {},
   "source": [
    "### Wegschrijven model"
   ]
  },
  {
   "cell_type": "code",
   "execution_count": 7,
   "metadata": {},
   "outputs": [
    {
     "name": "stdout",
     "output_type": "stream",
     "text": [
      "Model is weggeschreven\n"
     ]
    }
   ],
   "source": [
    "dfmmodel.mdu_parameters[\"refdate\"] = 20000101\n",
    "dfmmodel.mdu_parameters[\"tstart\"] = 0.0 * 3600\n",
    "dfmmodel.mdu_parameters[\"tstop\"] = 144.0 * 1 * 3600\n",
    "dfmmodel.mdu_parameters[\"hisinterval\"] = \"120. 0. 0.\"\n",
    "dfmmodel.mdu_parameters[\"cflmax\"] = 0.7\n",
    "\n",
    "dimr_path = r\"dummypath\\run_dimr.bat\"\n",
    "dfmmodel.dimr_path = dimr_path\n",
    "fm_writer = DFlowFMWriter(dfmmodel, output_dir=\"steenbergerloop\", name=\"steenbergerloop\")\n",
    "\n",
    "fm_writer.objects_to_ldb()\n",
    "fm_writer.write_all()\n",
    "\n",
    "if Path(r\".\\steenbergerloop\\fm\\steenbergerloop.mdu\").exists():\n",
    "    print(\"Model is weggeschreven\")\n",
    "else:\n",
    "    print(\"Er is geen model geschreven. Waarschijnlijk is iets fout gegaan\")"
   ]
  }
 ],
 "metadata": {
  "kernelspec": {
   "display_name": "Python 3",
   "language": "python",
   "name": "python3"
  },
  "language_info": {
   "codemirror_mode": {
    "name": "ipython",
    "version": 3
   },
   "file_extension": ".py",
   "mimetype": "text/x-python",
   "name": "python",
   "nbconvert_exporter": "python",
   "pygments_lexer": "ipython3",
   "version": "3.7.8"
  }
 },
 "nbformat": 4,
 "nbformat_minor": 4
}
