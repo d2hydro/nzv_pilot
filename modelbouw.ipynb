{
 "cells": [
  {
   "cell_type": "markdown",
   "metadata": {},
   "source": [
    "# D-Hydro Boezemmodel V4\n",
    "\n",
    "## Introductie\n",
    "\n",
    "Met deze notebook bouw je een boezemmodel voor Nooderzijlvest.\n",
    "\n",
    "Zorg dat je beschikt over een werkende Python installatie en <a href=\"https://github.com/openearth/delft3dfmpy#installation\">D-HYDAMO omgeving</a>. Het resulterende model moet geimporteerd kunnen worden in D-HYDRO versie 0.9.7.52006 of hoger.\n",
    "\n",
    "De verwijzing naar bestanden is geschreven in het Nederlands. De rest van de code is geschreven in het Engels. Elk code-blok is voorzien van uitleg boven het desbetreffende blok, geschreven in het Nederlands.\n",
    "\n",
    "Download de bestanden van <a href=\"https://drive.google.com/drive/folders/1BXNEwlEDCtShDj5KVuHQcukup-QLTuzR\">Google Drive</a> en zet deze in de folder .\\beheerregister\n",
    "\n",
    "<b>let op:</b> deze notebook werkt alleen in combinatie met een config.py. In config.py dient een variabele dimr_path te zijn opgegeven, afhankelijk van de D-Hydro installatie. Bijvoorbeeld:\n",
    "\n",
    "dimr_path = r\"c:\\Program Files (x86)\\Deltares\\D-HYDRO Suite 1D2D (Beta) (0.9.7.52006)\\plugins\\DeltaShell.Dimr\\kernels\\x64\\dimr\\scripts\\run_dimr.bat\""
   ]
  },
  {
   "cell_type": "markdown",
   "metadata": {},
   "source": [
    "## Controle bestanden\n",
    "\n",
    "Alle bestanden die gebruikt worden in deze tutorial staan in het code-blok hieronder. Wanneer je dit codeblok uitvoert wordt de aanwezigheid van deze bestanden gecontroleerd.\n",
    "\n"
   ]
  },
  {
   "cell_type": "code",
   "execution_count": 1,
   "metadata": {
    "scrolled": true
   },
   "outputs": [],
   "source": [
    "from pathlib import Path\n",
    "from config import dimr_path\n",
    "import pandas as pd\n",
    "\n",
    "beheerregister = Path(r\".\\beheerregister\").absolute().resolve()\n",
    "excelbestanden = Path(r\".\\xlsx\")\n",
    "\n",
    "invoerbestanden = {\"modelgebied\": \"Bemalings_en_lozingsgebieden.shp\",\n",
    "                   \"branches\": \"Afaanvoervakken_DHYDRO_v5.shp\",\n",
    "                   \"profielpunten\": \"profielpunten_3feb2021_actueel.shp\",\n",
    "                   \"bruggen\": \"Bruggen_(doorstroomopeningen).shp\",\n",
    "                   \"duikers\": \"duikers.shp\",\n",
    "                   \"sluizen\": \"sluizen.shp\",\n",
    "                   \"sifons\": \"sifons.shp\",\n",
    "                   \"stuwen\": \"stuwen.shp\",\n",
    "                   \"inlaten\": \"inlaten.shp\",\n",
    "                   \"gemalen\": \"gemalen_v2.shp\",\n",
    "                   \"peilgebieden\": \"Peilgebieden.shp\"}\n",
    "\n",
    "vorm_mapping = dict(rond=1,\n",
    "                    driehoekig=1,\n",
    "                    rechthoekig=3,\n",
    "                    eivormig=1,\n",
    "                    ellips=1,\n",
    "                    Paraboolvormig=1,\n",
    "                    trapeziumvormig=1,\n",
    "                    heul=1,\n",
    "                    muil=3,\n",
    "                    langwerpig=1,\n",
    "                    scherp=1,\n",
    "                    onbekend=99,\n",
    "                    overig=99)\n",
    "\n",
    "for key, item in invoerbestanden.items():\n",
    "    if not beheerregister.joinpath(item).exists():\n",
    "        print(f\"bestand voor {key} bestaat niet: {beheerregister.joinpath(item)}\")\n"
   ]
  },
  {
   "cell_type": "markdown",
   "metadata": {},
   "source": [
    "## Inlezen beheerregister in HyDAMO\n",
    "\n",
    "### Aanmaken HyDAMO object\n",
    "\n",
    "Alle benodigde modules worden geimporteerd en het HYDAMO object wordt aangemaakt bij het uitvoeren van onderstaand code-blok"
   ]
  },
  {
   "cell_type": "code",
   "execution_count": 2,
   "metadata": {},
   "outputs": [],
   "source": [
    "from delft3dfmpy import DFlowFMModel, HyDAMO, Rectangular, DFlowFMWriter\n",
    "from delft3dfmpy import DFlowRRModel, DFlowRRWriter\n",
    "from delft3dfmpy.datamodels.common import ExtendedGeoDataFrame\n",
    "import hydrotools\n",
    "import geopandas as gpd\n",
    "import pandas as pd\n",
    "from shapely.geometry import LineString\n",
    "\n",
    "hydamo = HyDAMO(extent_file=str(beheerregister.joinpath(invoerbestanden[\"modelgebied\"])))"
   ]
  },
  {
   "cell_type": "markdown",
   "metadata": {},
   "source": [
    "### snap_to_branches\n",
    "De optie om bij het inlezen te snappen naar branches en alles dat niet op boezemmodel_v4 ligt weg te gooien. Wordt nu alleen gebruikt bij duikers"
   ]
  },
  {
   "cell_type": "code",
   "execution_count": 3,
   "metadata": {},
   "outputs": [],
   "source": [
    "branches = gpd.read_file(beheerregister.joinpath(invoerbestanden[\"branches\"]))\n",
    "branches.set_index(\"OVKIDENT\", inplace=True)\n",
    "branches.columns = branches.columns.str.lower()\n",
    "snap_to_branches = dict(branches=branches,\n",
    "                        distance=5,\n",
    "                        attribute_filter={\"hydromodel\": \"Boezemmodel_v4\"}) \n"
   ]
  },
  {
   "cell_type": "markdown",
   "metadata": {},
   "source": [
    "### Toevoegen waterlopen\n",
    "\n",
    "De waterlopen (branches) worden toegevoegd met volgend code-blok:\n",
    "* de branches worden toegekend aan het hydamo-object\n",
    "* een HyDAMO ruwheidscode (4 = manning) wordt toegekend\n",
    "* de eindpunten van de branches worden gesnapped binnen een tolerantie van 1m. De coordinaten worden ook afgerond op 1m."
   ]
  },
  {
   "cell_type": "code",
   "execution_count": 4,
   "metadata": {},
   "outputs": [],
   "source": [
    "gdf = hydrotools.read_file(beheerregister.joinpath(invoerbestanden[\"branches\"]),\n",
    "                           \"branches\",\n",
    "                           attribute_filter={\"hydromodel\": \"Boezemmodel_v4\"},\n",
    "                           keep_columns=[\"HydroModel\",\n",
    "                                         \"bodemhoogtebovenstrooms\",\n",
    "                                         \"bodembreedte\",\n",
    "                                         \"taludhellinglinkerzijde\",\n",
    "                                         \"taludhellingrechterzijde\",\n",
    "                                         \"IWS_W_WATB\"],\n",
    "                           column_mapping={\"OVKIDENT\": \"code\",\n",
    "                                           \"IWS_AVVHOB\": \"bodemhoogtebovenstrooms\",\n",
    "                                           \"AVVBODDR\": \"bodembreedte\",\n",
    "                                           \"AVVTALUL\": \"taludhellinglinkerzijde\",\n",
    "                                           \"AVVTALUR\": \"taludhellingrechterzijde\"}\n",
    "                          )\n",
    "\n",
    "hydamo.branches.set_data(gdf, index_col=\"code\", check_columns=True, check_geotype=True)\n",
    "hydamo.branches[\"ruwheidstypecode\"] = 4\n",
    "\n",
    "hydamo.branches = hydrotools.snap_ends(hydamo.branches, tolerance=1, digits=1)"
   ]
  },
  {
   "cell_type": "markdown",
   "metadata": {},
   "source": [
    "### Aanmaken principeprofielen\n",
    "Als terugvaloptie voor branches zonder profielen schrijven we principe profielen weg die we later in deze notebook gebruiken."
   ]
  },
  {
   "cell_type": "code",
   "execution_count": 5,
   "metadata": {},
   "outputs": [],
   "source": [
    "principe_profielen_df = hydrotools.get_trapeziums(gdf,\n",
    "                                                  \"code\",\n",
    "                                                  \"bodembreedte\",\n",
    "                                                  \"bodemhoogtebovenstrooms\",\n",
    "                                                  \"iws_w_watb\",\n",
    "                                                  \"taludhellinglinkerzijde\",\n",
    "                                                  \"taludhellingrechterzijde\")\n",
    "\n",
    "principe_profielen_df.to_excel(r\".\\xlsx\\principe_profielen.xlsx\")"
   ]
  },
  {
   "cell_type": "markdown",
   "metadata": {},
   "source": [
    "### Toevoegen yz-profielen\n",
    "De yz-profielen worden ingeladen:\n",
    "* De profielpunten worden geopend\n",
    "* de punten worden geordend en geconverteerd naar polylinen met een xyz coordinaten\n",
    "* toekennen ruwheid (manning = 35)\n",
    "* lijnen langer dan 500m worden weggegooid, omdat er soms kademuren PRO_TYPE = PRO hebben gekregen\n",
    "* lijnen worden toegekend aan het HyDAMO object\n",
    "* lijnen die niet snappen met de branches, worden weggegooid\n",
    "\n",
    "ToDo:\n",
    "* verbeteren toekenning ruwheid"
   ]
  },
  {
   "cell_type": "code",
   "execution_count": 6,
   "metadata": {},
   "outputs": [],
   "source": [
    "gdf = hydrotools.read_file(beheerregister.joinpath(invoerbestanden[\"profielpunten\"]),\n",
    "                           \"crosssections\",\n",
    "                           attribute_filter={\"osmomsch_1\": [\"Z1\"],\n",
    "                                             \"PRO_TYPE\": \"PRO\"},\n",
    "                           column_mapping={\"PROIDENT\": \"code\",\n",
    "                                           \"IWS_VOLGNR\": \"order\",\n",
    "                                           \"OSMOMSCH_1\": \"category\",\n",
    "                                           \"iws_hoogte\": \"z\"},\n",
    "                           z_coord=True\n",
    "                           )\n",
    "\n",
    "grouper = gdf.groupby(\"code\")\n",
    "profiles = dict()\n",
    "\n",
    "for code, prof_gdf in grouper:\n",
    "    prof_gdf = prof_gdf.sort_values(\"order\")  #Staan ook punten met zelfde order\n",
    "    first_point = prof_gdf.iloc[0][\"geometry\"]\n",
    "    cum_dist = -1\n",
    "    line = []\n",
    "    for idx, (_, row) in enumerate(prof_gdf.iterrows()):\n",
    "        geom = row[\"geometry\"]\n",
    "        distance = geom.distance(first_point)\n",
    "        if distance > cum_dist:\n",
    "            cum_dist = distance\n",
    "            line += [(geom.x, geom.y, row[\"z\"])]\n",
    "\n",
    "    profiles[code] = [code, LineString(line)]\n",
    "\n",
    "profiles_gdf = gpd.GeoDataFrame.from_dict(profiles,\n",
    "                                          orient=\"index\",\n",
    "                                          columns=[\"code\",\n",
    "                                                   \"geometry\"]\n",
    "                                          )\n",
    "\n",
    "profiles_gdf[\"ruwheidstypecode\"] = 4\n",
    "profiles_gdf[\"ruwheidswaarde\"] = 35\n",
    "profiles_gdf[\"codegerelateerdobject\"] = None\n",
    "\n",
    "profiles_gdf = profiles_gdf.loc[profiles_gdf[\"geometry\"].length < 500]\n",
    "\n",
    "hydamo.crosssections.set_data(profiles_gdf,\n",
    "                              index_col=\"code\",\n",
    "                              check_columns=True,\n",
    "                              check_geotype=True)\n",
    "\n",
    "hydamo.crosssections.snap_to_branch(hydamo.branches, snap_method=\"intersecting\")\n",
    "hydamo.crosssections.dropna(axis=0, inplace=True, subset=[\"branch_offset\"])"
   ]
  },
  {
   "cell_type": "markdown",
   "metadata": {},
   "source": [
    "### Toevoegen geparameteriseerde profielen\n",
    "\n",
    "Per brug moet er een profiel worden toegevoegd"
   ]
  },
  {
   "cell_type": "code",
   "execution_count": 7,
   "metadata": {
    "code_folding": []
   },
   "outputs": [],
   "source": [
    "gdf = hydrotools.read_file(beheerregister.joinpath(invoerbestanden[\"bruggen\"]),\n",
    "                           \"parametrised_profiles\",\n",
    "                           column_mapping={\"bodemh_bov\": \"bodemhoogtebovenstrooms\",\n",
    "                                           \"bodemh_ben\": \"bodemhoogtebenedenstrooms\",\n",
    "                                           \"doorstroom\": \"bodembreedte\",\n",
    "                                           \"hoogte_ond\": \"hoogteinsteeklinkerzijde\",\n",
    "                                           })\n",
    "\n",
    "grouper = gdf.groupby(\"code\")\n",
    "data = {item: [] for item in [\"code\",\n",
    "                              \"bodemhoogtebovenstrooms\",\n",
    "                              \"bodemhoogtebenedenstrooms\",\n",
    "                              \"bodembreedte\",\n",
    "                              \"hoogteinsteeklinkerzijde\",\n",
    "                              \"geometry\",\n",
    "                              \"codegerelateerdobject\"]}\n",
    "\n",
    "for code, df in grouper:\n",
    "    data[\"code\"] += [f\"PRO_{code}\"]\n",
    "    data[\"codegerelateerdobject\"] += [code]\n",
    "    for item in [\"bodemhoogtebovenstrooms\",\n",
    "                 \"bodemhoogtebenedenstrooms\",\n",
    "                 \"hoogteinsteeklinkerzijde\",\n",
    "                 \"geometry\"]:\n",
    "        data[item] += [df.iloc[0][item]]\n",
    "    data[\"bodembreedte\"] += [df['bodembreedte'].sum()]\n",
    "\n",
    "gdf = gpd.GeoDataFrame(data)\n",
    "gdf[\"geometry\"] = gdf.apply((lambda x: LineString([[x[\"geometry\"].x-0.1,\n",
    "                                                    x[\"geometry\"].y-0.1],\n",
    "                                                  [x[\"geometry\"].x+0.1,\n",
    "                                                   x[\"geometry\"].y+0.1]])),\n",
    "                            axis=1)\n",
    "\n",
    "gdf[\"hoogteinsteekrechterzijde\"] = gdf[\"hoogteinsteeklinkerzijde\"]\n",
    "gdf[\"ruwheidswaarde\"] = 15\n",
    "gdf[\"ruwheidstypecode\"] = 4\n",
    "gdf[\"taludhellinglinkerzijde\"] = 1\n",
    "gdf[\"taludhellingrechterzijde\"] = 1\n",
    "\n",
    "hydamo.parametrised_profiles.set_data(gdf,\n",
    "                                      index_col=\"code\",\n",
    "                                      check_columns=True,\n",
    "                                      check_geotype=False)"
   ]
  },
  {
   "cell_type": "markdown",
   "metadata": {},
   "source": [
    "### Toevoegen bruggen\n",
    "Per brug moet er een profiel worden toegevoegd"
   ]
  },
  {
   "cell_type": "code",
   "execution_count": 8,
   "metadata": {},
   "outputs": [],
   "source": [
    "gdf = hydrotools.read_file(beheerregister.joinpath(invoerbestanden[\"bruggen\"]),\n",
    "                           \"bridges\",\n",
    "                           column_mapping={\"doorstro_2\": \"lengte\",\n",
    "                                           \"bodemh_bov\": \"hoogteonderzijde\"})\n",
    "\n",
    "grouper = gdf.groupby(\"code\")\n",
    "data = {\"code\": [code for code, frame in grouper],\n",
    "        \"hoogteonderzijde\": [frame[\"hoogteonderzijde\"].values[0] for code,\n",
    "                             frame in grouper],\n",
    "        \"lengte\": [frame[\"lengte\"].values[0] for code, frame in grouper],\n",
    "        \"geometry\": [frame[\"geometry\"].values[0] for code, frame in grouper]\n",
    "        }\n",
    "gdf = gpd.GeoDataFrame(data)\n",
    "\n",
    "gdf[\"hoogtebovenzijde\"] = gdf[\"hoogteonderzijde\"] + 1\n",
    "\n",
    "gdf[\"dwarsprofielcode\"] = gdf[\"code\"].apply(lambda x: f\"PRO_{x}\")\n",
    "gdf[\"intreeverlies\"] = 0.7\n",
    "gdf[\"uittreeverlies\"] = 0.7\n",
    "gdf[\"ruwheidstypecode\"] = 4\n",
    "gdf[\"ruwheidswaarde\"] = 70\n",
    "\n",
    "hydamo.bridges.set_data(gdf, index_col=\"code\", check_columns=True, check_geotype=False)\n",
    "hydamo.bridges.snap_to_branch(hydamo.branches, snap_method=\"overal\", maxdist=5)\n",
    "hydamo.bridges.dropna(axis=0, inplace=True, subset=[\"branch_offset\"])"
   ]
  },
  {
   "cell_type": "markdown",
   "metadata": {},
   "source": [
    "### Aanmaken sluizen (als duiker)\n",
    "\n",
    "Sluizen worden toegevoegd als hoge duikers (10m). Ontbrekende waarden worden als volgt ingevuld:\n",
    "- Aantal kokers = 1\n",
    "- Lengte = 20m\n",
    "- Breedte = breedte principe profiel onderliggende branch\n",
    "- BOK = hoogte principe profiel onderliggende branch"
   ]
  },
  {
   "cell_type": "code",
   "execution_count": 9,
   "metadata": {},
   "outputs": [],
   "source": [
    "sluices_gdf = hydrotools.read_file(\n",
    "    r\"d:\\repositories\\nzv_pilot\\beheerregister\\Sluizen.shp\",\n",
    "    \"culverts\",\n",
    "    attribute_filter={\"SOORT\": [\"schutsluis naar een zijde\",\n",
    "                                \"overig\",\n",
    "                                \"schutsluis naar twee zijden\",\n",
    "                                \"uitwateringssluis/spuisluis\"]},\n",
    "    keep_columns=[\"AANTAL_SLU\", \"SOORT\", \"branch_id\"],\n",
    "    column_mapping={\n",
    "        \"KOLKWIJDTE\": \"breedteopening\",\n",
    "        \"BOS_BENEDE\": \"hoogtebinnenonderkantbenedenstrooms\",\n",
    "        \"BOS_BOVEN\": \"hoogtebinnenonderkantbovenstrooms\",\n",
    "        \"KOLKLENGTE\": \"lengte\"},\n",
    "    snap_to_branches=snap_to_branches\n",
    "    )\n",
    "\n",
    "sluices_gdf.set_index(\"code\", inplace=True)\n",
    "sluices_gdf.replace({'0': None, 0: None}, inplace=True)\n",
    "sluices_gdf.loc[sluices_gdf[\"lengte\"].isnull(), \"lengte\"] = 20\n",
    "sluices_gdf.loc[sluices_gdf[\"aantal_slu\"].isnull(), \"aantal_slu\"] = 1\n",
    "sluices_gdf[\"breedteopening\"] = sluices_gdf.apply(\n",
    "    (lambda x: principe_profielen_df.loc[x[\"branch_id\"]][\n",
    "        \"bottomwidth\"] if not x[\"breedteopening\"] else x[\"breedteopening\"]), axis=1)\n",
    "\n",
    "sluices_gdf[\"hoogtebinnenonderkantbenedenstrooms\"] = sluices_gdf.apply(\n",
    "    (lambda x: principe_profielen_df.loc[x[\"branch_id\"]][\n",
    "        \"bottomlevel\"] if not x[\"hoogtebinnenonderkantbenedenstrooms\"] else x[\n",
    "            \"hoogtebinnenonderkantbenedenstrooms\"]), axis=1)\n",
    "\n",
    "sluices_gdf[\"hoogtebinnenonderkantbovenstrooms\"] = sluices_gdf.apply(\n",
    "    (lambda x: principe_profielen_df.loc[x[\"branch_id\"]][\n",
    "        \"bottomlevel\"] if not x[\"hoogtebinnenonderkantbovenstrooms\"] else x[\n",
    "            \"hoogtebinnenonderkantbovenstrooms\"]), axis=1)\n",
    "\n",
    "sluices_gdf.loc[:, \"vormcode\"] = \"rechthoekig\"\n",
    "sluices_gdf.loc[:, \"hoogteopening\"] = 10\n",
    "sluices_gdf.reset_index(inplace=True)"
   ]
  },
  {
   "cell_type": "markdown",
   "metadata": {},
   "source": [
    "### Toevoegen duikers en siphons\n",
    "duikers en sifons worden samen met de sluizen als cuverts aan het HyDAMO object toegekend\n",
    "\n",
    "ToDo\n",
    "* vorm moet naar HyDAMO codering worden omgeschreven"
   ]
  },
  {
   "cell_type": "code",
   "execution_count": 10,
   "metadata": {},
   "outputs": [],
   "source": [
    "culverts_gdf = hydrotools.read_file(beheerregister.joinpath(invoerbestanden[\"duikers\"]),\n",
    "                                    \"culverts\",\n",
    "                                    snap_to_branches=snap_to_branches,\n",
    "                                    attribute_filter={\"SOORT\": [\"maaipadduiker\",\n",
    "                                                                \"tussenduiker\",\n",
    "                                                                \"slootduiker\",\n",
    "                                                                \"wegduiker\",\n",
    "                                                                \"nog niet gevuld\"]},\n",
    "                                    column_mapping={\"hoogte_a1\": \"hoogteopening\",\n",
    "                                                    \"breedte\": \"breedteopening\",\n",
    "                                                    \"bok_benede\": \"hoogtebinnenonderkantbenedenstrooms\",\n",
    "                                                    \"bok_boven\": \"hoogtebinnenonderkantbovenstrooms\",\n",
    "                                                    \"vorm\": \"vormcode\"})\n",
    "\n",
    "siphons_gdf = hydrotools.read_file(beheerregister.joinpath(invoerbestanden[\"sifons\"]),\n",
    "                                   \"culverts\",\n",
    "                                   column_mapping={\"hoogte\": \"hoogteopening\",\n",
    "                                                   \"breedte\": \"breedteopening\",\n",
    "                                                   \"bok_benede\":\"hoogtebinnenonderkantbenedenstrooms\",\n",
    "                                                   \"bok_boven\":\"hoogtebinnenonderkantbovenstrooms\",\n",
    "                                                   \"vorm\":\"vormcode\"})\n",
    "\n",
    "gdf = gpd.GeoDataFrame(pd.concat([sluices_gdf, culverts_gdf, siphons_gdf], ignore_index=True))\n",
    "\n",
    "gdf.loc[gdf['vormcode'].isnull(), 'vormcode'] = 'onbekend'\n",
    "gdf.loc[:, 'vormcode'] = gdf.apply((lambda x: vorm_mapping[x['vormcode'].lower()]), axis=1)\n",
    "\n",
    "gdf[\"intreeverlies\"] = 0.7\n",
    "gdf[\"uittreeverlies\"] = 0.7\n",
    "gdf[\"ruwheidswaarde\"] = 70\n",
    "gdf[\"ruwheidstypecode\"] = 4\n",
    "\n",
    "hydamo.culverts.set_data(gdf, index_col=\"code\", check_columns=True, check_geotype=True)\n",
    "hydamo.culverts.snap_to_branch(hydamo.branches, snap_method=\"ends\", maxdist=5)\n",
    "hydamo.culverts.dropna(axis=0, inplace=True, subset=[\"branch_offset\"])\n",
    "\n",
    "hydamo.culverts.loc[hydamo.culverts[\"lengte\"].isna(), \"lengte\"] = 20"
   ]
  },
  {
   "cell_type": "markdown",
   "metadata": {},
   "source": [
    "### Toevoegen stuwen"
   ]
  },
  {
   "cell_type": "code",
   "execution_count": 11,
   "metadata": {},
   "outputs": [],
   "source": [
    "gdf = hydrotools.read_file(beheerregister.joinpath(invoerbestanden[\"stuwen\"]),\n",
    "                           \"weirs\",\n",
    "                           column_mapping={\"kstident\": \"code\",\n",
    "                                           \"kstsoort\": \"soortstuwcode\",\n",
    "                                           \"kstkrubr\": \"laagstedoorstroombreedte\",\n",
    "                                           \"kstmikho\": \"laagstedoorstroomhoogte\",\n",
    "                                           \"kstregel\": \"soortregelbaarheidcode\"})\n",
    "\n",
    "gdf[\"afvoercoefficient\"] = 1\n",
    "\n",
    "hydamo.weirs.set_data(gdf, index_col=\"code\", check_columns=True, check_geotype=True)\n",
    "hydamo.weirs.snap_to_branch(hydamo.branches, snap_method=\"overal\", maxdist=10)\n",
    "hydamo.weirs.dropna(axis=0, inplace=True, subset=[\"branch_offset\"])"
   ]
  },
  {
   "cell_type": "markdown",
   "metadata": {},
   "source": [
    "### Toevoegen gemalen"
   ]
  },
  {
   "cell_type": "code",
   "execution_count": 12,
   "metadata": {},
   "outputs": [],
   "source": [
    "pumps_gdf = hydrotools.read_file(beheerregister.joinpath(invoerbestanden[\"gemalen\"]),\n",
    "                                 \"pumps\",\n",
    "                                 column_mapping={\"gecom_max_\": \"maximalecapaciteit\"})\n",
    "\n",
    "gemalen_gdf = pumps_gdf.copy()\n",
    "pumps_gdf[\"codegerelateerdobject\"] = pumps_gdf[\"code\"].copy()\n",
    "pumps_gdf[\"code\"] = [f\"PMP_{code}\" for code in pumps_gdf[\"code\"]]\n",
    "hydamo.gemalen.set_data(gemalen_gdf,\n",
    "                        index_col=\"code\",\n",
    "                        check_columns=True,\n",
    "                        check_geotype=True)\n",
    "hydamo.gemalen.snap_to_branch(hydamo.branches, snap_method=\"overal\", maxdist=5)\n",
    "hydamo.gemalen.dropna(axis=0, inplace=True, subset=[\"branch_offset\"])\n",
    "hydamo.pumps.set_data(pumps_gdf,\n",
    "                      index_col=\"code\",\n",
    "                      check_columns=True,\n",
    "                      check_geotype=True)\n",
    "hydamo.pumps.snap_to_branch(hydamo.branches, snap_method=\"overal\", maxdist=5)\n",
    "hydamo.pumps.dropna(axis=0, inplace=True, subset=[\"branch_offset\"])"
   ]
  },
  {
   "cell_type": "markdown",
   "metadata": {},
   "source": [
    "### Toevoegen afsluitmiddelen"
   ]
  },
  {
   "cell_type": "code",
   "execution_count": 13,
   "metadata": {},
   "outputs": [],
   "source": [
    "gdf = pd.DataFrame({\"code\": [],\n",
    "                    \"soortafsluitmiddelcode\": [],\n",
    "                    \"codegerelateerdobject\": []})\n",
    "\n",
    "hydamo.afsluitmiddel.set_data(gdf, index_col=\"code\")"
   ]
  },
  {
   "cell_type": "markdown",
   "metadata": {},
   "source": [
    "### Toevoegen sturing"
   ]
  },
  {
   "cell_type": "code",
   "execution_count": 14,
   "metadata": {},
   "outputs": [],
   "source": [
    "gpg_gdf = hydrotools.read_file(beheerregister.joinpath(invoerbestanden[\"peilgebieden\"]),\n",
    "                                 \"sturing\",\n",
    "                                 column_mapping={\"GPGIDENT\": \"code\",\n",
    "                                                 \"OPVAFWZP\": \"streefwaarde\"\n",
    "                                                 })\n",
    "\n",
    "gpg_gdf[\"codegerelateerdobject\"] = [code.replace(\"GPG\", \"\") for code in gpg_gdf[\"code\"]]\n",
    "gpg_gdf = gpg_gdf[gpg_gdf[\"codegerelateerdobject\"].isin(hydamo.gemalen[\"code\"])]\n",
    "con_gdf = hydamo.gemalen[~hydamo.gemalen[\"code\"].isin(gpg_gdf[\"codegerelateerdobject\"])]\n",
    "con_gdf = gpd.GeoDataFrame(data={\"code\": con_gdf[\"code\"].values,\n",
    "                                 \"geometry\": con_gdf[\"geometry\"].values})\n",
    "con_gdf[\"codegerelateerdobject\"] = con_gdf[\"code\"]\n",
    "con_gdf[\"streefwaarde\"] = -999\n",
    "\n",
    "gdf = gpd.GeoDataFrame(pd.concat([gpg_gdf, con_gdf], ignore_index=True))\n",
    "\n",
    "gdf[\"bovenmarge\"] = gdf[\"streefwaarde\"] + 0.05\n",
    "gdf[\"ondermarge\"] = gdf[\"streefwaarde\"] - 0.05\n",
    "gdf[\"doelvariabelecode\"] = 1\n",
    "\n",
    "hydamo.sturing.set_data(gdf, index_col=\"code\")"
   ]
  },
  {
   "cell_type": "markdown",
   "metadata": {},
   "source": [
    "### Exporteren\n",
    "\n",
    "Om het resultaat te beoordelen exporteren we alles naar shape-files. We slaan het hydamo object ook op als \"pickle\", zodat we bovenstaande stappen niet elke keer hoeven te herhalen"
   ]
  },
  {
   "cell_type": "code",
   "execution_count": 15,
   "metadata": {},
   "outputs": [],
   "source": [
    "hydrotools.export_shapes(hydamo, path=Path(r\"./hydamo_shp/boezemmodel_v4\"))\n",
    "hydrotools.save_model(hydamo, file_name=Path(r\"./hydamo_model/boezemmodel_v4.pickle\"))\n"
   ]
  },
  {
   "cell_type": "markdown",
   "metadata": {},
   "source": [
    "## Converteren naar DFM\n",
    "\n",
    "### Aanmaken dfm-klasse"
   ]
  },
  {
   "cell_type": "code",
   "execution_count": 16,
   "metadata": {},
   "outputs": [],
   "source": [
    "dfmmodel = DFlowFMModel()"
   ]
  },
  {
   "cell_type": "markdown",
   "metadata": {},
   "source": [
    "### Inlezen kunstwerken"
   ]
  },
  {
   "cell_type": "code",
   "execution_count": 17,
   "metadata": {},
   "outputs": [
    {
     "name": "stdout",
     "output_type": "stream",
     "text": [
      "2021-03-02 09:38:45,090 - delft3dfmpy.converters.hydamo_to_dflowfm - hydamo_to_dflowfm - INFO - Currently only simple weirs can be applied. From Hydamo the attributes 'laagstedoorstroomhoogte' and 'kruinbreedte' are used to define the weir dimensions.\n"
     ]
    }
   ],
   "source": [
    "dfmmodel.structures.io.weirs_from_hydamo(hydamo.weirs,\n",
    "                                         yz_profiles=hydamo.crosssections,\n",
    "                                         parametrised_profiles=hydamo.parametrised_profiles)\n",
    "\n",
    "dfmmodel.structures.io.culverts_from_hydamo(hydamo.culverts,\n",
    "                                            hydamo.afsluitmiddel)\n",
    "\n",
    "dfmmodel.structures.io.bridges_from_hydamo(hydamo.bridges,\n",
    "                                           yz_profiles=hydamo.crosssections,\n",
    "                                           parametrised_profiles=hydamo.parametrised_profiles)\n",
    "\n",
    "dfmmodel.structures.io.orifices_from_hydamo(hydamo.orifices)\n",
    "\n",
    "dfmmodel.structures.io.pumps_from_hydamo(pompen=hydamo.pumps,\n",
    "                                         sturing=hydamo.sturing,\n",
    "                                         gemalen=hydamo.gemalen)"
   ]
  },
  {
   "cell_type": "markdown",
   "metadata": {},
   "source": [
    "### Aanmaken 1D netwerk\n",
    "We maken een 1D model met een rekenpuntafstand van 250m"
   ]
  },
  {
   "cell_type": "code",
   "execution_count": 18,
   "metadata": {},
   "outputs": [
    {
     "name": "stdout",
     "output_type": "stream",
     "text": [
      "2021-03-02 09:38:47,686 - delft3dfmpy.core.dfm - dfm - WARNING - Some structures are not linked to a branch.\n",
      "2021-03-02 09:38:47,693 - delft3dfmpy.core.dfm - dfm - INFO - Added 1d mesh nodes on branch OAF000017 at: [0.0, 506.58549999999997, 522.864, 971.4883654003871], due to the structures at [-0.001, 25.63, 498.27, 514.901, 530.827, 971.4893654003871].\n",
      "2021-03-02 09:38:47,696 - delft3dfmpy.core.dfm - dfm - INFO - Added 1d mesh nodes on branch OAF000026 at: [0.0, 192.933, 327.8625118166156], due to the structures at [-0.001, 190.291, 195.575, 327.8635118166156].\n",
      "2021-03-02 09:38:47,703 - delft3dfmpy.core.dfm - dfm - INFO - Added 1d mesh nodes on branch OAF000088 at: [0.0, 411.5985, 1096.3735000000001, 1557.6313930450399], due to the structures at [-0.001, 281.298, 541.899, 1044.645, 1148.102, 1557.6323930450399].\n",
      "2021-03-02 09:38:47,705 - delft3dfmpy.core.dfm - dfm - INFO - Added 1d mesh nodes on branch OAF000099 at: [0.0, 180.32049999999998, 355.78684147258457], due to the structures at [-0.001, 5.39, 355.251, 355.78784147258455].\n",
      "2021-03-02 09:38:47,707 - delft3dfmpy.core.dfm - dfm - INFO - Added 1d mesh nodes on branch OAF000118 at: [0.0, 6.069, 1220.3091726956434], due to the structures at [-0.001, 0.1, 12.038, 1220.3101726956434].\n",
      "2021-03-02 09:38:47,709 - delft3dfmpy.core.dfm - dfm - INFO - Added 1d mesh nodes on branch OAF000154 at: [0.0, 70.785, 156.69105793572862], due to the structures at [-0.001, 0.1, 141.47, 156.69205793572863].\n",
      "2021-03-02 09:38:47,715 - delft3dfmpy.core.dfm - dfm - INFO - Added 1d mesh nodes on branch OAF000198 at: [0.0, 662.9685, 687.5405, 712.5396643085704], due to the structures at [-0.001, 0.581, 363.777, 650.791, 675.146, 699.935, 712.5406643085704].\n",
      "2021-03-02 09:38:47,719 - delft3dfmpy.core.dfm - dfm - INFO - Added 1d mesh nodes on branch OAF000211 at: [0.0, 216.9435, 224.881, 235.7845, 241.2600977488463], due to the structures at [-0.001, 215.157, 218.73, 231.032, 240.537, 241.2610977488463].\n",
      "2021-03-02 09:38:47,722 - delft3dfmpy.core.dfm - dfm - INFO - Added 1d mesh nodes on branch OAF000225 at: [0.0, 479.00399999999996, 524.808, 901.6330332283507], due to the structures at [-0.001, 433.256, 524.752, 524.864, 901.6340332283506].\n",
      "2021-03-02 09:38:47,725 - delft3dfmpy.core.dfm - dfm - INFO - Added 1d mesh nodes on branch OAF000230 at: [0.0, 74.3435, 268.2978586292984], due to the structures at [-0.001, 0.619, 148.068, 268.29885862929837].\n",
      "2021-03-02 09:38:47,726 - delft3dfmpy.core.dfm - dfm - INFO - Added 1d mesh nodes on branch OAF000238 at: [0.0, 419.3035, 709.8441449878916], due to the structures at [-0.001, 414.58, 424.027, 709.8451449878916].\n",
      "2021-03-02 09:38:47,729 - delft3dfmpy.core.dfm - dfm - INFO - Added 1d mesh nodes on branch OAF000245 at: [0.0, 405.6035, 487.77501276551493], due to the structures at [-0.001, 334.15, 477.057, 487.7760127655149].\n",
      "2021-03-02 09:38:47,734 - delft3dfmpy.core.dfm - dfm - INFO - Added 1d mesh nodes on branch OAF000279 at: [0.0, 7.752, 181.13779285391954], due to the structures at [-0.001, 0.1, 15.404, 181.13879285391954].\n",
      "2021-03-02 09:38:47,736 - delft3dfmpy.core.dfm - dfm - INFO - Added 1d mesh nodes on branch OAF000281 at: [0.0, 772.3695, 849.6228279696575], due to the structures at [-0.001, 321.182, 772.321, 772.418, 849.6238279696574].\n",
      "2021-03-02 09:38:47,749 - delft3dfmpy.core.dfm - dfm - INFO - Added 1d mesh nodes on branch OAF000494 at: [0.0, 40.601, 103.154, 141.216, 199.334, 290.15500000000003, 366.126, 441.9675, 517.109, 579.6005, 649.0364999999999, 685.625, 736.38, 786.4423733018544], due to the structures at [-0.001, 0.5, 80.702, 125.606, 156.826, 241.842, 338.468, 393.784, 490.151, 544.067, 615.134, 682.939, 688.311, 784.449, 786.4433733018544].\n",
      "2021-03-02 09:38:47,753 - delft3dfmpy.core.dfm - dfm - INFO - Added 1d mesh nodes on branch OAF000525 at: [0.0, 32.509, 68.694, 138.5088655214278], due to the structures at [-0.001, 0.1, 64.918, 72.47, 138.5098655214278].\n",
      "2021-03-02 09:38:47,758 - delft3dfmpy.core.dfm - dfm - INFO - Added 1d mesh nodes on branch OAF000532 at: [0.0, 4.539499999999999, 94.319, 242.9515, 307.45050000000003, 352.659, 397.632, 418.0645, 442.71450000000004, 454.51412079689914], due to the structures at [-0.001, 0.764, 8.315, 180.323, 305.58, 309.321, 395.997, 399.267, 436.862, 448.567, 454.5151207968991].\n",
      "2021-03-02 09:38:47,764 - delft3dfmpy.core.dfm - dfm - INFO - Added 1d mesh nodes on branch OAF000570 at: [0.0, 164.05599999999998, 195.989, 240.864, 285.523, 529.3855407576715], due to the structures at [-0.001, 132.357, 195.755, 196.223, 285.505, 285.541, 529.3865407576715].\n",
      "2021-03-02 09:38:47,766 - delft3dfmpy.core.dfm - dfm - INFO - Added 1d mesh nodes on branch OAF000603 at: [0.0, 207.4545, 227.21174367409324], due to the structures at [-0.001, 191.286, 223.623, 227.21274367409325].\n",
      "2021-03-02 09:38:47,769 - delft3dfmpy.core.dfm - dfm - INFO - Added 1d mesh nodes on branch OAF000608 at: [0.0, 59.433499999999995, 130.5865, 163.78300000000002, 191.26850000000002, 288.9815, 1177.7512595417186], due to the structures at [-0.001, 8.422, 110.445, 150.728, 176.838, 205.699, 372.264, 1177.7522595417186].\n",
      "2021-03-02 09:38:47,774 - delft3dfmpy.core.dfm - dfm - INFO - Added 1d mesh nodes on branch OAF000641 at: [0.0, 55.905499999999996, 253.22921625310863], due to the structures at [-0.001, 0.1, 111.711, 253.23021625310864].\n",
      "2021-03-02 09:38:47,777 - delft3dfmpy.core.dfm - dfm - INFO - Added 1d mesh nodes on branch OAF000656 at: [0.0, 100.095, 206.7345, 214.50377727101835], due to the structures at [-0.001, 0.1, 200.09, 213.379, 214.50477727101836].\n",
      "2021-03-02 09:38:47,781 - delft3dfmpy.core.dfm - dfm - INFO - Added 1d mesh nodes on branch OAF000708 at: [0.0, 59.57, 122.37074813862378], due to the structures at [-0.001, 4.121, 115.019, 122.37174813862379].\n",
      "2021-03-02 09:38:47,786 - delft3dfmpy.core.dfm - dfm - INFO - Added 1d mesh nodes on branch OAF000736 at: [0.0, 1622.9795, 1705.7984999999999, 1757.897919918422], due to the structures at [-0.001, 970.621, 1269.885, 1580.299, 1665.66, 1745.937, 1757.898919918422].\n",
      "2021-03-02 09:38:47,790 - delft3dfmpy.core.dfm - dfm - INFO - Added 1d mesh nodes on branch OAF000821 at: [0.0, 410.3185, 1013.4744452431332], due to the structures at [-0.001, 406.988, 413.649, 1013.4754452431332].\n",
      "2021-03-02 09:38:47,796 - delft3dfmpy.core.dfm - dfm - INFO - Added 1d mesh nodes on branch OAF000865 at: [0.0, 42.818999999999996, 216.96136080305254], due to the structures at [-0.001, 0.1, 85.538, 216.96236080305255].\n",
      "2021-03-02 09:38:47,802 - delft3dfmpy.core.dfm - dfm - INFO - Added 1d mesh nodes on branch OAF000914 at: [0.0, 441.366, 501.58343915312133], due to the structures at [-0.001, 0.1, 386.656, 496.076, 501.5844391531213].\n",
      "2021-03-02 09:38:47,808 - delft3dfmpy.core.dfm - dfm - INFO - Added 1d mesh nodes on branch OAF000954 at: [0.0, 35.952, 420.3588907370588], due to the structures at [-0.001, 0.1, 71.804, 349.62, 420.3598907370588].\n",
      "2021-03-02 09:38:47,810 - delft3dfmpy.core.dfm - dfm - INFO - Added 1d mesh nodes on branch OAF000968 at: [0.0, 322.658, 348.4435, 380.07500000000005, 417.1973356293585], due to the structures at [-0.001, 314.839, 330.477, 366.41, 393.74, 417.1983356293585].\n",
      "2021-03-02 09:38:47,814 - delft3dfmpy.core.dfm - dfm - INFO - Added 1d mesh nodes on branch OAF000991 at: [0.0, 501.401, 504.605, 508.31002087104315], due to the structures at [-0.001, 206.624, 501.185, 501.617, 507.593, 508.3110208710431].\n",
      "2021-03-02 09:38:47,819 - delft3dfmpy.core.dfm - dfm - INFO - Added 1d mesh nodes on branch OAF001002 at: [0.0, 44.1515, 234.995, 399.66310022646917], due to the structures at [-0.001, 0.1, 88.203, 381.787, 399.66410022646915].\n",
      "2021-03-02 09:38:47,825 - delft3dfmpy.core.dfm - dfm - INFO - Added 1d mesh nodes on branch OAF001053 at: [0.0, 361.6125, 867.2209302412621], due to the structures at [-0.001, 307.814, 415.411, 657.645, 867.221930241262].\n",
      "2021-03-02 09:38:47,829 - delft3dfmpy.core.dfm - dfm - INFO - Added 1d mesh nodes on branch OAF001078 at: [0.0, 400.86850000000004, 420.45252122547896], due to the structures at [-0.001, 389.699, 412.038, 420.45352122547894].\n",
      "2021-03-02 09:38:47,834 - delft3dfmpy.core.dfm - dfm - INFO - Added 1d mesh nodes on branch OAF001131 at: [0.0, 35.701499999999996, 106.1075, 244.13696069933894, 347.4619213986779], due to the structures at [-0.001, 0.1, 71.303, 140.912, 347.36192139867785, 347.46292139867785].\n"
     ]
    },
    {
     "name": "stdout",
     "output_type": "stream",
     "text": [
      "2021-03-02 09:38:47,839 - delft3dfmpy.core.dfm - dfm - INFO - Added 1d mesh nodes on branch OAF001143 at: [0.0, 113.678, 522.4697076945143], due to the structures at [-0.001, 41.055, 186.301, 522.4707076945143].\n",
      "2021-03-02 09:38:47,841 - delft3dfmpy.core.dfm - dfm - INFO - Added 1d mesh nodes on branch OAF001148 at: [0.0, 6.5035, 63.089999999999996, 135.06799999999998, 159.0447845704711], due to the structures at [-0.001, 0.1, 12.907, 113.273, 156.863, 159.0457845704711].\n",
      "2021-03-02 09:38:47,845 - delft3dfmpy.core.dfm - dfm - INFO - Added 1d mesh nodes on branch OAF001172 at: [0.0, 59.0395, 175.78449999999998, 377.65748483996896], due to the structures at [-0.001, 3.223, 114.856, 236.713, 377.65848483996893].\n",
      "2021-03-02 09:38:47,848 - delft3dfmpy.core.dfm - dfm - INFO - Added 1d mesh nodes on branch OAF001188 at: [0.0, 574.403, 678.9707140816221], due to the structures at [-0.001, 475.431, 673.375, 678.971714081622].\n",
      "2021-03-02 09:38:47,849 - delft3dfmpy.core.dfm - dfm - INFO - Added 1d mesh nodes on branch OAF001195 at: [0.0, 1029.454, 1092.3225812956437], due to the structures at [-0.001, 649.536, 967.232, 1091.676, 1092.3235812956436].\n",
      "2021-03-02 09:38:47,851 - delft3dfmpy.core.dfm - dfm - INFO - Added 1d mesh nodes on branch OAF001202 at: [0.0, 10.089500000000001, 835.4692041881633], due to the structures at [-0.001, 0.1, 20.079, 417.175, 835.4702041881633].\n",
      "2021-03-02 09:38:47,854 - delft3dfmpy.core.dfm - dfm - INFO - Added 1d mesh nodes on branch OAF001215 at: [0.0, 24.2585, 235.7471506027318], due to the structures at [-0.001, 0.1, 48.417, 235.7481506027318].\n",
      "2021-03-02 09:38:47,855 - delft3dfmpy.core.dfm - dfm - INFO - Added 1d mesh nodes on branch OAF001230 at: [0.0, 8.296000000000001, 123.85239064182957], due to the structures at [-0.001, 0.1, 16.492, 123.85339064182958].\n",
      "2021-03-02 09:38:47,857 - delft3dfmpy.core.dfm - dfm - INFO - Added 1d mesh nodes on branch OAF001243 at: [0.0, 8.9465, 254.48983430893315], due to the structures at [-0.001, 1.174, 16.719, 254.49083430893316].\n",
      "2021-03-02 09:38:47,862 - delft3dfmpy.core.dfm - dfm - INFO - Added 1d mesh nodes on branch OAF001291 at: [0.0, 66.92, 666.2081152530527], due to the structures at [-0.001, 0.1, 133.74, 645.498, 666.2091152530527].\n",
      "2021-03-02 09:38:47,864 - delft3dfmpy.core.dfm - dfm - INFO - Added 1d mesh nodes on branch OAF001311 at: [0.0, 284.3805, 320.9585, 380.264, 489.443, 554.1189999999999, 659.6985, 761.9222100510011], due to the structures at [-0.001, 258.838, 309.923, 331.994, 428.534, 550.352, 557.886, 761.511, 761.9232100510011].\n",
      "2021-03-02 09:38:47,867 - delft3dfmpy.core.dfm - dfm - INFO - Added 1d mesh nodes on branch OAF001322 at: [0.0, 421.347, 542.001, 552.2864999999999, 658.5778549610773], due to the structures at [-0.001, 192.531, 310.481, 532.213, 551.789, 552.784, 658.5788549610772].\n",
      "2021-03-02 09:38:47,869 - delft3dfmpy.core.dfm - dfm - INFO - Added 1d mesh nodes on branch OAF001323 at: [0.0, 40.747, 258.36240007383265], due to the structures at [-0.001, 0.1, 81.394, 258.3634000738326].\n",
      "2021-03-02 09:38:47,874 - delft3dfmpy.core.dfm - dfm - INFO - Added 1d mesh nodes on branch OAF001387 at: [0.0, 6.8325, 623.2646597548901], due to the structures at [-0.001, 0.1, 13.565, 623.1646597548901, 623.2656597548901].\n",
      "2021-03-02 09:38:47,880 - delft3dfmpy.core.dfm - dfm - INFO - Added 1d mesh nodes on branch OAF001456 at: [0.0, 608.7909999999999, 1907.164926925087], due to the structures at [-0.001, 588.816, 628.766, 1507.93, 1907.165926925087].\n",
      "2021-03-02 09:38:47,882 - delft3dfmpy.core.dfm - dfm - INFO - Added 1d mesh nodes on branch OAF001460 at: [0.0, 237.6645, 289.8665, 369.35670479819925], due to the structures at [-0.001, 225.959, 249.37, 330.363, 369.3577047981992].\n",
      "2021-03-02 09:38:47,884 - delft3dfmpy.core.dfm - dfm - INFO - Added 1d mesh nodes on branch OAF001493 at: [0.0, 827.081, 843.7500297007324], due to the structures at [-0.001, 292.981, 823.096, 831.066, 843.7510297007324].\n",
      "2021-03-02 09:38:47,887 - delft3dfmpy.core.dfm - dfm - INFO - Added 1d mesh nodes on branch OAF001496 at: [0.0, 77.8715, 499.80837731493375], due to the structures at [-0.001, 0.1, 155.643, 499.7083773149337, 499.8093773149337].\n",
      "2021-03-02 09:38:47,889 - delft3dfmpy.core.dfm - dfm - INFO - Added 1d mesh nodes on branch OAF001498 at: [0.0, 668.9275, 834.3555, 1192.956195453473], due to the structures at [-0.001, 21.937, 583.207, 754.648, 914.063, 1192.9571954534729].\n",
      "2021-03-02 09:38:47,898 - delft3dfmpy.core.dfm - dfm - INFO - Added 1d mesh nodes on branch OAF001567 at: [0.0, 220.632, 298.3915, 319.74350000000004, 355.1155, 398.4674689694366], due to the structures at [-0.001, 146.245, 295.019, 301.764, 337.723, 372.508, 398.46846896943657].\n",
      "2021-03-02 09:38:47,901 - delft3dfmpy.core.dfm - dfm - INFO - Added 1d mesh nodes on branch OAF001587 at: [0.0, 359.6675, 366.0693148809797], due to the structures at [-0.001, 356.084, 363.251, 366.07031488097965].\n",
      "2021-03-02 09:38:47,905 - delft3dfmpy.core.dfm - dfm - INFO - Added 1d mesh nodes on branch OAF001600 at: [0.0, 271.1685, 392.172, 1123.769535563856], due to the structures at [-0.001, 240.622, 301.715, 482.629, 1123.770535563856].\n",
      "2021-03-02 09:38:47,910 - delft3dfmpy.core.dfm - dfm - INFO - Added 1d mesh nodes on branch OAF001654 at: [0.0, 4.208, 379.1346054243062], due to the structures at [-0.001, 1.188, 7.228, 379.13560542430616].\n",
      "2021-03-02 09:38:47,912 - delft3dfmpy.core.dfm - dfm - INFO - Added 1d mesh nodes on branch OAF001677 at: [0.0, 975.9355, 1156.1093507099677], due to the structures at [-0.001, 959.285, 992.586, 1156.1103507099676].\n",
      "2021-03-02 09:38:47,915 - delft3dfmpy.core.dfm - dfm - INFO - Added 1d mesh nodes on branch OAF001678 at: [0.0, 14.9925, 57.2636883199212], due to the structures at [-0.001, 1.349, 28.636, 57.2646883199212].\n",
      "2021-03-02 09:38:47,919 - delft3dfmpy.core.dfm - dfm - INFO - Added 1d mesh nodes on branch OAF001720 at: [0.0, 16.418, 59.008, 143.2265, 190.082, 249.656, 419.873580129876], due to the structures at [-0.001, 16.344, 16.492, 101.524, 184.929, 195.235, 304.077, 419.874580129876].\n",
      "2021-03-02 09:38:47,923 - delft3dfmpy.core.dfm - dfm - INFO - Added 1d mesh nodes on branch OAF001765 at: [0.0, 575.5495000000001, 991.9378893923074], due to the structures at [-0.001, 570.219, 580.88, 991.9388893923074].\n",
      "2021-03-02 09:38:47,931 - delft3dfmpy.core.dfm - dfm - INFO - Added 1d mesh nodes on branch OAF001831 at: [0.0, 19.445, 37.1845, 82.5115, 131.635, 513.5885, 614.7323749458674, 692.8557498917347], due to the structures at [-0.001, 2.055, 36.835, 37.534, 127.489, 135.781, 490.468, 536.709, 692.7557498917347, 692.8567498917347].\n",
      "2021-03-02 09:38:47,934 - delft3dfmpy.core.dfm - dfm - INFO - Added 1d mesh nodes on branch OAF001856 at: [0.0, 9.192, 278.4815800497365], due to the structures at [-0.001, 6.568, 11.816, 278.4825800497365].\n",
      "2021-03-02 09:38:47,938 - delft3dfmpy.core.dfm - dfm - INFO - Added 1d mesh nodes on branch OAF001926 at: [0.0, 626.2435, 817.6961738944457], due to the structures at [-0.001, 288.686, 563.494, 688.993, 817.6971738944457].\n",
      "2021-03-02 09:38:47,941 - delft3dfmpy.core.dfm - dfm - INFO - Added 1d mesh nodes on branch OAF001991 at: [0.0, 805.101, 1040.656823913581], due to the structures at [-0.001, 15.485, 804.887, 805.315, 1040.657823913581].\n",
      "2021-03-02 09:38:47,943 - delft3dfmpy.core.dfm - dfm - INFO - Added 1d mesh nodes on branch OAF001998 at: [0.0, 959.1495, 1266.3563318554825], due to the structures at [-0.001, 0.1, 956.543, 961.756, 1266.3573318554825].\n",
      "2021-03-02 09:38:47,946 - delft3dfmpy.core.dfm - dfm - INFO - Added 1d mesh nodes on branch OAF002011 at: [0.0, 42.3035, 111.197, 211.4985, 326.10850000000005, 534.6026319005675], due to the structures at [-0.001, 0.1, 84.507, 137.887, 285.11, 367.107, 534.6036319005675].\n",
      "2021-03-02 09:38:47,950 - delft3dfmpy.core.dfm - dfm - INFO - Added 1d mesh nodes on branch OAF002026 at: [0.0, 8.515, 76.9258489886574], due to the structures at [-0.001, 0.1, 16.93, 76.92684898865741].\n",
      "2021-03-02 09:38:47,952 - delft3dfmpy.core.dfm - dfm - INFO - Added 1d mesh nodes on branch OAF002052 at: [0.0, 794.544, 816.8498072456608], due to the structures at [-0.001, 791.558, 797.53, 816.8508072456608].\n",
      "2021-03-02 09:38:47,955 - delft3dfmpy.core.dfm - dfm - WARNING - Structures KDU022690, KDU012505 have the same location.\n"
     ]
    },
    {
     "name": "stdout",
     "output_type": "stream",
     "text": [
      "2021-03-02 09:38:47,956 - delft3dfmpy.core.dfm - dfm - INFO - Added 1d mesh nodes on branch OAF002060 at: [0.0, 605.992, 648.1133047223738], due to the structures at [-0.001, 570.499, 641.485, 648.1143047223737].\n",
      "2021-03-02 09:38:47,959 - delft3dfmpy.core.dfm - dfm - INFO - Added 1d mesh nodes on branch OAF002074 at: [0.0, 121.9635, 1001.9682907369819], due to the structures at [-0.001, 5.947, 237.98, 385.566, 813.911, 1001.9692907369819].\n",
      "2021-03-02 09:38:47,963 - delft3dfmpy.core.dfm - dfm - INFO - Added 1d mesh nodes on branch OAF002087 at: [0.0, 156.785, 254.356, 287.5135, 312.4995, 325.2137545184217], due to the structures at [-0.001, 78.725, 234.845, 273.867, 301.16, 323.839, 325.21475451842167].\n",
      "2021-03-02 09:38:47,967 - delft3dfmpy.core.dfm - dfm - WARNING - Structures KST0338, KST1044 have the same location.\n",
      "2021-03-02 09:38:47,968 - delft3dfmpy.core.dfm - dfm - INFO - Added 1d mesh nodes on branch OAF002125 at: [0.0, 11.654, 792.9720827694708], due to the structures at [-0.001, 0.1, 23.208, 792.9730827694708].\n",
      "2021-03-02 09:38:47,974 - delft3dfmpy.core.dfm - dfm - INFO - Added 1d mesh nodes on branch OAF002189 at: [0.0, 342.908, 806.062556068278], due to the structures at [-0.001, 314.705, 371.111, 806.063556068278].\n",
      "2021-03-02 09:38:47,979 - delft3dfmpy.core.dfm - dfm - INFO - Added 1d mesh nodes on branch OAF002221 at: [0.0, 6.302, 18.891, 102.98881457386675, 180.7996291477335], due to the structures at [-0.001, 0.1, 12.504, 25.278, 180.6996291477335, 180.8006291477335].\n",
      "2021-03-02 09:38:47,981 - delft3dfmpy.core.dfm - dfm - INFO - Added 1d mesh nodes on branch OAF002241 at: [0.0, 127.971, 484.5978363251505], due to the structures at [-0.001, 29.116, 226.826, 484.5988363251505].\n",
      "2021-03-02 09:38:47,986 - delft3dfmpy.core.dfm - dfm - INFO - Added 1d mesh nodes on branch OAF002275 at: [0.0, 278.426, 339.21226298266197], due to the structures at [-0.001, 222.282, 334.57, 339.21326298266194].\n",
      "2021-03-02 09:38:47,990 - delft3dfmpy.core.dfm - dfm - INFO - Added 1d mesh nodes on branch OAF002310 at: [0.0, 154.739, 160.98250000000002, 992.7185, 1052.459, 1114.775, 1124.4063398337014], due to the structures at [-0.001, 154.458, 155.02, 166.945, 987.249, 998.188, 1106.73, 1122.82, 1124.4073398337014].\n",
      "2021-03-02 09:38:47,992 - delft3dfmpy.core.dfm - dfm - INFO - Added 1d mesh nodes on branch OAF002319 at: [0.0, 120.7715, 230.35237782071331], due to the structures at [-0.001, 27.196, 214.347, 230.35337782071332].\n",
      "2021-03-02 09:38:47,994 - delft3dfmpy.core.dfm - dfm - INFO - Added 1d mesh nodes on branch OAF002335 at: [0.0, 113.5605, 450.67976558141885], due to the structures at [-0.001, 9.668, 217.453, 450.6807655814188].\n",
      "2021-03-02 09:38:47,999 - delft3dfmpy.core.dfm - dfm - INFO - Added 1d mesh nodes on branch OAF002351 at: [0.0, 125.45250000000001, 250.0846504504222], due to the structures at [-0.001, 62.92, 187.985, 250.0856504504222].\n",
      "2021-03-02 09:38:48,003 - delft3dfmpy.core.dfm - dfm - INFO - Added 1d mesh nodes on branch OAF002353 at: [0.0, 0.7835000000000001, 37.2405, 100.61850000000001, 130.575, 225.6325, 342.283, 480.1405, 625.5515, 670.4125745004662], due to the structures at [-0.001, 0.1, 1.467, 73.014, 128.223, 132.927, 318.338, 366.228, 594.053, 657.05, 670.4135745004662].\n",
      "2021-03-02 09:38:48,007 - delft3dfmpy.core.dfm - dfm - INFO - Added 1d mesh nodes on branch OAF002369 at: [0.0, 1.3055, 11.022499999999999, 78.25998346067331, 137.08596692134662], due to the structures at [-0.001, 0.1, 2.511, 19.534, 136.98596692134663, 137.08696692134663].\n",
      "2021-03-02 09:38:48,008 - delft3dfmpy.core.dfm - dfm - INFO - Added 1d mesh nodes on branch OAF002373 at: [0.0, 408.37, 469.7274428790996], due to the structures at [-0.001, 349.135, 467.605, 469.7284428790996].\n",
      "2021-03-02 09:38:48,014 - delft3dfmpy.core.dfm - dfm - INFO - Added 1d mesh nodes on branch OAF002430 at: [0.0, 145.69, 426.69792930681695], due to the structures at [-0.001, 125.288, 166.092, 426.6989293068169].\n",
      "2021-03-02 09:38:48,018 - delft3dfmpy.core.dfm - dfm - INFO - Added 1d mesh nodes on branch OAF002449 at: [0.0, 24.520500000000002, 330.42813673321007], due to the structures at [-0.001, 0.1, 48.941, 330.42913673321004].\n",
      "2021-03-02 09:38:48,020 - delft3dfmpy.core.dfm - dfm - INFO - Added 1d mesh nodes on branch OAF002450 at: [0.0, 1244.098, 1254.7734858427948], due to the structures at [-0.001, 6.941, 1239.174, 1249.022, 1254.7744858427948].\n",
      "2021-03-02 09:38:48,022 - delft3dfmpy.core.dfm - dfm - INFO - Added 1d mesh nodes on branch OAF002476 at: [0.0, 221.6155, 242.60500000000002, 344.06850000000003, 447.0438299985233], due to the structures at [-0.001, 200.637, 242.594, 242.616, 445.521, 447.04482999852326].\n",
      "2021-03-02 09:38:48,023 - delft3dfmpy.core.dfm - dfm - INFO - Added 1d mesh nodes on branch OAF002479 at: [0.0, 489.1075, 643.1784706849639], due to the structures at [-0.001, 183.893, 483.6, 494.615, 643.1794706849639].\n",
      "2021-03-02 09:38:48,025 - delft3dfmpy.core.dfm - dfm - INFO - Added 1d mesh nodes on branch OAF002488 at: [0.0, 192.846, 212.08281526734666], due to the structures at [-0.001, 187.127, 198.565, 212.08381526734667].\n",
      "2021-03-02 09:38:48,029 - delft3dfmpy.core.dfm - dfm - INFO - Added 1d mesh nodes on branch OAF002505 at: [0.0, 913.629, 939.8114537020398], due to the structures at [-0.001, 327.138, 906.359, 920.899, 939.8124537020398].\n",
      "2021-03-02 09:38:48,030 - delft3dfmpy.core.dfm - dfm - INFO - Added 1d mesh nodes on branch OAF002507 at: [0.0, 128.39, 338.1, 493.8056708354329], due to the structures at [-0.001, 65.08, 191.7, 484.5, 493.8066708354329].\n",
      "2021-03-02 09:38:48,032 - delft3dfmpy.core.dfm - dfm - INFO - Added 1d mesh nodes on branch OAF002518 at: [0.0, 137.1035, 1768.3509103227423], due to the structures at [-0.001, 94.488, 179.719, 742.62, 1768.3519103227422].\n",
      "2021-03-02 09:38:48,036 - delft3dfmpy.core.dfm - dfm - INFO - Added 1d mesh nodes on branch OAF002586 at: [0.0, 107.92099999999999, 204.79899999999998, 219.14171541729885], due to the structures at [-0.001, 14.76, 201.082, 208.516, 219.14271541729886].\n",
      "2021-03-02 09:38:48,038 - delft3dfmpy.core.dfm - dfm - INFO - Added 1d mesh nodes on branch OAF002598 at: [0.0, 497.8795, 567.044, 959.7028017512455], due to the structures at [-0.001, 196.805, 439.348, 556.411, 577.677, 959.7038017512455].\n",
      "2021-03-02 09:38:48,040 - delft3dfmpy.core.dfm - dfm - INFO - Added 1d mesh nodes on branch OAF002615 at: [0.0, 146.836, 322.432, 429.14733343581287], due to the structures at [-0.001, 0.1, 293.572, 351.292, 429.14833343581284].\n",
      "2021-03-02 09:38:48,042 - delft3dfmpy.core.dfm - dfm - INFO - Added 1d mesh nodes on branch OAF002644 at: [0.0, 72.952, 118.61169145475864], due to the structures at [-0.001, 66.049, 79.855, 118.61269145475865].\n",
      "2021-03-02 09:38:48,045 - delft3dfmpy.core.dfm - dfm - INFO - Added 1d mesh nodes on branch OAF002650 at: [0.0, 9.5125, 149.3445, 298.0293667408996, 316.25073348179916], due to the structures at [-0.001, 0.244, 18.781, 279.908, 316.15073348179914, 316.25173348179914].\n",
      "2021-03-02 09:38:48,048 - delft3dfmpy.core.dfm - dfm - INFO - Added 1d mesh nodes on branch OAF002683 at: [0.0, 316.0345, 322.79150000000004, 329.6585, 362.04449999999997, 929.9320316633184], due to the structures at [-0.001, 314.921, 317.148, 328.435, 330.882, 393.207, 929.9330316633184].\n",
      "2021-03-02 09:38:48,051 - delft3dfmpy.core.dfm - dfm - INFO - Added 1d mesh nodes on branch OAF002728 at: [0.0, 10.980500000000001, 38.71202945346879], due to the structures at [-0.001, 0.1, 21.861, 38.713029453468785].\n",
      "2021-03-02 09:38:48,054 - delft3dfmpy.core.dfm - dfm - INFO - Added 1d mesh nodes on branch OAF002750 at: [0.0, 1645.396, 1768.2801422604662], due to the structures at [-0.001, 896.105, 1558.869, 1731.923, 1768.2811422604661].\n",
      "2021-03-02 09:38:48,057 - delft3dfmpy.core.dfm - dfm - INFO - Added 1d mesh nodes on branch OAF002820 at: [0.0, 1.9105, 592.6156206353999], due to the structures at [-0.001, 0.1, 3.721, 592.6166206353998].\n",
      "2021-03-02 09:38:48,061 - delft3dfmpy.core.dfm - dfm - INFO - Added 1d mesh nodes on branch OAF002834 at: [0.0, 154.1965, 271.9015, 399.40599717622445], due to the structures at [-0.001, 38.474, 269.919, 273.884, 399.4069971762244].\n",
      "2021-03-02 09:38:48,066 - delft3dfmpy.core.dfm - dfm - INFO - Added 1d mesh nodes on branch OAF002906 at: [0.0, 91.108, 496.884, 667.175455871097], due to the structures at [-0.001, 91.078, 91.138, 496.773, 496.995, 667.176455871097].\n"
     ]
    },
    {
     "name": "stdout",
     "output_type": "stream",
     "text": [
      "2021-03-02 09:38:48,069 - delft3dfmpy.core.dfm - dfm - INFO - Added 1d mesh nodes on branch OAF002921 at: [0.0, 631.0685000000001, 646.288539560793], due to the structures at [-0.001, 163.276, 394.842, 626.749, 635.388, 646.289539560793].\n",
      "2021-03-02 09:38:48,079 - delft3dfmpy.core.dfm - dfm - INFO - Added 1d mesh nodes on branch OAF003063 at: [0.0, 13.0165, 512.1186048974606], due to the structures at [-0.001, 0.1, 25.933, 512.1196048974606].\n",
      "2021-03-02 09:38:48,082 - delft3dfmpy.core.dfm - dfm - INFO - Added 1d mesh nodes on branch OAF003096 at: [0.0, 254.69549999999998, 283.764, 825.8558171432509], due to the structures at [-0.001, 241.496, 267.895, 299.633, 798.196, 825.8568171432509].\n",
      "2021-03-02 09:38:48,084 - delft3dfmpy.core.dfm - dfm - INFO - Added 1d mesh nodes on branch OAF003106 at: [0.0, 109.025, 436.15564302691666], due to the structures at [-0.001, 43.715, 174.335, 436.15664302691664].\n",
      "2021-03-02 09:38:48,089 - delft3dfmpy.core.dfm - dfm - INFO - Added 1d mesh nodes on branch OAF003183 at: [0.0, 14.509500000000001, 653.7486193214954], due to the structures at [-0.001, 0.1, 28.919, 653.7496193214954].\n",
      "2021-03-02 09:38:48,095 - delft3dfmpy.core.dfm - dfm - INFO - Added 1d mesh nodes on branch OAF003225 at: [0.0, 3.2504999999999997, 13.263, 154.4805, 292.2695, 362.469, 500.68, 620.9815, 699.4155000000001, 744.38619452971], due to the structures at [-0.001, 0.1, 6.401, 20.125, 288.836, 295.703, 429.235, 572.125, 669.838, 728.993, 744.38719452971].\n",
      "2021-03-02 09:38:48,100 - delft3dfmpy.core.dfm - dfm - INFO - Added 1d mesh nodes on branch OAF003265 at: [0.0, 437.2825, 1120.6932209962815], due to the structures at [-0.001, 123.441, 353.902, 520.663, 932.453, 1120.6942209962815].\n",
      "2021-03-02 09:38:48,102 - delft3dfmpy.core.dfm - dfm - INFO - Added 1d mesh nodes on branch OAF003266 at: [0.0, 227.9425, 365.4340883968861, 443.54117679377225], due to the structures at [-0.001, 168.458, 287.427, 443.44117679377223, 443.5421767937722].\n",
      "2021-03-02 09:38:48,105 - delft3dfmpy.core.dfm - dfm - INFO - Added 1d mesh nodes on branch OAF003311 at: [0.0, 323.4031351971137, 382.2752703942275], due to the structures at [-0.001, 264.631, 382.1752703942275, 382.2762703942275].\n",
      "2021-03-02 09:38:48,109 - delft3dfmpy.core.dfm - dfm - INFO - Added 1d mesh nodes on branch OAF003337 at: [0.0, 493.884, 536.6975315858697], due to the structures at [-0.001, 488.447, 499.321, 536.6985315858697].\n",
      "2021-03-02 09:38:48,112 - delft3dfmpy.core.dfm - dfm - INFO - Added 1d mesh nodes on branch OAF003362 at: [0.0, 139.06900000000002, 524.960767476492], due to the structures at [-0.001, 86.924, 191.214, 524.961767476492].\n",
      "2021-03-02 09:38:48,115 - delft3dfmpy.core.dfm - dfm - INFO - Added 1d mesh nodes on branch OAF003378 at: [0.0, 134.026, 214.289, 309.72249999999997, 391.1785, 591.3013034524442], due to the structures at [-0.001, 102.292, 165.76, 262.818, 356.627, 425.73, 591.3023034524442].\n",
      "2021-03-02 09:38:48,118 - delft3dfmpy.core.dfm - dfm - INFO - Added 1d mesh nodes on branch OAF003389 at: [0.0, 283.47299999999996, 400.6955, 544.5505, 582.5518647910473], due to the structures at [-0.001, 274.729, 292.217, 509.174, 579.927, 582.5528647910472].\n",
      "2021-03-02 09:38:48,120 - delft3dfmpy.core.dfm - dfm - INFO - Added 1d mesh nodes on branch OAF003394 at: [0.0, 1138.879, 2177.2703790999403], due to the structures at [-0.001, 90.827, 1100.8, 1176.958, 1857.899, 2048.175, 2177.2713790999405].\n",
      "2021-03-02 09:38:48,122 - delft3dfmpy.core.dfm - dfm - INFO - Added 1d mesh nodes on branch OAF003404 at: [0.0, 64.371, 597.1510309600546], due to the structures at [-0.001, 9.981, 118.761, 395.308, 597.1520309600546].\n",
      "2021-03-02 09:38:48,127 - delft3dfmpy.core.dfm - dfm - INFO - Added 1d mesh nodes on branch OAF003421 at: [0.0, 652.5260000000001, 742.3924999999999, 1286.2024237431363], due to the structures at [-0.001, 576.216, 728.836, 755.949, 1286.2034237431362].\n",
      "2021-03-02 09:38:48,130 - delft3dfmpy.core.dfm - dfm - INFO - Added 1d mesh nodes on branch OAF003440 at: [0.0, 108.40558311703383, 216.81116623406766], due to the structures at [-0.001, 0.1, 216.71116623406766, 216.81216623406766].\n",
      "2021-03-02 09:38:48,133 - delft3dfmpy.core.dfm - dfm - INFO - Added 1d mesh nodes on branch OAF003455 at: [0.0, 18.732, 562.120566958206], due to the structures at [-0.001, 0.1, 37.364, 562.121566958206].\n",
      "2021-03-02 09:38:48,135 - delft3dfmpy.core.dfm - dfm - INFO - Added 1d mesh nodes on branch OAF003484 at: [0.0, 272.73749999999995, 1027.3205930602542], due to the structures at [-0.001, 269.143, 276.332, 1027.3215930602541].\n",
      "2021-03-02 09:38:48,140 - delft3dfmpy.core.dfm - dfm - INFO - Added 1d mesh nodes on branch OAF003524 at: [0.0, 105.65450000000001, 137.67450000000002, 175.4755, 213.01799999999997, 247.9135, 419.04831987390975], due to the structures at [-0.001, 78.128, 133.181, 142.168, 208.783, 217.253, 278.574, 419.0493198739097].\n",
      "2021-03-02 09:38:48,142 - delft3dfmpy.core.dfm - dfm - INFO - Added 1d mesh nodes on branch OAF003528 at: [0.0, 106.80586944712407, 117.95973889424813], due to the structures at [-0.001, 95.752, 117.85973889424814, 117.96073889424814].\n",
      "2021-03-02 09:38:48,148 - delft3dfmpy.core.dfm - dfm - INFO - Added 1d mesh nodes on branch OAF003586 at: [0.0, 301.976, 457.0993779412284], due to the structures at [-0.001, 234.664, 369.288, 457.1003779412284].\n",
      "2021-03-02 09:38:48,151 - delft3dfmpy.core.dfm - dfm - INFO - Added 1d mesh nodes on branch OAF003635 at: [0.0, 176.4025, 264.4975, 311.693419626927], due to the structures at [-0.001, 117.153, 235.652, 293.343, 311.69441962692696].\n",
      "2021-03-02 09:38:48,152 - delft3dfmpy.core.dfm - dfm - INFO - Added 1d mesh nodes on branch OAF003652 at: [0.0, 203.172, 220.27272304034892], due to the structures at [-0.001, 189.582, 216.762, 220.27372304034893].\n",
      "2021-03-02 09:38:48,155 - delft3dfmpy.core.dfm - dfm - INFO - Added 1d mesh nodes on branch OAF003667 at: [0.0, 107.4925, 190.6063996309001], due to the structures at [-0.001, 36.352, 178.633, 190.60739963090012].\n",
      "2021-03-02 09:38:48,156 - delft3dfmpy.core.dfm - dfm - INFO - Added 1d mesh nodes on branch OAF003669 at: [0.0, 567.0544179204999, 649.8688358409997], due to the structures at [-0.001, 484.34, 649.7688358409997, 649.8698358409997].\n",
      "2021-03-02 09:38:48,161 - delft3dfmpy.core.dfm - dfm - INFO - Added 1d mesh nodes on branch OAF003703 at: [0.0, 13.113, 18.645374761576324], due to the structures at [-0.001, 9.322, 16.904, 18.646374761576325].\n",
      "2021-03-02 09:38:48,163 - delft3dfmpy.core.dfm - dfm - INFO - Added 1d mesh nodes on branch OAF003705 at: [0.0, 61.5725, 160.9235, 202.242, 206.64591917469045], due to the structures at [-0.001, 0.1, 123.045, 198.802, 205.682, 206.64691917469045].\n",
      "2021-03-02 09:38:48,167 - delft3dfmpy.core.dfm - dfm - INFO - Added 1d mesh nodes on branch OAF003784 at: [0.0, 11.754000000000001, 103.24466087888749], due to the structures at [-0.001, 8.304, 15.204, 103.24566087888749].\n",
      "2021-03-02 09:38:48,168 - delft3dfmpy.core.dfm - dfm - INFO - Added 1d mesh nodes on branch OAF003792 at: [0.0, 478.01750000000004, 553.6576281386662], due to the structures at [-0.001, 416.497, 539.538, 553.6586281386661].\n",
      "2021-03-02 09:38:48,171 - delft3dfmpy.core.dfm - dfm - INFO - Added 1d mesh nodes on branch OAF003807 at: [0.0, 1628.3015, 1659.1310345671902], due to the structures at [-0.001, 1624.702, 1631.901, 1659.1320345671902].\n",
      "2021-03-02 09:38:48,175 - delft3dfmpy.core.dfm - dfm - INFO - Added 1d mesh nodes on branch OAF003834 at: [0.0, 24.5295, 599.8457094977464], due to the structures at [-0.001, 7.635, 41.424, 597.594, 599.8467094977464].\n",
      "2021-03-02 09:38:48,177 - delft3dfmpy.core.dfm - dfm - INFO - Added 1d mesh nodes on branch OAF003870 at: [0.0, 94.958, 299.8910159664087], due to the structures at [-0.001, 9.184, 180.732, 299.8920159664087].\n",
      "2021-03-02 09:38:48,181 - delft3dfmpy.core.dfm - dfm - INFO - Added 1d mesh nodes on branch OAF003884 at: [0.0, 71.904, 138.673, 211.98250000000002, 277.534, 300.92600000000004, 331.1845, 340.7541244823169], due to the structures at [-0.001, 13.457, 130.351, 146.995, 276.97, 278.098, 323.754, 338.615, 340.7551244823169].\n",
      "2021-03-02 09:38:48,185 - delft3dfmpy.core.dfm - dfm - INFO - Added 1d mesh nodes on branch OAF003932 at: [0.0, 429.90999999999997, 473.98418319074585], due to the structures at [-0.001, 414.65, 445.17, 473.98518319074583].\n"
     ]
    },
    {
     "name": "stdout",
     "output_type": "stream",
     "text": [
      "2021-03-02 09:38:48,188 - delft3dfmpy.core.dfm - dfm - INFO - Added 1d mesh nodes on branch OAF003946 at: [0.0, 236.11849999999998, 349.1514302847546], due to the structures at [-0.001, 131.945, 340.292, 349.1524302847546].\n",
      "2021-03-02 09:38:48,192 - delft3dfmpy.core.dfm - dfm - INFO - Added 1d mesh nodes on branch OAF003991 at: [0.0, 935.0550000000001, 1540.3980000000001, 4128.365679052618], due to the structures at [-0.001, 296.178, 925.164, 944.946, 1453.006, 1627.79, 1814.113, 2725.914, 4128.366679052619].\n",
      "2021-03-02 09:38:48,196 - delft3dfmpy.core.dfm - dfm - INFO - Added 1d mesh nodes on branch OAF004038 at: [0.0, 573.4404999999999, 628.7135000000001, 754.627, 893.9934348935511], due to the structures at [-0.001, 25.946, 518.982, 627.899, 629.528, 879.726, 893.9944348935511].\n",
      "2021-03-02 09:38:48,199 - delft3dfmpy.core.dfm - dfm - INFO - Added 1d mesh nodes on branch OAF004066 at: [0.0, 51.1745, 107.4935096705922], due to the structures at [-0.001, 0.146, 102.203, 107.49450967059221].\n",
      "2021-03-02 09:38:48,206 - delft3dfmpy.core.dfm - dfm - INFO - Added 1d mesh nodes on branch OAF004154 at: [0.0, 2799.407, 3663.392236899314], due to the structures at [-0.001, 1848.322, 2717.471, 2881.343, 3663.393236899314].\n",
      "2021-03-02 09:38:48,209 - delft3dfmpy.core.dfm - dfm - INFO - Added 1d mesh nodes on branch OAF004170 at: [0.0, 1.602, 76.8155, 367.36473779370726], due to the structures at [-0.001, 0.1, 3.104, 150.527, 367.36573779370724].\n",
      "2021-03-02 09:38:48,214 - delft3dfmpy.core.dfm - dfm - INFO - Added 1d mesh nodes on branch OAF004216 at: [0.0, 288.17499999999995, 327.628, 367.032, 464.5828056555707], due to the structures at [-0.001, 286.739, 289.611, 365.645, 368.419, 464.5838056555707].\n",
      "2021-03-02 09:38:48,217 - delft3dfmpy.core.dfm - dfm - INFO - Added 1d mesh nodes on branch OAF004279 at: [0.0, 223.1605, 281.1805, 292.1310125852399], due to the structures at [-0.001, 172.857, 273.464, 288.897, 292.13201258523986].\n",
      "2021-03-02 09:38:48,220 - delft3dfmpy.core.dfm - dfm - INFO - Added 1d mesh nodes on branch OAF004319 at: [0.0, 185.25220507148262, 330.79741014296525], due to the structures at [-0.001, 39.807, 330.6974101429652, 330.7984101429652].\n",
      "2021-03-02 09:38:48,223 - delft3dfmpy.core.dfm - dfm - INFO - Added 1d mesh nodes on branch OAF004345 at: [0.0, 38.101, 77.8215, 111.292, 282.0042503960714], due to the structures at [-0.001, 0.1, 76.102, 79.541, 143.043, 282.0052503960714].\n",
      "2021-03-02 09:38:48,225 - delft3dfmpy.core.dfm - dfm - INFO - Added 1d mesh nodes on branch OAF004347 at: [0.0, 109.833, 411.5396448398115], due to the structures at [-0.001, 14.981, 204.685, 411.5406448398115].\n",
      "2021-03-02 09:38:48,229 - delft3dfmpy.core.dfm - dfm - INFO - Added 1d mesh nodes on branch OAF004380 at: [0.0, 130.766, 229.8545, 241.31726949857457], due to the structures at [-0.001, 35.98, 225.552, 234.157, 241.31826949857458].\n",
      "2021-03-02 09:38:48,232 - delft3dfmpy.core.dfm - dfm - INFO - Added 1d mesh nodes on branch OAF004475 at: [0.0, 14.896, 170.79464277314977], due to the structures at [-0.001, 0.1, 29.692, 170.79564277314978].\n",
      "2021-03-02 09:38:48,235 - delft3dfmpy.core.dfm - dfm - INFO - Added 1d mesh nodes on branch OAF004513 at: [0.0, 149.21975177198448, 241.67050354396895], due to the structures at [-0.001, 56.869, 241.57050354396895, 241.67150354396895].\n",
      "2021-03-02 09:38:48,246 - delft3dfmpy.core.dfm - dfm - INFO - Added 1d mesh nodes on branch OAF004516 at: [0.0, 8.120000000000001, 24.117, 40.0375, 56.0055, 71.981, 87.906, 103.83099999999999, 119.7995, 135.875, 151.844, 193.59999214244925], due to the structures at [-0.001, 0.1, 16.14, 32.094, 47.981, 64.03, 79.932, 95.88, 111.782, 127.817, 143.933, 159.755, 193.60099214244926].\n",
      "2021-03-02 09:38:48,249 - delft3dfmpy.core.dfm - dfm - INFO - Added 1d mesh nodes on branch OAF004520 at: [0.0, 12.807, 314.19658569060636], due to the structures at [-0.001, 12.279, 13.335, 314.19758569060633].\n",
      "2021-03-02 09:38:48,251 - delft3dfmpy.core.dfm - dfm - INFO - Added 1d mesh nodes on branch OAF004525 at: [0.0, 251.757, 259.142, 302.7180258495953], due to the structures at [-0.001, 247.388, 256.126, 262.158, 302.71902584959525].\n",
      "2021-03-02 09:38:48,253 - delft3dfmpy.core.dfm - dfm - INFO - Added 1d mesh nodes on branch OAF004527 at: [0.0, 136.3805, 234.53750000000002, 329.0885, 422.8905, 653.2525740465761], due to the structures at [-0.001, 69.354, 203.407, 265.668, 392.509, 453.272, 653.2535740465761].\n",
      "2021-03-02 09:38:48,256 - delft3dfmpy.core.dfm - dfm - INFO - Added 1d mesh nodes on branch OAF004548 at: [0.0, 778.0709999999999, 790.1341119237057], due to the structures at [-0.001, 0.1, 776.924, 779.218, 790.1351119237057].\n",
      "2021-03-02 09:38:48,261 - delft3dfmpy.core.dfm - dfm - INFO - Added 1d mesh nodes on branch OAF004587 at: [0.0, 280.57550000000003, 396.793, 1048.83803547766], due to the structures at [-0.001, 275.408, 285.743, 507.843, 1044.105, 1048.83903547766].\n",
      "2021-03-02 09:38:48,262 - delft3dfmpy.core.dfm - dfm - INFO - Added 1d mesh nodes on branch OAF004588 at: [0.0, 294.7646697708353, 330.7893395416707], due to the structures at [-0.001, 258.84, 330.6893395416707, 330.7903395416707].\n",
      "2021-03-02 09:38:48,267 - delft3dfmpy.core.dfm - dfm - INFO - Added 1d mesh nodes on branch OAF004658 at: [0.0, 72.958, 144.15658696002328], due to the structures at [-0.001, 21.173, 124.743, 144.15758696002328].\n",
      "2021-03-02 09:38:48,269 - delft3dfmpy.core.dfm - dfm - INFO - Added 1d mesh nodes on branch OAF004676 at: [0.0, 2.421, 255.91243908344418], due to the structures at [-0.001, 0.1, 4.742, 255.9134390834442].\n",
      "2021-03-02 09:38:48,273 - delft3dfmpy.core.dfm - dfm - INFO - Added 1d mesh nodes on branch OAF004717 at: [0.0, 340.501, 565.3661873179884], due to the structures at [-0.001, 309.703, 371.299, 565.3671873179884].\n",
      "2021-03-02 09:38:48,275 - delft3dfmpy.core.dfm - dfm - INFO - Added 1d mesh nodes on branch OAF004723 at: [0.0, 165.10250000000002, 336.2261327682485], due to the structures at [-0.001, 0.1, 330.105, 336.22713276824845].\n",
      "2021-03-02 09:38:48,277 - delft3dfmpy.core.dfm - dfm - INFO - Added 1d mesh nodes on branch OAF004727 at: [0.0, 13.595500000000001, 299.8897202769436], due to the structures at [-0.001, 0.1, 27.091, 299.89072027694357].\n",
      "2021-03-02 09:38:48,281 - delft3dfmpy.core.dfm - dfm - INFO - Added 1d mesh nodes on branch OAF004728 at: [0.0, 953.692, 989.1335, 1047.8869738124065], due to the structures at [-0.001, 117.183, 943.309, 964.075, 1014.192, 1047.8879738124065].\n",
      "2021-03-02 09:38:48,285 - delft3dfmpy.core.dfm - dfm - INFO - Added 1d mesh nodes on branch OAF004741 at: [0.0, 130.1455, 594.0101527918753], due to the structures at [-0.001, 0.141, 260.15, 395.551, 594.0111527918752].\n",
      "2021-03-02 09:38:48,290 - delft3dfmpy.core.dfm - dfm - INFO - Added 1d mesh nodes on branch OAF004753 at: [0.0, 377.5605, 392.613, 434.24659601988105], due to the structures at [-0.001, 2.937, 373.739, 381.382, 403.844, 434.24759601988103].\n",
      "2021-03-02 09:38:48,296 - delft3dfmpy.core.dfm - dfm - INFO - Added 1d mesh nodes on branch OAF004770 at: [0.0, 10.387, 35.82277103391736], due to the structures at [-0.001, 0.1, 20.674, 35.82377103391736].\n",
      "2021-03-02 09:38:48,298 - delft3dfmpy.core.dfm - dfm - INFO - Added 1d mesh nodes on branch OAF004772 at: [0.0, 123.68037005144313, 247.36074010288627], due to the structures at [-0.001, 0.1, 247.26074010288627, 247.36174010288627].\n",
      "2021-03-02 09:38:48,303 - delft3dfmpy.core.dfm - dfm - INFO - Added 1d mesh nodes on branch OAF004809 at: [0.0, 234.7025, 552.576636774721], due to the structures at [-0.001, 230.4, 239.005, 552.577636774721].\n",
      "2021-03-02 09:38:48,307 - delft3dfmpy.core.dfm - dfm - INFO - Added 1d mesh nodes on branch OAF004865 at: [0.0, 556.5985458708673, 566.7980917417345], due to the structures at [-0.001, 546.499, 566.6980917417345, 566.7990917417345].\n",
      "2021-03-02 09:38:48,314 - delft3dfmpy.core.dfm - dfm - INFO - Added 1d mesh nodes on branch OAF005010 at: [0.0, 380.4355, 875.8274129085987], due to the structures at [-0.001, 145.533, 373.828, 387.043, 824.401, 875.8284129085987].\n",
      "2021-03-02 09:38:48,316 - delft3dfmpy.core.dfm - dfm - INFO - Added 1d mesh nodes on branch OAF005015 at: [0.0, 1454.1755, 1603.0303012463132], due to the structures at [-0.001, 51.915, 1450.114, 1458.237, 1603.0313012463132].\n"
     ]
    },
    {
     "name": "stdout",
     "output_type": "stream",
     "text": [
      "2021-03-02 09:38:48,319 - delft3dfmpy.core.dfm - dfm - INFO - Added 1d mesh nodes on branch OAF005017 at: [0.0, 282.7685, 872.3530646976778], due to the structures at [-0.001, 278.533, 287.004, 872.2530646976778, 872.3540646976778].\n",
      "2021-03-02 09:38:48,322 - delft3dfmpy.core.dfm - dfm - INFO - Added 1d mesh nodes on branch OAF005035 at: [0.0, 29.4635, 44.882999999999996, 54.31888419066479, 55.815768381329576], due to the structures at [-0.001, 22.083, 36.844, 52.922, 55.715768381329575, 55.816768381329574].\n",
      "2021-03-02 09:38:48,326 - delft3dfmpy.core.dfm - dfm - INFO - Added 1d mesh nodes on branch OAF005072 at: [0.0, 339.61181705967755, 396.6436341193551], due to the structures at [-0.001, 282.68, 396.5436341193551, 396.6446341193551].\n",
      "2021-03-02 09:38:48,332 - delft3dfmpy.core.dfm - dfm - INFO - Added 1d mesh nodes on branch OAF005096 at: [0.0, 91.02, 300.01608821790177], due to the structures at [-0.001, 0.1, 181.94, 300.01708821790174].\n",
      "2021-03-02 09:38:48,334 - delft3dfmpy.core.dfm - dfm - INFO - Added 1d mesh nodes on branch OAF005107 at: [0.0, 5.5805, 448.9955872904582], due to the structures at [-0.001, 0.1, 11.061, 448.9965872904582].\n",
      "2021-03-02 09:38:48,338 - delft3dfmpy.core.dfm - dfm - INFO - Added 1d mesh nodes on branch OAF005171 at: [0.0, 50.931, 163.16780104897566], due to the structures at [-0.001, 46.959, 54.903, 163.16880104897567].\n",
      "2021-03-02 09:38:48,343 - delft3dfmpy.core.dfm - dfm - INFO - Added 1d mesh nodes on branch OAF005185 at: [0.0, 52.512, 58.246, 63.723, 100.1565, 169.978, 209.67450000000002, 215.337, 254.00631793341142, 292.75563586682284], due to the structures at [-0.001, 51.589, 53.435, 63.057, 64.389, 135.924, 204.032, 215.317, 215.357, 292.6556358668228, 292.7566358668228].\n",
      "2021-03-02 09:38:48,346 - delft3dfmpy.core.dfm - dfm - INFO - Added 1d mesh nodes on branch OAF005189 at: [0.0, 24.845000000000002, 94.5775, 329.11879052857535], due to the structures at [-0.001, 0.1, 49.59, 139.565, 329.1197905285753].\n",
      "2021-03-02 09:38:48,349 - delft3dfmpy.core.dfm - dfm - INFO - Added 1d mesh nodes on branch OAF005200 at: [0.0, 28.7695, 121.3715, 246.235, 513.0101351210646], due to the structures at [-0.001, 0.316, 57.223, 185.52, 306.95, 513.0111351210646].\n",
      "2021-03-02 09:38:48,350 - delft3dfmpy.core.dfm - dfm - INFO - Added 1d mesh nodes on branch OAF005204 at: [0.0, 2.5505, 121.6025, 561.0685466968607], due to the structures at [-0.001, 0.1, 5.001, 238.204, 561.0695466968607].\n",
      "2021-03-02 09:38:48,356 - delft3dfmpy.core.dfm - dfm - INFO - Added 1d mesh nodes on branch OAF005236 at: [0.0, 72.2415, 158.3345013929872], due to the structures at [-0.001, 0.1, 144.383, 158.3355013929872].\n",
      "2021-03-02 09:38:48,358 - delft3dfmpy.core.dfm - dfm - INFO - Added 1d mesh nodes on branch OAF005244 at: [0.0, 41.6615, 83.52272728815777], due to the structures at [-0.001, 0.1, 83.223, 83.52372728815777].\n",
      "2021-03-02 09:38:48,360 - delft3dfmpy.core.dfm - dfm - INFO - Added 1d mesh nodes on branch OAF005301 at: [0.0, 49.9025, 61.60293543476657], due to the structures at [-0.001, 39.384, 60.421, 61.60393543476657].\n",
      "2021-03-02 09:38:48,366 - delft3dfmpy.core.dfm - dfm - INFO - Added 1d mesh nodes on branch OAF005374 at: [0.0, 14.2165, 151.89811286742747], due to the structures at [-0.001, 0.1, 28.333, 151.89911286742748].\n",
      "2021-03-02 09:38:48,369 - delft3dfmpy.core.dfm - dfm - INFO - Added 1d mesh nodes on branch OAF005391 at: [0.0, 4.961, 8.6395, 11.6955, 14.6295, 17.3625, 45.38534545227026], due to the structures at [-0.001, 2.801, 7.121, 10.158, 13.233, 16.026, 18.699, 45.386345452270255].\n",
      "2021-03-02 09:38:48,374 - delft3dfmpy.core.dfm - dfm - INFO - Added 1d mesh nodes on branch OAF005524 at: [0.0, 567.135, 581.6716864722339, 594.2273729444677], due to the structures at [-0.001, 0.1, 565.054, 569.216, 594.1273729444677, 594.2283729444677].\n",
      "2021-03-02 09:38:48,377 - delft3dfmpy.core.dfm - dfm - INFO - Added 1d mesh nodes on branch OAF005540 at: [0.0, 83.7495, 297.95494112840737], due to the structures at [-0.001, 0.1, 167.399, 297.95594112840735].\n",
      "2021-03-02 09:38:48,380 - delft3dfmpy.core.dfm - dfm - INFO - Added 1d mesh nodes on branch OAF005552 at: [0.0, 8.118, 31.901410627072245], due to the structures at [-0.001, 0.1, 16.136, 31.902410627072246].\n",
      "2021-03-02 09:38:48,383 - delft3dfmpy.core.dfm - dfm - INFO - Added 1d mesh nodes on branch OAF005571 at: [0.0, 171.112, 174.547, 287.8735, 401.2216734891431], due to the structures at [-0.001, 169.795, 172.429, 176.665, 399.082, 401.22267348914306].\n",
      "2021-03-02 09:38:48,389 - delft3dfmpy.core.dfm - dfm - INFO - Added 1d mesh nodes on branch OAF005628 at: [0.0, 56.907, 153.569561898487], due to the structures at [-0.001, 0.1, 113.714, 153.570561898487].\n",
      "2021-03-02 09:38:48,391 - delft3dfmpy.core.dfm - dfm - INFO - Added 1d mesh nodes on branch OAF005640 at: [0.0, 30.666999999999998, 113.35549999999999, 196.1905, 228.84179309893926], due to the structures at [-0.001, 0.282, 61.052, 165.659, 226.722, 228.84279309893927].\n",
      "2021-03-02 09:38:48,395 - delft3dfmpy.core.dfm - dfm - INFO - Added 1d mesh nodes on branch OAF005652 at: [0.0, 2.9114999999999998, 32.542500000000004, 68.9455, 122.49122243788234, 166.55344487576468], due to the structures at [-0.001, 0.1, 5.723, 59.362, 78.529, 166.4534448757647, 166.5544448757647].\n",
      "2021-03-02 09:38:48,397 - delft3dfmpy.core.dfm - dfm - INFO - Added 1d mesh nodes on branch OAF005660 at: [0.0, 18.273, 26.70168534007881], due to the structures at [-0.001, 13.314, 23.232, 26.702685340078812].\n",
      "2021-03-02 09:38:48,400 - delft3dfmpy.core.dfm - dfm - INFO - Added 1d mesh nodes on branch OAF005669 at: [0.0, 6.947, 15.028, 87.19046767302581], due to the structures at [-0.001, 0.1, 13.794, 16.262, 87.19146767302581].\n",
      "2021-03-02 09:38:48,402 - delft3dfmpy.core.dfm - dfm - INFO - Added 1d mesh nodes on branch OAF005671 at: [0.0, 37.2495, 150.853703965116], due to the structures at [-0.001, 0.1, 74.399, 150.85470396511602].\n",
      "2021-03-02 09:38:48,407 - delft3dfmpy.core.dfm - dfm - INFO - Added 1d mesh nodes on branch OAF005696 at: [0.0, 25.454, 44.06007262813716], due to the structures at [-0.001, 17.027, 33.881, 44.06107262813716].\n",
      "2021-03-02 09:38:48,408 - delft3dfmpy.core.dfm - dfm - INFO - Added 1d mesh nodes on branch OAF005704 at: [0.0, 15.168, 41.278, 57.04910165814357], due to the structures at [-0.001, 1.831, 28.505, 54.051, 57.05010165814357].\n",
      "2021-03-02 09:38:48,413 - delft3dfmpy.core.dfm - dfm - INFO - Added 1d mesh nodes on branch OAF005707 at: [0.0, 22.6455, 49.17936559166431], due to the structures at [-0.001, 20.71, 24.581, 49.180365591664305].\n",
      "2021-03-02 09:38:48,416 - delft3dfmpy.core.dfm - dfm - INFO - Added 1d mesh nodes on branch OAF005737 at: [0.0, 58.93924363986601, 78.62448727973201], due to the structures at [-0.001, 39.354, 78.52448727973201, 78.62548727973201].\n",
      "2021-03-02 09:38:48,418 - delft3dfmpy.core.dfm - dfm - INFO - Added 1d mesh nodes on branch OAF005745 at: [0.0, 30.841499999999996, 45.75871501691152], due to the structures at [-0.001, 22.874, 38.809, 45.75971501691152].\n",
      "2021-03-02 09:38:48,421 - delft3dfmpy.core.dfm - dfm - INFO - Added 1d mesh nodes on branch OAF005812 at: [0.0, 619.0550000000001, 628.4875, 636.3869427737824], due to the structures at [-0.001, 614.673, 623.437, 633.538, 636.3879427737824].\n",
      "2021-03-02 09:38:48,426 - delft3dfmpy.core.dfm - dfm - INFO - Added 1d mesh nodes on branch OAF005828 at: [0.0, 1519.4855, 1540.0675, 1556.4765, 1834.6190299779007], due to the structures at [-0.001, 1228.832, 1508.698, 1530.273, 1549.862, 1563.091, 1834.6200299779007].\n",
      "2021-03-02 09:38:48,431 - delft3dfmpy.core.dfm - dfm - INFO - Added 1d mesh nodes on branch OAF005878 at: [0.0, 0.5725, 88.9845, 177.42000000000002, 182.7147628018492], due to the structures at [-0.001, 0.1, 1.045, 176.924, 177.916, 182.7157628018492].\n",
      "2021-03-02 09:38:48,441 - delft3dfmpy.core.dfm - dfm - INFO - Added 1d mesh nodes on branch OAF005977 at: [0.0, 4.255, 8.558630986618473], due to the structures at [-0.001, 0.1, 8.41, 8.559630986618473].\n",
      "2021-03-02 09:38:48,449 - delft3dfmpy.core.dfm - dfm - INFO - Added 1d mesh nodes on branch OAF006020 at: [0.0, 117.69595256641449, 235.39190513282898], due to the structures at [-0.001, 0.1, 235.291905132829, 235.392905132829].\n"
     ]
    },
    {
     "name": "stdout",
     "output_type": "stream",
     "text": [
      "2021-03-02 09:38:48,452 - delft3dfmpy.core.dfm - dfm - INFO - Added 1d mesh nodes on branch OAF006025 at: [0.0, 32.271, 890.068272738783], due to the structures at [-0.001, 27.062, 37.48, 881.01, 890.069272738783].\n",
      "2021-03-02 09:38:48,456 - delft3dfmpy.core.dfm - dfm - INFO - Added 1d mesh nodes on branch OAF006033 at: [0.0, 141.1520742160941, 268.7771484321882], due to the structures at [-0.001, 13.627, 268.6771484321882, 268.7781484321882].\n",
      "2021-03-02 09:38:48,462 - delft3dfmpy.core.dfm - dfm - INFO - Added 1d mesh nodes on branch OAF006182 at: [0.0, 230.40300000000002, 303.11449671255025], due to the structures at [-0.001, 171.708, 289.098, 303.1154967125502].\n",
      "2021-03-02 09:38:48,465 - delft3dfmpy.core.dfm - dfm - INFO - Added 1d mesh nodes on branch OAF006297 at: [0.0, 11.8505, 253.88070148160438], due to the structures at [-0.001, 1.82, 21.881, 253.88170148160438].\n",
      "2021-03-02 09:38:48,467 - delft3dfmpy.core.dfm - dfm - INFO - Added 1d mesh nodes on branch OAF006300 at: [0.0, 3.379, 12.8885, 102.84349743306578], due to the structures at [-0.001, 0.1, 6.658, 19.119, 102.84449743306578].\n",
      "2021-03-02 09:38:48,473 - delft3dfmpy.core.dfm - dfm - INFO - Added 1d mesh nodes on branch OAF006412 at: [0.0, 95.458, 207.08791377332068], due to the structures at [-0.001, 90.306, 100.61, 207.08891377332068].\n",
      "2021-03-02 09:38:48,476 - delft3dfmpy.core.dfm - dfm - WARNING - Structures KDU010709, KST6542 have the same location.\n",
      "2021-03-02 09:38:48,478 - delft3dfmpy.core.dfm - dfm - INFO - Added 1d mesh nodes on branch OAF006477 at: [0.0, 104.3825, 325.5624251041951], due to the structures at [-0.001, 0.1, 208.665, 325.56342510419506].\n",
      "2021-03-02 09:38:48,480 - delft3dfmpy.core.dfm - dfm - INFO - Added 1d mesh nodes on branch OAF006482 at: [0.0, 42.942499999999995, 55.7841855106377], due to the structures at [-0.001, 36.507, 49.378, 55.785185510637696].\n",
      "2021-03-02 09:38:48,485 - delft3dfmpy.core.dfm - dfm - INFO - Added 1d mesh nodes on branch OAF006543 at: [0.0, 10.787, 31.506999999999998, 51.381, 75.1235, 99.49549999999999, 120.26849999999999, 140.9395, 161.497, 192.22693382828552], due to the structures at [-0.001, 0.1, 21.474, 41.54, 61.222, 89.025, 109.966, 130.571, 151.308, 171.686, 192.22793382828553].\n",
      "2021-03-02 09:38:48,498 - delft3dfmpy.core.dfm - dfm - INFO - Added 1d mesh nodes on branch OAF010009 at: [0.0, 259.613, 311.02750000000003, 442.7635, 556.6995, 579.357, 596.904, 622.9960000000001, 645.2840000000001, 655.715, 679.0440000000001, 702.8005, 714.0875000000001, 732.7565, 770.4645, 796.8338920375663], due to the structures at [-0.001, 240.084, 279.142, 342.913, 542.614, 570.785, 587.929, 605.879, 640.113, 650.455, 660.975, 697.113, 708.488, 719.687, 745.826, 795.103, 796.8348920375663].\n",
      "2021-03-02 09:38:48,500 - delft3dfmpy.core.dfm - dfm - INFO - Added 1d mesh nodes on branch OAF010011 at: [0.0, 371.6915, 1400.617733599335], due to the structures at [-0.001, 368.689, 374.694, 1400.618733599335].\n",
      "2021-03-02 09:38:48,503 - delft3dfmpy.core.dfm - dfm - INFO - Added 1d mesh nodes on branch OAF010015 at: [0.0, 16.534, 58.805499999999995, 176.0677346174822], due to the structures at [-0.001, 8.459, 24.609, 93.002, 176.0687346174822].\n",
      "2021-03-02 09:38:48,510 - delft3dfmpy.core.dfm - dfm - WARNING - Structures KST0847, KST0616 have the same location.\n",
      "2021-03-02 09:38:48,511 - delft3dfmpy.core.dfm - dfm - INFO - Added 1d mesh nodes on branch OAF010117 at: [0.0, 127.58149999999999, 260.781900189723], due to the structures at [-0.001, 0.1, 255.063, 260.78290018972297].\n",
      "2021-03-02 09:38:48,521 - delft3dfmpy.core.dfm - dfm - INFO - Added 1d mesh nodes on branch OAF010152 at: [0.0, 7.6765, 22.816499999999998, 31.0505, 39.2385, 54.729, 69.3905, 82.7645, 97.212, 113.7110040218631, 122.5480080437262], due to the structures at [-0.001, 0.1, 15.253, 30.38, 31.721, 46.756, 62.702, 76.079, 89.45, 104.974, 122.4480080437262, 122.5490080437262].\n",
      "2021-03-02 09:38:48,523 - delft3dfmpy.core.dfm - dfm - INFO - Added 1d mesh nodes on branch OAF010168 at: [0.0, 8.329500000000001, 19.941000000000003, 29.53350717680211], due to the structures at [-0.001, 0.1, 16.559, 23.323, 29.534507176802112].\n",
      "2021-03-02 09:38:48,526 - delft3dfmpy.core.dfm - dfm - INFO - Added 1d mesh nodes on branch OAF010188 at: [0.0, 101.7205, 288.805, 378.6446263905068, 383.12025278101356], due to the structures at [-0.001, 0.1, 203.341, 374.269, 383.02025278101354, 383.12125278101354].\n",
      "2021-03-02 09:38:48,531 - delft3dfmpy.core.dfm - dfm - INFO - Added 1d mesh nodes on branch OAF010225 at: [0.0, 361.5955, 530.6925, 702.2135, 777.9894999999999, 839.7964999999999, 882.1037716613181], due to the structures at [-0.001, 316.568, 406.623, 654.762, 749.665, 806.314, 873.279, 882.1047716613181].\n",
      "2021-03-02 09:38:48,534 - delft3dfmpy.core.dfm - dfm - INFO - Added 1d mesh nodes on branch OAF010227 at: [0.0, 988.03, 1026.9051278620673], due to the structures at [-0.001, 982.806, 993.254, 1026.9061278620673].\n",
      "2021-03-02 09:38:48,536 - delft3dfmpy.core.dfm - dfm - INFO - Added 1d mesh nodes on branch OAF010231 at: [0.0, 88.72399999999999, 243.0647640314304], due to the structures at [-0.001, 56.854, 120.594, 243.0657640314304].\n",
      "2021-03-02 09:38:48,540 - delft3dfmpy.core.dfm - dfm - INFO - Added 1d mesh nodes on branch OAF010232 at: [0.0, 55.614999999999995, 72.5838242426095], due to the structures at [-0.001, 47.698, 63.532, 72.5848242426095].\n",
      "2021-03-02 09:38:48,546 - delft3dfmpy.core.dfm - dfm - INFO - Added 1d mesh nodes on branch OAF010340 at: [0.0, 0.8705, 24.628844877456963], due to the structures at [-0.001, 0.1, 1.641, 24.629844877456964].\n",
      "2021-03-02 09:38:48,551 - delft3dfmpy.core.dfm - dfm - INFO - Added 1d mesh nodes on branch OAF010359 at: [0.0, 89.19800000000001, 120.1475, 152.88, 178.6978594968577], due to the structures at [-0.001, 75.159, 103.237, 137.058, 168.702, 178.6988594968577].\n",
      "2021-03-02 09:38:48,555 - delft3dfmpy.core.dfm - dfm - INFO - Added 1d mesh nodes on branch OAF010375 at: [0.0, 452.59749999999997, 501.9635, 542.8460223397627], due to the structures at [-0.001, 428.623, 476.572, 527.355, 542.8470223397627].\n",
      "2021-03-02 09:38:48,558 - delft3dfmpy.core.dfm - dfm - INFO - Added 1d mesh nodes on branch OAF010383 at: [0.0, 48.198, 160.4630439047391], due to the structures at [-0.001, 0.1, 96.296, 160.4640439047391].\n",
      "2021-03-02 09:38:48,561 - delft3dfmpy.core.dfm - dfm - WARNING - Structures KST0170, KBR0838 have the same location.\n",
      "2021-03-02 09:38:48,564 - delft3dfmpy.core.dfm - dfm - INFO - Added 1d mesh nodes on branch OAF010408 at: [0.0, 614.9138324495834, 633.0646648991668], due to the structures at [-0.001, 596.863, 632.9646648991668, 633.0656648991668].\n",
      "2021-03-02 09:38:48,566 - delft3dfmpy.core.dfm - dfm - INFO - Added 1d mesh nodes on branch OAF010422 at: [0.0, 92.833, 298.2499581017897, 452.6639162035794], due to the structures at [-0.001, 41.73, 143.936, 452.56391620357937, 452.66491620357937].\n",
      "2021-03-02 09:38:48,569 - delft3dfmpy.core.dfm - dfm - INFO - Added 1d mesh nodes on branch OAF010430 at: [0.0, 145.094, 358.18684965965576], due to the structures at [-0.001, 131.963, 158.225, 358.18784965965574].\n",
      "2021-03-02 09:38:48,572 - delft3dfmpy.core.dfm - dfm - INFO - Added 1d mesh nodes on branch OAF010442 at: [0.0, 21.5145, 135.567, 236.88866691742953], due to the structures at [-0.001, 0.1, 42.929, 228.205, 236.88966691742954].\n",
      "2021-03-02 09:38:48,576 - delft3dfmpy.core.dfm - dfm - INFO - Added 1d mesh nodes on branch OAF010467 at: [0.0, 47.268, 259.65736095819915], due to the structures at [-0.001, 0.1, 94.436, 259.6583609581991].\n",
      "2021-03-02 09:38:48,579 - delft3dfmpy.core.dfm - dfm - INFO - Added 1d mesh nodes on branch OAF010478 at: [0.0, 55.085, 66.75725134122567], due to the structures at [-0.001, 43.678, 66.492, 66.75825134122567].\n",
      "2021-03-02 09:38:48,583 - delft3dfmpy.core.dfm - dfm - INFO - Added 1d mesh nodes on branch OAF010494 at: [0.0, 1005.1735000000001, 1941.9295108510337], due to the structures at [-0.001, 993.676, 1016.671, 1387.2, 1522.748, 1941.9305108510337].\n",
      "2021-03-02 09:38:48,590 - delft3dfmpy.core.dfm - dfm - INFO - Added 1d mesh nodes on branch OAF010575 at: [0.0, 140.15949999999998, 252.82547570167506], due to the structures at [-0.001, 104.238, 176.081, 252.82647570167507].\n"
     ]
    },
    {
     "name": "stdout",
     "output_type": "stream",
     "text": [
      "2021-03-02 09:38:48,592 - delft3dfmpy.core.dfm - dfm - INFO - Added 1d mesh nodes on branch OAF010586 at: [0.0, 69.2065, 86.94257733502819], due to the structures at [-0.001, 62.449, 75.964, 86.9435773350282].\n",
      "2021-03-02 09:38:48,594 - delft3dfmpy.core.dfm - dfm - INFO - Added 1d mesh nodes on branch OAF010588 at: [0.0, 77.172, 128.3048114435671], due to the structures at [-0.001, 56.76, 97.584, 128.3058114435671].\n",
      "2021-03-02 09:38:48,600 - delft3dfmpy.core.dfm - dfm - INFO - Added 1d mesh nodes on branch OAF010593 at: [0.0, 520.617, 617.4527064596491], due to the structures at [-0.001, 494.577, 546.657, 617.4537064596491].\n",
      "2021-03-02 09:38:48,614 - delft3dfmpy.core.dfm - dfm - INFO - Added 1d mesh nodes on branch OAF016421 at: [0.0, 75.19, 150.362, 158.41414240875025], due to the structures at [-0.001, 1.082, 149.298, 151.426, 158.41514240875026].\n",
      "2021-03-02 09:38:48,632 - delft3dfmpy.core.dfm - dfm - INFO - Added 1d mesh nodes on branch OAF016490 at: [0.0, 17.044, 25.366999999999997, 32.672, 40.668, 48.7805, 56.784, 64.7375, 76.902, 89.005, 97.0055, 104.9445, 112.88300000000001, 120.8965, 128.91899999999998, 163.10704631207375], due to the structures at [-0.001, 12.03, 22.058, 28.676, 36.668, 44.668, 52.893, 60.675, 68.8, 85.004, 93.006, 101.005, 108.884, 116.882, 124.911, 132.927, 163.10804631207375].\n",
      "2021-03-02 09:38:48,634 - delft3dfmpy.core.dfm - dfm - INFO - Added 1d mesh nodes on branch OAF016498 at: [0.0, 26.388, 65.41386778463344], due to the structures at [-0.001, 0.1, 52.676, 65.41486778463344].\n",
      "2021-03-02 09:38:48,638 - delft3dfmpy.core.dfm - dfm - INFO - Added 1d mesh nodes on branch OAF016504 at: [0.0, 971.2915, 1529.0315, 1665.103, 1805.6755, 2111.312359123833], due to the structures at [-0.001, 238.432, 684.778, 954.755, 987.828, 1528.719, 1529.344, 1800.862, 1810.489, 2111.3133591238334].\n",
      "2021-03-02 09:38:48,640 - delft3dfmpy.core.dfm - dfm - INFO - Added 1d mesh nodes on branch OAF016509 at: [0.0, 225.42849999999999, 868.9030162265917], due to the structures at [-0.001, 216.309, 234.548, 868.9040162265917].\n",
      "2021-03-02 09:38:48,643 - delft3dfmpy.core.dfm - dfm - INFO - Added 1d mesh nodes on branch OAF016527 at: [0.0, 119.33850000000001, 533.356888415209], due to the structures at [-0.001, 13.771, 224.906, 398.953, 533.357888415209].\n",
      "2021-03-02 09:38:48,646 - delft3dfmpy.core.dfm - dfm - INFO - Added 1d mesh nodes on branch OAF016663 at: [0.0, 20.3045, 45.32920097353965], due to the structures at [-0.001, 11.031, 29.578, 45.33020097353965].\n",
      "2021-03-02 09:38:48,650 - delft3dfmpy.core.dfm - dfm - INFO - Added 1d mesh nodes on branch OAF016778 at: [0.0, 7.467, 22.277, 37.2625, 52.327, 67.4355, 82.34200000000001, 97.2575, 119.6805, 141.946, 164.88402005486003], due to the structures at [-0.001, 0.1, 14.834, 29.72, 44.805, 59.849, 75.022, 89.662, 104.853, 134.508, 149.384, 164.88502005486004].\n",
      "2021-03-02 09:38:48,654 - delft3dfmpy.core.dfm - dfm - INFO - Added 1d mesh nodes on branch OAF016779 at: [0.0, 26.5485, 44.7735, 62.8245, 80.54050000000001, 98.59700000000001, 118.0315, 144.75501906272015], due to the structures at [-0.001, 17.589, 35.508, 54.039, 71.61, 89.471, 107.723, 128.34, 144.75601906272016].\n",
      "2021-03-02 09:38:48,665 - delft3dfmpy.core.dfm - dfm - INFO - Added 1d mesh nodes on branch OAF999995 at: [0.0, 8.401000000000002, 38.21466949084587], due to the structures at [-0.001, 0.1, 16.702, 38.21566949084587].\n"
     ]
    }
   ],
   "source": [
    "dfmmodel.network.set_branches(hydamo.branches)\n",
    "dfmmodel.network.generate_1dnetwork(one_d_mesh_distance=250.0, seperate_structures=True)"
   ]
  },
  {
   "cell_type": "markdown",
   "metadata": {},
   "source": [
    "### Toevoegen cross-sections\n",
    "\n",
    "We kennen profielen toe, waar we profielen missen vullen we deze aan met principeprofielen."
   ]
  },
  {
   "cell_type": "code",
   "execution_count": 19,
   "metadata": {},
   "outputs": [
    {
     "name": "stdout",
     "output_type": "stream",
     "text": [
      "2021-03-02 09:38:50,841 - delft3dfmpy.io.dfmreader - dfmreader - INFO - Before adding the number of branches without cross section is: 2385.\n",
      "2021-03-02 09:38:59,261 - delft3dfmpy.io.dfmreader - dfmreader - INFO - After adding 'dwarsprofielen' the number of branches without cross section is: 863.\n",
      "No parametrised crossections available for branches.\n",
      "2021-03-02 09:38:59,268 - delft3dfmpy.io.dfmreader - dfmreader - INFO - Before adding the number of structures without cross section is: 636.\n",
      "2021-03-02 09:38:59,294 - delft3dfmpy.io.dfmreader - dfmreader - INFO - After adding 'dwarsprofielen' the number of branches without cross section is: 636.\n",
      "2021-03-02 09:38:59,346 - delft3dfmpy.io.dfmreader - dfmreader - INFO - After adding 'normgeparametriseerd' the number of structures without cross section is: 0.\n",
      "863 branches are still missing a cross section.\n",
      "0 structures are still missing a cross section.\n",
      "adding trapezium profiles on branches with missing crosssections.\n"
     ]
    }
   ],
   "source": [
    "dfmmodel.crosssections.io.from_hydamo(\n",
    "    dwarsprofielen=hydamo.crosssections,\n",
    "    parametrised=hydamo.parametrised_profiles,\n",
    "    branches=hydamo.branches\n",
    ")\n",
    "\n",
    "print(f\"{len(dfmmodel.crosssections.get_branches_without_crosssection())} branches are still missing a cross section.\")\n",
    "print(f\"{len(dfmmodel.crosssections.get_structures_without_crosssection())} structures are still missing a cross section.\")\n",
    "\n",
    "if len(dfmmodel.crosssections.get_branches_without_crosssection()) > 0:\n",
    "    print(\"adding trapezium profiles on branches with missing crosssections.\")\n",
    "    dfmmodel = hydrotools.add_trapeziums(dfmmodel, principe_profielen_df)"
   ]
  },
  {
   "cell_type": "markdown",
   "metadata": {},
   "source": [
    "### Toevoegen randvoorwaarden"
   ]
  },
  {
   "cell_type": "code",
   "execution_count": 20,
   "metadata": {},
   "outputs": [],
   "source": [
    "rvw_df = pd.read_excel(excelbestanden.joinpath(\"randvoorwaarden.xlsx\"))\n",
    "\n",
    "for _,row in rvw_df.iterrows():\n",
    "    branch_id = row[\"BRANCH_ID\"]\n",
    "    pt = hydamo.branches.loc[branch_id][\"geometry\"].coords[int(row[\"COORD\"])]\n",
    "    series = pd.Series(data=[0.0, 0.0],\n",
    "                       index=[pd.Timestamp(\"2000-01-01\"),\n",
    "                              pd.Timestamp(\"2100-01-01\")]\n",
    "                       )\n",
    "    dfmmodel.external_forcings.add_boundary_condition(name=f\"BND_{branch_id}\",\n",
    "                                                      pt=pt,\n",
    "                                                      bctype=row[\"TYPE\"],\n",
    "                                                      series=series)"
   ]
  },
  {
   "cell_type": "markdown",
   "metadata": {},
   "source": [
    "### Wegschrijven model"
   ]
  },
  {
   "cell_type": "code",
   "execution_count": 21,
   "metadata": {},
   "outputs": [
    {
     "name": "stdout",
     "output_type": "stream",
     "text": [
      "Model is weggeschreven\n"
     ]
    }
   ],
   "source": [
    "dfmmodel.mdu_parameters[\"refdate\"] = 20000101\n",
    "dfmmodel.mdu_parameters[\"tstart\"] = 0.0 * 3600\n",
    "dfmmodel.mdu_parameters[\"tstop\"] = 0.5 * 3600\n",
    "dfmmodel.mdu_parameters[\"hisinterval\"] = \"120. 0. 0.\"\n",
    "dfmmodel.mdu_parameters[\"cflmax\"] = 0.7\n",
    "\n",
    "dfmmodel.dimr_path = dimr_path\n",
    "fm_writer = DFlowFMWriter(dfmmodel, output_dir=r\"modellen\\boezemmodel\", name=\"boezemmodel\")\n",
    "\n",
    "fm_writer.objects_to_ldb()\n",
    "fm_writer.write_all()\n",
    "\n",
    "if Path(r\"modellen\\boezemmodel\\fm\\boezemmodel.mdu\").exists():\n",
    "    print(\"Model is weggeschreven\")\n",
    "else:\n",
    "    print(\"Er is geen model geschreven. Waarschijnlijk is iets fout gegaan\")"
   ]
  },
  {
   "cell_type": "markdown",
   "metadata": {},
   "source": [
    "## Importeren in de D-Hydro suite\n",
    "\n",
    "Open het model nu in D-Hydro:\n",
    "1. Open een \"Empty Project\"\n",
    "2. In de \"Home\" ribbon, ga naar \"Import\" en selecteer \"Flow Flexible Mesh Model\"\n",
    "3. Selecteer het bestand \"boezemmodel.mdu\" in \".\\dfm_model\\fm\\boezemmodel.mdu\"\n",
    "4. Wacht tot het model is geimporteerd.....\n",
    "\n",
    "Het geimporteerde model is nu zichtbaar in de D-Hydro suite\n",
    "<img src=\"png/boezemmodel.png\"/>"
   ]
  }
 ],
 "metadata": {
  "kernelspec": {
   "display_name": "Python 3",
   "language": "python",
   "name": "python3"
  },
  "language_info": {
   "codemirror_mode": {
    "name": "ipython",
    "version": 3
   },
   "file_extension": ".py",
   "mimetype": "text/x-python",
   "name": "python",
   "nbconvert_exporter": "python",
   "pygments_lexer": "ipython3",
   "version": "3.8.3"
  }
 },
 "nbformat": 4,
 "nbformat_minor": 4
}
