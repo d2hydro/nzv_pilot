{
 "cells": [
  {
   "cell_type": "markdown",
   "metadata": {},
   "source": [
    "# D-Hydro Boezemmodel V4\n",
    "\n",
    "## Introductie\n",
    "\n",
    "Met deze notebook bouw je een boezemmodel voor Nooderzijlvest.\n",
    "\n",
    "Zorg dat je beschikt over een werkende Python installatie en <a href=\"https://github.com/openearth/delft3dfmpy#installation\">D-HYDAMO omgeving</a>. Het resulterende model moet geimporteerd kunnen worden in D-HYDRO versie 0.9.7.52006 of hoger.\n",
    "\n",
    "De verwijzing naar bestanden is geschreven in het Nederlands. De rest van de code is geschreven in het Engels. Elk code-blok is voorzien van uitleg boven het desbetreffende blok, geschreven in het Nederlands.\n",
    "\n",
    "Download de bestanden van <a href=\"https://drive.google.com/drive/folders/1BXNEwlEDCtShDj5KVuHQcukup-QLTuzR\">Google Drive</a> en zet deze in de folder .\\beheerregister\n",
    "\n",
    "<b>let op:</b> deze notebook werkt alleen in combinatie met een config.py. In config.py dient een variabele dimr_path te zijn opgegeven, afhankelijk van de D-Hydro installatie. Bijvoorbeeld:\n",
    "\n",
    "dimr_path = r\"c:\\Program Files (x86)\\Deltares\\D-HYDRO Suite 1D2D (Beta) (0.9.7.52006)\\plugins\\DeltaShell.Dimr\\kernels\\x64\\dimr\\scripts\\run_dimr.bat\""
   ]
  },
  {
   "cell_type": "markdown",
   "metadata": {},
   "source": [
    "## Controle bestanden\n",
    "\n",
    "Alle bestanden die gebruikt worden in deze tutorial staan in het code-blok hieronder. Wanneer je dit codeblok uitvoert wordt de aanwezigheid van deze bestanden gecontroleerd.\n",
    "\n"
   ]
  },
  {
   "cell_type": "code",
   "execution_count": 1,
   "metadata": {
    "scrolled": true
   },
   "outputs": [],
   "source": [
    "from pathlib import Path\n",
    "from config import dimr_path\n",
    "\n",
    "beheerregister = Path(r\".\\beheerregister\").absolute().resolve()\n",
    "\n",
    "invoerbestanden = {\"modelgebied\": \"Bemalings_en_lozingsgebieden.shp\",\n",
    "                   \"branches\": \"Afaanvoervakken_DHYDRO_v5.shp\",\n",
    "                   \"profielpunten\": \"profielpunten_3feb2021_actueel.shp\",\n",
    "                   \"bruggen\": \"Bruggen_(doorstroomopeningen).shp\",\n",
    "                   \"duikers\": \"duikers.shp\",\n",
    "                   \"sifons\": \"sifons.shp\",\n",
    "                   \"stuwen\": \"stuwen.shp\",\n",
    "                   \"inlaten\": \"inlaten.shp\",\n",
    "                   \"gemalen\": \"gemalen_v2.shp\",\n",
    "                   \"peilgebieden\": \"Peilgebieden.shp\"}\n",
    "\n",
    "vorm_mapping = dict(rond=1,\n",
    "                    driehoekig=1,\n",
    "                    rechthoekig=3,\n",
    "                    eivormig=1,\n",
    "                    ellips=1,\n",
    "                    Paraboolvormig=1,\n",
    "                    trapeziumvormig=1,\n",
    "                    heul=1,\n",
    "                    muil=3,\n",
    "                    langwerpig=1,\n",
    "                    scherp=1,\n",
    "                    onbekend=99,\n",
    "                    overig=99)\n",
    "\n",
    "for key, item in invoerbestanden.items():\n",
    "    if not beheerregister.joinpath(item).exists():\n",
    "        print(f\"bestand voor {key} bestaat niet: {beheerregister.joinpath(item)}\")\n"
   ]
  },
  {
   "cell_type": "markdown",
   "metadata": {},
   "source": [
    "## Inlezen beheerregister in HyDAMO\n",
    "\n",
    "### Aanmaken HyDAMO object\n",
    "\n",
    "Alle benodigde modules worden geimporteerd en het HYDAMO object wordt aangemaakt bij het uitvoeren van onderstaand code-blok"
   ]
  },
  {
   "cell_type": "code",
   "execution_count": 2,
   "metadata": {},
   "outputs": [],
   "source": [
    "from delft3dfmpy import DFlowFMModel, HyDAMO, Rectangular, DFlowFMWriter\n",
    "from delft3dfmpy import DFlowRRModel, DFlowRRWriter\n",
    "from delft3dfmpy.datamodels.common import ExtendedGeoDataFrame\n",
    "import hydrotools\n",
    "import geopandas as gpd\n",
    "import pandas as pd\n",
    "from shapely.geometry import LineString\n",
    "\n",
    "hydamo = HyDAMO(extent_file=str(beheerregister.joinpath(invoerbestanden[\"modelgebied\"])))"
   ]
  },
  {
   "cell_type": "markdown",
   "metadata": {},
   "source": [
    "### snap_to_branches\n",
    "De optie om bij het inlezen te snappen naar branches en alles dat niet op boezemmodel_v4 ligt weg te gooien. Wordt nu alleen gebruikt bij duikers"
   ]
  },
  {
   "cell_type": "code",
   "execution_count": 3,
   "metadata": {},
   "outputs": [],
   "source": [
    "branches = gpd.read_file(beheerregister.joinpath(invoerbestanden[\"branches\"]))\n",
    "branches.columns = branches.columns.str.lower()\n",
    "snap_to_branches = dict(branches=branches,\n",
    "                        distance=5,\n",
    "                        attribute_filter={\"hydromodel\": \"Boezemmodel_v4\"}) \n"
   ]
  },
  {
   "cell_type": "markdown",
   "metadata": {},
   "source": [
    "### Toevoegen waterlopen\n",
    "\n",
    "De waterlopen (branches) worden toegevoegd met volgend code-blok:\n",
    "* de branches worden toegekend aan het hydamo-object\n",
    "* een HyDAMO ruwheidscode (4 = manning) wordt toegekend\n",
    "* de eindpunten van de branches worden gesnapped binnen een tolerantie van 1m. De coordinaten worden ook afgerond op 1m."
   ]
  },
  {
   "cell_type": "code",
   "execution_count": 4,
   "metadata": {},
   "outputs": [],
   "source": [
    "gdf = hydrotools.read_file(beheerregister.joinpath(invoerbestanden[\"branches\"]),\n",
    "                           \"branches\",\n",
    "                           attribute_filter={\"hydromodel\": \"Boezemmodel_v4\"},\n",
    "                           keep_columns=[\"HydroModel\",\n",
    "                                         \"bodemhoogtebovenstrooms\",\n",
    "                                         \"bodembreedte\",\n",
    "                                         \"taludhellinglinkerzijde\",\n",
    "                                         \"taludhellingrechterzijde\",\n",
    "                                         \"IWS_W_WATB\"],\n",
    "                           column_mapping={\"OVKIDENT\": \"code\",\n",
    "                                           \"IWS_AVVHOB\": \"bodemhoogtebovenstrooms\",\n",
    "                                           \"AVVBODDR\": \"bodembreedte\",\n",
    "                                           \"AVVTALUL\": \"taludhellinglinkerzijde\",\n",
    "                                           \"AVVTALUR\": \"taludhellingrechterzijde\"}\n",
    "                          )\n",
    "\n",
    "hydamo.branches.set_data(gdf, index_col=\"code\", check_columns=True, check_geotype=True)\n",
    "hydamo.branches[\"ruwheidstypecode\"] = 4\n",
    "\n",
    "hydamo.branches = hydrotools.snap_ends(hydamo.branches, tolerance=1, digits=1)"
   ]
  },
  {
   "cell_type": "markdown",
   "metadata": {},
   "source": [
    "### Aanmaken principeprofielen\n",
    "Als terugvaloptie voor branches zonder profielen schrijven we principe profielen weg die we later in deze notebook gebruiken."
   ]
  },
  {
   "cell_type": "code",
   "execution_count": 5,
   "metadata": {},
   "outputs": [],
   "source": [
    "principe_profielen_df = hydrotools.get_trapeziums(gdf,\n",
    "                                                  \"code\",\n",
    "                                                  \"bodembreedte\",\n",
    "                                                  \"bodemhoogtebovenstrooms\",\n",
    "                                                  \"iws_w_watb\",\n",
    "                                                  \"taludhellinglinkerzijde\",\n",
    "                                                  \"taludhellingrechterzijde\")\n",
    "\n",
    "principe_profielen_df.to_excel(r\".\\xlsx\\principe_profielen.xlsx\")"
   ]
  },
  {
   "cell_type": "markdown",
   "metadata": {},
   "source": [
    "### Toevoegen yz-profielen\n",
    "De yz-profielen worden ingeladen:\n",
    "* De profielpunten worden geopend\n",
    "* de punten worden geordend en geconverteerd naar polylinen met een xyz coordinaten\n",
    "* toekennen ruwheid (manning = 35)\n",
    "* lijnen langer dan 500m worden weggegooid, omdat er soms kademuren PRO_TYPE = PRO hebben gekregen\n",
    "* lijnen worden toegekend aan het HyDAMO object\n",
    "* lijnen die niet snappen met de branches, worden weggegooid\n",
    "\n",
    "ToDo:\n",
    "* verbeteren toekenning ruwheid"
   ]
  },
  {
   "cell_type": "code",
   "execution_count": 6,
   "metadata": {},
   "outputs": [],
   "source": [
    "gdf = hydrotools.read_file(beheerregister.joinpath(invoerbestanden[\"profielpunten\"]),\n",
    "                           \"crosssections\",\n",
    "                           attribute_filter={\"osmomsch_1\": [\"WL\", \"Z1\"],\n",
    "                                             \"PRO_TYPE\": \"PRO\"},\n",
    "                           column_mapping={\"PROIDENT\": \"code\",\n",
    "                                           \"IWS_VOLGNR\": \"order\",\n",
    "                                           \"OSMOMSCH_1\": \"category\",\n",
    "                                           \"iws_hoogte\": \"z\"},\n",
    "                           z_coord=True\n",
    "                           )\n",
    "\n",
    "grouper = gdf.groupby(\"code\")\n",
    "profiles = dict()\n",
    "\n",
    "for code, prof_gdf in grouper:\n",
    "    prof_gdf = prof_gdf.sort_values(\"order\")  #Staan ook punten met zelfde order\n",
    "    first_point = prof_gdf.iloc[0][\"geometry\"]\n",
    "    cum_dist = -1\n",
    "    line = []\n",
    "    for idx, (_, row) in enumerate(prof_gdf.iterrows()):\n",
    "        geom = row[\"geometry\"]\n",
    "        distance = geom.distance(first_point)\n",
    "        if distance > cum_dist:\n",
    "            cum_dist = distance\n",
    "            line += [(geom.x, geom.y, row[\"z\"])]\n",
    "\n",
    "    profiles[code] = [code, LineString(line)]\n",
    "\n",
    "profiles_gdf = gpd.GeoDataFrame.from_dict(profiles,\n",
    "                                          orient=\"index\",\n",
    "                                          columns=[\"code\",\n",
    "                                                   \"geometry\"]\n",
    "                                          )\n",
    "\n",
    "profiles_gdf[\"ruwheidstypecode\"] = 4\n",
    "profiles_gdf[\"ruwheidswaarde\"] = 35\n",
    "profiles_gdf[\"codegerelateerdobject\"] = None\n",
    "\n",
    "profiles_gdf = profiles_gdf.loc[profiles_gdf[\"geometry\"].length < 500]\n",
    "\n",
    "hydamo.crosssections.set_data(profiles_gdf,\n",
    "                              index_col=\"code\",\n",
    "                              check_columns=True,\n",
    "                              check_geotype=True)\n",
    "\n",
    "hydamo.crosssections.snap_to_branch(hydamo.branches, snap_method=\"intersecting\")\n",
    "hydamo.crosssections.dropna(axis=0, inplace=True, subset=[\"branch_offset\"])"
   ]
  },
  {
   "cell_type": "markdown",
   "metadata": {},
   "source": [
    "### Toevoegen geparameteriseerde profielen\n",
    "\n",
    "Per brug moet er een profiel worden toegevoegd"
   ]
  },
  {
   "cell_type": "code",
   "execution_count": 7,
   "metadata": {
    "code_folding": []
   },
   "outputs": [],
   "source": [
    "gdf = hydrotools.read_file(beheerregister.joinpath(invoerbestanden[\"bruggen\"]),\n",
    "                           \"parametrised_profiles\",\n",
    "                           column_mapping={\"bodemh_bov\": \"bodemhoogtebovenstrooms\",\n",
    "                                           \"bodemh_ben\": \"bodemhoogtebenedenstrooms\",\n",
    "                                           \"doorstroom\": \"bodembreedte\",\n",
    "                                           \"hoogte_ond\": \"hoogteinsteeklinkerzijde\",\n",
    "                                           })\n",
    "\n",
    "grouper = gdf.groupby(\"code\")\n",
    "data = {item: [] for item in [\"code\",\n",
    "                              \"bodemhoogtebovenstrooms\",\n",
    "                              \"bodemhoogtebenedenstrooms\",\n",
    "                              \"bodembreedte\",\n",
    "                              \"hoogteinsteeklinkerzijde\",\n",
    "                              \"geometry\",\n",
    "                              \"codegerelateerdobject\"]}\n",
    "\n",
    "for code, df in grouper:\n",
    "    data[\"code\"] += [f\"PRO_{code}\"]\n",
    "    data[\"codegerelateerdobject\"] += [code]\n",
    "    for item in [\"bodemhoogtebovenstrooms\",\n",
    "                 \"bodemhoogtebenedenstrooms\",\n",
    "                 \"hoogteinsteeklinkerzijde\",\n",
    "                 \"geometry\"]:\n",
    "        data[item] += [df.iloc[0][item]]\n",
    "    data[\"bodembreedte\"] += [df['bodembreedte'].sum()]\n",
    "\n",
    "gdf = gpd.GeoDataFrame(data)\n",
    "gdf[\"geometry\"] = gdf.apply((lambda x: LineString([[x[\"geometry\"].x-0.1,\n",
    "                                                    x[\"geometry\"].y-0.1],\n",
    "                                                  [x[\"geometry\"].x+0.1,\n",
    "                                                   x[\"geometry\"].y+0.1]])),\n",
    "                            axis=1)\n",
    "\n",
    "gdf[\"hoogteinsteekrechterzijde\"] = gdf[\"hoogteinsteeklinkerzijde\"]\n",
    "gdf[\"ruwheidswaarde\"] = 15\n",
    "gdf[\"ruwheidstypecode\"] = 4\n",
    "gdf[\"taludhellinglinkerzijde\"] = 1\n",
    "gdf[\"taludhellingrechterzijde\"] = 1\n",
    "\n",
    "hydamo.parametrised_profiles.set_data(gdf,\n",
    "                                      index_col=\"code\",\n",
    "                                      check_columns=True,\n",
    "                                      check_geotype=False)"
   ]
  },
  {
   "cell_type": "markdown",
   "metadata": {},
   "source": [
    "### Toevoegen bruggen\n",
    "Per brug moet er een profiel worden toegevoegd"
   ]
  },
  {
   "cell_type": "code",
   "execution_count": 8,
   "metadata": {},
   "outputs": [],
   "source": [
    "gdf = hydrotools.read_file(beheerregister.joinpath(invoerbestanden[\"bruggen\"]),\n",
    "                           \"bridges\",\n",
    "                           column_mapping={\"doorstro_2\": \"lengte\",\n",
    "                                           \"bodemh_bov\": \"hoogteonderzijde\"})\n",
    "\n",
    "grouper = gdf.groupby(\"code\")\n",
    "data = {\"code\": [code for code, frame in grouper],\n",
    "        \"hoogteonderzijde\": [frame[\"hoogteonderzijde\"].values[0] for code,\n",
    "                             frame in grouper],\n",
    "        \"lengte\": [frame[\"lengte\"].values[0] for code, frame in grouper],\n",
    "        \"geometry\": [frame[\"geometry\"].values[0] for code, frame in grouper]\n",
    "        }\n",
    "gdf = gpd.GeoDataFrame(data)\n",
    "\n",
    "gdf[\"hoogtebovenzijde\"] = gdf[\"hoogteonderzijde\"] + 1\n",
    "\n",
    "gdf[\"dwarsprofielcode\"] = gdf[\"code\"].apply(lambda x: f\"PRO_{x}\")\n",
    "gdf[\"intreeverlies\"] = 0.7\n",
    "gdf[\"uittreeverlies\"] = 0.7\n",
    "gdf[\"ruwheidstypecode\"] = 4\n",
    "gdf[\"ruwheidswaarde\"] = 70\n",
    "\n",
    "hydamo.bridges.set_data(gdf, index_col=\"code\", check_columns=True, check_geotype=False)\n",
    "hydamo.bridges.snap_to_branch(hydamo.branches, snap_method=\"overal\", maxdist=5)\n",
    "hydamo.bridges.dropna(axis=0, inplace=True, subset=[\"branch_offset\"])"
   ]
  },
  {
   "cell_type": "markdown",
   "metadata": {},
   "source": [
    "### Toevoegen duikers en siphons\n",
    "duikers en sifons worden als cuverts aan het HyDAMO object toegekend\n",
    "\n",
    "ToDo\n",
    "* vorm moet naar HyDAMO codering worden omgeschreven"
   ]
  },
  {
   "cell_type": "code",
   "execution_count": 9,
   "metadata": {},
   "outputs": [],
   "source": [
    "culverts_gdf = hydrotools.read_file(beheerregister.joinpath(invoerbestanden[\"duikers\"]),\n",
    "                                    \"culverts\",\n",
    "                                    snap_to_branches=snap_to_branches,\n",
    "                                    attribute_filter={\"SOORT\": [\"maaipadduiker\",\n",
    "                                                                \"slootduiker\",\n",
    "                                                                \"wegduiker\",\n",
    "                                                                \"nog niet gevuld\"]},\n",
    "                                    column_mapping={\"hoogte_a1\": \"hoogteopening\",\n",
    "                                                    \"breedte\": \"breedteopening\",\n",
    "                                                    \"bok_benede\": \"hoogtebinnenonderkantbenedenstrooms\",\n",
    "                                                    \"bok_boven\": \"hoogtebinnenonderkantbovenstrooms\",\n",
    "                                                    \"vorm\": \"vormcode\"})\n",
    "\n",
    "siphons_gdf = hydrotools.read_file(beheerregister.joinpath(invoerbestanden[\"sifons\"]),\n",
    "                                   \"culverts\",\n",
    "                                   column_mapping={\"hoogte\": \"hoogteopening\",\n",
    "                                                   \"breedte\": \"breedteopening\",\n",
    "                                                   \"bok_benede\":\"hoogtebinnenonderkantbenedenstrooms\",\n",
    "                                                   \"bok_boven\":\"hoogtebinnenonderkantbovenstrooms\",\n",
    "                                                   \"vorm\":\"vormcode\"})\n",
    "\n",
    "gdf = gpd.GeoDataFrame(pd.concat([culverts_gdf,siphons_gdf], ignore_index=True))\n",
    "\n",
    "gdf.loc[gdf['vormcode'].isnull(), 'vormcode'] = 'onbekend'\n",
    "gdf.loc[:, 'vormcode'] = gdf.apply((lambda x: vorm_mapping[x['vormcode'].lower()]), axis=1)\n",
    "\n",
    "gdf[\"intreeverlies\"] = 0.7\n",
    "gdf[\"uittreeverlies\"] = 0.7\n",
    "gdf[\"ruwheidswaarde\"] = 70\n",
    "gdf[\"ruwheidstypecode\"] = 4\n",
    "\n",
    "hydamo.culverts.set_data(gdf, index_col=\"code\", check_columns=True, check_geotype=True)\n",
    "hydamo.culverts.snap_to_branch(hydamo.branches, snap_method=\"ends\", maxdist=5)\n",
    "hydamo.culverts.dropna(axis=0, inplace=True, subset=[\"branch_offset\"])\n",
    "\n",
    "hydamo.culverts.loc[hydamo.culverts[\"lengte\"].isna(), \"lengte\"] = 20"
   ]
  },
  {
   "cell_type": "markdown",
   "metadata": {},
   "source": [
    "### Toevoegen stuwen"
   ]
  },
  {
   "cell_type": "code",
   "execution_count": 10,
   "metadata": {},
   "outputs": [],
   "source": [
    "gdf = hydrotools.read_file(beheerregister.joinpath(invoerbestanden[\"stuwen\"]),\n",
    "                           \"weirs\",\n",
    "                           column_mapping={\"kstident\": \"code\",\n",
    "                                           \"kstsoort\": \"soortstuwcode\",\n",
    "                                           \"kstkrubr\": \"laagstedoorstroombreedte\",\n",
    "                                           \"kstmikho\": \"laagstedoorstroomhoogte\",\n",
    "                                           \"kstregel\": \"soortregelbaarheidcode\"})\n",
    "\n",
    "gdf[\"afvoercoefficient\"] = 1\n",
    "\n",
    "hydamo.weirs.set_data(gdf, index_col=\"code\", check_columns=True, check_geotype=True)\n",
    "hydamo.weirs.snap_to_branch(hydamo.branches, snap_method=\"overal\", maxdist=10)\n",
    "hydamo.weirs.dropna(axis=0, inplace=True, subset=[\"branch_offset\"])"
   ]
  },
  {
   "cell_type": "markdown",
   "metadata": {},
   "source": [
    "### Toevoegen gemalen"
   ]
  },
  {
   "cell_type": "code",
   "execution_count": 11,
   "metadata": {},
   "outputs": [],
   "source": [
    "pumps_gdf = hydrotools.read_file(beheerregister.joinpath(invoerbestanden[\"gemalen\"]),\n",
    "                                 \"pumps\",\n",
    "                                 column_mapping={\"gecom_max_\": \"maximalecapaciteit\"})\n",
    "\n",
    "gemalen_gdf = pumps_gdf.copy()\n",
    "pumps_gdf[\"codegerelateerdobject\"] = pumps_gdf[\"code\"].copy()\n",
    "pumps_gdf[\"code\"] = [f\"PMP_{code}\" for code in pumps_gdf[\"code\"]]\n",
    "hydamo.gemalen.set_data(gemalen_gdf,\n",
    "                        index_col=\"code\",\n",
    "                        check_columns=True,\n",
    "                        check_geotype=True)\n",
    "hydamo.gemalen.snap_to_branch(hydamo.branches, snap_method=\"overal\", maxdist=5)\n",
    "hydamo.gemalen.dropna(axis=0, inplace=True, subset=[\"branch_offset\"])\n",
    "hydamo.pumps.set_data(pumps_gdf,\n",
    "                      index_col=\"code\",\n",
    "                      check_columns=True,\n",
    "                      check_geotype=True)\n",
    "hydamo.pumps.snap_to_branch(hydamo.branches, snap_method=\"overal\", maxdist=5)\n",
    "hydamo.pumps.dropna(axis=0, inplace=True, subset=[\"branch_offset\"])"
   ]
  },
  {
   "cell_type": "markdown",
   "metadata": {},
   "source": [
    "### Toevoegen afsluitmiddelen"
   ]
  },
  {
   "cell_type": "code",
   "execution_count": 12,
   "metadata": {},
   "outputs": [],
   "source": [
    "gdf = pd.DataFrame({\"code\": [],\n",
    "                    \"soortafsluitmiddelcode\": [],\n",
    "                    \"codegerelateerdobject\": []})\n",
    "\n",
    "hydamo.afsluitmiddel.set_data(gdf, index_col=\"code\")"
   ]
  },
  {
   "cell_type": "markdown",
   "metadata": {},
   "source": [
    "### Toevoegen sturing"
   ]
  },
  {
   "cell_type": "code",
   "execution_count": 13,
   "metadata": {},
   "outputs": [],
   "source": [
    "gpg_gdf = hydrotools.read_file(beheerregister.joinpath(invoerbestanden[\"peilgebieden\"]),\n",
    "                                 \"sturing\",\n",
    "                                 column_mapping={\"GPGIDENT\": \"code\",\n",
    "                                                 \"OPVAFWZP\": \"streefwaarde\"\n",
    "                                                 })\n",
    "\n",
    "gpg_gdf[\"codegerelateerdobject\"] = [code.replace(\"GPG\", \"\") for code in gpg_gdf[\"code\"]]\n",
    "gpg_gdf = gpg_gdf[gpg_gdf[\"codegerelateerdobject\"].isin(hydamo.gemalen[\"code\"])]\n",
    "con_gdf = hydamo.gemalen[~hydamo.gemalen[\"code\"].isin(gpg_gdf[\"codegerelateerdobject\"])]\n",
    "con_gdf = gpd.GeoDataFrame(data={\"code\": con_gdf[\"code\"].values,\n",
    "                                 \"geometry\": con_gdf[\"geometry\"].values})\n",
    "con_gdf[\"codegerelateerdobject\"] = con_gdf[\"code\"]\n",
    "con_gdf[\"streefwaarde\"] = -999\n",
    "\n",
    "gdf = gpd.GeoDataFrame(pd.concat([gpg_gdf, con_gdf], ignore_index=True))\n",
    "\n",
    "gdf[\"bovenmarge\"] = gdf[\"streefwaarde\"] + 0.05\n",
    "gdf[\"ondermarge\"] = gdf[\"streefwaarde\"] - 0.05\n",
    "gdf[\"doelvariabelecode\"] = 1\n",
    "\n",
    "hydamo.sturing.set_data(gdf, index_col=\"code\")"
   ]
  },
  {
   "cell_type": "markdown",
   "metadata": {},
   "source": [
    "### Filteren\n",
    "\n",
    "Alle branches die niet bij \"Boezemmodel_v4\" gooien we uit het model. Idem voor alle kunstwerken + profielen die naar deze branches zijn gesnapped. Om het resultaat te beoordelen exporteren we alles naar shape-files. We slaan het hydamo object ook op als \"pickle\", zodat we bovenstaande stappen niet elke keer hoeven te herhalen"
   ]
  },
  {
   "cell_type": "code",
   "execution_count": 14,
   "metadata": {},
   "outputs": [],
   "source": [
    "hydrotools.export_shapes(hydamo, path=Path(r\"./hydamo_shp/boezemmodel_v4\"))\n",
    "hydrotools.save_model(hydamo, file_name=Path(r\"./hydamo_model/boezemmodel_v4.pickle\"))\n"
   ]
  },
  {
   "cell_type": "markdown",
   "metadata": {},
   "source": [
    "## Converteren naar DFM\n",
    "\n",
    "### Aanmaken dfm-klasse"
   ]
  },
  {
   "cell_type": "code",
   "execution_count": 15,
   "metadata": {},
   "outputs": [],
   "source": [
    "dfmmodel = DFlowFMModel()"
   ]
  },
  {
   "cell_type": "markdown",
   "metadata": {},
   "source": [
    "### Inlezen kunstwerken"
   ]
  },
  {
   "cell_type": "code",
   "execution_count": 16,
   "metadata": {},
   "outputs": [
    {
     "name": "stdout",
     "output_type": "stream",
     "text": [
      "2021-02-25 22:32:09,541 - delft3dfmpy.converters.hydamo_to_dflowfm - hydamo_to_dflowfm - INFO - Currently only simple weirs can be applied. From Hydamo the attributes 'laagstedoorstroomhoogte' and 'kruinbreedte' are used to define the weir dimensions.\n"
     ]
    }
   ],
   "source": [
    "dfmmodel.structures.io.weirs_from_hydamo(hydamo.weirs,\n",
    "                                         yz_profiles=hydamo.crosssections,\n",
    "                                         parametrised_profiles=hydamo.parametrised_profiles)\n",
    "\n",
    "dfmmodel.structures.io.culverts_from_hydamo(hydamo.culverts,\n",
    "                                            hydamo.afsluitmiddel)\n",
    "\n",
    "dfmmodel.structures.io.bridges_from_hydamo(hydamo.bridges,\n",
    "                                           yz_profiles=hydamo.crosssections,\n",
    "                                           parametrised_profiles=hydamo.parametrised_profiles)\n",
    "\n",
    "dfmmodel.structures.io.orifices_from_hydamo(hydamo.orifices)\n",
    "\n",
    "dfmmodel.structures.io.pumps_from_hydamo(pompen=hydamo.pumps,\n",
    "                                         sturing=hydamo.sturing,\n",
    "                                         gemalen=hydamo.gemalen)"
   ]
  },
  {
   "cell_type": "markdown",
   "metadata": {},
   "source": [
    "### Aanmaken 1d netwerk"
   ]
  },
  {
   "cell_type": "code",
   "execution_count": 17,
   "metadata": {},
   "outputs": [
    {
     "name": "stdout",
     "output_type": "stream",
     "text": [
      "2021-02-25 22:32:12,001 - delft3dfmpy.core.dfm - dfm - WARNING - Some structures are not linked to a branch.\n",
      "2021-02-25 22:32:12,006 - delft3dfmpy.core.dfm - dfm - INFO - Added 1d mesh nodes on branch OAF000010 at: [0.0, 691.94, 1642.4933902054406], due to the structures at [-0.001, 671.552, 712.328, 1163.135, 1539.892, 1642.4943902054406].\n",
      "2021-02-25 22:32:12,009 - delft3dfmpy.core.dfm - dfm - INFO - Added 1d mesh nodes on branch OAF000017 at: [0.0, 506.58549999999997, 522.864, 971.4883654003871], due to the structures at [-0.001, 25.63, 498.27, 514.901, 530.827, 971.4893654003871].\n",
      "2021-02-25 22:32:12,021 - delft3dfmpy.core.dfm - dfm - INFO - Added 1d mesh nodes on branch OAF000118 at: [0.0, 6.069, 1220.3091726956434], due to the structures at [-0.001, 0.1, 12.038, 1220.3101726956434].\n",
      "2021-02-25 22:32:12,026 - delft3dfmpy.core.dfm - dfm - INFO - Added 1d mesh nodes on branch OAF000198 at: [0.0, 662.9685, 687.5405, 712.5396643085704], due to the structures at [-0.001, 0.581, 363.777, 650.791, 675.146, 699.935, 712.5406643085704].\n",
      "2021-02-25 22:32:12,030 - delft3dfmpy.core.dfm - dfm - INFO - Added 1d mesh nodes on branch OAF000211 at: [0.0, 216.9435, 224.881, 235.7845, 241.2600977488463], due to the structures at [-0.001, 215.157, 218.73, 231.032, 240.537, 241.2610977488463].\n",
      "2021-02-25 22:32:12,033 - delft3dfmpy.core.dfm - dfm - INFO - Added 1d mesh nodes on branch OAF000225 at: [0.0, 479.00399999999996, 524.808, 901.6330332283507], due to the structures at [-0.001, 433.256, 524.752, 524.864, 901.6340332283506].\n",
      "2021-02-25 22:32:12,036 - delft3dfmpy.core.dfm - dfm - INFO - Added 1d mesh nodes on branch OAF000238 at: [0.0, 419.3035, 709.8441449878916], due to the structures at [-0.001, 414.58, 424.027, 709.8451449878916].\n",
      "2021-02-25 22:32:12,042 - delft3dfmpy.core.dfm - dfm - INFO - Added 1d mesh nodes on branch OAF000279 at: [0.0, 7.752, 181.13779285391954], due to the structures at [-0.001, 0.1, 15.404, 181.13879285391954].\n",
      "2021-02-25 22:32:12,045 - delft3dfmpy.core.dfm - dfm - INFO - Added 1d mesh nodes on branch OAF000281 at: [0.0, 772.3695, 849.6228279696575], due to the structures at [-0.001, 321.182, 772.321, 772.418, 849.6238279696574].\n",
      "2021-02-25 22:32:12,059 - delft3dfmpy.core.dfm - dfm - INFO - Added 1d mesh nodes on branch OAF000494 at: [0.0, 40.601, 103.154, 141.216, 199.334, 366.126, 517.109, 579.6005, 649.0364999999999, 685.625, 736.38, 786.4423733018544], due to the structures at [-0.001, 0.5, 80.702, 125.606, 156.826, 241.842, 338.468, 393.784, 490.151, 544.067, 615.134, 682.939, 688.311, 784.449, 786.4433733018544].\n",
      "2021-02-25 22:32:12,064 - delft3dfmpy.core.dfm - dfm - INFO - Added 1d mesh nodes on branch OAF000525 at: [0.0, 32.509, 68.694, 138.5088655214278], due to the structures at [-0.001, 0.1, 64.918, 72.47, 138.5098655214278].\n",
      "2021-02-25 22:32:12,068 - delft3dfmpy.core.dfm - dfm - INFO - Added 1d mesh nodes on branch OAF000532 at: [0.0, 4.539499999999999, 307.45050000000003, 352.659, 397.632, 418.0645, 442.71450000000004, 454.51412079689914], due to the structures at [-0.001, 0.764, 8.315, 180.323, 305.58, 309.321, 395.997, 399.267, 436.862, 448.567, 454.5151207968991].\n",
      "2021-02-25 22:32:12,073 - delft3dfmpy.core.dfm - dfm - INFO - Added 1d mesh nodes on branch OAF000570 at: [0.0, 164.05599999999998, 195.989, 240.864, 285.523, 529.3855407576715], due to the structures at [-0.001, 132.357, 195.755, 196.223, 285.505, 285.541, 529.3865407576715].\n",
      "2021-02-25 22:32:12,075 - delft3dfmpy.core.dfm - dfm - INFO - Added 1d mesh nodes on branch OAF000603 at: [0.0, 207.4545, 227.21174367409324], due to the structures at [-0.001, 191.286, 223.623, 227.21274367409325].\n",
      "2021-02-25 22:32:12,079 - delft3dfmpy.core.dfm - dfm - INFO - Added 1d mesh nodes on branch OAF000608 at: [0.0, 59.433499999999995, 130.5865, 163.78300000000002, 191.26850000000002, 1177.7512595417186], due to the structures at [-0.001, 8.422, 110.445, 150.728, 176.838, 205.699, 372.264, 1177.7522595417186].\n",
      "2021-02-25 22:32:12,086 - delft3dfmpy.core.dfm - dfm - INFO - Added 1d mesh nodes on branch OAF000656 at: [0.0, 206.7345, 214.50377727101835], due to the structures at [-0.001, 0.1, 200.09, 213.379, 214.50477727101836].\n",
      "2021-02-25 22:32:12,093 - delft3dfmpy.core.dfm - dfm - INFO - Added 1d mesh nodes on branch OAF000708 at: [0.0, 59.57, 122.37074813862378], due to the structures at [-0.001, 4.121, 115.019, 122.37174813862379].\n",
      "2021-02-25 22:32:12,101 - delft3dfmpy.core.dfm - dfm - INFO - Added 1d mesh nodes on branch OAF000736 at: [0.0, 1705.7984999999999, 1757.897919918422], due to the structures at [-0.001, 970.621, 1269.885, 1580.299, 1665.66, 1745.937, 1757.898919918422].\n",
      "2021-02-25 22:32:12,108 - delft3dfmpy.core.dfm - dfm - INFO - Added 1d mesh nodes on branch OAF000821 at: [0.0, 410.3185, 1013.4744452431332], due to the structures at [-0.001, 406.988, 413.649, 1013.4754452431332].\n",
      "2021-02-25 22:32:12,116 - delft3dfmpy.core.dfm - dfm - INFO - Added 1d mesh nodes on branch OAF000865 at: [0.0, 42.818999999999996, 216.96136080305254], due to the structures at [-0.001, 0.1, 85.538, 216.96236080305255].\n",
      "2021-02-25 22:32:12,126 - delft3dfmpy.core.dfm - dfm - INFO - Added 1d mesh nodes on branch OAF000954 at: [0.0, 35.952, 420.3588907370588], due to the structures at [-0.001, 0.1, 71.804, 349.62, 420.3598907370588].\n",
      "2021-02-25 22:32:12,128 - delft3dfmpy.core.dfm - dfm - INFO - Added 1d mesh nodes on branch OAF000968 at: [0.0, 322.658, 348.4435, 380.07500000000005, 417.1973356293585], due to the structures at [-0.001, 314.839, 330.477, 366.41, 393.74, 417.1983356293585].\n",
      "2021-02-25 22:32:12,132 - delft3dfmpy.core.dfm - dfm - INFO - Added 1d mesh nodes on branch OAF000991 at: [0.0, 501.401, 504.605, 508.31002087104315], due to the structures at [-0.001, 206.624, 501.185, 501.617, 507.593, 508.3110208710431].\n",
      "2021-02-25 22:32:12,135 - delft3dfmpy.core.dfm - dfm - INFO - Added 1d mesh nodes on branch OAF001002 at: [0.0, 44.1515, 399.66310022646917], due to the structures at [-0.001, 0.1, 88.203, 381.787, 399.66410022646915].\n",
      "2021-02-25 22:32:12,140 - delft3dfmpy.core.dfm - dfm - INFO - Added 1d mesh nodes on branch OAF001078 at: [0.0, 400.86850000000004, 420.45252122547896], due to the structures at [-0.001, 389.699, 412.038, 420.45352122547894].\n",
      "2021-02-25 22:32:12,150 - delft3dfmpy.core.dfm - dfm - INFO - Added 1d mesh nodes on branch OAF001131 at: [0.0, 35.701499999999996, 347.4619213986779], due to the structures at [-0.001, 0.1, 71.303, 140.912, 347.36192139867785, 347.46292139867785].\n",
      "2021-02-25 22:32:12,153 - delft3dfmpy.core.dfm - dfm - INFO - Added 1d mesh nodes on branch OAF001148 at: [0.0, 6.5035, 63.089999999999996, 135.06799999999998, 159.0447845704711], due to the structures at [-0.001, 0.1, 12.907, 113.273, 156.863, 159.0457845704711].\n",
      "2021-02-25 22:32:12,159 - delft3dfmpy.core.dfm - dfm - INFO - Added 1d mesh nodes on branch OAF001202 at: [0.0, 10.089500000000001, 835.4692041881633], due to the structures at [-0.001, 0.1, 20.079, 417.175, 835.4702041881633].\n",
      "2021-02-25 22:32:12,162 - delft3dfmpy.core.dfm - dfm - INFO - Added 1d mesh nodes on branch OAF001215 at: [0.0, 24.2585, 235.7471506027318], due to the structures at [-0.001, 0.1, 48.417, 235.7481506027318].\n",
      "2021-02-25 22:32:12,165 - delft3dfmpy.core.dfm - dfm - INFO - Added 1d mesh nodes on branch OAF001230 at: [0.0, 8.296000000000001, 123.85239064182957], due to the structures at [-0.001, 0.1, 16.492, 123.85339064182958].\n",
      "2021-02-25 22:32:12,167 - delft3dfmpy.core.dfm - dfm - INFO - Added 1d mesh nodes on branch OAF001243 at: [0.0, 8.9465, 254.48983430893315], due to the structures at [-0.001, 1.174, 16.719, 254.49083430893316].\n",
      "2021-02-25 22:32:12,173 - delft3dfmpy.core.dfm - dfm - INFO - Added 1d mesh nodes on branch OAF001311 at: [0.0, 284.3805, 320.9585, 380.264, 554.1189999999999, 761.9222100510011], due to the structures at [-0.001, 258.838, 309.923, 331.994, 428.534, 550.352, 557.886, 761.511, 761.9232100510011].\n",
      "2021-02-25 22:32:12,175 - delft3dfmpy.core.dfm - dfm - INFO - Added 1d mesh nodes on branch OAF001322 at: [0.0, 542.001, 552.2864999999999, 658.5778549610773], due to the structures at [-0.001, 192.531, 310.481, 532.213, 551.789, 552.784, 658.5788549610772].\n",
      "2021-02-25 22:32:12,177 - delft3dfmpy.core.dfm - dfm - INFO - Added 1d mesh nodes on branch OAF001323 at: [0.0, 40.747, 258.36240007383265], due to the structures at [-0.001, 0.1, 81.394, 258.3634000738326].\n"
     ]
    },
    {
     "name": "stdout",
     "output_type": "stream",
     "text": [
      "2021-02-25 22:32:12,183 - delft3dfmpy.core.dfm - dfm - INFO - Added 1d mesh nodes on branch OAF001387 at: [0.0, 6.8325, 623.2646597548901], due to the structures at [-0.001, 0.1, 13.565, 623.1646597548901, 623.2656597548901].\n",
      "2021-02-25 22:32:12,187 - delft3dfmpy.core.dfm - dfm - INFO - Added 1d mesh nodes on branch OAF001460 at: [0.0, 237.6645, 289.8665, 369.35670479819925], due to the structures at [-0.001, 225.959, 249.37, 330.363, 369.3577047981992].\n",
      "2021-02-25 22:32:12,190 - delft3dfmpy.core.dfm - dfm - INFO - Added 1d mesh nodes on branch OAF001493 at: [0.0, 827.081, 843.7500297007324], due to the structures at [-0.001, 292.981, 823.096, 831.066, 843.7510297007324].\n",
      "2021-02-25 22:32:12,200 - delft3dfmpy.core.dfm - dfm - INFO - Added 1d mesh nodes on branch OAF001567 at: [0.0, 298.3915, 319.74350000000004, 355.1155, 398.4674689694366], due to the structures at [-0.001, 146.245, 295.019, 301.764, 337.723, 372.508, 398.46846896943657].\n",
      "2021-02-25 22:32:12,203 - delft3dfmpy.core.dfm - dfm - INFO - Added 1d mesh nodes on branch OAF001587 at: [0.0, 359.6675, 366.0693148809797], due to the structures at [-0.001, 356.084, 363.251, 366.07031488097965].\n",
      "2021-02-25 22:32:12,206 - delft3dfmpy.core.dfm - dfm - INFO - Added 1d mesh nodes on branch OAF001600 at: [0.0, 271.1685, 1123.769535563856], due to the structures at [-0.001, 240.622, 301.715, 482.629, 1123.770535563856].\n",
      "2021-02-25 22:32:12,210 - delft3dfmpy.core.dfm - dfm - INFO - Added 1d mesh nodes on branch OAF001654 at: [0.0, 4.208, 379.1346054243062], due to the structures at [-0.001, 1.188, 7.228, 379.13560542430616].\n",
      "2021-02-25 22:32:12,215 - delft3dfmpy.core.dfm - dfm - INFO - Added 1d mesh nodes on branch OAF001720 at: [0.0, 16.418, 59.008, 143.2265, 190.082, 249.656, 419.873580129876], due to the structures at [-0.001, 16.344, 16.492, 101.524, 184.929, 195.235, 304.077, 419.874580129876].\n",
      "2021-02-25 22:32:12,219 - delft3dfmpy.core.dfm - dfm - INFO - Added 1d mesh nodes on branch OAF001765 at: [0.0, 575.5495000000001, 991.9378893923074], due to the structures at [-0.001, 570.219, 580.88, 991.9388893923074].\n",
      "2021-02-25 22:32:12,227 - delft3dfmpy.core.dfm - dfm - INFO - Added 1d mesh nodes on branch OAF001831 at: [0.0, 19.445, 37.1845, 82.5115, 131.635, 692.8557498917347], due to the structures at [-0.001, 2.055, 36.835, 37.534, 127.489, 135.781, 490.468, 536.709, 692.7557498917347, 692.8567498917347].\n",
      "2021-02-25 22:32:12,231 - delft3dfmpy.core.dfm - dfm - INFO - Added 1d mesh nodes on branch OAF001856 at: [0.0, 9.192, 278.4815800497365], due to the structures at [-0.001, 6.568, 11.816, 278.4825800497365].\n",
      "2021-02-25 22:32:12,237 - delft3dfmpy.core.dfm - dfm - INFO - Added 1d mesh nodes on branch OAF001991 at: [0.0, 805.101, 1040.656823913581], due to the structures at [-0.001, 15.485, 804.887, 805.315, 1040.657823913581].\n",
      "2021-02-25 22:32:12,239 - delft3dfmpy.core.dfm - dfm - INFO - Added 1d mesh nodes on branch OAF001998 at: [0.0, 959.1495, 1266.3563318554825], due to the structures at [-0.001, 0.1, 956.543, 961.756, 1266.3573318554825].\n",
      "2021-02-25 22:32:12,243 - delft3dfmpy.core.dfm - dfm - INFO - Added 1d mesh nodes on branch OAF002011 at: [0.0, 42.3035, 111.197, 534.6026319005675], due to the structures at [-0.001, 0.1, 84.507, 137.887, 285.11, 367.107, 534.6036319005675].\n",
      "2021-02-25 22:32:12,247 - delft3dfmpy.core.dfm - dfm - INFO - Added 1d mesh nodes on branch OAF002026 at: [0.0, 8.515, 76.9258489886574], due to the structures at [-0.001, 0.1, 16.93, 76.92684898865741].\n",
      "2021-02-25 22:32:12,250 - delft3dfmpy.core.dfm - dfm - INFO - Added 1d mesh nodes on branch OAF002052 at: [0.0, 794.544, 816.8498072456608], due to the structures at [-0.001, 791.558, 797.53, 816.8508072456608].\n",
      "2021-02-25 22:32:12,252 - delft3dfmpy.core.dfm - dfm - WARNING - Structures KDU022690, KDU012505 have the same location.\n",
      "2021-02-25 22:32:12,254 - delft3dfmpy.core.dfm - dfm - INFO - Added 1d mesh nodes on branch OAF002060 at: [0.0, 605.992, 648.1133047223738], due to the structures at [-0.001, 570.499, 641.485, 648.1143047223737].\n",
      "2021-02-25 22:32:12,259 - delft3dfmpy.core.dfm - dfm - INFO - Added 1d mesh nodes on branch OAF002087 at: [0.0, 254.356, 287.5135, 312.4995, 325.2137545184217], due to the structures at [-0.001, 78.725, 234.845, 273.867, 301.16, 323.839, 325.21475451842167].\n",
      "2021-02-25 22:32:12,263 - delft3dfmpy.core.dfm - dfm - WARNING - Structures KST0338, KST1044 have the same location.\n",
      "2021-02-25 22:32:12,265 - delft3dfmpy.core.dfm - dfm - INFO - Added 1d mesh nodes on branch OAF002125 at: [0.0, 11.654, 792.9720827694708], due to the structures at [-0.001, 0.1, 23.208, 792.9730827694708].\n",
      "2021-02-25 22:32:12,271 - delft3dfmpy.core.dfm - dfm - INFO - Added 1d mesh nodes on branch OAF002189 at: [0.0, 342.908, 806.062556068278], due to the structures at [-0.001, 314.705, 371.111, 806.063556068278].\n",
      "2021-02-25 22:32:12,274 - delft3dfmpy.core.dfm - dfm - INFO - Added 1d mesh nodes on branch OAF002221 at: [0.0, 6.302, 18.891, 180.7996291477335], due to the structures at [-0.001, 0.1, 12.504, 25.278, 180.6996291477335, 180.8006291477335].\n",
      "2021-02-25 22:32:12,284 - delft3dfmpy.core.dfm - dfm - INFO - Added 1d mesh nodes on branch OAF002310 at: [0.0, 154.739, 160.98250000000002, 992.7185, 1052.459, 1114.775, 1124.4063398337014], due to the structures at [-0.001, 154.458, 155.02, 166.945, 987.249, 998.188, 1106.73, 1122.82, 1124.4073398337014].\n",
      "2021-02-25 22:32:12,292 - delft3dfmpy.core.dfm - dfm - INFO - Added 1d mesh nodes on branch OAF002353 at: [0.0, 0.7835000000000001, 37.2405, 100.61850000000001, 130.575, 625.5515, 670.4125745004662], due to the structures at [-0.001, 0.1, 1.467, 73.014, 128.223, 132.927, 318.338, 366.228, 594.053, 657.05, 670.4135745004662].\n",
      "2021-02-25 22:32:12,295 - delft3dfmpy.core.dfm - dfm - INFO - Added 1d mesh nodes on branch OAF002369 at: [0.0, 1.3055, 11.022499999999999, 78.25998346067331, 137.08596692134662], due to the structures at [-0.001, 0.1, 2.511, 19.534, 136.98596692134663, 137.08696692134663].\n",
      "2021-02-25 22:32:12,301 - delft3dfmpy.core.dfm - dfm - INFO - Added 1d mesh nodes on branch OAF002430 at: [0.0, 145.69, 426.69792930681695], due to the structures at [-0.001, 125.288, 166.092, 426.6989293068169].\n",
      "2021-02-25 22:32:12,304 - delft3dfmpy.core.dfm - dfm - INFO - Added 1d mesh nodes on branch OAF002449 at: [0.0, 24.520500000000002, 330.42813673321007], due to the structures at [-0.001, 0.1, 48.941, 330.42913673321004].\n",
      "2021-02-25 22:32:12,305 - delft3dfmpy.core.dfm - dfm - INFO - Added 1d mesh nodes on branch OAF002450 at: [0.0, 1244.098, 1254.7734858427948], due to the structures at [-0.001, 6.941, 1239.174, 1249.022, 1254.7744858427948].\n",
      "2021-02-25 22:32:12,307 - delft3dfmpy.core.dfm - dfm - INFO - Added 1d mesh nodes on branch OAF002476 at: [0.0, 221.6155, 242.60500000000002, 447.0438299985233], due to the structures at [-0.001, 200.637, 242.594, 242.616, 445.521, 447.04482999852326].\n",
      "2021-02-25 22:32:12,309 - delft3dfmpy.core.dfm - dfm - INFO - Added 1d mesh nodes on branch OAF002479 at: [0.0, 489.1075, 643.1784706849639], due to the structures at [-0.001, 183.893, 483.6, 494.615, 643.1794706849639].\n",
      "2021-02-25 22:32:12,311 - delft3dfmpy.core.dfm - dfm - INFO - Added 1d mesh nodes on branch OAF002488 at: [0.0, 192.846, 212.08281526734666], due to the structures at [-0.001, 187.127, 198.565, 212.08381526734667].\n",
      "2021-02-25 22:32:12,315 - delft3dfmpy.core.dfm - dfm - INFO - Added 1d mesh nodes on branch OAF002505 at: [0.0, 913.629, 939.8114537020398], due to the structures at [-0.001, 327.138, 906.359, 920.899, 939.8124537020398].\n",
      "2021-02-25 22:32:12,321 - delft3dfmpy.core.dfm - dfm - INFO - Added 1d mesh nodes on branch OAF002586 at: [0.0, 204.79899999999998, 219.14171541729885], due to the structures at [-0.001, 14.76, 201.082, 208.516, 219.14271541729886].\n",
      "2021-02-25 22:32:12,324 - delft3dfmpy.core.dfm - dfm - INFO - Added 1d mesh nodes on branch OAF002644 at: [0.0, 72.952, 118.61169145475864], due to the structures at [-0.001, 66.049, 79.855, 118.61269145475865].\n",
      "2021-02-25 22:32:12,326 - delft3dfmpy.core.dfm - dfm - INFO - Added 1d mesh nodes on branch OAF002650 at: [0.0, 9.5125, 298.0293667408996, 316.25073348179916], due to the structures at [-0.001, 0.244, 18.781, 279.908, 316.15073348179914, 316.25173348179914].\n"
     ]
    },
    {
     "name": "stdout",
     "output_type": "stream",
     "text": [
      "2021-02-25 22:32:12,331 - delft3dfmpy.core.dfm - dfm - INFO - Added 1d mesh nodes on branch OAF002683 at: [0.0, 316.0345, 322.79150000000004, 329.6585, 362.04449999999997, 929.9320316633184], due to the structures at [-0.001, 314.921, 317.148, 328.435, 330.882, 393.207, 929.9330316633184].\n",
      "2021-02-25 22:32:12,338 - delft3dfmpy.core.dfm - dfm - INFO - Added 1d mesh nodes on branch OAF002728 at: [0.0, 10.980500000000001, 38.71202945346879], due to the structures at [-0.001, 0.1, 21.861, 38.713029453468785].\n",
      "2021-02-25 22:32:12,343 - delft3dfmpy.core.dfm - dfm - INFO - Added 1d mesh nodes on branch OAF002820 at: [0.0, 1.9105, 592.6156206353999], due to the structures at [-0.001, 0.1, 3.721, 592.6166206353998].\n",
      "2021-02-25 22:32:12,345 - delft3dfmpy.core.dfm - dfm - INFO - Added 1d mesh nodes on branch OAF002834 at: [0.0, 271.9015, 399.40599717622445], due to the structures at [-0.001, 38.474, 269.919, 273.884, 399.4069971762244].\n",
      "2021-02-25 22:32:12,351 - delft3dfmpy.core.dfm - dfm - INFO - Added 1d mesh nodes on branch OAF002906 at: [0.0, 91.108, 496.884, 667.175455871097], due to the structures at [-0.001, 91.078, 91.138, 496.773, 496.995, 667.176455871097].\n",
      "2021-02-25 22:32:12,354 - delft3dfmpy.core.dfm - dfm - INFO - Added 1d mesh nodes on branch OAF002921 at: [0.0, 631.0685000000001, 646.288539560793], due to the structures at [-0.001, 163.276, 394.842, 626.749, 635.388, 646.289539560793].\n",
      "2021-02-25 22:32:12,362 - delft3dfmpy.core.dfm - dfm - INFO - Added 1d mesh nodes on branch OAF003063 at: [0.0, 13.0165, 512.1186048974606], due to the structures at [-0.001, 0.1, 25.933, 512.1196048974606].\n",
      "2021-02-25 22:32:12,365 - delft3dfmpy.core.dfm - dfm - INFO - Added 1d mesh nodes on branch OAF003096 at: [0.0, 254.69549999999998, 283.764, 825.8558171432509], due to the structures at [-0.001, 241.496, 267.895, 299.633, 798.196, 825.8568171432509].\n",
      "2021-02-25 22:32:12,371 - delft3dfmpy.core.dfm - dfm - INFO - Added 1d mesh nodes on branch OAF003183 at: [0.0, 14.509500000000001, 653.7486193214954], due to the structures at [-0.001, 0.1, 28.919, 653.7496193214954].\n",
      "2021-02-25 22:32:12,376 - delft3dfmpy.core.dfm - dfm - INFO - Added 1d mesh nodes on branch OAF003225 at: [0.0, 3.2504999999999997, 13.263, 292.2695, 699.4155000000001, 744.38619452971], due to the structures at [-0.001, 0.1, 6.401, 20.125, 288.836, 295.703, 429.235, 572.125, 669.838, 728.993, 744.38719452971].\n",
      "2021-02-25 22:32:12,381 - delft3dfmpy.core.dfm - dfm - INFO - Added 1d mesh nodes on branch OAF003261 at: [0.0, 279.014, 535.9214729600785], due to the structures at [-0.001, 247.7, 310.328, 535.9224729600785].\n",
      "2021-02-25 22:32:12,388 - delft3dfmpy.core.dfm - dfm - INFO - Added 1d mesh nodes on branch OAF003337 at: [0.0, 493.884, 536.6975315858697], due to the structures at [-0.001, 488.447, 499.321, 536.6985315858697].\n",
      "2021-02-25 22:32:12,392 - delft3dfmpy.core.dfm - dfm - INFO - Added 1d mesh nodes on branch OAF003378 at: [0.0, 134.026, 591.3013034524442], due to the structures at [-0.001, 102.292, 165.76, 262.818, 356.627, 425.73, 591.3023034524442].\n",
      "2021-02-25 22:32:12,394 - delft3dfmpy.core.dfm - dfm - INFO - Added 1d mesh nodes on branch OAF003389 at: [0.0, 283.47299999999996, 544.5505, 582.5518647910473], due to the structures at [-0.001, 274.729, 292.217, 509.174, 579.927, 582.5528647910472].\n",
      "2021-02-25 22:32:12,396 - delft3dfmpy.core.dfm - dfm - INFO - Added 1d mesh nodes on branch OAF003394 at: [0.0, 1138.879, 2177.2703790999403], due to the structures at [-0.001, 90.827, 1100.8, 1176.958, 1857.899, 2048.175, 2177.2713790999405].\n",
      "2021-02-25 22:32:12,400 - delft3dfmpy.core.dfm - dfm - INFO - Added 1d mesh nodes on branch OAF003421 at: [0.0, 742.3924999999999, 1286.2024237431363], due to the structures at [-0.001, 576.216, 728.836, 755.949, 1286.2034237431362].\n",
      "2021-02-25 22:32:12,405 - delft3dfmpy.core.dfm - dfm - INFO - Added 1d mesh nodes on branch OAF003455 at: [0.0, 18.732, 562.120566958206], due to the structures at [-0.001, 0.1, 37.364, 562.121566958206].\n",
      "2021-02-25 22:32:12,408 - delft3dfmpy.core.dfm - dfm - INFO - Added 1d mesh nodes on branch OAF003484 at: [0.0, 272.73749999999995, 1027.3205930602542], due to the structures at [-0.001, 269.143, 276.332, 1027.3215930602541].\n",
      "2021-02-25 22:32:12,411 - delft3dfmpy.core.dfm - dfm - INFO - Added 1d mesh nodes on branch OAF003524 at: [0.0, 105.65450000000001, 137.67450000000002, 175.4755, 213.01799999999997, 247.9135, 419.04831987390975], due to the structures at [-0.001, 78.128, 133.181, 142.168, 208.783, 217.253, 278.574, 419.0493198739097].\n",
      "2021-02-25 22:32:12,413 - delft3dfmpy.core.dfm - dfm - INFO - Added 1d mesh nodes on branch OAF003528 at: [0.0, 106.80586944712407, 117.95973889424813], due to the structures at [-0.001, 95.752, 117.85973889424814, 117.96073889424814].\n",
      "2021-02-25 22:32:12,421 - delft3dfmpy.core.dfm - dfm - INFO - Added 1d mesh nodes on branch OAF003635 at: [0.0, 264.4975, 311.693419626927], due to the structures at [-0.001, 117.153, 235.652, 293.343, 311.69441962692696].\n",
      "2021-02-25 22:32:12,427 - delft3dfmpy.core.dfm - dfm - INFO - Added 1d mesh nodes on branch OAF003705 at: [0.0, 160.9235, 202.242, 206.64591917469045], due to the structures at [-0.001, 0.1, 123.045, 198.802, 205.682, 206.64691917469045].\n",
      "2021-02-25 22:32:12,431 - delft3dfmpy.core.dfm - dfm - INFO - Added 1d mesh nodes on branch OAF003784 at: [0.0, 11.754000000000001, 103.24466087888749], due to the structures at [-0.001, 8.304, 15.204, 103.24566087888749].\n",
      "2021-02-25 22:32:12,436 - delft3dfmpy.core.dfm - dfm - INFO - Added 1d mesh nodes on branch OAF003834 at: [0.0, 24.5295, 599.8457094977464], due to the structures at [-0.001, 7.635, 41.424, 597.594, 599.8467094977464].\n",
      "2021-02-25 22:32:12,440 - delft3dfmpy.core.dfm - dfm - INFO - Added 1d mesh nodes on branch OAF003884 at: [0.0, 71.904, 138.673, 211.98250000000002, 277.534, 300.92600000000004, 331.1845, 340.7541244823169], due to the structures at [-0.001, 13.457, 130.351, 146.995, 276.97, 278.098, 323.754, 338.615, 340.7551244823169].\n",
      "2021-02-25 22:32:12,445 - delft3dfmpy.core.dfm - dfm - INFO - Added 1d mesh nodes on branch OAF003932 at: [0.0, 429.90999999999997, 473.98418319074585], due to the structures at [-0.001, 414.65, 445.17, 473.98518319074583].\n",
      "2021-02-25 22:32:12,451 - delft3dfmpy.core.dfm - dfm - INFO - Added 1d mesh nodes on branch OAF003991 at: [0.0, 935.0550000000001, 4128.365679052618], due to the structures at [-0.001, 296.178, 925.164, 944.946, 1453.006, 1627.79, 1814.113, 2725.914, 4128.366679052619].\n",
      "2021-02-25 22:32:12,457 - delft3dfmpy.core.dfm - dfm - INFO - Added 1d mesh nodes on branch OAF004038 at: [0.0, 628.7135000000001, 893.9934348935511], due to the structures at [-0.001, 25.946, 518.982, 627.899, 629.528, 879.726, 893.9944348935511].\n",
      "2021-02-25 22:32:12,459 - delft3dfmpy.core.dfm - dfm - INFO - Added 1d mesh nodes on branch OAF004066 at: [0.0, 51.1745, 107.4935096705922], due to the structures at [-0.001, 0.146, 102.203, 107.49450967059221].\n",
      "2021-02-25 22:32:12,468 - delft3dfmpy.core.dfm - dfm - INFO - Added 1d mesh nodes on branch OAF004170 at: [0.0, 1.602, 367.36473779370726], due to the structures at [-0.001, 0.1, 3.104, 150.527, 367.36573779370724].\n",
      "2021-02-25 22:32:12,472 - delft3dfmpy.core.dfm - dfm - INFO - Added 1d mesh nodes on branch OAF004216 at: [0.0, 288.17499999999995, 327.628, 367.032, 464.5828056555707], due to the structures at [-0.001, 286.739, 289.611, 365.645, 368.419, 464.5838056555707].\n",
      "2021-02-25 22:32:12,476 - delft3dfmpy.core.dfm - dfm - INFO - Added 1d mesh nodes on branch OAF004279 at: [0.0, 281.1805, 292.1310125852399], due to the structures at [-0.001, 172.857, 273.464, 288.897, 292.13201258523986].\n",
      "2021-02-25 22:32:12,481 - delft3dfmpy.core.dfm - dfm - INFO - Added 1d mesh nodes on branch OAF004345 at: [0.0, 38.101, 77.8215, 111.292, 282.0042503960714], due to the structures at [-0.001, 0.1, 76.102, 79.541, 143.043, 282.0052503960714].\n",
      "2021-02-25 22:32:12,486 - delft3dfmpy.core.dfm - dfm - INFO - Added 1d mesh nodes on branch OAF004380 at: [0.0, 229.8545, 241.31726949857457], due to the structures at [-0.001, 35.98, 225.552, 234.157, 241.31826949857458].\n",
      "2021-02-25 22:32:12,491 - delft3dfmpy.core.dfm - dfm - INFO - Added 1d mesh nodes on branch OAF004475 at: [0.0, 14.896, 170.79464277314977], due to the structures at [-0.001, 0.1, 29.692, 170.79564277314978].\n"
     ]
    },
    {
     "name": "stdout",
     "output_type": "stream",
     "text": [
      "2021-02-25 22:32:12,498 - delft3dfmpy.core.dfm - dfm - INFO - Added 1d mesh nodes on branch OAF004516 at: [0.0, 8.120000000000001, 24.117, 40.0375, 56.0055, 71.981, 87.906, 103.83099999999999, 119.7995, 135.875, 151.844, 193.59999214244925], due to the structures at [-0.001, 0.1, 16.14, 32.094, 47.981, 64.03, 79.932, 95.88, 111.782, 127.817, 143.933, 159.755, 193.60099214244926].\n",
      "2021-02-25 22:32:12,500 - delft3dfmpy.core.dfm - dfm - INFO - Added 1d mesh nodes on branch OAF004520 at: [0.0, 12.807, 314.19658569060636], due to the structures at [-0.001, 12.279, 13.335, 314.19758569060633].\n",
      "2021-02-25 22:32:12,502 - delft3dfmpy.core.dfm - dfm - INFO - Added 1d mesh nodes on branch OAF004525 at: [0.0, 254.77300000000002, 302.7180258495953], due to the structures at [-0.001, 247.388, 262.158, 302.71902584959525].\n",
      "2021-02-25 22:32:12,505 - delft3dfmpy.core.dfm - dfm - INFO - Added 1d mesh nodes on branch OAF004527 at: [0.0, 234.53750000000002, 653.2525740465761], due to the structures at [-0.001, 69.354, 203.407, 265.668, 392.509, 453.272, 653.2535740465761].\n",
      "2021-02-25 22:32:12,509 - delft3dfmpy.core.dfm - dfm - INFO - Added 1d mesh nodes on branch OAF004548 at: [0.0, 778.0709999999999, 790.1341119237057], due to the structures at [-0.001, 0.1, 776.924, 779.218, 790.1351119237057].\n",
      "2021-02-25 22:32:12,515 - delft3dfmpy.core.dfm - dfm - INFO - Added 1d mesh nodes on branch OAF004587 at: [0.0, 280.57550000000003, 1048.83803547766], due to the structures at [-0.001, 275.408, 285.743, 507.843, 1044.105, 1048.83903547766].\n",
      "2021-02-25 22:32:12,518 - delft3dfmpy.core.dfm - dfm - INFO - Added 1d mesh nodes on branch OAF004588 at: [0.0, 294.7646697708353, 330.7893395416707], due to the structures at [-0.001, 258.84, 330.6893395416707, 330.7903395416707].\n",
      "2021-02-25 22:32:12,525 - delft3dfmpy.core.dfm - dfm - INFO - Added 1d mesh nodes on branch OAF004658 at: [0.0, 72.958, 144.15658696002328], due to the structures at [-0.001, 21.173, 124.743, 144.15758696002328].\n",
      "2021-02-25 22:32:12,527 - delft3dfmpy.core.dfm - dfm - INFO - Added 1d mesh nodes on branch OAF004676 at: [0.0, 2.421, 255.91243908344418], due to the structures at [-0.001, 0.1, 4.742, 255.9134390834442].\n",
      "2021-02-25 22:32:12,531 - delft3dfmpy.core.dfm - dfm - INFO - Added 1d mesh nodes on branch OAF004717 at: [0.0, 340.501, 565.3661873179884], due to the structures at [-0.001, 309.703, 371.299, 565.3671873179884].\n",
      "2021-02-25 22:32:12,534 - delft3dfmpy.core.dfm - dfm - INFO - Added 1d mesh nodes on branch OAF004727 at: [0.0, 13.595500000000001, 299.8897202769436], due to the structures at [-0.001, 0.1, 27.091, 299.89072027694357].\n",
      "2021-02-25 22:32:12,537 - delft3dfmpy.core.dfm - dfm - INFO - Added 1d mesh nodes on branch OAF004728 at: [0.0, 953.692, 989.1335, 1047.8869738124065], due to the structures at [-0.001, 117.183, 943.309, 964.075, 1014.192, 1047.8879738124065].\n",
      "2021-02-25 22:32:12,542 - delft3dfmpy.core.dfm - dfm - INFO - Added 1d mesh nodes on branch OAF004753 at: [0.0, 377.5605, 392.613, 434.24659601988105], due to the structures at [-0.001, 2.937, 373.739, 381.382, 403.844, 434.24759601988103].\n",
      "2021-02-25 22:32:12,545 - delft3dfmpy.core.dfm - dfm - INFO - Added 1d mesh nodes on branch OAF004770 at: [0.0, 10.387, 35.82277103391736], due to the structures at [-0.001, 0.1, 20.674, 35.82377103391736].\n",
      "2021-02-25 22:32:12,552 - delft3dfmpy.core.dfm - dfm - INFO - Added 1d mesh nodes on branch OAF004809 at: [0.0, 234.7025, 552.576636774721], due to the structures at [-0.001, 230.4, 239.005, 552.577636774721].\n",
      "2021-02-25 22:32:12,561 - delft3dfmpy.core.dfm - dfm - INFO - Added 1d mesh nodes on branch OAF005010 at: [0.0, 380.4355, 875.8274129085987], due to the structures at [-0.001, 145.533, 373.828, 387.043, 824.401, 875.8284129085987].\n",
      "2021-02-25 22:32:12,567 - delft3dfmpy.core.dfm - dfm - INFO - Added 1d mesh nodes on branch OAF005015 at: [0.0, 1454.1755, 1603.0303012463132], due to the structures at [-0.001, 51.915, 1450.114, 1458.237, 1603.0313012463132].\n",
      "2021-02-25 22:32:12,569 - delft3dfmpy.core.dfm - dfm - INFO - Added 1d mesh nodes on branch OAF005017 at: [0.0, 282.7685, 872.3530646976778], due to the structures at [-0.001, 278.533, 287.004, 872.2530646976778, 872.3540646976778].\n",
      "2021-02-25 22:32:12,573 - delft3dfmpy.core.dfm - dfm - INFO - Added 1d mesh nodes on branch OAF005035 at: [0.0, 37.5025, 54.31888419066479, 55.815768381329576], due to the structures at [-0.001, 22.083, 52.922, 55.715768381329575, 55.816768381329574].\n",
      "2021-02-25 22:32:12,582 - delft3dfmpy.core.dfm - dfm - INFO - Added 1d mesh nodes on branch OAF005107 at: [0.0, 5.5805, 448.9955872904582], due to the structures at [-0.001, 0.1, 11.061, 448.9965872904582].\n",
      "2021-02-25 22:32:12,588 - delft3dfmpy.core.dfm - dfm - INFO - Added 1d mesh nodes on branch OAF005171 at: [0.0, 50.931, 163.16780104897566], due to the structures at [-0.001, 46.959, 54.903, 163.16880104897567].\n",
      "2021-02-25 22:32:12,599 - delft3dfmpy.core.dfm - dfm - INFO - Added 1d mesh nodes on branch OAF005185 at: [0.0, 52.512, 58.246, 63.723, 100.1565, 169.978, 209.67450000000002, 215.337, 254.00631793341142, 292.75563586682284], due to the structures at [-0.001, 51.589, 53.435, 63.057, 64.389, 135.924, 204.032, 215.317, 215.357, 292.6556358668228, 292.7566358668228].\n",
      "2021-02-25 22:32:12,601 - delft3dfmpy.core.dfm - dfm - INFO - Added 1d mesh nodes on branch OAF005189 at: [0.0, 24.845000000000002, 329.11879052857535], due to the structures at [-0.001, 0.1, 49.59, 139.565, 329.1197905285753].\n",
      "2021-02-25 22:32:12,604 - delft3dfmpy.core.dfm - dfm - INFO - Added 1d mesh nodes on branch OAF005200 at: [0.0, 28.7695, 513.0101351210646], due to the structures at [-0.001, 0.316, 57.223, 185.52, 306.95, 513.0111351210646].\n",
      "2021-02-25 22:32:12,606 - delft3dfmpy.core.dfm - dfm - INFO - Added 1d mesh nodes on branch OAF005204 at: [0.0, 2.5505, 561.0685466968607], due to the structures at [-0.001, 0.1, 5.001, 238.204, 561.0695466968607].\n",
      "2021-02-25 22:32:12,610 - delft3dfmpy.core.dfm - dfm - INFO - Added 1d mesh nodes on branch OAF005244 at: [0.0, 41.6615, 83.52272728815777], due to the structures at [-0.001, 0.1, 83.223, 83.52372728815777].\n",
      "2021-02-25 22:32:12,615 - delft3dfmpy.core.dfm - dfm - INFO - Added 1d mesh nodes on branch OAF005374 at: [0.0, 14.2165, 151.89811286742747], due to the structures at [-0.001, 0.1, 28.333, 151.89911286742748].\n",
      "2021-02-25 22:32:12,620 - delft3dfmpy.core.dfm - dfm - INFO - Added 1d mesh nodes on branch OAF005391 at: [0.0, 4.961, 8.6395, 11.6955, 14.6295, 17.3625, 45.38534545227026], due to the structures at [-0.001, 2.801, 7.121, 10.158, 13.233, 16.026, 18.699, 45.386345452270255].\n",
      "2021-02-25 22:32:12,625 - delft3dfmpy.core.dfm - dfm - INFO - Added 1d mesh nodes on branch OAF005524 at: [0.0, 567.135, 581.6716864722339, 594.2273729444677], due to the structures at [-0.001, 0.1, 565.054, 569.216, 594.1273729444677, 594.2283729444677].\n",
      "2021-02-25 22:32:12,629 - delft3dfmpy.core.dfm - dfm - INFO - Added 1d mesh nodes on branch OAF005552 at: [0.0, 8.118, 31.901410627072245], due to the structures at [-0.001, 0.1, 16.136, 31.902410627072246].\n",
      "2021-02-25 22:32:12,633 - delft3dfmpy.core.dfm - dfm - INFO - Added 1d mesh nodes on branch OAF005571 at: [0.0, 171.112, 174.547, 401.2216734891431], due to the structures at [-0.001, 169.795, 172.429, 176.665, 399.082, 401.22267348914306].\n",
      "2021-02-25 22:32:12,640 - delft3dfmpy.core.dfm - dfm - INFO - Added 1d mesh nodes on branch OAF005640 at: [0.0, 30.666999999999998, 196.1905, 228.84179309893926], due to the structures at [-0.001, 0.282, 61.052, 165.659, 226.722, 228.84279309893927].\n",
      "2021-02-25 22:32:12,643 - delft3dfmpy.core.dfm - dfm - INFO - Added 1d mesh nodes on branch OAF005652 at: [0.0, 2.9114999999999998, 32.542500000000004, 68.9455, 122.49122243788234, 166.55344487576468], due to the structures at [-0.001, 0.1, 5.723, 59.362, 78.529, 166.4534448757647, 166.5544448757647].\n",
      "2021-02-25 22:32:12,648 - delft3dfmpy.core.dfm - dfm - INFO - Added 1d mesh nodes on branch OAF005669 at: [0.0, 6.947, 15.028, 87.19046767302581], due to the structures at [-0.001, 0.1, 13.794, 16.262, 87.19146767302581].\n",
      "2021-02-25 22:32:12,650 - delft3dfmpy.core.dfm - dfm - INFO - Added 1d mesh nodes on branch OAF005671 at: [0.0, 37.2495, 150.853703965116], due to the structures at [-0.001, 0.1, 74.399, 150.85470396511602].\n"
     ]
    },
    {
     "name": "stdout",
     "output_type": "stream",
     "text": [
      "2021-02-25 22:32:12,655 - delft3dfmpy.core.dfm - dfm - INFO - Added 1d mesh nodes on branch OAF005696 at: [0.0, 25.454, 44.06007262813716], due to the structures at [-0.001, 17.027, 33.881, 44.06107262813716].\n",
      "2021-02-25 22:32:12,657 - delft3dfmpy.core.dfm - dfm - INFO - Added 1d mesh nodes on branch OAF005704 at: [0.0, 27.941000000000003, 57.04910165814357], due to the structures at [-0.001, 1.831, 54.051, 57.05010165814357].\n",
      "2021-02-25 22:32:12,662 - delft3dfmpy.core.dfm - dfm - INFO - Added 1d mesh nodes on branch OAF005812 at: [0.0, 624.1055, 636.3869427737824], due to the structures at [-0.001, 614.673, 633.538, 636.3879427737824].\n",
      "2021-02-25 22:32:12,665 - delft3dfmpy.core.dfm - dfm - INFO - Added 1d mesh nodes on branch OAF005828 at: [0.0, 1519.4855, 1540.0675, 1556.4765, 1834.6190299779007], due to the structures at [-0.001, 1228.832, 1508.698, 1530.273, 1549.862, 1563.091, 1834.6200299779007].\n",
      "2021-02-25 22:32:12,672 - delft3dfmpy.core.dfm - dfm - INFO - Added 1d mesh nodes on branch OAF005878 at: [0.0, 0.5725, 177.42000000000002, 182.7147628018492], due to the structures at [-0.001, 0.1, 1.045, 176.924, 177.916, 182.7157628018492].\n",
      "2021-02-25 22:32:12,683 - delft3dfmpy.core.dfm - dfm - INFO - Added 1d mesh nodes on branch OAF005977 at: [0.0, 4.255, 8.558630986618473], due to the structures at [-0.001, 0.1, 8.41, 8.559630986618473].\n",
      "2021-02-25 22:32:12,692 - delft3dfmpy.core.dfm - dfm - INFO - Added 1d mesh nodes on branch OAF006025 at: [0.0, 32.271, 890.068272738783], due to the structures at [-0.001, 27.062, 37.48, 881.01, 890.069272738783].\n",
      "2021-02-25 22:32:12,704 - delft3dfmpy.core.dfm - dfm - INFO - Added 1d mesh nodes on branch OAF006297 at: [0.0, 11.8505, 253.88070148160438], due to the structures at [-0.001, 1.82, 21.881, 253.88170148160438].\n",
      "2021-02-25 22:32:12,705 - delft3dfmpy.core.dfm - dfm - INFO - Added 1d mesh nodes on branch OAF006300 at: [0.0, 3.379, 102.84349743306578], due to the structures at [-0.001, 0.1, 6.658, 102.84449743306578].\n",
      "2021-02-25 22:32:12,711 - delft3dfmpy.core.dfm - dfm - INFO - Added 1d mesh nodes on branch OAF006412 at: [0.0, 95.458, 207.08791377332068], due to the structures at [-0.001, 90.306, 100.61, 207.08891377332068].\n",
      "2021-02-25 22:32:12,714 - delft3dfmpy.core.dfm - dfm - WARNING - Structures KDU010709, KST6542 have the same location.\n",
      "2021-02-25 22:32:12,716 - delft3dfmpy.core.dfm - dfm - INFO - Added 1d mesh nodes on branch OAF006482 at: [0.0, 42.942499999999995, 55.7841855106377], due to the structures at [-0.001, 36.507, 49.378, 55.785185510637696].\n",
      "2021-02-25 22:32:12,720 - delft3dfmpy.core.dfm - dfm - INFO - Added 1d mesh nodes on branch OAF006543 at: [0.0, 10.787, 31.506999999999998, 51.381, 75.1235, 99.49549999999999, 120.26849999999999, 140.9395, 161.497, 192.22693382828552], due to the structures at [-0.001, 0.1, 21.474, 41.54, 61.222, 89.025, 109.966, 130.571, 151.308, 171.686, 192.22793382828553].\n",
      "2021-02-25 22:32:12,732 - delft3dfmpy.core.dfm - dfm - INFO - Added 1d mesh nodes on branch OAF010009 at: [0.0, 259.613, 311.02750000000003, 556.6995, 579.357, 596.904, 622.9960000000001, 645.2840000000001, 655.715, 679.0440000000001, 702.8005, 714.0875000000001, 732.7565, 770.4645, 796.8338920375663], due to the structures at [-0.001, 240.084, 279.142, 342.913, 542.614, 570.785, 587.929, 605.879, 640.113, 650.455, 660.975, 697.113, 708.488, 719.687, 745.826, 795.103, 796.8348920375663].\n",
      "2021-02-25 22:32:12,735 - delft3dfmpy.core.dfm - dfm - INFO - Added 1d mesh nodes on branch OAF010011 at: [0.0, 371.6915, 1400.617733599335], due to the structures at [-0.001, 368.689, 374.694, 1400.618733599335].\n",
      "2021-02-25 22:32:12,736 - delft3dfmpy.core.dfm - dfm - INFO - Added 1d mesh nodes on branch OAF010015 at: [0.0, 16.534, 58.805499999999995, 176.0677346174822], due to the structures at [-0.001, 8.459, 24.609, 93.002, 176.0687346174822].\n",
      "2021-02-25 22:32:12,742 - delft3dfmpy.core.dfm - dfm - WARNING - Structures KST0847, KST0616 have the same location.\n",
      "2021-02-25 22:32:12,752 - delft3dfmpy.core.dfm - dfm - INFO - Added 1d mesh nodes on branch OAF010152 at: [0.0, 7.6765, 22.816499999999998, 31.0505, 39.2385, 54.729, 69.3905, 82.7645, 97.212, 113.7110040218631, 122.5480080437262], due to the structures at [-0.001, 0.1, 15.253, 30.38, 31.721, 46.756, 62.702, 76.079, 89.45, 104.974, 122.4480080437262, 122.5490080437262].\n",
      "2021-02-25 22:32:12,755 - delft3dfmpy.core.dfm - dfm - INFO - Added 1d mesh nodes on branch OAF010168 at: [0.0, 8.329500000000001, 19.941000000000003, 29.53350717680211], due to the structures at [-0.001, 0.1, 16.559, 23.323, 29.534507176802112].\n",
      "2021-02-25 22:32:12,757 - delft3dfmpy.core.dfm - dfm - INFO - Added 1d mesh nodes on branch OAF010188 at: [0.0, 378.6446263905068, 383.12025278101356], due to the structures at [-0.001, 0.1, 203.341, 374.269, 383.02025278101354, 383.12125278101354].\n",
      "2021-02-25 22:32:12,760 - delft3dfmpy.core.dfm - dfm - INFO - Added 1d mesh nodes on branch OAF010225 at: [0.0, 361.5955, 777.9894999999999, 839.7964999999999, 882.1037716613181], due to the structures at [-0.001, 316.568, 406.623, 654.762, 749.665, 806.314, 873.279, 882.1047716613181].\n",
      "2021-02-25 22:32:12,762 - delft3dfmpy.core.dfm - dfm - INFO - Added 1d mesh nodes on branch OAF010227 at: [0.0, 988.03, 1026.9051278620673], due to the structures at [-0.001, 982.806, 993.254, 1026.9061278620673].\n",
      "2021-02-25 22:32:12,765 - delft3dfmpy.core.dfm - dfm - INFO - Added 1d mesh nodes on branch OAF010231 at: [0.0, 88.72399999999999, 243.0647640314304], due to the structures at [-0.001, 56.854, 120.594, 243.0657640314304].\n",
      "2021-02-25 22:32:12,767 - delft3dfmpy.core.dfm - dfm - INFO - Added 1d mesh nodes on branch OAF010232 at: [0.0, 55.614999999999995, 72.5838242426095], due to the structures at [-0.001, 47.698, 63.532, 72.5848242426095].\n",
      "2021-02-25 22:32:12,774 - delft3dfmpy.core.dfm - dfm - INFO - Added 1d mesh nodes on branch OAF010340 at: [0.0, 0.8705, 24.628844877456963], due to the structures at [-0.001, 0.1, 1.641, 24.629844877456964].\n",
      "2021-02-25 22:32:12,778 - delft3dfmpy.core.dfm - dfm - INFO - Added 1d mesh nodes on branch OAF010359 at: [0.0, 89.19800000000001, 120.1475, 152.88, 178.6978594968577], due to the structures at [-0.001, 75.159, 103.237, 137.058, 168.702, 178.6988594968577].\n",
      "2021-02-25 22:32:12,782 - delft3dfmpy.core.dfm - dfm - INFO - Added 1d mesh nodes on branch OAF010375 at: [0.0, 452.59749999999997, 501.9635, 542.8460223397627], due to the structures at [-0.001, 428.623, 476.572, 527.355, 542.8470223397627].\n",
      "2021-02-25 22:32:12,788 - delft3dfmpy.core.dfm - dfm - WARNING - Structures KST0170, KBR0838 have the same location.\n",
      "2021-02-25 22:32:12,790 - delft3dfmpy.core.dfm - dfm - INFO - Added 1d mesh nodes on branch OAF010408 at: [0.0, 614.9138324495834, 633.0646648991668], due to the structures at [-0.001, 596.863, 632.9646648991668, 633.0656648991668].\n",
      "2021-02-25 22:32:12,792 - delft3dfmpy.core.dfm - dfm - INFO - Added 1d mesh nodes on branch OAF010430 at: [0.0, 145.094, 358.18684965965576], due to the structures at [-0.001, 131.963, 158.225, 358.18784965965574].\n",
      "2021-02-25 22:32:12,795 - delft3dfmpy.core.dfm - dfm - INFO - Added 1d mesh nodes on branch OAF010442 at: [0.0, 21.5145, 236.88866691742953], due to the structures at [-0.001, 0.1, 42.929, 228.205, 236.88966691742954].\n",
      "2021-02-25 22:32:12,799 - delft3dfmpy.core.dfm - dfm - INFO - Added 1d mesh nodes on branch OAF010478 at: [0.0, 55.085, 66.75725134122567], due to the structures at [-0.001, 43.678, 66.492, 66.75825134122567].\n",
      "2021-02-25 22:32:12,803 - delft3dfmpy.core.dfm - dfm - INFO - Added 1d mesh nodes on branch OAF010494 at: [0.0, 1005.1735000000001, 1941.9295108510337], due to the structures at [-0.001, 993.676, 1016.671, 1387.2, 1522.748, 1941.9305108510337].\n",
      "2021-02-25 22:32:12,812 - delft3dfmpy.core.dfm - dfm - INFO - Added 1d mesh nodes on branch OAF010586 at: [0.0, 69.2065, 86.94257733502819], due to the structures at [-0.001, 62.449, 75.964, 86.9435773350282].\n",
      "2021-02-25 22:32:12,813 - delft3dfmpy.core.dfm - dfm - INFO - Added 1d mesh nodes on branch OAF010588 at: [0.0, 77.172, 128.3048114435671], due to the structures at [-0.001, 56.76, 97.584, 128.3058114435671].\n",
      "2021-02-25 22:32:12,832 - delft3dfmpy.core.dfm - dfm - INFO - Added 1d mesh nodes on branch OAF016421 at: [0.0, 150.362, 158.41414240875025], due to the structures at [-0.001, 1.082, 149.298, 151.426, 158.41514240875026].\n"
     ]
    },
    {
     "name": "stdout",
     "output_type": "stream",
     "text": [
      "2021-02-25 22:32:12,854 - delft3dfmpy.core.dfm - dfm - INFO - Added 1d mesh nodes on branch OAF016490 at: [0.0, 17.044, 25.366999999999997, 32.672, 40.668, 48.7805, 56.784, 64.7375, 76.902, 89.005, 97.0055, 104.9445, 112.88300000000001, 120.8965, 128.91899999999998, 163.10704631207375], due to the structures at [-0.001, 12.03, 22.058, 28.676, 36.668, 44.668, 52.893, 60.675, 68.8, 85.004, 93.006, 101.005, 108.884, 116.882, 124.911, 132.927, 163.10804631207375].\n",
      "2021-02-25 22:32:12,856 - delft3dfmpy.core.dfm - dfm - INFO - Added 1d mesh nodes on branch OAF016498 at: [0.0, 26.388, 65.41386778463344], due to the structures at [-0.001, 0.1, 52.676, 65.41486778463344].\n",
      "2021-02-25 22:32:12,859 - delft3dfmpy.core.dfm - dfm - INFO - Added 1d mesh nodes on branch OAF016504 at: [0.0, 971.2915, 1529.0315, 1805.6755, 2111.312359123833], due to the structures at [-0.001, 238.432, 684.778, 954.755, 987.828, 1528.719, 1529.344, 1800.862, 1810.489, 2111.3133591238334].\n",
      "2021-02-25 22:32:12,861 - delft3dfmpy.core.dfm - dfm - INFO - Added 1d mesh nodes on branch OAF016509 at: [0.0, 225.42849999999999, 868.9030162265917], due to the structures at [-0.001, 216.309, 234.548, 868.9040162265917].\n",
      "2021-02-25 22:32:12,869 - delft3dfmpy.core.dfm - dfm - INFO - Added 1d mesh nodes on branch OAF016778 at: [0.0, 7.467, 22.277, 37.2625, 52.327, 67.4355, 82.34200000000001, 97.2575, 119.6805, 141.946, 164.88402005486003], due to the structures at [-0.001, 0.1, 14.834, 29.72, 44.805, 59.849, 75.022, 89.662, 104.853, 134.508, 149.384, 164.88502005486004].\n",
      "2021-02-25 22:32:12,872 - delft3dfmpy.core.dfm - dfm - INFO - Added 1d mesh nodes on branch OAF016779 at: [0.0, 26.5485, 44.7735, 62.8245, 80.54050000000001, 98.59700000000001, 118.0315, 144.75501906272015], due to the structures at [-0.001, 17.589, 35.508, 54.039, 71.61, 89.471, 107.723, 128.34, 144.75601906272016].\n",
      "2021-02-25 22:32:12,883 - delft3dfmpy.core.dfm - dfm - INFO - Added 1d mesh nodes on branch OAF999995 at: [0.0, 8.401000000000002, 38.21466949084587], due to the structures at [-0.001, 0.1, 16.702, 38.21566949084587].\n"
     ]
    }
   ],
   "source": [
    "dfmmodel.network.set_branches(hydamo.branches)\n",
    "dfmmodel.network.generate_1dnetwork(one_d_mesh_distance=100.0, seperate_structures=True)"
   ]
  },
  {
   "cell_type": "markdown",
   "metadata": {},
   "source": [
    "### Toevoegen cross-sections\n",
    "\n",
    "We kennen profielen toe, waar we profielen missen vullen we deze aan met principeprofielen."
   ]
  },
  {
   "cell_type": "code",
   "execution_count": 18,
   "metadata": {},
   "outputs": [
    {
     "name": "stdout",
     "output_type": "stream",
     "text": [
      "2021-02-25 22:32:14,973 - delft3dfmpy.io.dfmreader - dfmreader - INFO - Before adding the number of branches without cross section is: 2385.\n",
      "2021-02-25 22:32:24,053 - delft3dfmpy.io.dfmreader - dfmreader - INFO - After adding 'dwarsprofielen' the number of branches without cross section is: 863.\n",
      "No parametrised crossections available for branches.\n",
      "2021-02-25 22:32:24,061 - delft3dfmpy.io.dfmreader - dfmreader - INFO - Before adding the number of structures without cross section is: 636.\n",
      "2021-02-25 22:32:24,090 - delft3dfmpy.io.dfmreader - dfmreader - INFO - After adding 'dwarsprofielen' the number of branches without cross section is: 636.\n",
      "2021-02-25 22:32:24,143 - delft3dfmpy.io.dfmreader - dfmreader - INFO - After adding 'normgeparametriseerd' the number of structures without cross section is: 0.\n",
      "863 branches are still missing a cross section.\n",
      "0 structures are still missing a cross section.\n",
      "adding trapezium profiles on branches with missing crosssections.\n"
     ]
    }
   ],
   "source": [
    "dfmmodel.crosssections.io.from_hydamo(\n",
    "    dwarsprofielen=hydamo.crosssections,\n",
    "    parametrised=hydamo.parametrised_profiles,\n",
    "    branches=hydamo.branches\n",
    ")\n",
    "\n",
    "print(f\"{len(dfmmodel.crosssections.get_branches_without_crosssection())} branches are still missing a cross section.\")\n",
    "print(f\"{len(dfmmodel.crosssections.get_structures_without_crosssection())} structures are still missing a cross section.\")\n",
    "\n",
    "if len(dfmmodel.crosssections.get_branches_without_crosssection()) > 0:\n",
    "    print(\"adding trapezium profiles on branches with missing crosssections.\")\n",
    "    dfmmodel = hydrotools.add_trapeziums(dfmmodel, principe_profielen_df)"
   ]
  },
  {
   "cell_type": "markdown",
   "metadata": {},
   "source": [
    "### Wegschrijven model"
   ]
  },
  {
   "cell_type": "code",
   "execution_count": 19,
   "metadata": {},
   "outputs": [
    {
     "name": "stdout",
     "output_type": "stream",
     "text": [
      "Model is weggeschreven\n"
     ]
    }
   ],
   "source": [
    "dfmmodel.mdu_parameters[\"refdate\"] = 20000101\n",
    "dfmmodel.mdu_parameters[\"tstart\"] = 0.0 * 3600\n",
    "dfmmodel.mdu_parameters[\"tstop\"] = 144.0 * 1 * 3600\n",
    "dfmmodel.mdu_parameters[\"hisinterval\"] = \"120. 0. 0.\"\n",
    "dfmmodel.mdu_parameters[\"cflmax\"] = 0.7\n",
    "\n",
    "dfmmodel.dimr_path = dimr_path\n",
    "fm_writer = DFlowFMWriter(dfmmodel, output_dir=r\"modellen\\boezemmodel\", name=\"boezemmodel\")\n",
    "\n",
    "fm_writer.objects_to_ldb()\n",
    "fm_writer.write_all()\n",
    "\n",
    "if Path(r\"modellen\\boezemmodel\\fm\\boezemmodel.mdu\").exists():\n",
    "    print(\"Model is weggeschreven\")\n",
    "else:\n",
    "    print(\"Er is geen model geschreven. Waarschijnlijk is iets fout gegaan\")"
   ]
  },
  {
   "cell_type": "markdown",
   "metadata": {},
   "source": [
    "## Importeren in de D-Hydro suite\n",
    "\n",
    "Open het model nu in D-Hydro:\n",
    "1. Open een \"Empty Project\"\n",
    "2. In de \"Home\" ribbon, ga naar \"Import\" en selecteer \"Flow Flexible Mesh Model\"\n",
    "3. Selecteer het bestand \"boezemmodel.mdu\" in \".\\dfm_model\\fm\\boezemmodel.mdu\"\n",
    "4. Wacht tot het model is geimporteerd.....\n",
    "\n",
    "Het geimporteerde model is nu zichtbaar in de D-Hydro suite\n",
    "<img src=\"png/boezemmodel.png\"/>"
   ]
  }
 ],
 "metadata": {
  "kernelspec": {
   "display_name": "Python 3",
   "language": "python",
   "name": "python3"
  },
  "language_info": {
   "codemirror_mode": {
    "name": "ipython",
    "version": 3
   },
   "file_extension": ".py",
   "mimetype": "text/x-python",
   "name": "python",
   "nbconvert_exporter": "python",
   "pygments_lexer": "ipython3",
   "version": "3.7.10"
  }
 },
 "nbformat": 4,
 "nbformat_minor": 4
}
