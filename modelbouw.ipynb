{
 "cells": [
  {
   "cell_type": "markdown",
   "metadata": {},
   "source": [
    "# D-Hydro Boezemmodel V4 - Modelbouw\n",
    "\n",
    "Met deze notebook bouw je een boezemmodel voor Nooderzijlvest. \n",
    "\n",
    "De notebook is opgezet door Daniel Tollenaar (D2Hydro), Vincent de Looij (Waterschap Noorderzijlvest) en Siebe Bosch (HydroConsult). Het Notebook is gebaseerd op een  <a href=\"https://github.com/openearth/delft3dfmpy/blob/master/notebooks/Usage_introduction_FM_only.ipynb\">voorbeeldnotebook</a> uit D-HyDAMO, opgezet door HKV Lijn in Water: \n",
    "\n",
    "\n",
    "## Installatie\n",
    "Zorg dat je beschikt over een werkende Python installatie en <a href=\"https://github.com/d2hydro/delft3dfmpy#installation\">D-HYDAMO omgeving</a>. \n",
    "\n",
    "Het resulterende model moet geimporteerd kunnen worden in D-HYDRO versie 0.9.7.52006 of hoger.\n",
    "\n",
    "Download de bestanden van <a href=\"https://drive.google.com/drive/folders/1BXNEwlEDCtShDj5KVuHQcukup-QLTuzR\">Google Drive</a> en zet deze in de folder .\\data\n",
    "\n",
    "De verwijzing naar bestanden is geschreven in het Nederlands. De rest van de code is geschreven in het Engels. Elk code-blok is voorzien van uitleg boven het desbetreffende blok, geschreven in het Nederlands.\n",
    "\n",
    "<b>let op:</b> deze notebook werkt alleen in combinatie met een config.py. In config.py dient een variabele dimr_path te zijn opgegeven, afhankelijk van de D-Hydro installatie. Bijvoorbeeld:\n",
    "\n",
    "dimr_path = r\"c:\\Program Files (x86)\\Deltares\\D-HYDRO Suite 1D2D (Beta) (0.9.7.52006)\\plugins\\DeltaShell.Dimr\\kernels\\x64\\dimr\\scripts\\run_dimr.bat\""
   ]
  },
  {
   "cell_type": "markdown",
   "metadata": {},
   "source": [
    "## Controle bestanden\n",
    "\n",
    "Alle bestanden die gebruikt worden in deze tutorial staan in het code-blok hieronder. Wanneer je dit codeblok uitvoert wordt de aanwezigheid van deze bestanden gecontroleerd.\n",
    "\n"
   ]
  },
  {
   "cell_type": "code",
   "execution_count": 1,
   "metadata": {
    "scrolled": true
   },
   "outputs": [],
   "source": [
    "from pathlib import Path\n",
    "from config import dimr_path\n",
    "import pandas as pd\n",
    "import numpy as np\n",
    "import rasterio\n",
    "from rasterstats import zonal_stats\n",
    "\n",
    "data_path = Path(r\".\\data\").absolute().resolve()\n",
    "beheerregister = data_path.joinpath(\"beheerregister\")\n",
    "excelbestanden = data_path.joinpath(\"xlsx\")\n",
    "bathymetrie = data_path.joinpath(\"bathymetrie\")\n",
    "\n",
    "modelbestanden = {\"randvoorwaarden\":\"randvoorwaarden.xlsx\",\n",
    "                  \"uitgesloten_profielen\":\"uitgesloten_profielen.xlsx\"}\n",
    "\n",
    "invoerbestanden = {\n",
    "    \"modelgebied\": \"Bemalings_en_lozingsgebieden.shp\",\n",
    "    \"branches\": \"Afaanvoervakken_DHYDRO_v6.shp\",\n",
    "    \"profielpunten\": \"profielpunten_3feb2021_actueel.shp\",\n",
    "    \"bruggen\": \"Bruggen_(doorstroomopeningen).shp\",\n",
    "    \"duikers\": \"Duikers_v2.shp\",\n",
    "    \"sluizen\": \"sluizen.shp\",\n",
    "    \"sifons\": \"sifons.shp\",\n",
    "    \"stuwen\": \"Stuwen_v2_zonderdrempels.shp\",\n",
    "    \"inlaten\": \"inlaten.shp\",\n",
    "    \"gemalen\": \"Gemalen_v3.shp\",\n",
    "    \"peilgebieden\": \"Peilgebieden.shp\"\n",
    "}\n",
    "\n",
    "bathymetriebestanden = {\n",
    "    \"hoogte_raster\": \"AHN3_Lauwersmeer_gevuld.tif\",\n",
    "    \"zones\": \"Polygonen_Lauwersmeer.shp\"\n",
    "}\n",
    "\n",
    "vorm_mapping = dict(rond=1,\n",
    "                    driehoekig=1,\n",
    "                    rechthoekig=3,\n",
    "                    eivormig=1,\n",
    "                    ellips=1,\n",
    "                    Paraboolvormig=1,\n",
    "                    trapeziumvormig=1,\n",
    "                    heul=1,\n",
    "                    muil=3,\n",
    "                    langwerpig=1,\n",
    "                    scherp=1,\n",
    "                    onbekend=99,\n",
    "                    overig=99)\n",
    "\n",
    "ruwheid_mapping = {\"A1\": 0.03,\n",
    "                   \"A2\": 0.03,\n",
    "                   \"A2 Boot\": 0.03,\n",
    "                   \"A3\": 0.03,\n",
    "                   \"B1\": 0.02,\n",
    "                   \"B2\": 0.022,\n",
    "                   \"C1\": 0.02,\n",
    "                   \"C2b\": 0.022,\n",
    "                   \"DERDEN\": 0.03,\n",
    "                   \"GEEN\": 0.07}\n",
    "\n",
    "richting_mapping = {\"schutsluis naar een zijde\": \"none\",\n",
    "                    \"overig\": \"both\",\n",
    "                    \"schutsluis naar twee zijden\": \"none\",\n",
    "                    \"uitwateringssluis/spuisluis\": \"positive\"}\n",
    "\n",
    "for key, item in invoerbestanden.items():\n",
    "    if not beheerregister.joinpath(item).exists():\n",
    "        print(f\"bestand voor {key} bestaat niet: {beheerregister.joinpath(item)}\")\n",
    "        \n",
    "for key, item in bathymetriebestanden.items():\n",
    "    if not bathymetrie.joinpath(item).exists():\n",
    "        print(f\"bestand voor {key} bestaat niet: {bathymetrie.joinpath(item)}\")\n",
    "        \n",
    "for key, item in modelbestanden.items():\n",
    "    if not excelbestanden.joinpath(item).exists():\n",
    "        print(f\"bestand voor {key} bestaat niet: {excelbestanden.joinpath(item)}\")\n",
    "\n",
    "rekenpunt_afstand = 250.0\n"
   ]
  },
  {
   "cell_type": "markdown",
   "metadata": {},
   "source": [
    "## Inlezen beheerregister in HyDAMO\n",
    "\n",
    "### Aanmaken HyDAMO object\n",
    "\n",
    "Alle benodigde modules worden geimporteerd en het HYDAMO object wordt aangemaakt bij het uitvoeren van onderstaand code-blok"
   ]
  },
  {
   "cell_type": "code",
   "execution_count": 2,
   "metadata": {},
   "outputs": [],
   "source": [
    "from delft3dfmpy import DFlowFMModel, HyDAMO, Rectangular, DFlowFMWriter\n",
    "from delft3dfmpy import DFlowRRModel, DFlowRRWriter\n",
    "from delft3dfmpy.datamodels.common import ExtendedGeoDataFrame\n",
    "import hydrotools\n",
    "import geopandas as gpd\n",
    "import pandas as pd\n",
    "from shapely.geometry import LineString\n",
    "\n",
    "hydamo = HyDAMO(extent_file=str(beheerregister.joinpath(invoerbestanden[\"modelgebied\"])))"
   ]
  },
  {
   "cell_type": "markdown",
   "metadata": {},
   "source": [
    "### hulp-variabelen\n",
    "\n",
    "#### snap_to_branches:\n",
    "De optie om bij het inlezen te snappen naar branches en alles dat niet op boezemmodel_v4 ligt weg te gooien. Wordt nu alleen gebruikt bij duikers.\n",
    "\n",
    "ToDo:\n",
    "- We gebruiken de delft3dfmpy functie \"find_nearest_branch\" om te snappen naar de branches. Het lijkt erop dat deze, bij de afstand tussen lijn-objecten (duikers, hevels) niet het middenpunt van de lijn pakt maar de lijn zelf. Gevolg: kruisende lijnen (sifons) worden gesnapt naar de kruisende tak. Beter het middenpunt snappen en niet de lijn zelf.\n",
    "\n",
    "#### kwk_groups_df:\n",
    "De kunstwerkgroepen waarmee we compound-structures genereren"
   ]
  },
  {
   "cell_type": "code",
   "execution_count": 3,
   "metadata": {},
   "outputs": [],
   "source": [
    "branches_gdf = gpd.read_file(beheerregister.joinpath(invoerbestanden[\"branches\"]))\n",
    "branches_gdf.set_index(\"OVKIDENT\", inplace=True)\n",
    "branches_gdf.columns = branches_gdf.columns.str.lower()\n",
    "\n",
    "snap_to_branches = dict(branches=branches_gdf,\n",
    "                        distance=1,\n",
    "                        attribute_filter={\"hydromodel\": \"Boezemmodel_v4\"}) \n",
    "\n",
    "kwk_groups_df = pd.read_csv(excelbestanden.joinpath(\"kunstwerkgroepen.csv\"), index_col=\"code\")"
   ]
  },
  {
   "cell_type": "markdown",
   "metadata": {},
   "source": [
    "### Toevoegen waterlopen\n",
    "\n",
    "De waterlopen (branches) worden toegevoegd met volgend code-blok:\n",
    "* de branches worden toegekend aan het hydamo-object\n",
    "* een HyDAMO ruwheidscode (2 = manning) wordt toegekend\n",
    "* De ruwheidswaarde wordt bepaalt aan de hand van de werkcode\n",
    "* De branches worden versimpeld aan de hand van het bestand verplaats_eindpunten.shp\n",
    "* de eindpunten van de branches worden gesnapped binnen een tolerantie van 1m. De coordinaten worden ook afgerond op 1m."
   ]
  },
  {
   "cell_type": "code",
   "execution_count": 4,
   "metadata": {},
   "outputs": [
    {
     "name": "stderr",
     "output_type": "stream",
     "text": [
      "C:\\Anaconda3\\envs\\delft3dfmpy\\lib\\site-packages\\pandas\\core\\frame.py:4312: SettingWithCopyWarning: \n",
      "A value is trying to be set on a copy of a slice from a DataFrame\n",
      "\n",
      "See the caveats in the documentation: https://pandas.pydata.org/pandas-docs/stable/user_guide/indexing.html#returning-a-view-versus-a-copy\n",
      "  errors=errors,\n"
     ]
    }
   ],
   "source": [
    "gdf = hydrotools.read_file(beheerregister.joinpath(invoerbestanden[\"branches\"]),\n",
    "                           \"branches\",\n",
    "                           attribute_filter={\"hydromodel\": \"Boezemmodel_v4\"},\n",
    "                           keep_columns=[\"HydroModel\",\n",
    "                                         \"bodemhoogtebovenstrooms\",\n",
    "                                         \"bodembreedte\",\n",
    "                                         \"taludhellinglinkerzijde\",\n",
    "                                         \"taludhellingrechterzijde\",\n",
    "                                         \"IWS_W_WATB\",\n",
    "                                         \"WERKCODE\"],\n",
    "                           column_mapping={\"OVKIDENT\": \"code\",\n",
    "                                           \"IWS_AVVHOB\": \"bodemhoogtebovenstrooms\",\n",
    "                                           \"AVVBODDR\": \"bodembreedte\",\n",
    "                                           \"AVVTALUL\": \"taludhellinglinkerzijde\",\n",
    "                                           \"AVVTALUR\": \"taludhellingrechterzijde\"}\n",
    "                          )\n",
    "\n",
    "gdf.loc[:, \"ruwheidstypecode\"] = 2\n",
    "gdf.loc[:, \"ruwheidswaarde\"] = gdf.apply((lambda x: ruwheid_mapping[x[\"werkcode\"]]), axis=1)\n",
    "\n",
    "# verplaatsen eindpunten\n",
    "move_lines_gdf = gpd.read_file(data_path.joinpath(\"shp\",\"verplaats_eind_nodes.shp\"))\n",
    "gdf = hydrotools.move_end_nodes(gdf, move_lines_gdf, threshold=1)\n",
    "\n",
    "hydamo.branches.set_data(gdf, index_col=\"code\", check_columns=True, check_geotype=True)\n",
    "\n",
    "hydamo.branches = hydrotools.snap_ends(hydamo.branches, tolerance=1, digits=1)\n",
    "\n",
    "hydamo.branches = hydamo.branches.loc[~hydamo.branches.index.isin([\"OAF016902\",\n",
    "                                                                   \"OAF016901\"])]"
   ]
  },
  {
   "cell_type": "markdown",
   "metadata": {},
   "source": [
    "### Aanmaken principeprofielen\n",
    "Als terugvaloptie voor branches zonder profielen schrijven we principe profielen weg die we later in deze notebook gebruiken."
   ]
  },
  {
   "cell_type": "code",
   "execution_count": 5,
   "metadata": {},
   "outputs": [],
   "source": [
    "principe_profielen_df = hydrotools.get_trapeziums(gdf,\n",
    "                                                  \"code\",\n",
    "                                                  \"bodembreedte\",\n",
    "                                                  \"bodemhoogtebovenstrooms\",\n",
    "                                                  \"iws_w_watb\",\n",
    "                                                  \"taludhellinglinkerzijde\",\n",
    "                                                  \"taludhellingrechterzijde\",\n",
    "                                                  \"ruwheidstypecode\",\n",
    "                                                  \"ruwheidswaarde\")\n",
    "\n",
    "principe_profielen_df.to_csv(excelbestanden.joinpath(\"principe_profielen.csv\"))"
   ]
  },
  {
   "cell_type": "markdown",
   "metadata": {},
   "source": [
    "### Toevoegen yz-profielen\n",
    "De yz-profielen worden ingeladen:\n",
    "* De profielpunten worden geopend\n",
    "* de punten worden geordend en geconverteerd naar polylinen met een xyz coordinaten\n",
    "* lijnen langer dan 500m worden weggegooid, omdat er soms kademuren PRO_TYPE = PRO hebben gekregen\n",
    "* lijnen worden toegekend aan het HyDAMO object\n",
    "* lijnen die niet snappen met de branches, worden weggegooid\n",
    "* lijnen krijgen de ruwheidswaarde mee van de onderliggende tak (branch)"
   ]
  },
  {
   "cell_type": "code",
   "execution_count": 6,
   "metadata": {
    "code_folding": []
   },
   "outputs": [],
   "source": [
    "gdf = hydrotools.read_file(beheerregister.joinpath(invoerbestanden[\"profielpunten\"]),\n",
    "                           \"crosssections\",\n",
    "                           attribute_filter={\"osmomsch_1\": [\"Z1\"],\n",
    "                                             \"PRO_TYPE\": \"PRO\"},\n",
    "                           column_mapping={\"PROIDENT\": \"code\",\n",
    "                                           \"IWS_VOLGNR\": \"order\",\n",
    "                                           \"OSMOMSCH_1\": \"category\",\n",
    "                                           \"iws_hoogte\": \"z\"},\n",
    "                           z_coord=True\n",
    "                           )\n",
    "\n",
    "grouper = gdf.groupby(\"code\")\n",
    "profiles = dict()\n",
    "\n",
    "for code, prof_gdf in grouper:\n",
    "    prof_gdf = prof_gdf.sort_values(\"order\")  #Staan ook punten met zelfde order\n",
    "    first_point = prof_gdf.iloc[0][\"geometry\"]\n",
    "    cum_dist = -1\n",
    "    line = []\n",
    "    for idx, (_, row) in enumerate(prof_gdf.iterrows()):\n",
    "        geom = row[\"geometry\"]\n",
    "        distance = geom.distance(first_point)\n",
    "        if distance > cum_dist:\n",
    "            cum_dist = distance\n",
    "            line += [(geom.x, geom.y, row[\"z\"])]\n",
    "\n",
    "    profiles[code] = [code, LineString(line)]\n",
    "\n",
    "profiles_gdf = gpd.GeoDataFrame.from_dict(profiles,\n",
    "                                          orient=\"index\",\n",
    "                                          columns=[\"code\",\n",
    "                                                   \"geometry\"]\n",
    "                                          )\n",
    "\n",
    "profiles_gdf[\"ruwheidstypecode\"] = 2\n",
    "\n",
    "profiles_gdf[\"codegerelateerdobject\"] = None\n",
    "\n",
    "profiles_gdf = profiles_gdf.loc[profiles_gdf[\"geometry\"].length < 500]\n",
    "\n",
    "exclude_xlsx = excelbestanden.joinpath(modelbestanden[\"uitgesloten_profielen\"])\n",
    "exclude_list = pd.read_excel(exclude_xlsx, header=None)[0].to_list()\n",
    "profiles_gdf = profiles_gdf.loc[~profiles_gdf.index.isin(exclude_list)]\n",
    "\n",
    "hydamo.crosssections.set_data(profiles_gdf,\n",
    "                              index_col=\"code\",\n",
    "                              check_columns=False,\n",
    "                              check_geotype=True)\n",
    "\n",
    "hydamo.crosssections.snap_to_branch(hydamo.branches, snap_method=\"intersecting\")\n",
    "hydamo.crosssections.dropna(axis=0, inplace=True, subset=[\"branch_offset\"])\n",
    "hydamo.crosssections[\"ruwheidswaarde\"] = hydamo.crosssections.apply(\n",
    "    (lambda x: hydamo.branches.loc[x[\"branch_id\"]][\"ruwheidswaarde\"]), axis=1)\n"
   ]
  },
  {
   "cell_type": "markdown",
   "metadata": {},
   "source": [
    "### Toevoegen geparameteriseerde profielen\n",
    "\n",
    "Per brug moet er een profiel worden toegevoegd"
   ]
  },
  {
   "cell_type": "code",
   "execution_count": 7,
   "metadata": {
    "code_folding": []
   },
   "outputs": [],
   "source": [
    "gdf = hydrotools.read_file(beheerregister.joinpath(invoerbestanden[\"bruggen\"]),\n",
    "                           \"parametrised_profiles\",\n",
    "                           column_mapping={\"bodemh_bov\": \"bodemhoogtebovenstrooms\",\n",
    "                                           \"bodemh_ben\": \"bodemhoogtebenedenstrooms\",\n",
    "                                           \"doorstroom\": \"bodembreedte\",\n",
    "                                           \"hoogte_ond\": \"hoogteinsteeklinkerzijde\",\n",
    "                                           })\n",
    "\n",
    "grouper = gdf.groupby(\"code\")\n",
    "data = {item: [] for item in [\"code\",\n",
    "                              \"bodemhoogtebovenstrooms\",\n",
    "                              \"bodemhoogtebenedenstrooms\",\n",
    "                              \"bodembreedte\",\n",
    "                              \"hoogteinsteeklinkerzijde\",\n",
    "                              \"geometry\",\n",
    "                              \"codegerelateerdobject\"]}\n",
    "\n",
    "for code, df in grouper:\n",
    "    data[\"code\"] += [f\"PRO_{code}\"]\n",
    "    data[\"codegerelateerdobject\"] += [code]\n",
    "    for item in [\"bodemhoogtebovenstrooms\",\n",
    "                 \"bodemhoogtebenedenstrooms\",\n",
    "                 \"hoogteinsteeklinkerzijde\",\n",
    "                 \"geometry\"]:\n",
    "        data[item] += [df.iloc[0][item]]\n",
    "    data[\"bodembreedte\"] += [df['bodembreedte'].sum()]\n",
    "\n",
    "gdf = gpd.GeoDataFrame(data)\n",
    "gdf[\"geometry\"] = gdf.apply((lambda x: LineString([[x[\"geometry\"].x-0.1,\n",
    "                                                    x[\"geometry\"].y-0.1],\n",
    "                                                  [x[\"geometry\"].x+0.1,\n",
    "                                                   x[\"geometry\"].y+0.1]])),\n",
    "                            axis=1)\n",
    "\n",
    "gdf[\"hoogteinsteekrechterzijde\"] = gdf[\"hoogteinsteeklinkerzijde\"]\n",
    "gdf[\"ruwheidswaarde\"] = 15\n",
    "gdf[\"ruwheidstypecode\"] = 4\n",
    "gdf[\"taludhellinglinkerzijde\"] = 1\n",
    "gdf[\"taludhellingrechterzijde\"] = 1\n",
    "\n",
    "#alle geparmeteriseerde profielen met bodemhoogte 0m (NAP) weggooien\n",
    "gdf = gdf.loc[gdf[\"bodemhoogtebovenstrooms\"] != 0]\n",
    "hydamo.parametrised_profiles.set_data(gdf,\n",
    "                                      index_col=\"code\",\n",
    "                                      check_columns=True,\n",
    "                                      check_geotype=False)"
   ]
  },
  {
   "cell_type": "markdown",
   "metadata": {},
   "source": [
    "### Toevoegen gemalen\n",
    "\n",
    "ToDo:\n",
    "- @Vincent: per gemaal de bovenstroomse GPG specificeren i.v.m. bepalen aan- afslagpeilen. Zie .\\data\\xlsx\\kwk_gpg.csv met dank aan collega Johan Draaijer"
   ]
  },
  {
   "cell_type": "code",
   "execution_count": 8,
   "metadata": {},
   "outputs": [],
   "source": [
    "#we lezen hier al de GPG's in, omdat we alleen gemalen toevoegen waarvan we een peil hebben\n",
    "pumps_gdf = hydrotools.read_file(beheerregister.joinpath(invoerbestanden[\"gemalen\"]),\n",
    "                                 \"pumps\",\n",
    "                                 column_mapping={\"gecom_max_\": \"maximalecapaciteit\"},\n",
    "                                 keep_columns=[\"gpg_boven\", \"functie\"])\n",
    "\n",
    "# capaciteit van aanvoergemalen zetten we op 0 m3/s\n",
    "pumps_gdf.loc[pumps_gdf[\"functie\"] == \"aanvoergemaal\", \"maximalecapaciteit\"] = 0\n",
    "\n",
    "gemalen_gdf = pumps_gdf.copy()\n",
    "pumps_gdf[\"codegerelateerdobject\"] = pumps_gdf[\"code\"].copy()\n",
    "pumps_gdf[\"code\"] = [f\"PMP_{code}\" for code in pumps_gdf[\"code\"]]\n",
    "hydamo.gemalen.set_data(gemalen_gdf,\n",
    "                        index_col=\"code\",\n",
    "                        check_columns=True,\n",
    "                        check_geotype=True)\n",
    "hydamo.gemalen.snap_to_branch(hydamo.branches, snap_method=\"overal\", maxdist=5)\n",
    "hydamo.gemalen.dropna(axis=0, inplace=True, subset=[\"branch_offset\"])\n",
    "hydamo.pumps.set_data(pumps_gdf,\n",
    "                      index_col=\"code\",\n",
    "                      check_columns=True,\n",
    "                      check_geotype=True)\n",
    "hydamo.pumps.snap_to_branch(hydamo.branches, snap_method=\"overal\", maxdist=1)\n",
    "hydamo.pumps.dropna(axis=0, inplace=True, subset=[\"branch_offset\"])\n",
    "\n"
   ]
  },
  {
   "cell_type": "markdown",
   "metadata": {},
   "source": [
    "### Toevoegen bruggen\n",
    "Per brug moet er een profiel worden toegevoegd"
   ]
  },
  {
   "cell_type": "code",
   "execution_count": 9,
   "metadata": {},
   "outputs": [],
   "source": [
    "gdf = hydrotools.read_file(beheerregister.joinpath(invoerbestanden[\"bruggen\"]),\n",
    "                           \"bridges\",\n",
    "                           attribute_filter={\"KBRSOORT\": [2, 3, 4]},\n",
    "                           snap_to_branches=snap_to_branches,\n",
    "                           column_mapping={\"doorstro_2\": \"lengte\",\n",
    "                                           \"hoogte_ond\": \"hoogteonderzijde\"},\n",
    "                          keep_columns = [\"doorstroom\"])\n",
    "\n",
    "gdf = gdf.loc[gdf[\"hoogteonderzijde\"] != 0]\n",
    "gdf = gdf.loc[gdf[\"doorstroom\"] != 0]\n",
    "gdf.loc[gdf[\"lengte\"] == 0, \"lengte\"] = 10\n",
    "\n",
    "grouper = gdf.groupby(\"code\")\n",
    "data = {\"code\": [code for code, frame in grouper],\n",
    "        \"hoogteonderzijde\": [frame[\"hoogteonderzijde\"].values[0] for code,\n",
    "                             frame in grouper],\n",
    "        \"lengte\": [frame[\"lengte\"].values[0] for code, frame in grouper],\n",
    "        \"geometry\": [frame[\"geometry\"].values[0] for code, frame in grouper]\n",
    "        }\n",
    "gdf = gpd.GeoDataFrame(data)\n",
    "\n",
    "gdf[\"hoogtebovenzijde\"] = gdf[\"hoogteonderzijde\"] + 1\n",
    "\n",
    "gdf[\"dwarsprofielcode\"] = gdf[\"code\"].apply(lambda x: f\"PRO_{x}\")\n",
    "gdf[\"intreeverlies\"] = 0.7\n",
    "gdf[\"uittreeverlies\"] = 0.7\n",
    "gdf[\"ruwheidstypecode\"] = 4\n",
    "gdf[\"ruwheidswaarde\"] = 70\n",
    "\n",
    "gdf = gdf.loc[gdf[\"dwarsprofielcode\"].isin(hydamo.parametrised_profiles.index)]\n",
    "\n",
    "hydamo.bridges.set_data(gdf, index_col=\"code\", check_columns=True, check_geotype=False)\n",
    "hydamo.bridges.snap_to_branch(hydamo.branches, snap_method=\"overal\", maxdist=1)\n",
    "hydamo.bridges.dropna(axis=0, inplace=True, subset=[\"branch_offset\"])"
   ]
  },
  {
   "cell_type": "markdown",
   "metadata": {},
   "source": [
    "### Aanmaken sluizen (als duiker)\n",
    "\n",
    "Sluizen worden toegevoegd als hoge duikers (10m). Ontbrekende waarden worden als volgt ingevuld:\n",
    "- Aantal kokers = 1\n",
    "- Lengte = 20m\n",
    "- Breedte = breedte principe profiel onderliggende branch\n",
    "- BOK = hoogte principe profiel onderliggende branch"
   ]
  },
  {
   "cell_type": "code",
   "execution_count": 10,
   "metadata": {},
   "outputs": [],
   "source": [
    "sluices_gdf = hydrotools.read_file(\n",
    "    beheerregister.joinpath(invoerbestanden[\"sluizen\"]),\n",
    "    \"culverts\",\n",
    "    attribute_filter={\"SOORT\": [\"schutsluis naar een zijde\",\n",
    "                                \"overig\",\n",
    "                                \"schutsluis naar twee zijden\",\n",
    "                                \"uitwateringssluis/spuisluis\"],\n",
    "                     \"STATUS\": \"gerealiseerd\"},\n",
    "    keep_columns=[\"AANTAL_SLU\", \"SOORT\", \"branch_id\"],\n",
    "    column_mapping={\n",
    "        \"KOLKWIJDTE\": \"breedteopening\",\n",
    "        \"BOS_BENEDE\": \"hoogtebinnenonderkantbenedenstrooms\",\n",
    "        \"BOS_BOVEN\": \"hoogtebinnenonderkantbovenstrooms\",\n",
    "        \"KOLKLENGTE\": \"lengte\"},\n",
    "    snap_to_branches=snap_to_branches\n",
    "    )\n",
    "\n",
    "sluices_gdf.set_index(\"code\", inplace=True)\n",
    "sluices_gdf.replace({'0': None, 0: None}, inplace=True)\n",
    "sluices_gdf.loc[sluices_gdf[\"lengte\"].isnull(), \"lengte\"] = 20\n",
    "sluices_gdf.loc[sluices_gdf[\"aantal_slu\"].isnull(), \"aantal_slu\"] = 1\n",
    "sluices_gdf[\"breedteopening\"] = sluices_gdf.apply(\n",
    "    (lambda x: principe_profielen_df.loc[x[\"branch_id\"]][\n",
    "        \"bottomwidth\"] if not x[\"breedteopening\"] else x[\"breedteopening\"]), axis=1)\n",
    "\n",
    "sluices_gdf[\"hoogtebinnenonderkantbenedenstrooms\"] = sluices_gdf.apply(\n",
    "    (lambda x: principe_profielen_df.loc[x[\"branch_id\"]][\n",
    "        \"bottomlevel\"] if not x[\"hoogtebinnenonderkantbenedenstrooms\"] else x[\n",
    "            \"hoogtebinnenonderkantbenedenstrooms\"]), axis=1)\n",
    "\n",
    "sluices_gdf[\"hoogtebinnenonderkantbovenstrooms\"] = sluices_gdf.apply(\n",
    "    (lambda x: principe_profielen_df.loc[x[\"branch_id\"]][\n",
    "        \"bottomlevel\"] if not x[\"hoogtebinnenonderkantbovenstrooms\"] else x[\n",
    "            \"hoogtebinnenonderkantbovenstrooms\"]), axis=1)\n",
    "\n",
    "sluices_gdf.loc[:, \"vormcode\"] = \"rechthoekig\"\n",
    "sluices_gdf.loc[:, \"hoogteopening\"] = 10\n",
    "sluices_gdf[\"allowedflowdir\"] = sluices_gdf.apply((lambda x: richting_mapping[x[\"soort\"]]), axis=1)\n",
    "sluices_gdf.reset_index(inplace=True)\n",
    "\n",
    "sluices_gdf.loc[(sluices_gdf[\"code\"] == \"KSL011\"), \"breedteopening\"] = 120"
   ]
  },
  {
   "cell_type": "markdown",
   "metadata": {},
   "source": [
    "### Toevoegen duikers en siphons\n",
    "duikers en sifons worden samen met de sluizen als cuverts aan het HyDAMO object toegekend"
   ]
  },
  {
   "cell_type": "code",
   "execution_count": null,
   "metadata": {},
   "outputs": [],
   "source": [
    "culvert_groups = kwk_groups_df[kwk_groups_df[\"object_laag\"] == \"culverts\"][\"group_code\"]\n",
    "\n",
    "culverts_gdf = hydrotools.read_file(beheerregister.joinpath(invoerbestanden[\"duikers\"]),\n",
    "                                    \"culverts\",\n",
    "                                    snap_to_branches=snap_to_branches,\n",
    "                                    attribute_filter={\"SOORT\": \"tussenduiker\"},\n",
    "                                    column_mapping={\"hoogte_a1\": \"hoogteopening\",\n",
    "                                                    \"breedte\": \"breedteopening\",\n",
    "                                                    \"bok_benede\": \"hoogtebinnenonderkantbenedenstrooms\",\n",
    "                                                    \"bok_boven\": \"hoogtebinnenonderkantbovenstrooms\",\n",
    "                                                    \"vorm\": \"vormcode\"})\n",
    "\n",
    "# aanmaken culverts die niet op branch liggen, maar wel horen bij een groep\n",
    "grouped_culverts_gdf = hydrotools.read_file(beheerregister.joinpath(invoerbestanden[\"duikers\"]),\n",
    "                                    \"culverts\",\n",
    "                                    attribute_filter={\"SOORT\": \"tussenduiker\"},\n",
    "                                    column_mapping={\"hoogte_a1\": \"hoogteopening\",\n",
    "                                                    \"breedte\": \"breedteopening\",\n",
    "                                                    \"bok_benede\": \"hoogtebinnenonderkantbenedenstrooms\",\n",
    "                                                    \"bok_boven\": \"hoogtebinnenonderkantbovenstrooms\",\n",
    "                                                    \"vorm\": \"vormcode\"})\n",
    "\n",
    "grouped_culverts_gdf = grouped_culverts_gdf.loc[\n",
    "    grouped_culverts_gdf[\"code\"].isin(culvert_groups.index)\n",
    "    ]\n",
    "\n",
    "grouped_culverts_gdf = grouped_culverts_gdf.loc[\n",
    "    ~grouped_culverts_gdf[\"code\"].isin(culverts_gdf[\"code\"])\n",
    "    ]\n",
    "\n",
    "siphons_gdf = hydrotools.read_file(beheerregister.joinpath(invoerbestanden[\"sifons\"]),\n",
    "                                   \"culverts\",\n",
    "                                   snap_to_branches=snap_to_branches,\n",
    "                                   column_mapping={\"hoogte\": \"hoogteopening\",\n",
    "                                                   \"breedte\": \"breedteopening\",\n",
    "                                                   \"bok_benede\":\"hoogtebinnenonderkantbenedenstrooms\",\n",
    "                                                   \"bok_boven\":\"hoogtebinnenonderkantbovenstrooms\",\n",
    "                                                   \"vorm\":\"vormcode\"})\n",
    "\"opruimen ten onrechte behouden sifons\"\n",
    "siphons_gdf = siphons_gdf.loc[~siphons_gdf[\"code\"].isin([\"KSY118\",\n",
    "                                                         \"KSY102\",\n",
    "                                                         \"KSY103\",\n",
    "                                                         \"KSY114\",\n",
    "                                                         \"KSY115\",\n",
    "                                                         \"KSY126\",\n",
    "                                                         \"KSY135\",\n",
    "                                                         \"KSY140\",\n",
    "                                                         \"KSY144\",\n",
    "                                                         \"KSY176\"])]\n",
    "\n",
    "\"toevoegen ten onrechte weggegooide sifons\"\n",
    "siphons_patch_gdf = hydrotools.read_file(beheerregister.joinpath(invoerbestanden[\"sifons\"]),\n",
    "                                   \"culverts\",\n",
    "                                   column_mapping={\"hoogte\": \"hoogteopening\",\n",
    "                                                   \"breedte\": \"breedteopening\",\n",
    "                                                   \"bok_benede\":\"hoogtebinnenonderkantbenedenstrooms\",\n",
    "                                                   \"bok_boven\":\"hoogtebinnenonderkantbovenstrooms\",\n",
    "                                                   \"vorm\":\"vormcode\"})\n",
    "\n",
    "siphons_patch_gdf = siphons_patch_gdf.loc[siphons_patch_gdf[\"code\"].isin([\"KSY101\",\"KSY129\"])]\n",
    "\n",
    "gdf = gpd.GeoDataFrame(pd.concat([\n",
    "    sluices_gdf, culverts_gdf, grouped_culverts_gdf, siphons_gdf, siphons_patch_gdf\n",
    "    ], ignore_index=True))\n",
    "\n",
    "\n",
    "\n",
    "gdf.loc[gdf['vormcode'].isnull(), 'vormcode'] = 'onbekend'\n",
    "gdf.loc[:, 'vormcode'] = gdf.apply((lambda x: vorm_mapping[x['vormcode'].lower()]), axis=1)\n",
    "\n",
    "gdf[\"intreeverlies\"] = 0.7\n",
    "gdf[\"uittreeverlies\"] = 0.7\n",
    "gdf[\"ruwheidswaarde\"] = 70\n",
    "gdf[\"ruwheidstypecode\"] = 4\n",
    "\n",
    "hydamo.culverts.set_data(gdf, index_col=\"code\", check_columns=True, check_geotype=True)\n",
    "hydamo.culverts.snap_to_branch(hydamo.branches, snap_method=\"ends\", maxdist=25)\n",
    "hydamo.culverts.dropna(axis=0, inplace=True, subset=[\"branch_offset\"])\n",
    "\n",
    "hydamo.culverts.loc[hydamo.culverts[\"lengte\"].isna(), \"lengte\"] = 20\n",
    "hydamo.culverts.loc[hydamo.culverts[\"allowedflowdir\"].isna(), \"allowedflowdir\"] = \"both\"\n",
    "\n",
    "# oplossen fouten in data, duiker op bodem waterloop leggen als 0\n",
    "hydamo.culverts['hoogtebinnenonderkantbenedenstrooms'] = hydamo.culverts.apply(\n",
    "    (lambda x: x['hoogtebinnenonderkantbenedenstrooms']\n",
    "     if x['hoogtebinnenonderkantbenedenstrooms'] != 0\n",
    "     else principe_profielen_df.loc[x[\"branch_id\"]]['bottomlevel']),\n",
    "    axis=1\n",
    "    )\n",
    "\n",
    "hydamo.culverts['hoogtebinnenonderkantbovenstrooms'] = hydamo.culverts.apply(\n",
    "    (lambda x: x['hoogtebinnenonderkantbovenstrooms']\n",
    "     if x['hoogtebinnenonderkantbovenstrooms'] != 0\n",
    "     else principe_profielen_df.loc[x[\"branch_id\"]]['bottomlevel']),\n",
    "    axis=1\n",
    "    )"
   ]
  },
  {
   "cell_type": "markdown",
   "metadata": {},
   "source": [
    "### Toevoegen stuwen"
   ]
  },
  {
   "cell_type": "code",
   "execution_count": null,
   "metadata": {},
   "outputs": [],
   "source": [
    "stuwen_ignore = [\"KST0338\"]\n",
    "\n",
    "gdf = hydrotools.read_file(beheerregister.joinpath(invoerbestanden[\"stuwen\"]),\n",
    "                           \"weirs\",\n",
    "                           attribute_filter={\"kwkstatu\": 300,\n",
    "                                            \"kstregel\": [1, 2, 3, 4]},\n",
    "                           column_mapping={\"kstident\": \"code\",\n",
    "                                           \"kstsoort\": \"soortstuwcode\",\n",
    "                                           \"kstdsbre\": \"laagstedoorstroombreedte\",\n",
    "                                           \"kstmikho\": \"laagstedoorstroomhoogte\",\n",
    "                                           \"kstregel\": \"soortregelbaarheidcode\"},\n",
    "                          keep_columns=[\"KSTMIKHO\", \"KSTMAXKR\", \"GPG_BOVEN\"])\n",
    "\n",
    "gdf = gdf.loc[~gdf[\"code\"].isin(stuwen_ignore)]\n",
    "\n",
    "gdf[\"afvoercoefficient\"] = 1\n",
    "\n",
    "hydamo.weirs.set_data(gdf, index_col=\"code\", check_columns=True, check_geotype=True)\n",
    "hydamo.weirs.snap_to_branch(hydamo.branches, snap_method=\"overal\", maxdist=0.5)\n",
    "hydamo.weirs.dropna(axis=0, inplace=True, subset=[\"branch_offset\"])\n",
    "\n",
    "#fouten wegwerken uit data\n",
    "hydamo.weirs[\"laagstedoorstroombreedte\"] = hydamo.weirs[\"laagstedoorstroombreedte\"].apply(lambda x: 0.1 if x == 0 else x)\n",
    "hydamo.weirs[\"laagstedoorstroomhoogte\"] = hydamo.weirs.apply(\n",
    "    (lambda x: principe_profielen_df.loc[x[\"branch_id\"]][\n",
    "        \"bottomlevel\"] + 0.1 if x[\"laagstedoorstroomhoogte\"] == 0 else x[\"laagstedoorstroomhoogte\"]), axis = 1)"
   ]
  },
  {
   "cell_type": "markdown",
   "metadata": {},
   "source": [
    "### Toevoegen inlaten als orifice"
   ]
  },
  {
   "cell_type": "code",
   "execution_count": null,
   "metadata": {},
   "outputs": [],
   "source": [
    "inlaten_gdf = hydrotools.read_file(beheerregister.joinpath(invoerbestanden[\"inlaten\"]),\n",
    "                                   \"orifices\",\n",
    "                                   snap_to_branches=snap_to_branches,\n",
    "                                   column_mapping={\"KWKKERHG\": \"laagstedoorstroomhoogte\",\n",
    "                                                  \"kwkident\": \"code\"})\n",
    "\n",
    "hydamo.orifices.set_data(inlaten_gdf, index_col=\"code\", check_columns=False, check_geotype=True)\n",
    "hydamo.orifices.snap_to_branch(hydamo.branches, snap_method=\"overal\", maxdist=0.5)\n",
    "hydamo.orifices.dropna(axis=0, inplace=True, subset=[\"branch_offset\"])\n",
    "\n",
    "hydamo.orifices[\"laagstedoorstroomhoogte\"] = hydamo.orifices.apply(\n",
    "    (lambda x: principe_profielen_df.loc[x[\"branch_id\"]][\n",
    "        \"bottomlevel\"] + 0.1 if x[\"laagstedoorstroomhoogte\"] == 0 else x[\"laagstedoorstroomhoogte\"]), axis = 1)\n",
    "hydamo.orifices['laagstedoorstroombreedte'] = 0.3\n",
    "hydamo.orifices['schuifhoogte'] = hydamo.orifices[\"laagstedoorstroomhoogte\"]\n",
    "hydamo.orifices['afvoercoefficient'] = 0.7"
   ]
  },
  {
   "cell_type": "markdown",
   "metadata": {},
   "source": [
    "### Kunstwerken opruimen\n",
    "\n",
    "Opruimen in de volgende volgorde.\n",
    "- Als er op een tak een brug binnen een rekenpuntafstand van een duiker ligt, dan verwijderen we die\n",
    "- Als er op een tak een duiker binnen een rekenpuntafstand van een gemaal ligt, dan verwijderen we die"
   ]
  },
  {
   "cell_type": "code",
   "execution_count": null,
   "metadata": {},
   "outputs": [],
   "source": [
    "gdf = hydamo.bridges.loc[\n",
    "        hydamo.bridges.apply(\n",
    "        hydrotools.filter_to_other_object,\n",
    "        args=(hydamo.culverts, rekenpunt_afstand),\n",
    "        axis=1)\n",
    "    ]\n",
    "hydamo.bridges.set_data(gdf, index_col=\"code\", check_columns=True, check_geotype=False)\n",
    "\n",
    "gdf = hydamo.culverts.loc[\n",
    "        hydamo.culverts.apply(\n",
    "        hydrotools.filter_to_other_object,\n",
    "        args=(hydamo.gemalen, rekenpunt_afstand),\n",
    "        axis=1)\n",
    "    ]\n",
    "hydamo.culverts.set_data(gdf, index_col=\"code\", check_columns=True, check_geotype=False)"
   ]
  },
  {
   "cell_type": "markdown",
   "metadata": {},
   "source": [
    "### Toevoegen afsluitmiddelen"
   ]
  },
  {
   "cell_type": "code",
   "execution_count": null,
   "metadata": {},
   "outputs": [],
   "source": [
    "gdf = pd.DataFrame({\"code\": [],\n",
    "                    \"soortafsluitmiddelcode\": [],\n",
    "                    \"codegerelateerdobject\": []})\n",
    "\n",
    "hydamo.afsluitmiddel.set_data(gdf, index_col=\"code\")"
   ]
  },
  {
   "cell_type": "markdown",
   "metadata": {},
   "source": [
    "### Toevoegen sturing\n",
    "\n",
    "Voeg sturing toe uit peilgebieden-bestand. Alleen voor stuwen van typen 2,3,4 en gemalen, mits de gpg_boven kolom gevuld is met waarden die in de peilgebieden zijn gegeven."
   ]
  },
  {
   "cell_type": "code",
   "execution_count": null,
   "metadata": {},
   "outputs": [],
   "source": [
    "kst_gestuurd = hydamo.weirs.loc[\n",
    "    hydamo.weirs['soortregelbaarheidcode'].isin([2,3,4])\n",
    "    ]\n",
    "kst_gestuurd = kst_gestuurd[\"gpg_boven\"]\n",
    "kgm_gestuurd = hydamo.gemalen[\"gpg_boven\"]\n",
    "sturing_df = pd.DataFrame(pd.concat([kgm_gestuurd, kst_gestuurd], axis = 0))\n",
    "sturing_df.reset_index(inplace=True)\n",
    "sturing_df.rename({\"code\": \"codegerelateerdobject\"}, axis=1, inplace=True)\n",
    "sturing_df[\"code\"] = sturing_df.apply(\n",
    "    (lambda x: f'{x[\"codegerelateerdobject\"]}_{x[\"gpg_boven\"]}'),\n",
    "    axis=1\n",
    "    )\n",
    "\n",
    "gpg_gdf = hydrotools.read_file(beheerregister.joinpath(invoerbestanden[\"peilgebieden\"]),\n",
    "                                 \"sturing\",\n",
    "                                 column_mapping={\"GPGIDENT\": \"code\",\n",
    "                                                 \"OPVAFWZP\": \"streefwaarde\"\n",
    "                                                 })\n",
    "\n",
    "sturing_df.loc[~sturing_df[\"gpg_boven\"].isin(gpg_gdf[\"code\"]), \"gpg_boven\"] = None\n",
    "\n",
    "sturing_df.loc[:, \"streefwaarde\"] = sturing_df[\"gpg_boven\"].apply(\n",
    "    lambda x: gpg_gdf.set_index(\"code\").loc[x][\"streefwaarde\"] if x is not None else None\n",
    "    )\n",
    "\n",
    "# bij deze gemalen is geen (bestaande) gpg opgegeven\n",
    "sturing_df.loc[sturing_df[\"codegerelateerdobject\"].isin([\"HEA067\",\n",
    "                                                         \"WSF218\",\n",
    "                                                         \"WSF219\",\n",
    "                                                         \"KGM098\"]),\n",
    "               \"streefwaarde\"] = 10\n",
    "\n",
    "sturing_df.loc[:, \"bovenmarge\"] = sturing_df.apply(\n",
    "    (lambda x: hydamo.weirs.loc[x[\"codegerelateerdobject\"]][\"kstmaxkr\"] if x[\"codegerelateerdobject\"] in hydamo.weirs.index\n",
    "    else x[\"streefwaarde\"] + 0.05), axis=1)\n",
    "sturing_df.loc[:, \"ondermarge\"] = sturing_df.apply(\n",
    "    (lambda x: hydamo.weirs.loc[x[\"codegerelateerdobject\"]][\"laagstedoorstroomhoogte\"] if x[\"codegerelateerdobject\"] in hydamo.weirs.index\n",
    "    else x[\"streefwaarde\"] - 0.05), axis=1)\n",
    "sturing_df.loc[:, \"doelvariabelecode\"] = 1\n",
    "\n",
    "hydamo.sturing.set_data(sturing_df, index_col=\"code\")\n",
    "\n",
    "# hier ontbreekt ook een gpg\n",
    "hydamo.sturing.loc[\"KST0421_GPGKST1075\", \"streefwaarde\"] = -0.75"
   ]
  },
  {
   "cell_type": "markdown",
   "metadata": {},
   "source": [
    "### Exporteren\n",
    "\n",
    "Om het resultaat te beoordelen exporteren we alles naar shape-files. We slaan het hydamo object ook op als \"pickle\", zodat we bovenstaande stappen niet elke keer hoeven te herhalen"
   ]
  },
  {
   "cell_type": "code",
   "execution_count": null,
   "metadata": {},
   "outputs": [],
   "source": [
    "hydrotools.export_shapes(hydamo, path=Path(r\"./hydamo_shp/boezemmodel_v4\"))\n",
    "hydrotools.save_model(hydamo, file_name=Path(r\"./hydamo_model/boezemmodel_v4.pickle\"))\n"
   ]
  },
  {
   "cell_type": "markdown",
   "metadata": {},
   "source": [
    "## Converteren naar DFM\n",
    "\n",
    "### Aanmaken dfm-klasse"
   ]
  },
  {
   "cell_type": "code",
   "execution_count": null,
   "metadata": {},
   "outputs": [],
   "source": [
    "dfmmodel = DFlowFMModel()"
   ]
  },
  {
   "cell_type": "markdown",
   "metadata": {},
   "source": [
    "### Inlezen kunstwerken"
   ]
  },
  {
   "cell_type": "code",
   "execution_count": null,
   "metadata": {},
   "outputs": [],
   "source": [
    "#hydamo.gemalen = hydamo.gemalen.loc[hydamo.gemalen.index.isin(hydamo.sturing[\"codegerelateerdobject\"])]\n",
    "#hydamo.pumps = hydamo.pumps.loc[hydamo.pumps.index.isin(hydamo.sturing[\"codegerelateerdobject\"])]\n",
    "dfmmodel.structures.io.weirs_from_hydamo(hydamo.weirs,\n",
    "                                         sturing=hydamo.sturing,\n",
    "                                         yz_profiles=hydamo.crosssections,\n",
    "                                         parametrised_profiles=hydamo.parametrised_profiles)\n",
    "\n",
    "dfmmodel.structures.io.culverts_from_hydamo(hydamo.culverts,\n",
    "                                            hydamo.afsluitmiddel)\n",
    "\n",
    "dfmmodel.structures.io.orifices_from_hydamo(hydamo.orifices)\n",
    "\n",
    "dfmmodel.structures.io.bridges_from_hydamo(hydamo.bridges,\n",
    "                                           yz_profiles=hydamo.crosssections,\n",
    "                                           parametrised_profiles=hydamo.parametrised_profiles)\n",
    "\n",
    "dfmmodel.structures.io.orifices_from_hydamo(hydamo.orifices)\n",
    "\n",
    "dfmmodel.structures.io.pumps_from_hydamo(pompen=hydamo.pumps,\n",
    "                                         sturing=hydamo.sturing,\n",
    "                                         gemalen=hydamo.gemalen)\n",
    "\n",
    "for key, value in dfmmodel.structures.culverts.items():\n",
    "    value[\"allowedFlowDir\"] = hydamo.culverts.loc[key][\"allowedflowdir\"]"
   ]
  },
  {
   "cell_type": "markdown",
   "metadata": {},
   "source": [
    "### aanmaken compound structures"
   ]
  },
  {
   "cell_type": "code",
   "execution_count": null,
   "metadata": {},
   "outputs": [],
   "source": [
    "cmpnd_ids = [group for group, _ in kwk_groups_df.groupby(\"group_code\")]\n",
    "cmpnd_list = [df.index.to_list() for _, df in kwk_groups_df.groupby(\"group_code\")]\n",
    "dfmmodel.structures.io.compound_structures(cmpnd_ids, cmpnd_list)"
   ]
  },
  {
   "cell_type": "markdown",
   "metadata": {},
   "source": [
    "### Aanmaken 1D netwerk\n",
    "We maken een 1D model met een rekenpuntafstand van 250m"
   ]
  },
  {
   "cell_type": "code",
   "execution_count": null,
   "metadata": {},
   "outputs": [],
   "source": [
    "dfmmodel.network.set_branches(hydamo.branches)\n",
    "dfmmodel.network.generate_1dnetwork(one_d_mesh_distance=rekenpunt_afstand, seperate_structures=True)"
   ]
  },
  {
   "cell_type": "markdown",
   "metadata": {},
   "source": [
    "### Toevoegen cross-sections\n",
    "\n",
    "Toevoegen HyDAMO profielen"
   ]
  },
  {
   "cell_type": "code",
   "execution_count": null,
   "metadata": {},
   "outputs": [],
   "source": [
    "dfmmodel.crosssections.io.from_hydamo(\n",
    "    dwarsprofielen=hydamo.crosssections,\n",
    "    parametrised=hydamo.parametrised_profiles,\n",
    "    branches=hydamo.branches\n",
    ")"
   ]
  },
  {
   "cell_type": "markdown",
   "metadata": {},
   "source": [
    "# Toevoegen profielen voor Lauwersmeer uit bathymetrie\n",
    "\n",
    "We halen profielen uit de GeoTiff met bathymetrie hoogten."
   ]
  },
  {
   "cell_type": "code",
   "execution_count": null,
   "metadata": {},
   "outputs": [],
   "source": [
    "bathymetrie_raster = bathymetrie.joinpath(bathymetriebestanden['hoogte_raster'])\n",
    "bathymetrie_zones = bathymetrie.joinpath(bathymetriebestanden['zones'])\n",
    "\n",
    "stats = ['min']\n",
    "stats += ['percentile_{}'.format(perc) for perc in range(1, 5, 2)]\n",
    "stats += ['percentile_{}'.format(perc) for perc in range(5, 20, 5)]\n",
    "stats += ['percentile_{}'.format(perc) for perc in range(20, 80, 10)]\n",
    "stats += ['percentile_{}'.format(perc) for perc in range(80, 100, 2)]\n",
    "stats += ['max']\n",
    "\n",
    "gdf = gpd.read_file(bathymetrie_zones)\n",
    "\n",
    "with rasterio.open(bathymetrie_raster, \"r\") as src:\n",
    "    profile = src.profile\n",
    "    raster_data = src.read(1)\n",
    "    affine = src.transform\n",
    "    cell_area = profile['transform'][0]**2\n",
    "\n",
    "raster_stats = zonal_stats(gdf,\n",
    "                           raster_data,\n",
    "                           affine=affine,\n",
    "                           stats=stats,\n",
    "                           nodata=profile[\"nodata\"],\n",
    "                           raster_out=True)\n",
    "\n",
    "data = {}\n",
    "\n",
    "for idx, (_, row) in enumerate(gdf.iterrows()):\n",
    "    ident = row[\"ID\"]\n",
    "    branches = hydamo.branches.loc[\n",
    "         hydamo.branches[\"geometry\"].centroid.within(row[\"geometry\"])\n",
    "        ].index\n",
    "    length = hydamo.branches.loc[branches][\"geometry\"].length.sum()\n",
    "    data[ident] = {}\n",
    "    for stat in stats:\n",
    "        data[ident][\"z\"] = [raster_stats[idx][stat] for stat in stats]\n",
    "        data[ident]['area'] = [\n",
    "            np.sum(\n",
    "                raster_stats[idx]['mini_raster_array'] <= raster_stats[idx][stat]\n",
    "                ) * cell_area for stat in stats\n",
    "            ]\n",
    "\n",
    "    data[ident]['lenght'] = [item/length for item in data[ident]['area']]\n",
    "\n",
    "    z = list(reversed(data[ident][\"z\"])) + data[ident][\"z\"]\n",
    "    y = list(\n",
    "        -(np.array(data[ident][\"lenght\"]) / 2)[::-1]\n",
    "        ) + list(np.array(data[ident][\"lenght\"]) / 2)\n",
    "    yz = np.array(list(zip(y, z)))\n",
    "    mask = [True] + [not(item.all()) for item in np.equal(yz[1:], np.array(yz[:-1]))]\n",
    "    yz = np.array([item for idx, item in enumerate(yz) if mask[idx]])\n",
    "\n",
    "    definition = f\"PRO_{ident}\"\n",
    "    dfmmodel.crosssections.add_yz_definition(yz=yz,\n",
    "                                             thalweg=0,\n",
    "                                             roughnesstype='Manning',\n",
    "                                             roughnessvalue=0.035,\n",
    "                                             name=definition)\n",
    "\n",
    "    for branch in branches:\n",
    "        chainage = hydamo.branches.loc[branch][\"geometry\"].length/2\n",
    "        dfmmodel.crosssections.add_crosssection_location(branch,\n",
    "                                                         chainage,\n",
    "                                                         definition=definition)"
   ]
  },
  {
   "cell_type": "markdown",
   "metadata": {},
   "source": [
    "Toevoegen principeprofielen op takken die nog niet over een profiel beschikken"
   ]
  },
  {
   "cell_type": "code",
   "execution_count": null,
   "metadata": {},
   "outputs": [],
   "source": [
    "if len(dfmmodel.crosssections.get_branches_without_crosssection()) > 0:\n",
    "    print(\"adding trapezium profiles on branches with missing crosssections.\")\n",
    "    dfmmodel = hydrotools.add_trapeziums(dfmmodel, principe_profielen_df)"
   ]
  },
  {
   "cell_type": "markdown",
   "metadata": {},
   "source": [
    "### Toevoegen initiele condities"
   ]
  },
  {
   "cell_type": "code",
   "execution_count": null,
   "metadata": {},
   "outputs": [],
   "source": [
    "dfmmodel.external_forcings.set_initial_waterdepth(6)\n",
    "# gdf = gpd.GeoDataFrame.from_file(beheerregister.joinpath(invoerbestanden[\"peilgebieden\"]))\n",
    "# gdf = gdf.explode()\n",
    "# gdf[\"INDEX\"] = \"\"\n",
    "\n",
    "#for index, df in gdf.groupby(\"GPGIDENT\"):\n",
    "#    for idx, (_, row) in enumerate(df.iterrows()):\n",
    "#        if len(df) > 1:\n",
    "#            gdf.loc[row.name, 'INDEX'] = f\"{index}_{idx + 1:02d}\"\n",
    "#    else:\n",
    "#        gdf.loc[row.name, 'INDEX'] = index\n",
    "\n",
    "#gdf.set_index('INDEX', inplace=True)\n",
    "#gdf[\"waterlevel\"] = gdf[\"OPVAFWWP\"] + 0.2\n",
    "#dfmmodel.external_forcings.initial_waterlevel_polygons = gdf"
   ]
  },
  {
   "cell_type": "markdown",
   "metadata": {},
   "source": [
    "### Toevoegen randvoorwaarden"
   ]
  },
  {
   "cell_type": "code",
   "execution_count": null,
   "metadata": {},
   "outputs": [],
   "source": [
    "rvw_df = pd.read_excel(excelbestanden.joinpath(modelbestanden[\"randvoorwaarden\"]))\n",
    "\n",
    "for _,row in rvw_df.iterrows():\n",
    "    branch_id = row[\"BRANCH_ID\"]\n",
    "    pt = hydamo.branches.loc[branch_id][\"geometry\"].coords[int(row[\"COORD\"])]\n",
    "    series = pd.Series(data=[0.0, 0.0],\n",
    "                       index=[pd.Timestamp(\"2000-01-01\"),\n",
    "                              pd.Timestamp(\"2100-01-01\")]\n",
    "                       )\n",
    "    #Bij Cleveringsluizen setten we de randvoorwaarde op peil lauwersmeer\n",
    "    if branch_id == \"OAF005301\":\n",
    "        series = series - 0.93\n",
    "    dfmmodel.external_forcings.add_boundary_condition(name=f\"BND_{branch_id}\",\n",
    "                                                      pt=pt,\n",
    "                                                      bctype=row[\"TYPE\"],\n",
    "                                                      series=series)"
   ]
  },
  {
   "cell_type": "markdown",
   "metadata": {},
   "source": [
    "### Wegschrijven model\n",
    "\n",
    "Note: in boundaries.bc gaat in versi 1.1.3 van delft3dfmpy iets fout:\n",
    "2000-01-01 00:00:00 wordt 2000-01-01 :00:00. Hier crashed de interface van D-Hydro op"
   ]
  },
  {
   "cell_type": "code",
   "execution_count": null,
   "metadata": {},
   "outputs": [],
   "source": [
    "dfmmodel.mdu_parameters[\"refdate\"] = 20000101\n",
    "dfmmodel.mdu_parameters[\"tstart\"] = 0.0 * 3600\n",
    "dfmmodel.mdu_parameters[\"tstop\"] = 10 * 24 * 3600\n",
    "dfmmodel.mdu_parameters[\"hisinterval\"] = \"600. 0. 0.\"\n",
    "dfmmodel.mdu_parameters[\"mapinterval\"] = \"600. 0. 0.\"\n",
    "dfmmodel.mdu_parameters[\"wrirst_bnd\"] = 0\n",
    "dfmmodel.mdu_parameters[\"cflmax\"] = 0.7\n",
    "dfmmodel.mdu_parameters[\"outputdir\"] = \"output_initialisatie\"\n",
    "\n",
    "dfmmodel.dimr_path = dimr_path\n",
    "fm_writer = DFlowFMWriter(dfmmodel, output_dir=r\"modellen\\boezemmodel\", name=\"boezemmodel\")\n",
    "\n",
    "fm_writer.objects_to_ldb()\n",
    "fm_writer.write_all()\n",
    "\n",
    "if Path(r\"modellen\\boezemmodel\\fm\\boezemmodel.mdu\").exists():\n",
    "    print(\"Model is weggeschreven\")\n",
    "else:\n",
    "    print(\"Er is geen model geschreven. Waarschijnlijk is iets fout gegaan\")"
   ]
  },
  {
   "cell_type": "markdown",
   "metadata": {},
   "source": [
    "## Importeren in de D-Hydro suite\n",
    "\n",
    "Open het model nu in D-Hydro:\n",
    "1. Open een \"Empty Project\"\n",
    "2. In de \"Home\" ribbon, ga naar \"Import\" en selecteer \"Flow Flexible Mesh Model\"\n",
    "3. Selecteer het bestand \"boezemmodel.mdu\" in \".\\dfm_model\\fm\\boezemmodel.mdu\"\n",
    "4. Wacht tot het model is geimporteerd.....\n",
    "\n",
    "Het geimporteerde model is nu zichtbaar in de D-Hydro suite\n",
    "<img src=\"png/boezemmodel.png\"/>"
   ]
  }
 ],
 "metadata": {
  "kernelspec": {
   "display_name": "Python 3",
   "language": "python",
   "name": "python3"
  },
  "language_info": {
   "codemirror_mode": {
    "name": "ipython",
    "version": 3
   },
   "file_extension": ".py",
   "mimetype": "text/x-python",
   "name": "python",
   "nbconvert_exporter": "python",
   "pygments_lexer": "ipython3",
   "version": "3.7.10"
  }
 },
 "nbformat": 4,
 "nbformat_minor": 4
}
