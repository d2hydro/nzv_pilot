{
 "cells": [
  {
   "cell_type": "markdown",
   "metadata": {},
   "source": [
    "## Introductie\n",
    "\n",
    "Met deze notebook bouw je een boezemmodel voor Nooderzijlvest.\n",
    "\n",
    "Zorg dat je beschikt over een werkende Python installatie en <a href=\"https://github.com/openearth/delft3dfmpy#installation\">D-HYDAMO omgeving</a>. Het resulterende model moet geimporteerd kunnen worden in D-HYDRO versie 0.9.7.52006 of hoger.\n",
    "\n",
    "Alle code die specifiek is gemaakt voor deze modelbouw is geschreven in het Nederlands. Code die specifiek relateert aan D-HYDAMO of D-HYDRO is geschreven in het Engels."
   ]
  },
  {
   "cell_type": "markdown",
   "metadata": {},
   "source": [
    "## Controle bestanden\n",
    "\n",
    "Alle bestanden die gebruikt worden in deze tutorial staan in het code-blok hieronder. Wanneer je dit codeblok uitvoert wordt de aanwezigheid van deze bestanden gecontroleerd."
   ]
  },
  {
   "cell_type": "code",
   "execution_count": 1,
   "metadata": {
    "scrolled": true
   },
   "outputs": [],
   "source": [
    "from pathlib import Path\n",
    "\n",
    "beheerregister_pad = Path(r\".\\beheerregister\").absolute().resolve()\n",
    "\n",
    "invoerbestanden = {\"modelgebied\": \"Bemalings_en_lozingsgebieden.shp\",\n",
    "                   \"branches\": \"Afaanvoervakken_DHYDRO_v3.shp\",\n",
    "                   \"profielpunten\": \"profielpunten_alles_10dec2020.shp\",\n",
    "                   \"bruggen\": \"Bruggen_(doorstroomopeningen).shp\",\n",
    "                   \"duikers\": \"duikers.shp\",\n",
    "                   \"sifons\": \"sifons.shp\",\n",
    "                   \"stuwen\": \"stuwen.shp\",\n",
    "                   \"inlaten\": \"inlaten.shp\",\n",
    "                   \"gemalen\": \"gemalen.shp\",\n",
    "                   \"peilgebieden\": \"Peilgebieden.shp\"}\n",
    "\n",
    "for key, item in invoerbestanden.items():\n",
    "    if not beheerregister_pad.joinpath(item).exists():\n",
    "        print(f\"bestand voor {key} bestaat niet: {beheerregister_pad.joinpath(item)}\")"
   ]
  },
  {
   "cell_type": "markdown",
   "metadata": {},
   "source": [
    "## Aanmaken HYDAMO object\n",
    "\n",
    "Alle benodigde modules worden geimporteerd en het HYDAMO object wordt aangemaakt bij het uitvoeren van onderstaand code-blok"
   ]
  },
  {
   "cell_type": "code",
   "execution_count": 2,
   "metadata": {},
   "outputs": [],
   "source": [
    "from delft3dfmpy import DFlowFMModel, HyDAMO, Rectangular, DFlowFMWriter\n",
    "from delft3dfmpy import DFlowRRModel, DFlowRRWriter\n",
    "from delft3dfmpy.datamodels.common import ExtendedGeoDataFrame\n",
    "import hkvsobekpy\n",
    "import hydrotools\n",
    "import geopandas as gpd\n",
    "import matplotlib.pyplot as plt\n",
    "from matplotlib.collections import LineCollection\n",
    "import pandas as pd\n",
    "from shapely.geometry import Polygon, LineString, Point\n",
    "from shapely.ops import snap\n",
    "\n",
    "hydamo = HyDAMO(extent_file=str(beheerregister_pad.joinpath(invoerbestanden[\"modelgebied\"])))"
   ]
  },
  {
   "cell_type": "markdown",
   "metadata": {},
   "source": [
    "## Toevoegen waterlopen\n",
    "\n",
    "De waterlopen (branches) worden toegevoegd met volgend code-blok:\n",
    "* de branches worden toegekend aan het hydamo-object\n",
    "* een HyDAMO ruwheidscode (4 = manning) wordt toegekend\n",
    "* de eindpunten van de branches worden gesnapped binnen een tolerantie van 1m. De coordinaten worden ook afgerond op 1m."
   ]
  },
  {
   "cell_type": "code",
   "execution_count": 3,
   "metadata": {},
   "outputs": [],
   "source": [
    "gdf = hydrotools.read_file(beheerregister_pad.joinpath(invoerbestanden[\"branches\"]),\n",
    "                           \"branches\",\n",
    "                           attribute_filter={\"HydroModel\": \"Boezemmodel_v4\"},\n",
    "                           column_mapping={\"OVKIDENT\": \"code\"},\n",
    "                           )\n",
    "\n",
    "hydamo.branches.set_data(gdf, index_col=\"code\", check_columns=True, check_geotype=True)\n",
    "hydamo.branches[\"ruwheidstypecode\"] = 4\n",
    "\n",
    "hydamo.branches = hydrotools.snap_ends(hydamo.branches, tolerance=1, digits=1)"
   ]
  },
  {
   "cell_type": "markdown",
   "metadata": {},
   "source": [
    "## Toevoegen yz-profielen\n",
    "De yz-profielen worden ingeladen:\n",
    "* De profielpunten worden geopend\n",
    "* de punten worden geordend en geconverteerd naar polylinen met een xyz coordinaten\n",
    "* toekennen ruwheid (manning = 35)\n",
    "* lijnen langer dan 500m worden weggegooid, omdat er soms kademuren PRO_TYPE = PRO hebben gekregen\n",
    "* lijnen worden toegekend aan het HyDAMO object\n",
    "* lijnen die niet snappen met de branches, worden weggegooid\n",
    "\n",
    "ToDo:\n",
    "* verbeteren toekenning ruwheid"
   ]
  },
  {
   "cell_type": "code",
   "execution_count": 5,
   "metadata": {},
   "outputs": [],
   "source": [
    "gdf = hydrotools.read_file(beheerregister_pad.joinpath(invoerbestanden[\"profielpunten\"]),\n",
    "                           \"crosssections\",\n",
    "                           attribute_filter={\"osmomsch_1\": [\"WL\", \"Z1\"],\n",
    "                                             \"PRO_TYPE\": \"PRO\"},\n",
    "                           column_mapping={\"PROIDENT\": \"code\",\n",
    "                                           \"IWS_VOLGNR\": \"order\",\n",
    "                                           \"OSMOMSCH_1\": \"category\",\n",
    "                                           \"iws_hoogte\": \"z\"},\n",
    "                           z_coord=True\n",
    "                           )\n",
    "\n",
    "grouper = gdf.groupby(\"code\")\n",
    "profiles = dict()\n",
    "\n",
    "for code, prof_gdf in grouper:\n",
    "    prof_gdf = prof_gdf.sort_values(\"order\")\n",
    "    first_point = prof_gdf.iloc[0][\"geometry\"]\n",
    "    cum_dist = -1\n",
    "    line = []\n",
    "    for idx, (_, row) in enumerate(prof_gdf.iterrows()):\n",
    "        geom = row[\"geometry\"]\n",
    "        distance = geom.distance(first_point)\n",
    "        if distance > cum_dist:\n",
    "            cum_dist = distance\n",
    "            line += [(geom.x, geom.y, row[\"z\"])]\n",
    "\n",
    "    profiles[code] = [code, LineString(line)]\n",
    "\n",
    "profiles_gdf = gpd.GeoDataFrame.from_dict(profiles,\n",
    "                                          orient=\"index\",\n",
    "                                          columns=[\"code\",\n",
    "                                                   \"geometry\"]\n",
    "                                          )\n",
    "\n",
    "profiles_gdf[\"ruwheidstypecode\"] = 4\n",
    "profiles_gdf[\"ruwheidswaarde\"] = 35\n",
    "profiles_gdf[\"codegerelateerdobject\"] = None\n",
    "\n",
    "profiles_gdf = profiles_gdf.loc[profiles_gdf[\"geometry\"].length < 500]\n",
    "\n",
    "hydamo.crosssections.set_data(profiles_gdf,\n",
    "                              index_col=\"code\",\n",
    "                              check_columns=True,\n",
    "                              check_geotype=True)\n",
    "\n",
    "hydamo.crosssections.snap_to_branch(hydamo.branches, snap_method=\"intersecting\")\n",
    "hydamo.crosssections.dropna(axis=0, inplace=True, subset=[\"branch_offset\"])"
   ]
  },
  {
   "cell_type": "code",
   "execution_count": null,
   "metadata": {},
   "outputs": [],
   "source": []
  }
 ],
 "metadata": {
  "kernelspec": {
   "display_name": "Python 3",
   "language": "python",
   "name": "python3"
  },
  "language_info": {
   "codemirror_mode": {
    "name": "ipython",
    "version": 3
   },
   "file_extension": ".py",
   "mimetype": "text/x-python",
   "name": "python",
   "nbconvert_exporter": "python",
   "pygments_lexer": "ipython3",
   "version": "3.7.8"
  }
 },
 "nbformat": 4,
 "nbformat_minor": 4
}
