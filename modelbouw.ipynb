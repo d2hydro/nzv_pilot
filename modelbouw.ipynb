{
 "cells": [
  {
   "cell_type": "markdown",
   "metadata": {},
   "source": [
    "# D-Hydro Boezemmodel V4\n",
    "\n",
    "## Introductie\n",
    "\n",
    "Met deze notebook bouw je een boezemmodel voor Nooderzijlvest.\n",
    "\n",
    "Zorg dat je beschikt over een werkende Python installatie en <a href=\"https://github.com/openearth/delft3dfmpy#installation\">D-HYDAMO omgeving</a>. Het resulterende model moet geimporteerd kunnen worden in D-HYDRO versie 0.9.7.52006 of hoger.\n",
    "\n",
    "De verwijzing naar bestanden is geschreven in het Nederlands. De rest van de code is geschreven in het Engels. Elk code-blok is voorzien van uitleg boven het desbetreffende blok, geschreven in het Nederlands.\n",
    "\n",
    "Download de bestanden van <a href=\"https://drive.google.com/drive/folders/1BXNEwlEDCtShDj5KVuHQcukup-QLTuzR\">Google Drive</a> en zet deze in de folder .\\beheerregister"
   ]
  },
  {
   "cell_type": "markdown",
   "metadata": {},
   "source": [
    "## Controle bestanden\n",
    "\n",
    "Alle bestanden die gebruikt worden in deze tutorial staan in het code-blok hieronder. Wanneer je dit codeblok uitvoert wordt de aanwezigheid van deze bestanden gecontroleerd.\n",
    "\n"
   ]
  },
  {
   "cell_type": "code",
   "execution_count": 1,
   "metadata": {
    "scrolled": true
   },
   "outputs": [],
   "source": [
    "from pathlib import Path\n",
    "\n",
    "beheerregister = Path(r\".\\beheerregister\").absolute().resolve()\n",
    "\n",
    "invoerbestanden = {\"modelgebied\": \"Bemalings_en_lozingsgebieden.shp\",\n",
    "                   \"branches\": \"Afaanvoervakken_DHYDRO_v5.shp\",\n",
    "                   \"profielpunten\": \"profielpunten_3feb2021_actueel.shp\",\n",
    "                   \"bruggen\": \"Bruggen_(doorstroomopeningen).shp\",\n",
    "                   \"duikers\": \"duikers.shp\",\n",
    "                   \"sifons\": \"sifons.shp\",\n",
    "                   \"stuwen\": \"stuwen.shp\",\n",
    "                   \"inlaten\": \"inlaten.shp\",\n",
    "                   \"gemalen\": \"gemalen_v2.shp\",\n",
    "                   \"peilgebieden\": \"Peilgebieden.shp\"}\n",
    "\n",
    "vorm_mapping = dict(rond=1,\n",
    "                    driehoekig=1,\n",
    "                    rechthoekig=3,\n",
    "                    eivormig=1,\n",
    "                    ellips=1,\n",
    "                    Paraboolvormig=1,\n",
    "                    trapeziumvormig=1,\n",
    "                    heul=1,\n",
    "                    muil=3,\n",
    "                    langwerpig=1,\n",
    "                    scherp=1,\n",
    "                    onbekend=99,\n",
    "                    overig=99)\n",
    "\n",
    "for key, item in invoerbestanden.items():\n",
    "    if not beheerregister.joinpath(item).exists():\n",
    "        print(f\"bestand voor {key} bestaat niet: {beheerregister.joinpath(item)}\")\n",
    "\n",
    "dimr_path = r\"c:\\Program Files (x86)\\Deltares\\D-HYDRO Suite 1D2D (Beta) (0.9.7.52006)\\plugins\\DeltaShell.Dimr\\\"kernels\\x64\\dimr\\scripts\\run_dimr.bat\"\n"
   ]
  },
  {
   "cell_type": "markdown",
   "metadata": {},
   "source": [
    "## Inlezen beheerregister in HyDAMO\n",
    "\n",
    "### Aanmaken HyDAMO object\n",
    "\n",
    "Alle benodigde modules worden geimporteerd en het HYDAMO object wordt aangemaakt bij het uitvoeren van onderstaand code-blok"
   ]
  },
  {
   "cell_type": "code",
   "execution_count": 2,
   "metadata": {},
   "outputs": [],
   "source": [
    "from delft3dfmpy import DFlowFMModel, HyDAMO, Rectangular, DFlowFMWriter\n",
    "from delft3dfmpy import DFlowRRModel, DFlowRRWriter\n",
    "from delft3dfmpy.datamodels.common import ExtendedGeoDataFrame\n",
    "import hydrotools\n",
    "import geopandas as gpd\n",
    "import pandas as pd\n",
    "from shapely.geometry import LineString\n",
    "\n",
    "hydamo = HyDAMO(extent_file=str(beheerregister.joinpath(invoerbestanden[\"modelgebied\"])))"
   ]
  },
  {
   "cell_type": "markdown",
   "metadata": {},
   "source": [
    "### Toevoegen waterlopen\n",
    "\n",
    "De waterlopen (branches) worden toegevoegd met volgend code-blok:\n",
    "* de branches worden toegekend aan het hydamo-object\n",
    "* een HyDAMO ruwheidscode (4 = manning) wordt toegekend\n",
    "* de eindpunten van de branches worden gesnapped binnen een tolerantie van 1m. De coordinaten worden ook afgerond op 1m."
   ]
  },
  {
   "cell_type": "code",
   "execution_count": 3,
   "metadata": {},
   "outputs": [],
   "source": [
    "gdf = hydrotools.read_file(beheerregister.joinpath(invoerbestanden[\"branches\"]),\n",
    "                           \"branches\",\n",
    "                           keep_columns=[\"HydroModel\",\n",
    "                                         \"bodemhoogtebovenstrooms\",\n",
    "                                         \"bodembreedte\",\n",
    "                                         \"taludhellinglinkerzijde\",\n",
    "                                         \"taludhellingrechterzijde\",\n",
    "                                         \"IWS_W_WATB\"],\n",
    "                           column_mapping={\"OVKIDENT\": \"code\",\n",
    "                                           \"IWS_AVVHOB\": \"bodemhoogtebovenstrooms\",\n",
    "                                           \"AVVBODDR\": \"bodembreedte\",\n",
    "                                           \"AVVTALUL\": \"taludhellinglinkerzijde\",\n",
    "                                           \"AVVTALUR\": \"taludhellingrechterzijde\"}\n",
    "                          )\n",
    "\n",
    "hydamo.branches.set_data(gdf, index_col=\"code\", check_columns=True, check_geotype=True)\n",
    "hydamo.branches[\"ruwheidstypecode\"] = 4\n",
    "\n",
    "hydamo.branches = hydrotools.snap_ends(hydamo.branches, tolerance=1, digits=1)"
   ]
  },
  {
   "cell_type": "markdown",
   "metadata": {},
   "source": [
    "### Aanmaken principeprofielen\n",
    "Als terugvaloptie voor branches zonder profielen schrijven we principe profielen weg die we later in deze notebook gebruiken."
   ]
  },
  {
   "cell_type": "code",
   "execution_count": 4,
   "metadata": {},
   "outputs": [],
   "source": [
    "principe_profielen_df = hydrotools.get_trapeziums(gdf,\n",
    "                                                  \"code\",\n",
    "                                                  \"bodembreedte\",\n",
    "                                                  \"bodemhoogtebovenstrooms\",\n",
    "                                                  \"iws_w_watb\",\n",
    "                                                  \"taludhellinglinkerzijde\",\n",
    "                                                  \"taludhellingrechterzijde\")\n",
    "\n",
    "principe_profielen_df.to_excel(r\".\\xlsx\\principe_profielen.xlsx\")"
   ]
  },
  {
   "cell_type": "markdown",
   "metadata": {},
   "source": [
    "### Toevoegen yz-profielen\n",
    "De yz-profielen worden ingeladen:\n",
    "* De profielpunten worden geopend\n",
    "* de punten worden geordend en geconverteerd naar polylinen met een xyz coordinaten\n",
    "* toekennen ruwheid (manning = 35)\n",
    "* lijnen langer dan 500m worden weggegooid, omdat er soms kademuren PRO_TYPE = PRO hebben gekregen\n",
    "* lijnen worden toegekend aan het HyDAMO object\n",
    "* lijnen die niet snappen met de branches, worden weggegooid\n",
    "\n",
    "ToDo:\n",
    "* verbeteren toekenning ruwheid"
   ]
  },
  {
   "cell_type": "code",
   "execution_count": 5,
   "metadata": {},
   "outputs": [],
   "source": [
    "gdf = hydrotools.read_file(beheerregister.joinpath(invoerbestanden[\"profielpunten\"]),\n",
    "                           \"crosssections\",\n",
    "                           attribute_filter={\"osmomsch_1\": [\"WL\", \"Z1\"],\n",
    "                                             \"PRO_TYPE\": \"PRO\"},\n",
    "                           column_mapping={\"PROIDENT\": \"code\",\n",
    "                                           \"IWS_VOLGNR\": \"order\",\n",
    "                                           \"OSMOMSCH_1\": \"category\",\n",
    "                                           \"iws_hoogte\": \"z\"},\n",
    "                           z_coord=True\n",
    "                           )\n",
    "\n",
    "grouper = gdf.groupby(\"code\")\n",
    "profiles = dict()\n",
    "\n",
    "for code, prof_gdf in grouper:\n",
    "    prof_gdf = prof_gdf.sort_values(\"order\")  #Staan ook punten met zelfde order\n",
    "    first_point = prof_gdf.iloc[0][\"geometry\"]\n",
    "    cum_dist = -1\n",
    "    line = []\n",
    "    for idx, (_, row) in enumerate(prof_gdf.iterrows()):\n",
    "        geom = row[\"geometry\"]\n",
    "        distance = geom.distance(first_point)\n",
    "        if distance > cum_dist:\n",
    "            cum_dist = distance\n",
    "            line += [(geom.x, geom.y, row[\"z\"])]\n",
    "\n",
    "    profiles[code] = [code, LineString(line)]\n",
    "\n",
    "profiles_gdf = gpd.GeoDataFrame.from_dict(profiles,\n",
    "                                          orient=\"index\",\n",
    "                                          columns=[\"code\",\n",
    "                                                   \"geometry\"]\n",
    "                                          )\n",
    "\n",
    "profiles_gdf[\"ruwheidstypecode\"] = 4\n",
    "profiles_gdf[\"ruwheidswaarde\"] = 35\n",
    "profiles_gdf[\"codegerelateerdobject\"] = None\n",
    "\n",
    "profiles_gdf = profiles_gdf.loc[profiles_gdf[\"geometry\"].length < 500]\n",
    "\n",
    "hydamo.crosssections.set_data(profiles_gdf,\n",
    "                              index_col=\"code\",\n",
    "                              check_columns=True,\n",
    "                              check_geotype=True)\n",
    "\n",
    "hydamo.crosssections.snap_to_branch(hydamo.branches, snap_method=\"intersecting\")\n",
    "hydamo.crosssections.dropna(axis=0, inplace=True, subset=[\"branch_offset\"])"
   ]
  },
  {
   "cell_type": "markdown",
   "metadata": {},
   "source": [
    "### Toevoegen geparameteriseerde profielen\n",
    "\n",
    "Per brug moet er een profiel worden toegevoegd"
   ]
  },
  {
   "cell_type": "code",
   "execution_count": 6,
   "metadata": {
    "code_folding": []
   },
   "outputs": [],
   "source": [
    "gdf = hydrotools.read_file(beheerregister.joinpath(invoerbestanden[\"bruggen\"]),\n",
    "                           \"parametrised_profiles\",\n",
    "                           column_mapping={\"bodemh_bov\": \"bodemhoogtebovenstrooms\",\n",
    "                                           \"bodemh_ben\": \"bodemhoogtebenedenstrooms\",\n",
    "                                           \"doorstroom\": \"bodembreedte\",\n",
    "                                           \"hoogte_ond\": \"hoogteinsteeklinkerzijde\",\n",
    "                                           })\n",
    "\n",
    "grouper = gdf.groupby(\"code\")\n",
    "data = {item: [] for item in [\"code\",\n",
    "                              \"bodemhoogtebovenstrooms\",\n",
    "                              \"bodemhoogtebenedenstrooms\",\n",
    "                              \"bodembreedte\",\n",
    "                              \"hoogteinsteeklinkerzijde\",\n",
    "                              \"geometry\",\n",
    "                              \"codegerelateerdobject\"]}\n",
    "\n",
    "for code, df in grouper:\n",
    "    data[\"code\"] += [f\"PRO_{code}\"]\n",
    "    data[\"codegerelateerdobject\"] += [code]\n",
    "    for item in [\"bodemhoogtebovenstrooms\",\n",
    "                 \"bodemhoogtebenedenstrooms\",\n",
    "                 \"hoogteinsteeklinkerzijde\",\n",
    "                 \"geometry\"]:\n",
    "        data[item] += [df.iloc[0][item]]\n",
    "    data[\"bodembreedte\"] += [df['bodembreedte'].sum()]\n",
    "\n",
    "gdf = gpd.GeoDataFrame(data)\n",
    "gdf[\"geometry\"] = gdf.apply((lambda x: LineString([[x[\"geometry\"].x-0.1,\n",
    "                                                    x[\"geometry\"].y-0.1],\n",
    "                                                  [x[\"geometry\"].x+0.1,\n",
    "                                                   x[\"geometry\"].y+0.1]])),\n",
    "                            axis=1)\n",
    "\n",
    "gdf[\"hoogteinsteekrechterzijde\"] = gdf[\"hoogteinsteeklinkerzijde\"]\n",
    "gdf[\"ruwheidswaarde\"] = 15\n",
    "gdf[\"ruwheidstypecode\"] = 4\n",
    "gdf[\"taludhellinglinkerzijde\"] = 1\n",
    "gdf[\"taludhellingrechterzijde\"] = 1\n",
    "\n",
    "hydamo.parametrised_profiles.set_data(gdf,\n",
    "                                      index_col=\"code\",\n",
    "                                      check_columns=True,\n",
    "                                      check_geotype=False)"
   ]
  },
  {
   "cell_type": "markdown",
   "metadata": {},
   "source": [
    "### Toevoegen bruggen\n",
    "Per brug moet er een profiel worden toegevoegd"
   ]
  },
  {
   "cell_type": "code",
   "execution_count": 7,
   "metadata": {},
   "outputs": [],
   "source": [
    "gdf = hydrotools.read_file(beheerregister.joinpath(invoerbestanden[\"bruggen\"]),\n",
    "                           \"bridges\",\n",
    "                           column_mapping={\"doorstro_2\": \"lengte\",\n",
    "                                           \"bodemh_bov\": \"hoogteonderzijde\"})\n",
    "\n",
    "grouper = gdf.groupby(\"code\")\n",
    "data = {\"code\": [code for code, frame in grouper],\n",
    "        \"hoogteonderzijde\": [frame[\"hoogteonderzijde\"].values[0] for code,\n",
    "                             frame in grouper],\n",
    "        \"lengte\": [frame[\"lengte\"].values[0] for code, frame in grouper],\n",
    "        \"geometry\": [frame[\"geometry\"].values[0] for code, frame in grouper]\n",
    "        }\n",
    "gdf = gpd.GeoDataFrame(data)\n",
    "\n",
    "gdf[\"hoogtebovenzijde\"] = gdf[\"hoogteonderzijde\"] + 1\n",
    "\n",
    "gdf[\"dwarsprofielcode\"] = gdf[\"code\"].apply(lambda x: f\"PRO_{x}\")\n",
    "gdf[\"intreeverlies\"] = 0.7\n",
    "gdf[\"uittreeverlies\"] = 0.7\n",
    "gdf[\"ruwheidstypecode\"] = 4\n",
    "gdf[\"ruwheidswaarde\"] = 70\n",
    "\n",
    "hydamo.bridges.set_data(gdf, index_col=\"code\", check_columns=True, check_geotype=False)\n",
    "hydamo.bridges.snap_to_branch(hydamo.branches, snap_method=\"overal\", maxdist=5)\n",
    "hydamo.bridges.dropna(axis=0, inplace=True, subset=[\"branch_offset\"])"
   ]
  },
  {
   "cell_type": "markdown",
   "metadata": {},
   "source": [
    "### Toevoegen duikers en siphons\n",
    "duikers en sifons worden als cuverts aan het HyDAMO object toegekend\n",
    "\n",
    "ToDo\n",
    "* vorm moet naar HyDAMO codering worden omgeschreven"
   ]
  },
  {
   "cell_type": "code",
   "execution_count": 8,
   "metadata": {},
   "outputs": [],
   "source": [
    "culverts_gdf = hydrotools.read_file(beheerregister.joinpath(invoerbestanden[\"duikers\"]),\n",
    "                                    \"culverts\",\n",
    "                                    column_mapping={\"hoogte_a1\": \"hoogteopening\",\n",
    "                                                    \"breedte\": \"breedteopening\",\n",
    "                                                    \"bok_benede\": \"hoogtebinnenonderkantbenedenstrooms\",\n",
    "                                                    \"bok_boven\": \"hoogtebinnenonderkantbovenstrooms\",\n",
    "                                                    \"vorm\": \"vormcode\"})\n",
    "\n",
    "siphons_gdf = hydrotools.read_file(beheerregister.joinpath(invoerbestanden[\"sifons\"]),\n",
    "                                   \"culverts\",\n",
    "                                   column_mapping={\"hoogte\": \"hoogteopening\",\n",
    "                                                   \"breedte\": \"breedteopening\",\n",
    "                                                   \"bok_benede\":\"hoogtebinnenonderkantbenedenstrooms\",\n",
    "                                                   \"bok_boven\":\"hoogtebinnenonderkantbovenstrooms\",\n",
    "                                                   \"vorm\":\"vormcode\"})\n",
    "\n",
    "gdf = gpd.GeoDataFrame(pd.concat([culverts_gdf,siphons_gdf], ignore_index=True))\n",
    "\n",
    "gdf.loc[gdf['vormcode'].isnull(), 'vormcode'] = 'onbekend'\n",
    "gdf.loc[:, 'vormcode'] = gdf.apply((lambda x: vorm_mapping[x['vormcode'].lower()]), axis=1)\n",
    "\n",
    "gdf[\"intreeverlies\"] = 0.7\n",
    "gdf[\"uittreeverlies\"] = 0.7\n",
    "gdf[\"ruwheidswaarde\"] = 70\n",
    "gdf[\"ruwheidstypecode\"] = 4\n",
    "\n",
    "hydamo.culverts.set_data(gdf, index_col=\"code\", check_columns=True, check_geotype=True)\n",
    "hydamo.culverts.snap_to_branch(hydamo.branches, snap_method=\"ends\", maxdist=5)\n",
    "hydamo.culverts.dropna(axis=0, inplace=True, subset=[\"branch_offset\"])\n",
    "\n",
    "hydamo.culverts.loc[hydamo.culverts[\"lengte\"].isna(), \"lengte\"] = 20"
   ]
  },
  {
   "cell_type": "markdown",
   "metadata": {},
   "source": [
    "### Toevoegen stuwen"
   ]
  },
  {
   "cell_type": "code",
   "execution_count": 9,
   "metadata": {},
   "outputs": [],
   "source": [
    "gdf = hydrotools.read_file(beheerregister.joinpath(invoerbestanden[\"stuwen\"]),\n",
    "                           \"weirs\",\n",
    "                           column_mapping={\"kstident\": \"code\",\n",
    "                                           \"kstsoort\": \"soortstuwcode\",\n",
    "                                           \"kstkrubr\": \"laagstedoorstroombreedte\",\n",
    "                                           \"kstmikho\": \"laagstedoorstroomhoogte\",\n",
    "                                           \"kstregel\": \"soortregelbaarheidcode\"})\n",
    "\n",
    "gdf[\"afvoercoefficient\"] = 1\n",
    "\n",
    "hydamo.weirs.set_data(gdf, index_col=\"code\", check_columns=True, check_geotype=True)\n",
    "hydamo.weirs.snap_to_branch(hydamo.branches, snap_method=\"overal\", maxdist=10)\n",
    "hydamo.weirs.dropna(axis=0, inplace=True, subset=[\"branch_offset\"])"
   ]
  },
  {
   "cell_type": "markdown",
   "metadata": {},
   "source": [
    "### Toevoegen gemalen"
   ]
  },
  {
   "cell_type": "code",
   "execution_count": 10,
   "metadata": {},
   "outputs": [],
   "source": [
    "pumps_gdf = hydrotools.read_file(beheerregister.joinpath(invoerbestanden[\"gemalen\"]),\n",
    "                                 \"pumps\",\n",
    "                                 column_mapping={\"gecom_max_\": \"maximalecapaciteit\"})\n",
    "\n",
    "gemalen_gdf = pumps_gdf.copy()\n",
    "pumps_gdf[\"codegerelateerdobject\"] = pumps_gdf[\"code\"].copy()\n",
    "pumps_gdf[\"code\"] = [f\"PMP_{code}\" for code in pumps_gdf[\"code\"]]\n",
    "hydamo.gemalen.set_data(gemalen_gdf,\n",
    "                        index_col=\"code\",\n",
    "                        check_columns=True,\n",
    "                        check_geotype=True)\n",
    "hydamo.gemalen.snap_to_branch(hydamo.branches, snap_method=\"overal\", maxdist=5)\n",
    "hydamo.gemalen.dropna(axis=0, inplace=True, subset=[\"branch_offset\"])\n",
    "hydamo.pumps.set_data(pumps_gdf,\n",
    "                      index_col=\"code\",\n",
    "                      check_columns=True,\n",
    "                      check_geotype=True)\n",
    "hydamo.pumps.snap_to_branch(hydamo.branches, snap_method=\"overal\", maxdist=5)\n",
    "hydamo.pumps.dropna(axis=0, inplace=True, subset=[\"branch_offset\"])"
   ]
  },
  {
   "cell_type": "markdown",
   "metadata": {},
   "source": [
    "### Toevoegen afsluitmiddelen"
   ]
  },
  {
   "cell_type": "code",
   "execution_count": 11,
   "metadata": {},
   "outputs": [],
   "source": [
    "gdf = pd.DataFrame({\"code\": [],\n",
    "                    \"soortafsluitmiddelcode\": [],\n",
    "                    \"codegerelateerdobject\": []})\n",
    "\n",
    "hydamo.afsluitmiddel.set_data(gdf, index_col=\"code\")"
   ]
  },
  {
   "cell_type": "markdown",
   "metadata": {},
   "source": [
    "### Toevoegen sturing"
   ]
  },
  {
   "cell_type": "code",
   "execution_count": 12,
   "metadata": {},
   "outputs": [],
   "source": [
    "gpg_gdf = hydrotools.read_file(beheerregister.joinpath(invoerbestanden[\"peilgebieden\"]),\n",
    "                                 \"sturing\",\n",
    "                                 column_mapping={\"GPGIDENT\": \"code\",\n",
    "                                                 \"OPVAFWZP\": \"streefwaarde\"\n",
    "                                                 })\n",
    "\n",
    "gpg_gdf[\"codegerelateerdobject\"] = [code.replace(\"GPG\", \"\") for code in gpg_gdf[\"code\"]]\n",
    "gpg_gdf = gpg_gdf[gpg_gdf[\"codegerelateerdobject\"].isin(hydamo.gemalen[\"code\"])]\n",
    "con_gdf = hydamo.gemalen[~hydamo.gemalen[\"code\"].isin(gpg_gdf[\"codegerelateerdobject\"])]\n",
    "con_gdf = gpd.GeoDataFrame(data={\"code\": con_gdf[\"code\"].values,\n",
    "                                 \"geometry\": con_gdf[\"geometry\"].values})\n",
    "con_gdf[\"codegerelateerdobject\"] = con_gdf[\"code\"]\n",
    "con_gdf[\"streefwaarde\"] = -999\n",
    "\n",
    "gdf = gpd.GeoDataFrame(pd.concat([gpg_gdf, con_gdf], ignore_index=True))\n",
    "\n",
    "gdf[\"bovenmarge\"] = gdf[\"streefwaarde\"] + 0.05\n",
    "gdf[\"ondermarge\"] = gdf[\"streefwaarde\"] - 0.05\n",
    "gdf[\"doelvariabelecode\"] = 1\n",
    "\n",
    "hydamo.sturing.set_data(gdf, index_col=\"code\")"
   ]
  },
  {
   "cell_type": "markdown",
   "metadata": {},
   "source": [
    "### Filteren\n",
    "\n",
    "Alle branches die niet bij \"Boezemmodel_v4\" gooien we uit het model. Idem voor alle kunstwerken + profielen die naar deze branches zijn gesnapped. Om het resultaat te beoordelen exporteren we alles naar shape-files. We slaan het hydamo object ook op als \"pickle\", zodat we bovenstaande stappen niet elke keer hoeven te herhalen"
   ]
  },
  {
   "cell_type": "code",
   "execution_count": 13,
   "metadata": {},
   "outputs": [],
   "source": [
    "hydamo = hydrotools.filter_model(hydamo, attribute_filter={\"HydroModel\": \"Boezemmodel_v4\"})\n",
    "hydrotools.export_shapes(hydamo, path=Path(r\"./hydamo_shp/boezemmodel_v4\"))\n",
    "hydrotools.save_model(hydamo, file_name=Path(r\"./hydamo_model/boezemmodel_v4.pickle\"))\n"
   ]
  },
  {
   "cell_type": "markdown",
   "metadata": {},
   "source": [
    "## Converteren naar DFM\n",
    "\n",
    "### Aanmaken dfm-klasse"
   ]
  },
  {
   "cell_type": "code",
   "execution_count": 14,
   "metadata": {},
   "outputs": [],
   "source": [
    "dfmmodel = DFlowFMModel()"
   ]
  },
  {
   "cell_type": "markdown",
   "metadata": {},
   "source": [
    "### Inlezen kunstwerken"
   ]
  },
  {
   "cell_type": "code",
   "execution_count": 15,
   "metadata": {},
   "outputs": [
    {
     "name": "stdout",
     "output_type": "stream",
     "text": [
      "2021-02-25 13:59:03,331 - delft3dfmpy.converters.hydamo_to_dflowfm - hydamo_to_dflowfm - INFO - Currently only simple weirs can be applied. From Hydamo the attributes 'laagstedoorstroomhoogte' and 'kruinbreedte' are used to define the weir dimensions.\n"
     ]
    }
   ],
   "source": [
    "dfmmodel.structures.io.weirs_from_hydamo(hydamo.weirs,\n",
    "                                         yz_profiles=hydamo.crosssections,\n",
    "                                         parametrised_profiles=hydamo.parametrised_profiles)\n",
    "\n",
    "dfmmodel.structures.io.culverts_from_hydamo(hydamo.culverts,\n",
    "                                            hydamo.afsluitmiddel)\n",
    "\n",
    "dfmmodel.structures.io.bridges_from_hydamo(hydamo.bridges,\n",
    "                                           yz_profiles=hydamo.crosssections,\n",
    "                                           parametrised_profiles=hydamo.parametrised_profiles)\n",
    "\n",
    "dfmmodel.structures.io.orifices_from_hydamo(hydamo.orifices)\n",
    "\n",
    "dfmmodel.structures.io.pumps_from_hydamo(pompen=hydamo.pumps,\n",
    "                                         sturing=hydamo.sturing,\n",
    "                                         gemalen=hydamo.gemalen)"
   ]
  },
  {
   "cell_type": "markdown",
   "metadata": {},
   "source": [
    "### Aanmaken 1d netwerk"
   ]
  },
  {
   "cell_type": "code",
   "execution_count": null,
   "metadata": {},
   "outputs": [
    {
     "name": "stdout",
     "output_type": "stream",
     "text": [
      "2021-02-25 13:59:06,572 - delft3dfmpy.core.dfm - dfm - WARNING - Some structures are not linked to a branch.\n",
      "2021-02-25 13:59:06,580 - delft3dfmpy.core.dfm - dfm - INFO - Added 1d mesh nodes on branch OAF000010 at: [0.0, 691.94, 1642.4933902054406], due to the structures at [-0.001, 671.552, 712.328, 1163.135, 1539.892, 1642.4943902054406].\n",
      "2021-02-25 13:59:06,580 - delft3dfmpy.core.dfm - dfm - INFO - Added 1d mesh nodes on branch OAF000015 at: [0.0, 106.271, 141.85887653227576], due to the structures at [-0.001, 78.108, 134.434, 141.85987653227576].\n",
      "2021-02-25 13:59:06,584 - delft3dfmpy.core.dfm - dfm - INFO - Added 1d mesh nodes on branch OAF000017 at: [0.0, 506.58549999999997, 522.864, 971.4883654003871], due to the structures at [-0.001, 25.63, 498.27, 514.901, 530.827, 971.4893654003871].\n",
      "2021-02-25 13:59:06,587 - delft3dfmpy.core.dfm - dfm - INFO - Added 1d mesh nodes on branch OAF000030 at: [0.0, 2.5425, 325.6167677365957], due to the structures at [-0.001, 0.1, 4.985, 325.6177677365957].\n",
      "2021-02-25 13:59:06,587 - delft3dfmpy.core.dfm - dfm - INFO - Added 1d mesh nodes on branch OAF000033 at: [0.0, 616.1155, 626.012316578327], due to the structures at [-0.001, 236.519, 612.687, 619.544, 626.013316578327].\n",
      "2021-02-25 13:59:06,591 - delft3dfmpy.core.dfm - dfm - INFO - Added 1d mesh nodes on branch OAF000072 at: [0.0, 16.857, 69.007, 118.41050377639182], due to the structures at [-0.001, 7.548, 26.166, 111.848, 118.41150377639183].\n",
      "2021-02-25 13:59:06,607 - delft3dfmpy.core.dfm - dfm - INFO - Added 1d mesh nodes on branch OAF000118 at: [0.0, 3.0469999999999997, 9.016, 238.4095, 1220.3091726956434], due to the structures at [-0.001, 0.1, 5.994, 12.038, 217.115, 259.704, 1220.3101726956434].\n",
      "2021-02-25 13:59:06,607 - delft3dfmpy.core.dfm - dfm - INFO - Added 1d mesh nodes on branch OAF000132 at: [0.0, 27.258, 723.8934644537055], due to the structures at [-0.001, 0.1, 54.416, 191.263, 338.414, 526.622, 713.712, 723.8944644537055].\n",
      "2021-02-25 13:59:06,607 - delft3dfmpy.core.dfm - dfm - INFO - Added 1d mesh nodes on branch OAF000155 at: [0.0, 11.3035, 92.32346828882481], due to the structures at [-0.001, 8.593, 14.014, 92.32446828882482].\n",
      "2021-02-25 13:59:06,619 - delft3dfmpy.core.dfm - dfm - INFO - Added 1d mesh nodes on branch OAF000198 at: [0.0, 662.9685, 687.5405, 712.5396643085704], due to the structures at [-0.001, 0.581, 363.777, 650.791, 675.146, 699.935, 712.5406643085704].\n",
      "2021-02-25 13:59:06,619 - delft3dfmpy.core.dfm - dfm - INFO - Added 1d mesh nodes on branch OAF000208 at: [0.0, 69.244, 112.6775, 343.11699999999996, 374.7715, 466.9699338878582], due to the structures at [-0.001, 46.108, 92.38, 132.975, 338.376, 347.858, 401.685, 466.97093388785817].\n",
      "2021-02-25 13:59:06,625 - delft3dfmpy.core.dfm - dfm - INFO - Added 1d mesh nodes on branch OAF000211 at: [0.0, 216.9435, 221.8745, 228.02550000000002, 235.7845, 241.2600977488463], due to the structures at [-0.001, 215.157, 218.73, 225.019, 231.032, 240.537, 241.2610977488463].\n",
      "2021-02-25 13:59:06,629 - delft3dfmpy.core.dfm - dfm - INFO - Added 1d mesh nodes on branch OAF000225 at: [0.0, 386.082, 431.306, 479.00399999999996, 524.808, 901.6330332283507], due to the structures at [-0.001, 84.7, 342.808, 429.356, 433.256, 524.752, 524.864, 722.584, 809.948, 901.6340332283506].\n",
      "2021-02-25 13:59:06,631 - delft3dfmpy.core.dfm - dfm - INFO - Added 1d mesh nodes on branch OAF000230 at: [0.0, 166.082, 207.8615, 268.2978586292984], due to the structures at [-0.001, 0.619, 148.068, 184.096, 231.627, 268.29885862929837].\n",
      "2021-02-25 13:59:06,635 - delft3dfmpy.core.dfm - dfm - INFO - Added 1d mesh nodes on branch OAF000238 at: [0.0, 419.3035, 709.8441449878916], due to the structures at [-0.001, 414.58, 424.027, 709.8451449878916].\n",
      "2021-02-25 13:59:06,637 - delft3dfmpy.core.dfm - dfm - INFO - Added 1d mesh nodes on branch OAF000242 at: [0.0, 221.175, 576.3565000000001, 771.8661147286039], due to the structures at [-0.001, 4.964, 216.692, 225.658, 361.957, 571.623, 581.09, 771.8671147286038].\n",
      "2021-02-25 13:59:06,641 - delft3dfmpy.core.dfm - dfm - INFO - Added 1d mesh nodes on branch OAF000262 at: [0.0, 67.02950000000001, 102.766, 535.5491343242999], due to the structures at [-0.001, 64.141, 69.918, 135.614, 527.773, 535.5501343242998].\n",
      "2021-02-25 13:59:06,644 - delft3dfmpy.core.dfm - dfm - INFO - Added 1d mesh nodes on branch OAF000279 at: [0.0, 7.752, 181.13779285391954], due to the structures at [-0.001, 0.1, 15.404, 181.13879285391954].\n",
      "2021-02-25 13:59:06,646 - delft3dfmpy.core.dfm - dfm - INFO - Added 1d mesh nodes on branch OAF000280 at: [0.0, 58.4635, 142.72050000000002, 607.2839813028173], due to the structures at [-0.001, 10.655, 106.272, 179.169, 269.832, 607.2849813028173].\n",
      "2021-02-25 13:59:06,648 - delft3dfmpy.core.dfm - dfm - INFO - Added 1d mesh nodes on branch OAF000281 at: [0.0, 772.3695, 849.6228279696575], due to the structures at [-0.001, 321.182, 772.321, 772.418, 849.6238279696574].\n",
      "2021-02-25 13:59:06,651 - delft3dfmpy.core.dfm - dfm - INFO - Added 1d mesh nodes on branch OAF000305 at: [0.0, 640.2149999999999, 804.7668259649989], due to the structures at [-0.001, 0.1, 117.786, 251.752, 387.337, 487.581, 603.601, 676.829, 794.877, 804.7678259649989].\n",
      "2021-02-25 13:59:06,658 - delft3dfmpy.core.dfm - dfm - INFO - Added 1d mesh nodes on branch OAF000373 at: [0.0, 1.605, 63.64362913537885], due to the structures at [-0.001, 0.1, 3.11, 63.64462913537885].\n",
      "2021-02-25 13:59:06,660 - delft3dfmpy.core.dfm - dfm - INFO - Added 1d mesh nodes on branch OAF000410 at: [0.0, 12.16, 1898.0973633929907], due to the structures at [-0.001, 0.1, 24.22, 1898.0983633929907].\n",
      "2021-02-25 13:59:06,664 - delft3dfmpy.core.dfm - dfm - INFO - Added 1d mesh nodes on branch OAF000423 at: [0.0, 190.99849999999998, 200.16137395584028], due to the structures at [-0.001, 4.732, 187.04, 194.957, 200.16237395584028].\n",
      "2021-02-25 13:59:06,667 - delft3dfmpy.core.dfm - dfm - INFO - Added 1d mesh nodes on branch OAF000438 at: [0.0, 362.6035, 438.875, 491.9112431150071], due to the structures at [-0.001, 56.633, 215.614, 331.524, 393.683, 484.067, 491.9122431150071].\n",
      "2021-02-25 13:59:06,677 - delft3dfmpy.core.dfm - dfm - INFO - Added 1d mesh nodes on branch OAF000494 at: [0.0, 40.601, 103.154, 141.216, 159.891, 202.399, 366.126, 517.109, 579.6005, 647.528, 681.4304999999999, 685.625, 736.38, 786.4423733018544], due to the structures at [-0.001, 0.5, 80.702, 125.606, 156.826, 162.956, 241.842, 338.468, 393.784, 490.151, 544.067, 615.134, 679.922, 682.939, 688.311, 784.449, 786.4433733018544].\n"
     ]
    }
   ],
   "source": [
    "dfmmodel.network.set_branches(hydamo.branches)\n",
    "dfmmodel.network.generate_1dnetwork(one_d_mesh_distance=100.0, seperate_structures=True)"
   ]
  },
  {
   "cell_type": "markdown",
   "metadata": {},
   "source": [
    "### Toevoegen cross-sections\n",
    "\n",
    "We kennen profielen toe, waar we profielen missen vullen we deze aan met principeprofielen."
   ]
  },
  {
   "cell_type": "code",
   "execution_count": null,
   "metadata": {},
   "outputs": [],
   "source": [
    "dfmmodel.crosssections.io.from_hydamo(\n",
    "    dwarsprofielen=hydamo.crosssections,\n",
    "    parametrised=hydamo.parametrised_profiles,\n",
    "    branches=hydamo.branches\n",
    ")\n",
    "\n",
    "print(f\"{len(dfmmodel.crosssections.get_branches_without_crosssection())} branches are still missing a cross section.\")\n",
    "print(f\"{len(dfmmodel.crosssections.get_structures_without_crosssection())} structures are still missing a cross section.\")\n",
    "\n",
    "if len(dfmmodel.crosssections.get_branches_without_crosssection()) > 0:\n",
    "    print(\"adding trapezium profiles on branches with missing crosssections.\")\n",
    "    dfmmodel = hydrotools.add_trapeziums(dfmmodel, principe_profielen_df)"
   ]
  },
  {
   "cell_type": "markdown",
   "metadata": {},
   "source": [
    "### Wegschrijven model"
   ]
  },
  {
   "cell_type": "code",
   "execution_count": null,
   "metadata": {},
   "outputs": [],
   "source": [
    "dfmmodel.mdu_parameters[\"refdate\"] = 20000101\n",
    "dfmmodel.mdu_parameters[\"tstart\"] = 0.0 * 3600\n",
    "dfmmodel.mdu_parameters[\"tstop\"] = 144.0 * 1 * 3600\n",
    "dfmmodel.mdu_parameters[\"hisinterval\"] = \"120. 0. 0.\"\n",
    "dfmmodel.mdu_parameters[\"cflmax\"] = 0.7\n",
    "\n",
    "dfmmodel.dimr_path = dimr_path\n",
    "fm_writer = DFlowFMWriter(dfmmodel, output_dir=\"modellen\\boezemmodel\", name=\"boezemmodel\")\n",
    "\n",
    "fm_writer.objects_to_ldb()\n",
    "fm_writer.write_all()\n",
    "\n",
    "if Path(r\"modellen\\boezemmodel\\fm\\boezemmodel.mdu\").exists():\n",
    "    print(\"Model is weggeschreven\")\n",
    "else:\n",
    "    print(\"Er is geen model geschreven. Waarschijnlijk is iets fout gegaan\")"
   ]
  },
  {
   "cell_type": "markdown",
   "metadata": {},
   "source": [
    "## Importeren in de D-Hydro suite\n",
    "\n",
    "Open het model nu in D-Hydro:\n",
    "1. Open een \"Empty Project\"\n",
    "2. In de \"Home\" ribbon, ga naar \"Import\" en selecteer \"Flow Flexible Mesh Model\"\n",
    "3. Selecteer het bestand \"boezemmodel.mdu\" in \".\\dfm_model\\fm\\boezemmodel.mdu\"\n",
    "4. Wacht tot het model is geimporteerd.....\n",
    "\n",
    "Het geimporteerde model is nu zichtbaar in de D-Hydro suite\n",
    "<img src=\"png/boezemmodel.png\"/>"
   ]
  }
 ],
 "metadata": {
  "kernelspec": {
   "display_name": "Python 3",
   "language": "python",
   "name": "python3"
  },
  "language_info": {
   "codemirror_mode": {
    "name": "ipython",
    "version": 3
   },
   "file_extension": ".py",
   "mimetype": "text/x-python",
   "name": "python",
   "nbconvert_exporter": "python",
   "pygments_lexer": "ipython3",
   "version": "3.7.10"
  }
 },
 "nbformat": 4,
 "nbformat_minor": 4
}
