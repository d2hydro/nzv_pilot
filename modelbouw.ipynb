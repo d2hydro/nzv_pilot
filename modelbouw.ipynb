{
 "cells": [
  {
   "cell_type": "markdown",
   "metadata": {},
   "source": [
    "## Introductie\n",
    "\n",
    "Met deze notebook bouw je een boezemmodel voor Nooderzijlvest.\n",
    "\n",
    "Zorg dat je beschikt over een werkende Python installatie en <a href=\"https://github.com/openearth/delft3dfmpy#installation\">D-HYDAMO omgeving</a>. Het resulterende model moet geimporteerd kunnen worden in D-HYDRO versie 0.9.7.52006 of hoger.\n",
    "\n",
    "De verwijzing naar bestanden is geschreven in het Nederlands. De rest van de code is geschreven in het Engels. Elk code-blok is voorzien van uitleg boven het desbetreffende blok, geschreven in het Nederlands.\n",
    "\n",
    "Download de bestanden van <a href=\"https://drive.google.com/drive/folders/1BXNEwlEDCtShDj5KVuHQcukup-QLTuzR\">Google Drive</a> en zet deze in de folder .\\beheerregister"
   ]
  },
  {
   "cell_type": "markdown",
   "metadata": {},
   "source": [
    "## Controle bestanden\n",
    "\n",
    "Alle bestanden die gebruikt worden in deze tutorial staan in het code-blok hieronder. Wanneer je dit codeblok uitvoert wordt de aanwezigheid van deze bestanden gecontroleerd.\n",
    "\n"
   ]
  },
  {
   "cell_type": "code",
   "execution_count": 1,
   "metadata": {
    "scrolled": true
   },
   "outputs": [],
   "source": [
    "from pathlib import Path\n",
    "\n",
    "beheerregister = Path(r\".\\beheerregister\").absolute().resolve()\n",
    "\n",
    "invoerbestanden = {\"modelgebied\": \"Bemalings_en_lozingsgebieden.shp\",\n",
    "                   \"branches\": \"Afaanvoervakken_DHYDRO_v5.shp\",\n",
    "                   \"profielpunten\": \"profielpunten_3feb2021_actueel.shp\",\n",
    "                   \"bruggen\": \"Bruggen_(doorstroomopeningen).shp\",\n",
    "                   \"duikers\": \"duikers.shp\",\n",
    "                   \"sifons\": \"sifons.shp\",\n",
    "                   \"stuwen\": \"stuwen.shp\",\n",
    "                   \"inlaten\": \"inlaten.shp\",\n",
    "                   \"gemalen\": \"gemalen_v2.shp\",\n",
    "                   \"peilgebieden\": \"Peilgebieden.shp\"}\n",
    "\n",
    "vorm_mapping = dict(rond=1,\n",
    "                    driehoekig=1,\n",
    "                    rechthoekig=3,\n",
    "                    eivormig=1,\n",
    "                    ellips=1,\n",
    "                    Paraboolvormig=1,\n",
    "                    trapeziumvormig=1,\n",
    "                    heul=1,\n",
    "                    muil=3,\n",
    "                    langwerpig=1,\n",
    "                    scherp=1,\n",
    "                    onbekend=99,\n",
    "                    overig=99)\n",
    "\n",
    "for key, item in invoerbestanden.items():\n",
    "    if not beheerregister.joinpath(item).exists():\n",
    "        print(f\"bestand voor {key} bestaat niet: {beheerregister.joinpath(item)}\")\n"
   ]
  },
  {
   "cell_type": "markdown",
   "metadata": {},
   "source": [
    "## Inlezen beheerregister in HyDAMO\n",
    "\n",
    "### Aanmaken HyDAMO object\n",
    "\n",
    "Alle benodigde modules worden geimporteerd en het HYDAMO object wordt aangemaakt bij het uitvoeren van onderstaand code-blok"
   ]
  },
  {
   "cell_type": "code",
   "execution_count": 2,
   "metadata": {},
   "outputs": [],
   "source": [
    "from delft3dfmpy import DFlowFMModel, HyDAMO, Rectangular, DFlowFMWriter\n",
    "from delft3dfmpy import DFlowRRModel, DFlowRRWriter\n",
    "from delft3dfmpy.datamodels.common import ExtendedGeoDataFrame\n",
    "import hydrotools\n",
    "import geopandas as gpd\n",
    "import pandas as pd\n",
    "from shapely.geometry import LineString\n",
    "\n",
    "hydamo = HyDAMO(extent_file=str(beheerregister.joinpath(invoerbestanden[\"modelgebied\"])))"
   ]
  },
  {
   "cell_type": "markdown",
   "metadata": {},
   "source": [
    "### Toevoegen waterlopen\n",
    "\n",
    "De waterlopen (branches) worden toegevoegd met volgend code-blok:\n",
    "* de branches worden toegekend aan het hydamo-object\n",
    "* een HyDAMO ruwheidscode (4 = manning) wordt toegekend\n",
    "* de eindpunten van de branches worden gesnapped binnen een tolerantie van 1m. De coordinaten worden ook afgerond op 1m."
   ]
  },
  {
   "cell_type": "code",
   "execution_count": 3,
   "metadata": {},
   "outputs": [],
   "source": [
    "gdf = hydrotools.read_file(beheerregister.joinpath(invoerbestanden[\"branches\"]),\n",
    "                           \"branches\",\n",
    "                           keep_columns=[\"HydroModel\"],\n",
    "                           column_mapping={\"OVKIDENT\": \"code\"},\n",
    "                           )\n",
    "\n",
    "hydamo.branches.set_data(gdf, index_col=\"code\", check_columns=True, check_geotype=True)\n",
    "hydamo.branches[\"ruwheidstypecode\"] = 4\n",
    "\n",
    "hydamo.branches = hydrotools.snap_ends(hydamo.branches, tolerance=1, digits=1)"
   ]
  },
  {
   "cell_type": "markdown",
   "metadata": {},
   "source": [
    "### Toevoegen yz-profielen\n",
    "De yz-profielen worden ingeladen:\n",
    "* De profielpunten worden geopend\n",
    "* de punten worden geordend en geconverteerd naar polylinen met een xyz coordinaten\n",
    "* toekennen ruwheid (manning = 35)\n",
    "* lijnen langer dan 500m worden weggegooid, omdat er soms kademuren PRO_TYPE = PRO hebben gekregen\n",
    "* lijnen worden toegekend aan het HyDAMO object\n",
    "* lijnen die niet snappen met de branches, worden weggegooid\n",
    "\n",
    "ToDo:\n",
    "* verbeteren toekenning ruwheid"
   ]
  },
  {
   "cell_type": "code",
   "execution_count": 4,
   "metadata": {},
   "outputs": [],
   "source": [
    "gdf = hydrotools.read_file(beheerregister.joinpath(invoerbestanden[\"profielpunten\"]),\n",
    "                           \"crosssections\",\n",
    "                           attribute_filter={\"osmomsch_1\": [\"WL\", \"Z1\"],\n",
    "                                             \"PRO_TYPE\": \"PRO\"},\n",
    "                           column_mapping={\"PROIDENT\": \"code\",\n",
    "                                           \"IWS_VOLGNR\": \"order\",\n",
    "                                           \"OSMOMSCH_1\": \"category\",\n",
    "                                           \"iws_hoogte\": \"z\"},\n",
    "                           z_coord=True\n",
    "                           )\n",
    "\n",
    "grouper = gdf.groupby(\"code\")\n",
    "profiles = dict()\n",
    "\n",
    "for code, prof_gdf in grouper:\n",
    "    prof_gdf = prof_gdf.sort_values(\"order\")  #Staan ook punten met zelfde order\n",
    "    first_point = prof_gdf.iloc[0][\"geometry\"]\n",
    "    cum_dist = -1\n",
    "    line = []\n",
    "    for idx, (_, row) in enumerate(prof_gdf.iterrows()):\n",
    "        geom = row[\"geometry\"]\n",
    "        distance = geom.distance(first_point)\n",
    "        if distance > cum_dist:\n",
    "            cum_dist = distance\n",
    "            line += [(geom.x, geom.y, row[\"z\"])]\n",
    "\n",
    "    profiles[code] = [code, LineString(line)]\n",
    "\n",
    "profiles_gdf = gpd.GeoDataFrame.from_dict(profiles,\n",
    "                                          orient=\"index\",\n",
    "                                          columns=[\"code\",\n",
    "                                                   \"geometry\"]\n",
    "                                          )\n",
    "\n",
    "profiles_gdf[\"ruwheidstypecode\"] = 4\n",
    "profiles_gdf[\"ruwheidswaarde\"] = 35\n",
    "profiles_gdf[\"codegerelateerdobject\"] = None\n",
    "\n",
    "profiles_gdf = profiles_gdf.loc[profiles_gdf[\"geometry\"].length < 500]\n",
    "\n",
    "hydamo.crosssections.set_data(profiles_gdf,\n",
    "                              index_col=\"code\",\n",
    "                              check_columns=True,\n",
    "                              check_geotype=True)\n",
    "\n",
    "hydamo.crosssections.snap_to_branch(hydamo.branches, snap_method=\"intersecting\")\n",
    "hydamo.crosssections.dropna(axis=0, inplace=True, subset=[\"branch_offset\"])"
   ]
  },
  {
   "cell_type": "markdown",
   "metadata": {},
   "source": [
    "### Toevoegen geparameteriseerde profielen\n",
    "\n",
    "Per brug moet er een profiel worden toegevoegd"
   ]
  },
  {
   "cell_type": "code",
   "execution_count": 5,
   "metadata": {
    "code_folding": []
   },
   "outputs": [],
   "source": [
    "gdf = hydrotools.read_file(beheerregister.joinpath(invoerbestanden[\"bruggen\"]),\n",
    "                           \"parametrised_profiles\",\n",
    "                           column_mapping={\"bodemh_bov\": \"bodemhoogtebovenstrooms\",\n",
    "                                           \"bodemh_ben\": \"bodemhoogtebenedenstrooms\",\n",
    "                                           \"doorstroom\": \"bodembreedte\",\n",
    "                                           \"hoogte_ond\": \"hoogteinsteeklinkerzijde\",\n",
    "                                           })\n",
    "\n",
    "grouper = gdf.groupby(\"code\")\n",
    "data = {\"code\": [code for code, frame in grouper],\n",
    "        \"bodemhoogtebovenstrooms\": [frame[\"bodemhoogtebovenstrooms\"].values[0]\n",
    "                                    for code, frame in grouper],\n",
    "        \"bodemhoogtebenedenstrooms\": [frame[\"bodemhoogtebenedenstrooms\"].values[0]\n",
    "                                      for code, frame in grouper],\n",
    "        \"bodembreedte\": [frame[\"bodembreedte\"].values[0]\n",
    "                         for code, frame in grouper],\n",
    "        \"hoogteinsteeklinkerzijde\": [frame[\"hoogteinsteeklinkerzijde\"].values[0]\n",
    "                                     for code, frame in grouper],\n",
    "        \"geometry\": [frame[\"geometry\"].values[0] for code, frame in grouper]\n",
    "        }\n",
    "\n",
    "gdf = gpd.GeoDataFrame(data)\n",
    "gdf[\"geometry\"] = gdf.apply((lambda x: LineString([[x[\"geometry\"].x,\n",
    "                                                    x[\"geometry\"].y],\n",
    "                                                  [x[\"geometry\"].x+1,\n",
    "                                                   x[\"geometry\"].y+1]])),\n",
    "                            axis=1)\n",
    "\n",
    "gdf[\"codegerelateerdobject\"] = gdf[\"code\"].copy()\n",
    "gdf[\"code\"] = [f\"PRO_{code}\" for code in gdf[\"code\"]]\n",
    "gdf[\"hoogteinsteekrechterzijde\"] = gdf[\"hoogteinsteeklinkerzijde\"]\n",
    "gdf[\"ruwheidswaarde\"] = 15\n",
    "gdf[\"ruwheidstypecode\"] = 4\n",
    "gdf[\"taludhellinglinkerzijde\"] = 1\n",
    "gdf[\"taludhellingrechterzijde\"] = 1\n",
    "\n",
    "hydamo.parametrised_profiles.set_data(gdf,\n",
    "                                      index_col=\"code\",\n",
    "                                      check_columns=True,\n",
    "                                      check_geotype=False)"
   ]
  },
  {
   "cell_type": "markdown",
   "metadata": {},
   "source": [
    "### Toevoegen bruggen\n",
    "Per brug moet er een profiel worden toegevoegd"
   ]
  },
  {
   "cell_type": "code",
   "execution_count": 6,
   "metadata": {},
   "outputs": [],
   "source": [
    "gdf = hydrotools.read_file(beheerregister.joinpath(invoerbestanden[\"bruggen\"]),\n",
    "                           \"bridges\",\n",
    "                           column_mapping={\"doorstro_2\": \"lengte\",\n",
    "                                           \"bodemh_bov\": \"hoogteonderzijde\"})\n",
    "\n",
    "grouper = gdf.groupby(\"code\")\n",
    "data = {\"code\": [code for code, frame in grouper],\n",
    "        \"hoogteonderzijde\": [frame[\"hoogteonderzijde\"].values[0] for code,\n",
    "                             frame in grouper],\n",
    "        \"lengte\": [frame[\"lengte\"].values[0] for code, frame in grouper],\n",
    "        \"geometry\": [frame[\"geometry\"].values[0] for code, frame in grouper]\n",
    "        }\n",
    "gdf = gpd.GeoDataFrame(data)\n",
    "\n",
    "gdf[\"hoogtebovenzijde\"] = gdf[\"hoogteonderzijde\"] + 1\n",
    "\n",
    "gdf[\"dwarsprofielcode\"] = gdf[\"code\"]\n",
    "gdf[\"intreeverlies\"] = 0.7\n",
    "gdf[\"uittreeverlies\"] = 0.7\n",
    "gdf[\"ruwheidstypecode\"] = 4\n",
    "gdf[\"ruwheidswaarde\"] = 70\n",
    "\n",
    "hydamo.bridges.set_data(gdf, index_col=\"code\", check_columns=True, check_geotype=False)\n",
    "hydamo.bridges.snap_to_branch(hydamo.branches, snap_method=\"overal\", maxdist=5)\n",
    "hydamo.bridges.dropna(axis=0, inplace=True, subset=[\"branch_offset\"])"
   ]
  },
  {
   "cell_type": "markdown",
   "metadata": {},
   "source": [
    "### Toevoegen duikers en siphons\n",
    "duikers en sifons worden als cuverts aan het HyDAMO object toegekend\n",
    "\n",
    "ToDo\n",
    "* vorm moet naar HyDAMO codering worden omgeschreven"
   ]
  },
  {
   "cell_type": "code",
   "execution_count": 7,
   "metadata": {},
   "outputs": [],
   "source": [
    "culverts_gdf = hydrotools.read_file(beheerregister.joinpath(invoerbestanden[\"duikers\"]),\n",
    "                                    \"culverts\",\n",
    "                                    column_mapping={\"hoogte_a1\": \"hoogteopening\",\n",
    "                                                    \"breedte\": \"breedteopening\",\n",
    "                                                    \"bok_benede\": \"hoogtebinnenonderkantbenedenstrooms\",\n",
    "                                                    \"bok_boven\": \"hoogtebinnenonderkantbovenstrooms\",\n",
    "                                                    \"vorm\": \"vormcode\"})\n",
    "\n",
    "siphons_gdf = hydrotools.read_file(beheerregister.joinpath(invoerbestanden[\"sifons\"]),\n",
    "                                   \"culverts\",\n",
    "                                   column_mapping={\"hoogte\": \"hoogteopening\",\n",
    "                                                   \"breedte\": \"breedteopening\",\n",
    "                                                   \"bok_benede\":\"hoogtebinnenonderkantbenedenstrooms\",\n",
    "                                                   \"bok_boven\":\"hoogtebinnenonderkantbovenstrooms\",\n",
    "                                                   \"vorm\":\"vormcode\"})\n",
    "\n",
    "gdf = gpd.GeoDataFrame(pd.concat([culverts_gdf,siphons_gdf], ignore_index=True))\n",
    "\n",
    "gdf.loc[gdf['vormcode'].isnull(), 'vormcode'] = 'onbekend'\n",
    "gdf.loc[:, 'vormcode'] = gdf.apply((lambda x: vorm_mapping[x['vormcode'].lower()]), axis=1)\n",
    "\n",
    "gdf[\"intreeverlies\"] = 0.7\n",
    "gdf[\"uittreeverlies\"] = 0.7\n",
    "gdf[\"ruwheidswaarde\"] = 70\n",
    "gdf[\"ruwheidstypecode\"] = 4\n",
    "\n",
    "hydamo.culverts.set_data(gdf, index_col=\"code\", check_columns=True, check_geotype=True)\n",
    "hydamo.culverts.snap_to_branch(hydamo.branches, snap_method=\"ends\", maxdist=5)\n",
    "hydamo.culverts.dropna(axis=0, inplace=True, subset=[\"branch_offset\"])\n",
    "\n",
    "hydamo.culverts.loc[hydamo.culverts[\"lengte\"].isna(), \"lengte\"] = 20"
   ]
  },
  {
   "cell_type": "markdown",
   "metadata": {},
   "source": [
    "### Toevoegen stuwen"
   ]
  },
  {
   "cell_type": "code",
   "execution_count": 8,
   "metadata": {},
   "outputs": [],
   "source": [
    "gdf = hydrotools.read_file(beheerregister.joinpath(invoerbestanden[\"stuwen\"]),\n",
    "                           \"weirs\",\n",
    "                           column_mapping={\"kstident\": \"code\",\n",
    "                                           \"kstsoort\": \"soortstuwcode\",\n",
    "                                           \"kstkrubr\": \"laagstedoorstroombreedte\",\n",
    "                                           \"kstmikho\": \"laagstedoorstroomhoogte\",\n",
    "                                           \"kstregel\": \"soortregelbaarheidcode\"})\n",
    "\n",
    "gdf[\"afvoercoefficient\"] = 1\n",
    "\n",
    "hydamo.weirs.set_data(gdf, index_col=\"code\", check_columns=True, check_geotype=True)\n",
    "hydamo.weirs.snap_to_branch(hydamo.branches, snap_method=\"overal\", maxdist=10)\n",
    "hydamo.weirs.dropna(axis=0, inplace=True, subset=[\"branch_offset\"])"
   ]
  },
  {
   "cell_type": "markdown",
   "metadata": {},
   "source": [
    "### Toevoegen gemalen"
   ]
  },
  {
   "cell_type": "code",
   "execution_count": 9,
   "metadata": {},
   "outputs": [],
   "source": [
    "pumps_gdf = hydrotools.read_file(beheerregister.joinpath(invoerbestanden[\"gemalen\"]),\n",
    "                                 \"pumps\",\n",
    "                                 column_mapping={\"gecom_max_\": \"maximalecapaciteit\"})\n",
    "\n",
    "gemalen_gdf = pumps_gdf.copy()\n",
    "pumps_gdf[\"codegerelateerdobject\"] = pumps_gdf[\"code\"].copy()\n",
    "pumps_gdf[\"code\"] = [f\"PMP_{code}\" for code in pumps_gdf[\"code\"]]\n",
    "hydamo.gemalen.set_data(gemalen_gdf,\n",
    "                        index_col=\"code\",\n",
    "                        check_columns=True,\n",
    "                        check_geotype=True)\n",
    "hydamo.gemalen.snap_to_branch(hydamo.branches, snap_method=\"overal\", maxdist=5)\n",
    "hydamo.gemalen.dropna(axis=0, inplace=True, subset=[\"branch_offset\"])\n",
    "hydamo.pumps.set_data(pumps_gdf,\n",
    "                      index_col=\"code\",\n",
    "                      check_columns=True,\n",
    "                      check_geotype=True)\n",
    "hydamo.pumps.snap_to_branch(hydamo.branches, snap_method=\"overal\", maxdist=5)\n",
    "hydamo.pumps.dropna(axis=0, inplace=True, subset=[\"branch_offset\"])"
   ]
  },
  {
   "cell_type": "markdown",
   "metadata": {},
   "source": [
    "### Toevoegen afsluitmiddelen"
   ]
  },
  {
   "cell_type": "code",
   "execution_count": 10,
   "metadata": {},
   "outputs": [],
   "source": [
    "gdf = pd.DataFrame({\"code\": [],\n",
    "                    \"soortafsluitmiddelcode\": [],\n",
    "                    \"codegerelateerdobject\": []})\n",
    "\n",
    "hydamo.afsluitmiddel.set_data(gdf, index_col=\"code\")"
   ]
  },
  {
   "cell_type": "markdown",
   "metadata": {},
   "source": [
    "### Toevoegen sturing"
   ]
  },
  {
   "cell_type": "code",
   "execution_count": 11,
   "metadata": {},
   "outputs": [],
   "source": [
    "gpg_gdf = hydrotools.read_file(beheerregister.joinpath(invoerbestanden[\"peilgebieden\"]),\n",
    "                                 \"sturing\",\n",
    "                                 column_mapping={\"GPGIDENT\": \"code\",\n",
    "                                                 \"OPVAFWZP\": \"streefwaarde\"\n",
    "                                                 })\n",
    "\n",
    "gpg_gdf[\"codegerelateerdobject\"] = [code.replace(\"GPG\", \"\") for code in gpg_gdf[\"code\"]]\n",
    "gpg_gdf = gpg_gdf[gpg_gdf[\"codegerelateerdobject\"].isin(hydamo.gemalen[\"code\"])]\n",
    "con_gdf = hydamo.gemalen[~hydamo.gemalen[\"code\"].isin(gpg_gdf[\"codegerelateerdobject\"])]\n",
    "con_gdf = gpd.GeoDataFrame(data={\"code\": con_gdf[\"code\"].values,\n",
    "                                 \"geometry\": con_gdf[\"geometry\"].values})\n",
    "con_gdf[\"codegerelateerdobject\"] = con_gdf[\"code\"]\n",
    "con_gdf[\"streefwaarde\"] = -999\n",
    "\n",
    "gdf = gpd.GeoDataFrame(pd.concat([gpg_gdf, con_gdf], ignore_index=True))\n",
    "\n",
    "gdf[\"bovenmarge\"] = gdf[\"streefwaarde\"] + 0.05\n",
    "gdf[\"ondermarge\"] = gdf[\"streefwaarde\"] - 0.05\n",
    "gdf[\"doelvariabelecode\"] = 1\n",
    "\n",
    "hydamo.sturing.set_data(gdf, index_col=\"code\")"
   ]
  },
  {
   "cell_type": "markdown",
   "metadata": {},
   "source": [
    "### Filteren\n",
    "\n",
    "Alle branches die niet bij \"Boezemmodel_v4\" gooien we uit het model. Idem voor alle kunstwerken + profielen die naar deze branches zijn gesnapped. Om het resultaat te beoordelen exporteren we alles naar shape-files"
   ]
  },
  {
   "cell_type": "code",
   "execution_count": 12,
   "metadata": {},
   "outputs": [
    {
     "name": "stdout",
     "output_type": "stream",
     "text": [
      "['OAF001681', 'OAF003121', 'OAF000649', 'OAF001785', 'OAF010255', 'OAF003840', 'OAF002584', 'OAF000448', 'OAF006076', 'OAF005597', 'OAF003221', 'OAF005514', 'OAF004299', 'OAF004023', 'OAF004713', 'OAF004420', 'OAF000113', 'OAF001651', 'OAF006522', 'OAF003037', 'OAF003213', 'OAF006298', 'OAF001546', 'OAF001512', 'OAF001278', 'OAF016829', 'OAF002968', 'OAF006069', 'OAF002569', 'OAF000507', 'OAF002610', 'OAF010614', 'OAF003958', 'OAF001946', 'OAF006510', 'OAF005724', 'OAF004805', 'OAF004196', 'OAF016830', 'OAF005888', 'OAF005058', 'OAF004073', 'OAF005693', 'OAF003584', 'OAF000327', 'OAF004121', 'OAF002952', 'OAF004642', 'OAF010265', 'OAF010325', 'OAF006428', 'OAF001499', 'OAF003246', 'OAF003123', 'OAF001761', 'OAF005743', 'OAF004396', 'OAF000195', 'OAF000184', 'OAF002735', 'OAF000979', 'OAF003876', 'OAF016834', 'OAF006583', 'OAF001465', 'OAF003802', 'OAF006665', 'OAF005203', 'OAF004536', 'OAF001986', 'OAF016430', 'OAF006690', 'OAF006131', 'OAF003722', 'OAF001398', 'OAF000116', 'OAF010393', 'OAF006541', 'OAF006139', 'OAF005434', 'OAF004853', 'OAF001324', 'OAF003353', 'OAF005529', 'OAF004564', 'OAF010512', 'OAF003061', 'OAF006445', 'OAF003740', 'OAF002521', 'OAF003682', 'OAF004005', 'OAF003493', 'OAF006064', 'OAF004996', 'OAF004452', 'OAF003163', 'OAF001009', 'OAF006490', 'OAF000316', 'OAF003435', 'OAF003434', 'OAF000850', 'OAF010396', 'OAF005842', 'OAF006396', 'OAF000361', 'OAF001241', 'OAF000806', 'OAF004393', 'OAF000360', 'OAF005567', 'OAF001486', 'OAF005851', 'OAF005719', 'OAF004188', 'OAF001812', 'OAF001414', 'OAF001783', 'OAF006514', 'OAF002766', 'OAF001340', 'OAF002212', 'OAF000400', 'OAF006338', 'OAF016806', 'OAF003607', 'OAF006184', 'OAF004126', 'OAF010214', 'OAF006457', 'OAF006335', 'OAF004878', 'OAF000064', 'OAF010513', 'OAF006581', 'OAF005182', 'OAF002917', 'OAF002029', 'OAF004593', 'OAF016385', 'OAF010116', 'OAF010018', 'OAF006016', 'OAF002922', 'OAF005984', 'OAF002864', 'OAF010100', 'OAF003186', 'OAF002222', 'OAF004839', 'OAF001623', 'OAF001176', 'OAF000524', 'OAF001318', 'OAF000716', 'OAF005493', 'OAF004986', 'OAF010341', 'OAF004569', 'OAF001972', 'OAF006593', 'OAF010579', 'OAF002279', 'OAF006326', 'OAF010115', 'OAF002806', 'OAF004424', 'OAF003940', 'OAF004429', 'OAF010215', 'OAF016516', 'OAF002409', 'OAF005049', 'OAF006174', 'OAF002962', 'OAF005616', 'OAF000512', 'OAF005289', 'OAF004837', 'OAF006188', 'OAF005221', 'OAF006623', 'OAF006582', 'OAF001252', 'OAF003267', 'OAF005243', 'OAF016524', 'OAF005262', 'OAF004825', 'OAF002677', 'OAF003860', 'OAF003492', 'OAF000461', 'OAF002008', 'OAF000159', 'OAF001535', 'OAF002775', 'OAF016536', 'OAF004915', 'OAF005347', 'OAF000987', 'OAF003110', 'OAF001382', 'OAF004463', 'OAF001905', 'OAF016396', 'OAF010043', 'OAF002911', 'OAF002813', 'OAF001755', 'OAF000966', 'OAF003208', 'OAF004166', 'OAF001680', 'OAF001261', 'OAF001584', 'OAF003552', 'OAF002320', 'OAF003899', 'OAF010140', 'OAF004961', 'OAF001167', 'OAF005561', 'OAF002794', 'OAF005259', 'OAF004917', 'OAF002835', 'OAF010376', 'OAF005870', 'OAF005958', 'OAF003019', 'OAF006503', 'OAF016547', 'OAF000473', 'OAF006717', 'OAF000835', 'OAF016909', 'OAF010178', 'OAF000480', 'OAF003645', 'OAF002827', 'OAF003332', 'OAF004019', 'OAF002191', 'OAF002837', 'OAF001614', 'OAF002198', 'OAF005260', 'OAF006093', 'OAF002246', 'OAF005031', 'OAF010416', 'OAF006268', 'OAF006710', 'OAF003736', 'OAF001928', 'OAF005874', 'OAF004608', 'OAF000868', 'OAF005483', 'OAF001738', 'OAF010155', 'OAF004324', 'OAF004434', 'OAF004178', 'OAF001453', 'OAF004766', 'OAF003319', 'OAF006627', 'OAF002287', 'OAF010414', 'OAF004544', 'OAF002643', 'OAF002749', 'OAF001300', 'OAF006136', 'OAF001463', 'OAF006161', 'OAF005598', 'OAF004392', 'OAF000665', 'OAF000679', 'OAF016397', 'OAF001417', 'OAF001702', 'OAF004213', 'OAF004130', 'OAF001558', 'OAF006212', 'OAF003614', 'OAF000399', 'OAF010618', 'OAF006048', 'OAF001307', 'OAF005353', 'OAF003066', 'OAF016825', 'OAF006053', 'OAF006408', 'OAF005147', 'OAF003753', 'OAF002496', 'OAF006318', 'OAF000471', 'OAF005381', 'OAF001306', 'OAF010531', 'OAF016402', 'OAF001881', 'OAF006556', 'OAF002997', 'OAF005550', 'OAF006019', 'OAF001022', 'OAF000336', 'OAF003577', 'OAF001774', 'OAF006555', 'OAF006237', 'OAF002410', 'OAF002993', 'OAF003538', 'OAF005971', 'OAF002064', 'OAF001014', 'OAF000541', 'OAF016816', 'OAF010645', 'OAF002399', 'OAF006597', 'OAF001094', 'OAF002390', 'OAF001861', 'OAF002672', 'OAF000810', 'OAF000386', 'OAF001187', 'OAF004665', 'OAF016550', 'OAF006115', 'OAF006168', 'OAF006713', 'OAF000096', 'OAF000201', 'OAF005455', 'OAF002150', 'OAF001952', 'OAF004962', 'OAF004464', 'OAF003084', 'OAF016387', 'OAF016549', 'OAF000676', 'OAF000257', 'OAF004582', 'OAF002121', 'OAF006765', 'OAF005726', 'OAF000993', 'OAF004780', 'OAF010051', 'OAF002809', 'OAF004444', 'OAF006473', 'OAF005646', 'OAF006273', 'OAF010374', 'OAF000421', 'OAF005437', 'OAF010389', 'OAF010047', 'OAF004954', 'OAF006588', 'OAF003953', 'OAF006695', 'OAF001271', 'OAF004269', 'OAF003499', 'OAF001035', 'OAF003245', 'OAF010212', 'OAF002904', 'OAF003982', 'OAF002213', 'OAF001565', 'OAF006629', 'OAF003959', 'OAF004649', 'OAF003830', 'OAF005317', 'OAF010190', 'OAF003742', 'OAF006667', 'OAF010636', 'OAF004782', 'OAF004259', 'OAF005676', 'OAF005090', 'OAF005447', 'OAF003949', 'OAF001732', 'OAF004234', 'OAF005223', 'OAF001246', 'OAF005224', 'OAF006668', 'OAF004607', 'OAF002899', 'OAF006449', 'OAF005404', 'OAF000034', 'OAF016543', 'OAF000539', 'OAF010103', 'OAF001530', 'OAF001694', 'OAF001876', 'OAF004322', 'OAF000183', 'OAF003168', 'OAF010195', 'OAF016832', 'OAF016319', 'OAF001067', 'OAF001699', 'OAF005249', 'OAF005433', 'OAF004989', 'OAF005907', 'OAF004305', 'OAF003354', 'OAF005879', 'OAF000626', 'OAF010119', 'OAF006529', 'OAF016382', 'OAF001638', 'OAF003930', 'OAF003176', 'OAF006560', 'OAF005102', 'OAF003512', 'OAF010253', 'OAF001505', 'OAF010249', 'OAF002134', 'OAF004887', 'OAF004667', 'OAF003374', 'OAF000948', 'OAF004183', 'OAF002192', 'OAF006146', 'OAF002032', 'OAF004528', 'OAF006088', 'OAF000490', 'OAF000414', 'OAF010377', 'OAF000018', 'OAF000602', 'OAF005491', 'OAF002412', 'OAF002151', 'OAF005297', 'OAF004218', 'OAF005486', 'OAF003687', 'OAF005318', 'OAF000880', 'OAF006456', 'OAF010171', 'OAF006160', 'OAF010032', 'OAF004083', 'OAF006511', 'OAF000938', 'OAF002301', 'OAF010489', 'OAF005379', 'OAF010348', 'OAF001740', 'OAF002870', 'OAF005866', 'OAF000667', 'OAF005440', 'OAF005639', 'OAF001961', 'OAF004655', 'OAF003210', 'OAF004386', 'OAF001573', 'OAF016371', 'OAF006166', 'OAF006336', 'OAF003655', 'OAF003978', 'OAF004373', 'OAF010299', 'OAF001298', 'OAF001471', 'OAF001782', 'OAF010194', 'OAF016667', 'OAF001099', 'OAF000384', 'OAF002494', 'OAF005429', 'OAF000944', 'OAF001256', 'OAF006059', 'OAF001892', 'OAF005518', 'OAF006022', 'OAF004511', 'OAF010460', 'OAF005633', 'OAF001568', 'OAF005397', 'OAF004193', 'OAF005798', 'OAF010093', 'OAF004636', 'OAF002782', 'OAF006594', 'OAF001083', 'OAF005246', 'OAF016870', 'OAF002311', 'OAF004993', 'OAF003838', 'OAF006041', 'OAF006057', 'OAF010183', 'OAF006284', 'OAF000191', 'OAF004387', 'OAF010647', 'OAF000095', 'OAF004688', 'OAF002400', 'OAF000005', 'OAF004446', 'OAF002444', 'OAF002085', 'OAF006266', 'OAF000567', 'OAF005335', 'OAF005160', 'OAF001728', 'OAF006151', 'OAF016933', 'OAF003323', 'OAF001285', 'OAF004108', 'OAF002860', 'OAF010600', 'OAF006801', 'OAF003695', 'OAF005194', 'OAF003486', 'OAF016813', 'OAF004181', 'OAF000233', 'OAF010172', 'OAF002475', 'OAF001185', 'OAF004779', 'OAF003059', 'OAF006181', 'OAF001445', 'OAF004568', 'OAF004824', 'OAF005749', 'OAF001362', 'OAF004249', 'OAF006341', 'OAF002439', 'OAF004045', 'OAF003694', 'OAF004244', 'OAF000616', 'OAF001814', 'OAF010263', 'OAF006538', 'OAF001444', 'OAF001410', 'OAF001973', 'OAF004328', 'OAF010235', 'OAF006381', 'OAF002938', 'OAF005120', 'OAF005263', 'OAF006542', 'OAF003706', 'OAF002291', 'OAF004128', 'OAF000970', 'OAF001064', 'OAF004052', 'OAF005427', 'OAF002239', 'OAF002108', 'OAF005448', 'OAF002504', 'OAF002302', 'OAF003613', 'OAF010574', 'OAF006513', 'OAF004054', 'OAF006252', 'OAF001922', 'OAF003432', 'OAF000714', 'OAF000047', 'OAF010313', 'OAF000498', 'OAF001440', 'OAF005817', 'OAF004271', 'OAF006402', 'OAF010457', 'OAF002560', 'OAF001259', 'OAF004821', 'OAF002846', 'OAF002539', 'OAF005873', 'OAF004113', 'OAF005085', 'OAF005973', 'OAF010089', 'OAF005643', 'OAF006392', 'OAF006684', 'OAF004201', 'OAF003783', 'OAF005272', 'OAF001155', 'OAF001673', 'OAF006524', 'OAF004309', 'OAF010499', 'OAF016820', 'OAF004886', 'OAF000218', 'OAF004185', 'OAF006060', 'OAF003038', 'OAF000169', 'OAF003526', 'OAF006333', 'OAF004827', 'OAF016925', 'OAF010378', 'OAF003909', 'OAF004093', 'OAF006365', 'OAF005629', 'OAF001725', 'OAF003199', 'OAF003112', 'OAF003101', 'OAF010065', 'OAF000718', 'OAF004372', 'OAF001729', 'OAF000905', 'OAF004462', 'OAF010146', 'OAF005853', 'OAF001028', 'OAF004167', 'OAF001605', 'OAF010344', 'OAF000348', 'OAF006328', 'OAF006225', 'OAF001458', 'OAF006432', 'OAF002352', 'OAF005896', 'OAF010121', 'OAF002411', 'OAF004048', 'OAF004316', 'OAF000051', 'OAF005501', 'OAF006439', 'OAF001597', 'OAF000540', 'OAF000607', 'OAF006244', 'OAF002540', 'OAF016799', 'OAF003712', 'OAF003701', 'OAF001394', 'OAF004291', 'OAF004978', 'OAF003612', 'OAF006721', 'OAF004182', 'OAF016814', 'OAF003091', 'OAF002894', 'OAF004889', 'OAF000411', 'OAF004924', 'OAF006209', 'OAF005615', 'OAF006245', 'OAF016364', 'OAF001066', 'OAF003828', 'OAF004189', 'OAF001347', 'OAF003397', 'OAF003579', 'OAF010448', 'OAF004025', 'OAF006383', 'OAF003587', 'OAF004538', 'OAF004823', 'OAF006210', 'OAF002082', 'OAF001656', 'OAF004382', 'OAF005234', 'OAF003898', 'OAF006073', 'OAF003182', 'OAF004558', 'OAF003879', 'OAF016316', 'OAF005167', 'OAF001962', 'OAF010131', 'OAF000585', 'OAF003582', 'OAF003810', 'OAF016793', 'OAF000872', 'OAF002416', 'OAF010187', 'OAF001352', 'OAF004046', 'OAF006652', 'OAF006453', 'OAF001049', 'OAF003244', 'OAF004715', 'OAF004391', 'OAF006264', 'OAF000356', 'OAF001153', 'OAF002704', 'OAF001129', 'OAF005972', 'OAF001433', 'OAF000431', 'OAF010317', 'OAF003125', 'OAF005504', 'OAF002282', 'OAF000629', 'OAF003136', 'OAF004730', 'OAF002950', 'OAF005179', 'OAF010431', 'OAF003704', 'OAF000466', 'OAF000586', 'OAF016889', 'OAF006714', 'OAF005926', 'OAF000509', 'OAF006804', 'OAF001808', 'OAF006068', 'OAF006526', 'OAF006046', 'OAF003214', 'OAF010098', 'OAF006050', 'OAF002205', 'OAF003628', 'OAF004082', 'OAF002746', 'OAF003775', 'OAF000688', 'OAF000781', 'OAF001532', 'OAF003581', 'OAF001018', 'OAF010000', 'OAF003803', 'OAF002306', 'OAF016323', 'OAF005606', 'OAF002407', 'OAF005489', 'OAF016539', 'OAF003906', 'OAF003591', 'OAF002542', 'OAF003500', 'OAF003109', 'OAF004490', 'OAF000297', 'OAF000272', 'OAF010287', 'OAF004561', 'OAF016833', 'OAF004638', 'OAF005903', 'OAF001984', 'OAF000875', 'OAF004151', 'OAF006603', 'OAF004483', 'OAF005510', 'OAF000436', 'OAF004478', 'OAF002687', 'OAF010629', 'OAF010649', 'OAF006745', 'OAF010571', 'OAF004104', 'OAF010258', 'OAF003490', 'OAF006464', 'OAF016845', 'OAF010633', 'OAF006079', 'OAF000614', 'OAF005332', 'OAF006781', 'OAF006689', 'OAF005627', 'OAF000609', 'OAF000919', 'OAF006436', 'OAF005305', 'OAF002810', 'OAF005626', 'OAF006437', 'OAF010302', 'OAF000008', 'OAF001361', 'OAF001234', 'OAF006720', 'OAF000179', 'OAF005295', 'OAF003034', 'OAF004849', 'OAF006755', 'OAF010601', 'OAF005814', 'OAF003636', 'OAF010637', 'OAF004439', 'OAF005050', 'OAF004450', 'OAF000584', 'OAF010537', 'OAF004918', 'OAF010046', 'OAF003507', 'OAF000542', 'OAF001262', 'OAF000451', 'OAF004200', 'OAF005517', 'OAF006489', 'OAF005126', 'OAF006289', 'OAF006271', 'OAF003696', 'OAF003929', 'OAF003850', 'OAF002928', 'OAF004261', 'OAF004281', 'OAF006452', 'OAF002417', 'OAF006523', 'OAF000135', 'OAF010154', 'OAF016851', 'OAF000349', 'OAF005769', 'OAF001794', 'OAF005527', 'OAF006789', 'OAF005292', 'OAF004229', 'OAF000381', 'OAF004944', 'OAF001449', 'OAF006664', 'OAF002983', 'OAF002855', 'OAF003715', 'OAF010069', 'OAF016855', 'OAF002673', 'OAF004822', 'OAF002770', 'OAF003962', 'OAF006722', 'OAF003804', 'OAF002709', 'OAF005714', 'OAF000227', 'OAF002635', 'OAF003198', 'OAF005989', 'OAF002967', 'OAF001850', 'OAF004232', 'OAF006356', 'OAF006183', 'OAF006711', 'OAF016674', 'OAF004843', 'OAF002892', 'OAF002437', 'OAF005522', 'OAF000732', 'OAF003192', 'OAF005965', 'OAF003387', 'OAF002686', 'OAF010646', 'OAF003360', 'OAF006063', 'OAF005212', 'OAF003629', 'OAF004053', 'OAF001019', 'OAF005843', 'OAF005216', 'OAF004064', 'OAF000855', 'OAF004365', 'OAF006179', 'OAF000871', 'OAF003009', 'OAF006495', 'OAF002755', 'OAF006650', 'OAF000595', 'OAF010169', 'OAF004855', 'OAF005141', 'OAF003854', 'OAF005436', 'OAF003789', 'OAF004932', 'OAF006089', 'OAF005546', 'OAF004759', 'OAF010379', 'OAF010483', 'OAF000160', 'OAF001609', 'OAF000092', 'OAF006620', 'OAF003503', 'OAF003392', 'OAF010697', 'OAF004506', 'OAF004876', 'OAF006488', 'OAF010651', 'OAF002534', 'OAF006447', 'OAF010185', 'OAF001780', 'OAF006776', 'OAF003122', 'OAF001443', 'OAF004395', 'OAF005059', 'OAF010274', 'OAF005159', 'OAF001088', 'OAF010505', 'OAF003506', 'OAF001805', 'OAF016931', 'OAF005921', 'OAF003383', 'OAF006112', 'OAF001697', 'OAF001295', 'OAF010216', 'OAF010602', 'OAF004518', 'OAF006186', 'OAF005402', 'OAF003594', 'OAF010543', 'OAF001051', 'OAF002969', 'OAF000322', 'OAF000878', 'OAF003141', 'OAF016800', 'OAF001100', 'OAF001227', 'OAF005209', 'OAF004804', 'OAF000346', 'OAF001056', 'OAF010522', 'OAF001345', 'OAF006232', 'OAF005473', 'OAF004180', 'OAF002984', 'OAF005892', 'OAF004771', 'OAF003030', 'OAF004098', 'OAF003890', 'OAF005309', 'OAF006554', 'OAF004225', 'OAF006786', 'OAF005077', 'OAF001519', 'OAF000834', 'OAF004030', 'OAF003885', 'OAF002581', 'OAF003306', 'OAF004484', 'OAF002785', 'OAF000766', 'OAF003925', 'OAF001894', 'OAF004639', 'OAF000537', 'OAF006061', 'OAF004687', 'OAF006317', 'OAF000293', 'OAF006591', 'OAF010257', 'OAF005267', 'OAF003950', 'OAF004928', 'OAF002187', 'OAF002971', 'OAF003986', 'OAF003430', 'OAF004681', 'OAF003869', 'OAF000921', 'OAF005906', 'OAF004047', 'OAF005425', 'OAF002920', 'OAF005340', 'OAF006433', 'OAF003379', 'OAF006334', 'OAF004762', 'OAF016321', 'OAF006376', 'OAF006783', 'OAF004008', 'OAF002724', 'OAF003800', 'OAF004897', 'OAF005659', 'OAF006167', 'OAF000870', 'OAF000803', 'OAF005187', 'OAF016951', 'OAF003968', 'OAF010331', 'OAF000254', 'OAF004480', 'OAF001883', 'OAF004698', 'OAF005408', 'OAF003871', 'OAF005541', 'OAF000481', 'OAF016917', 'OAF006459', 'OAF001210', 'OAF005634', 'OAF016540', 'OAF000572', 'OAF004403', 'OAF002955', 'OAF004979', 'OAF005389', 'OAF000002', 'OAF000176', 'OAF003443', 'OAF016392', 'OAF006197', 'OAF005202', 'OAF006194', 'OAF006420', 'OAF003423', 'OAF006673', 'OAF005385', 'OAF005071', 'OAF010312', 'OAF005303', 'OAF016843', 'OAF001086', 'OAF005641', 'OAF004080', 'OAF006516', 'OAF016822', 'OAF003366', 'OAF006343', 'OAF002996', 'OAF005073', 'OAF003619', 'OAF004058', 'OAF005180', 'OAF004943', 'OAF001386', 'OAF006570', 'OAF003297', 'OAF006732', 'OAF000053', 'OAF001610', 'OAF004675', 'OAF016476', 'OAF002711', 'OAF006331', 'OAF002764', 'OAF005326', 'OAF010259', 'OAF010053', 'OAF002169', 'OAF016837', 'OAF006688', 'OAF003444', 'OAF004442', 'OAF002726', 'OAF002769', 'OAF016789', 'OAF006208', 'OAF003351', 'OAF002013', 'OAF004110', 'OAF005583', 'OAF005253', 'OAF002621', 'OAF003212', 'OAF000990', 'OAF001314', 'OAF001511', 'OAF005692', 'OAF006100', 'OAF006315', 'OAF010413', 'OAF006393', 'OAF001427', 'OAF010123', 'OAF003647', 'OAF004682', 'OAF010556', 'OAF004230', 'OAF005488', 'OAF001309', 'OAF016954', 'OAF005708', 'OAF002975', 'OAF002161', 'OAF005061', 'OAF001971', 'OAF000737', 'OAF005407', 'OAF003115', 'OAF003215', 'OAF000580', 'OAF006726', 'OAF001579', 'OAF002516', 'OAF005070', 'OAF001334', 'OAF004539', 'OAF005782', 'OAF002568', 'OAF001380', 'OAF004089', 'OAF004937', 'OAF002822', 'OAF004502', 'OAF000925', 'OAF004862', 'OAF006550', 'OAF001951', 'OAF005820', 'OAF000503', 'OAF005414', 'OAF005344', 'OAF000213', 'OAF003534', 'OAF004344', 'OAF003205', 'OAF010330', 'OAF006409', 'OAF002720', 'OAF004010', 'OAF002392', 'OAF000860', 'OAF003207', 'OAF001576', 'OAF004145', 'OAF006303', 'OAF003450', 'OAF000342', 'OAF003739', 'OAF006700', 'OAF002669', 'OAF000433', 'OAF001944', 'OAF000244', 'OAF010534', 'OAF002328', 'OAF005515', 'OAF000879', 'OAF010612', 'OAF006400', 'OAF003372', 'OAF005701', 'OAF005709', 'OAF006504', 'OAF006712', 'OAF004934', 'OAF001045', 'OAF005881', 'OAF003773', 'OAF001371', 'OAF004611', 'OAF005854', 'OAF010332', 'OAF000869', 'OAF001089', 'OAF005632', 'OAF001319', 'OAF005754', 'OAF001870', 'OAF010595', 'OAF016662', 'OAF002242', 'OAF002262', 'OAF005373', 'OAF004243', 'OAF004088', 'OAF003369', 'OAF005081', 'OAF002226', 'OAF006185', 'OAF002404', 'OAF006055', 'OAF001372', 'OAF004550', 'OAF002274', 'OAF006052', 'OAF006768', 'OAF003247', 'OAF000830', 'OAF002289', 'OAF002292', 'OAF003780', 'OAF002974', 'OAF001674', 'OAF005296', 'OAF003653', 'OAF005286', 'OAF010251', 'OAF006686', 'OAF003954', 'OAF010113', 'OAF006611', 'OAF002747', 'OAF005914', 'OAF000618', 'OAF004992', 'OAF010369', 'OAF016338', 'OAF001421', 'OAF006654', 'OAF002214', 'OAF000409', 'OAF004132', 'OAF001065', 'OAF006176', 'OAF005635', 'OAF010532', 'OAF000689', 'OAF001727', 'OAF005974', 'OAF006614', 'OAF002912', 'OAF004339', 'OAF004883', 'OAF005464', 'OAF006481', 'OAF001412', 'OAF001161', 'OAF010041', 'OAF006091', 'OAF000041', 'OAF002317', 'OAF010245', 'OAF016932', 'OAF005507', 'OAF004614', 'OAF003462', 'OAF004453', 'OAF001492', 'OAF010165', 'OAF005403', 'OAF006438', 'OAF006703', 'OAF000677', 'OAF003151', 'OAF005282', 'OAF006724', 'OAF004957', 'OAF006757', 'OAF006116', 'OAF000052', 'OAF005136', 'OAF000249', 'OAF006486', 'OAF006693', 'OAF005661', 'OAF016788', 'OAF004405', 'OAF004077', 'OAF010157', 'OAF010458', 'OAF003572', 'OAF001338', 'OAF002503', 'OAF003287', 'OAF002007', 'OAF002195', 'OAF010082', 'OAF004968', 'OAF002675', 'OAF001995', 'OAF003777', 'OAF002818', 'OAF004018', 'OAF002596', 'OAF005594', 'OAF000754', 'OAF000533', 'OAF006782', 'OAF003699', 'OAF004074', 'OAF001036', 'OAF003012', 'OAF004674', 'OAF005173', 'OAF003406', 'OAF001613', 'OAF003609', 'OAF001655', 'OAF000405', 'OAF016675', 'OAF006319', 'OAF000917', 'OAF006345', 'OAF000224', 'OAF010136', 'OAF005254', 'OAF016957', 'OAF002330', 'OAF001179', 'OAF000325', 'OAF000655', 'OAF005674', 'OAF003640', 'OAF002705', 'OAF003618', 'OAF002429', 'OAF001918', 'OAF005735', 'OAF000841', 'OAF016868', 'OAF016334', 'OAF003643', 'OAF006547', 'OAF006528', 'OAF005500', 'OAF005334', 'OAF005247', 'OAF000290', 'OAF004899', 'OAF006770', 'OAF005602', 'OAF001643', 'OAF003234', 'OAF003660', 'OAF004280', 'OAF006625', 'OAF000429', 'OAF002926', 'OAF002697', 'OAF002244', 'OAF000815', 'OAF000123', 'OAF004337', 'OAF016908', 'OAF002033', 'OAF002054', 'OAF000133', 'OAF002776', 'OAF001669', 'OAF002929', 'OAF001663', 'OAF006142', 'OAF002283', 'OAF004892', 'OAF002525', 'OAF005520', 'OAF010109', 'OAF002587', 'OAF004211', 'OAF004549', 'OAF004451', 'OAF010700', 'OAF005744', 'OAF010094', 'OAF000446', 'OAF003082', 'OAF005047', 'OAF016348', 'OAF001281', 'OAF005915', 'OAF002243', 'OAF003259', 'OAF001407', 'OAF000324', 'OAF005013', 'OAF001310', 'OAF004238', 'OAF003376', 'OAF000484', 'OAF000136', 'OAF006471', 'OAF002977', 'OAF002321', 'OAF016372', 'OAF005721', 'OAF002509', 'OAF006608', 'OAF002708', 'OAF001012', 'OAF002689', 'OAF003553', 'OAF000265', 'OAF006357', 'OAF006279', 'OAF001091', 'OAF001190', 'OAF000427', 'OAF006604', 'OAF002877', 'OAF002250', 'OAF010597', 'OAF004224', 'OAF000684', 'OAF001294', 'OAF002591', 'OAF002020', 'OAF002464', 'OAF001119', 'OAF005264', 'OAF001606', 'OAF002567', 'OAF010072', 'OAF005647', 'OAF004290', 'OAF002796', 'OAF005799', 'OAF001589', 'OAF000647', 'OAF003852', 'OAF001312', 'OAF005273', 'OAF010019', 'OAF010335', 'OAF000658', 'OAF005032', 'OAF016337', 'OAF010436', 'OAF004990', 'OAF003040', 'OAF002471', 'OAF004565', 'OAF001819', 'OAF004006', 'OAF005215', 'OAF010535', 'OAF001930', 'OAF005308', 'OAF001743', 'OAF005494', 'OAF004087', 'OAF010351', 'OAF003324', 'OAF002375', 'OAF000250', 'OAF005521', 'OAF003980', 'OAF006065', 'OAF003610', 'OAF006362', 'OAF006391', 'OAF000910', 'OAF003255', 'OAF006557', 'OAF004724', 'OAF002209', 'OAF010044', 'OAF004033', 'OAF001937', 'OAF010293', 'OAF005732', 'OAF003844', 'OAF001730', 'OAF004755', 'OAF003052', 'OAF000499', 'OAF002343', 'OAF000492', 'OAF010493', 'OAF010639', 'OAF001203', 'OAF005848', 'OAF010610', 'OAF005949', 'OAF004206', 'OAF002339', 'OAF001869', 'OAF002278', 'OAF006172', 'OAF006742', 'OAF004907', 'OAF002898', 'OAF004880', 'OAF004236', 'OAF000142', 'OAF002625', 'OAF005845', 'OAF006619', 'OAF004507', 'OAF003746', 'OAF000981', 'OAF002158', 'OAF005728', 'OAF000128', 'OAF005804', 'OAF005662', 'OAF003547', 'OAF000941', 'OAF003941', 'OAF000207', 'OAF010607', 'OAF004570', 'OAF000788', 'OAF004050', 'OAF001422', 'OAF005477', 'OAF004774', 'OAF004671', 'OAF003292', 'OAF004586', 'OAF006431', 'OAF005686', 'OAF001836', 'OAF005484', 'OAF002666', 'OAF016912', 'OAF000434', 'OAF002642', 'OAF001353', 'OAF002254', 'OAF005511', 'OAF004697', 'OAF010449', 'OAF003233', 'OAF001467', 'OAF010606', 'OAF004686', 'OAF006479', 'OAF000952', 'OAF010541', 'OAF004267', 'OAF010060', 'OAF016353', 'OAF005469', 'OAF006242', 'OAF002408', 'OAF006256', 'OAF006697', 'OAF016335', 'OAF004417', 'OAF005101', 'OAF000818', 'OAF002640', 'OAF002614', 'OAF004829', 'OAF003439', 'OAF001224', 'OAF006421', 'OAF006793', 'OAF006388', 'OAF005618', 'OAF006683', 'OAF002090', 'OAF004714', 'OAF003399', 'OAF005802', 'OAF006265', 'OAF005239', 'OAF000112', 'OAF004637', 'OAF005140', 'OAF004601', 'OAF000062', 'OAF010527', 'OAF016324', 'OAF000569', 'OAF010079', 'OAF001399', 'OAF001336', 'OAF003238', 'OAF000129', 'OAF010052', 'OAF004945', 'OAF010536', 'OAF001641', 'OAF006545', 'OAF006762', 'OAF006386', 'OAF006389', 'OAF004769', 'OAF004719', 'OAF000495', 'OAF004808', 'OAF001837', 'OAF002315', 'OAF001718', 'OAF010399', 'OAF000491', 'OAF016819', 'OAF004107', 'OAF003352', 'OAF001114', 'OAF006730', 'OAF005132', 'OAF003081', 'OAF000930', 'OAF016330', 'OAF005331', 'OAF004866', 'OAF004308', 'OAF000770', 'OAF002350', 'OAF001420', 'OAF003275', 'OAF004473', 'OAF003328', 'OAF006128', 'OAF004922', 'OAF002100', 'OAF004289', 'OAF004965', 'OAF000717', 'OAF001144', 'OAF000851', 'OAF010470', 'OAF001438', 'OAF003148', 'OAF004284', 'OAF003571', 'OAF003089', 'OAF001101', 'OAF003495', 'OAF000635', 'OAF005237', 'OAF004882', 'OAF001888', 'OAF005530', 'OAF000967', 'OAF003308', 'OAF002847', 'OAF006727', 'OAF003240', 'OAF001910', 'OAF002264', 'OAF005528', 'OAF003438', 'OAF003874', 'OAF004306', 'OAF004659', 'OAF000620', 'OAF000554', 'OAF010199', 'OAF003105', 'OAF010380', 'OAF001151', 'OAF003095', 'OAF000885', 'OAF010180', 'OAF003380', 'OAF005861', 'OAF003300', 'OAF005760', 'OAF005250', 'OAF000792', 'OAF005400', 'OAF001111', 'OAF003474', 'OAF003270', 'OAF003520', 'OAF004428', 'OAF004626', 'OAF016478', 'OAF006358', 'OAF003454', 'OAF001325', 'OAF001000', 'OAF004546', 'OAF003047', 'OAF016815', 'OAF002040', 'OAF000825', 'OAF006214', 'OAF004479', 'OAF010492', 'OAF006579', 'OAF016898', 'OAF004767', 'OAF002403', 'OAF004266', 'OAF016515', 'OAF005161', 'OAF004065', 'OAF001150', 'OAF010170', 'OAF010201', 'OAF001074', 'OAF010508', 'OAF006195', 'OAF005227', 'OAF003786', 'OAF003405', 'OAF003511', 'OAF005513', 'OAF001397', 'OAF000076', 'OAF010298', 'OAF006101', 'OAF001664', 'OAF003813', 'OAF004433', 'OAF010632', 'OAF001250', 'OAF003832', 'OAF002648', 'OAF003170', 'OAF002132', 'OAF010476', 'OAF004303', 'OAF010145', 'OAF003416', 'OAF004756', 'OAF001604', 'OAF010523', 'OAF005130', 'OAF005251', 'OAF001368', 'OAF002692', 'OAF010623', 'OAF004317', 'OAF000217', 'OAF005279', 'OAF000501', 'OAF003181', 'OAF002248', 'OAF005533', 'OAF001616', 'OAF005966', 'OAF006585', 'OAF005819', 'OAF004947', 'OAF002462', 'OAF002217', 'OAF002031', 'OAF006220', 'OAF001916', 'OAF005700', 'OAF002988', 'OAF000138', 'OAF016410', 'OAF016376', 'OAF001895', 'OAF010301', 'OAF005438', 'OAF001706', 'OAF016812', 'OAF003533', 'OAF003859', 'OAF006190', 'OAF001139', 'OAF016937', 'OAF001248', 'OAF003339', 'OAF004341', 'OAF006780', 'OAF006691', 'OAF000035', 'OAF003872', 'OAF006424', 'OAF002166', 'OAF005312', 'OAF001889', 'OAF005461', 'OAF005781', 'OAF000874', 'OAF016389', 'OAF016320', 'OAF001713', 'OAF003857', 'OAF005542', 'OAF003819', 'OAF003253', 'OAF010453', 'OAF010553', 'OAF005752', 'OAF000660', 'OAF004404', 'OAF010303', 'OAF002490', 'OAF010192', 'OAF001491', 'OAF003230', 'OAF001897', 'OAF002133', 'OAF002774', 'OAF003277', 'OAF001303', 'OAF002865', 'OAF006491', 'OAF002546', 'OAF005128', 'OAF000186', 'OAF006339', 'OAF005142', 'OAF010406', 'OAF002116', 'OAF005375', 'OAF016919', 'OAF001939', 'OAF005793', 'OAF003284', 'OAF000694', 'OAF005499', 'OAF000393', 'OAF003143', 'OAF000804', 'OAF001840', 'OAF016797', 'OAF016349', 'OAF000722', 'OAF000288', 'OAF001758', 'OAF000934', 'OAF005691', 'OAF000547', 'OAF016368', 'OAF002511', 'OAF003788', 'OAF000204', 'OAF005139', 'OAF004651', 'OAF001073', 'OAF006478', 'OAF004449', 'OAF002934', 'OAF002506', 'OAF016660', 'OAF010621', 'OAF010405', 'OAF010054', 'OAF004931', 'OAF003750', 'OAF000666', 'OAF005240', 'OAF001637', 'OAF000984', 'OAF003851', 'OAF004431', 'OAF004867', 'OAF003569', 'OAF002080', 'OAF002425', 'OAF016826', 'OAF004980', 'OAF005294', 'OAF004086', 'OAF003315', 'OAF001537', 'OAF003597', 'OAF001515', 'OAF000550', 'OAF010143', 'OAF010626', 'OAF002946', 'OAF006158', 'OAF001239', 'OAF004078', 'OAF003725', 'OAF003974', 'OAF000811', 'OAF001722', 'OAF005612', 'OAF010415', 'OAF004652', 'OAF006590', 'OAF006154', 'OAF010504', 'OAF002664', 'OAF002091', 'OAF003171', 'OAF002779', 'OAF004358', 'OAF010173', 'OAF003665', 'OAF005122', 'OAF006790', 'OAF005872', 'OAF000350', 'OAF001430', 'OAF006584', 'OAF000633', 'OAF006155', 'OAF010432', 'OAF004070', 'OAF010056', 'OAF001795', 'OAF002203', 'OAF000488', 'OAF003365', 'OAF001516', 'OAF010568', 'OAF006346', 'OAF005898', 'OAF005683', 'OAF005311', 'OAF005409', 'OAF005099', 'OAF016838', 'OAF002457', 'OAF006468', 'OAF001447', 'OAF006719', 'OAF004144', 'OAF001177', 'OAF004079', 'OAF003903', 'OAF000988', 'OAF004760', 'OAF004471', 'OAF000059', 'OAF010092', 'OAF002362', 'OAF001432', 'OAF002859', 'OAF000556', 'OAF005064', 'OAF010252', 'OAF004595', 'OAF006419', 'OAF002224', 'OAF002777', 'OAF001981', 'OAF000472', 'OAF005999', 'OAF004477', 'OAF002489', 'OAF000630', 'OAF001622', 'OAF002017', 'OAF002042', 'OAF005985', 'OAF000591', 'OAF010307', 'OAF000913', 'OAF002261', 'OAF006051', 'OAF002556', 'OAF016927', 'OAF002599', 'OAF004846', 'OAF006666', 'OAF001569', 'OAF000764', 'OAF002819', 'OAF003441', 'OAF006466', 'OAF000403', 'OAF003350', 'OAF005673', 'OAF001649', 'OAF001577', 'OAF004111', 'OAF000949', 'OAF016401', 'OAF005116', 'OAF003477', 'OAF016408', 'OAF016384', 'OAF016328', 'OAF010139', 'OAF006067', 'OAF000807', 'OAF006475', 'OAF002850', 'OAF010133', 'OAF001955', 'OAF001647', 'OAF003666', 'OAF004460', 'OAF001228', 'OAF004217', 'OAF006163', 'OAF001476', 'OAF000576', 'OAF002039', 'OAF004634', 'OAF000181', 'OAF000515', 'OAF016796', 'OAF005821', 'OAF006044', 'OAF001514', 'OAF000048', 'OAF006752', 'OAF004443', 'OAF010242', 'OAF004801', 'OAF010634', 'OAF003822', 'OAF016944', 'OAF010020', 'OAF003690', 'OAF000445', 'OAF003668', 'OAF002783', 'OAF004292', 'OAF000221', 'OAF002107', 'OAF001696', 'OAF006731', 'OAF000636', 'OAF006561', 'OAF006671', 'OAF000102', 'OAF006189', 'OAF010419', 'OAF003479', 'OAF005134', 'OAF000589', 'OAF000943', 'OAF005146', 'OAF010294', 'OAF002659', 'OAF002140', 'OAF001536', 'OAF010120', 'OAF010159', 'OAF002053', 'OAF006540', 'OAF003018', 'OAF000332', 'OAF001276', 'OAF001482', 'OAF003330', 'OAF006162', 'OAF006135', 'OAF000682', 'OAF000980', 'OAF006321', 'OAF006217', 'OAF003914', 'OAF005981', 'OAF005562', 'OAF001158', 'OAF001646', 'OAF001603', 'OAF010107', 'OAF005211', 'OAF000226', 'OAF006728', 'OAF004708', 'OAF004398', 'OAF006613', 'OAF000459', 'OAF004606', 'OAF006422', 'OAF004654', 'OAF002431', 'OAF001364', 'OAF004363', 'OAF000644', 'OAF001070', 'OAF001948', 'OAF004408', 'OAF001488', 'OAF000828', 'OAF002441', 'OAF000697', 'OAF005757', 'OAF016953', 'OAF005667', 'OAF003943', 'OAF016341', 'OAF010111', 'OAF001994', 'OAF004946', 'OAF000693', 'OAF004504', 'OAF006371', 'OAF002980', 'OAF003782', 'OAF002233', 'OAF000458', 'OAF006084', 'OAF000848', 'OAF002829', 'OAF004274', 'OAF016850', 'OAF004615', 'OAF004406', 'OAF010071', 'OAF004237', 'OAF016795', 'OAF010096', 'OAF016343', 'OAF002111', 'OAF000893', 'OAF004648', 'OAF002456', 'OAF006766', 'OAF016801', 'OAF006606', 'OAF003080', 'OAF006323', 'OAF005642', 'OAF001494', 'OAF001723', 'OAF000738', 'OAF005912', 'OAF005441', 'OAF006290', 'OAF016482', 'OAF000551', 'OAF004447', 'OAF006498', 'OAF000664', 'OAF002885', 'OAF003771', 'OAF002422', 'OAF003375', 'OAF004847', 'OAF005855', 'OAF004028', 'OAF006008', 'OAF001874', 'OAF006307', 'OAF002660', 'OAF001627', 'OAF000283', 'OAF003318', 'OAF016938', 'OAF001749', 'OAF003632', 'OAF001911', 'OAF004826', 'OAF002663', 'OAF001685', 'OAF001741', 'OAF005245', 'OAF010290', 'OAF004457', 'OAF002165', 'OAF000389', 'OAF005111', 'OAF006680', 'OAF005558', 'OAF000352', 'OAF004124', 'OAF002861', 'OAF000054', 'OAF005377', 'OAF004037', 'OAF001721', 'OAF003480', 'OAF006527', 'OAF006501', 'OAF003049', 'OAF002611', 'OAF004958', 'OAF003024', 'OAF001917', 'OAF005996', 'OAF003342', 'OAF010108', 'OAF005756', 'OAF005271', 'OAF003936', 'OAF005987', 'OAF000087', 'OAF003642', 'OAF003790', 'OAF001766', 'OAF004263', 'OAF006698', 'OAF005422', 'OAF010329', 'OAF001786', 'OAF000282', 'OAF004137', 'OAF000289', 'OAF004214', 'OAF005218', 'OAF004773', 'OAF001668', 'OAF003161', 'OAF004930', 'OAF010262', 'OAF004470', 'OAF003058', 'OAF004140', 'OAF001617', 'OAF005666', 'OAF005482', 'OAF005435', 'OAF006615', 'OAF001849', 'OAF004936', 'OAF005310', 'OAF010423', 'OAF006763', 'OAF001598', 'OAF001075', 'OAF004336', 'OAF002868', 'OAF004156', 'OAF006607', 'OAF001862', 'OAF003427', 'OAF006702', 'OAF002386', 'OAF004970', 'OAF005506', 'OAF000025', 'OAF001024', 'OAF010477', 'OAF016940', 'OAF010254', 'OAF000467', 'OAF004949', 'OAF004402', 'OAF006465', 'OAF016893', 'OAF000741', 'OAF010398', 'OAF006596', 'OAF003429', 'OAF005443', 'OAF003781', 'OAF001030', 'OAF000103', 'OAF003473', 'OAF006177', 'OAF001147', 'OAF010193', 'OAF001165', 'OAF005753', 'OAF001459', 'OAF010217', 'OAF003684', 'OAF005665', 'OAF001297', 'OAF000424', 'OAF004562', 'OAF005800', 'OAF005115', 'OAF005348', 'OAF003001', 'OAF002024', 'OAF001781', 'OAF004250', 'OAF006616', 'OAF005396', 'OAF004268', 'OAF004192', 'OAF003159', 'OAF002095', 'OAF006609', 'OAF001357', 'OAF003751', 'OAF002402', 'OAF000027', 'OAF006107', 'OAF003069', 'OAF002062', 'OAF000831', 'OAF005480', 'OAF004430', 'OAF004845', 'OAF001629', 'OAF000331', 'OAF006649', 'OAF006250', 'OAF000543', 'OAF010244', 'OAF010622', 'OAF000712', 'OAF000813', 'OAF001504', 'OAF004619', 'OAF000419', 'OAF005046', 'OAF005750', 'OAF001804', 'OAF003809', 'OAF005123', 'OAF005131', 'OAF003271', 'OAF016922', 'OAF000889', 'OAF006723', 'OAF003865', 'OAF016367', 'OAF000574', 'OAF001809', 'OAF010611', 'OAF016821', 'OAF002554', 'OAF000106', 'OAF005364', 'OAF000215', 'OAF005468', 'OAF005780', 'OAF016905', 'OAF016405', 'OAF010509', 'OAF001500', 'OAF003966', 'OAF003693', 'OAF002210', 'OAF016949', 'OAF003608', 'OAF006744', 'OAF001920', 'OAF010028', 'OAF005849', 'OAF004973', 'OAF001966', 'OAF002128', 'OAF006429', 'OAF005135', 'OAF000838', 'OAF003449', 'OAF006413', 'OAF000457', 'OAF002617', 'OAF004397', 'OAF004476', 'OAF016892', 'OAF004116', 'OAF010161', 'OAF004153', 'OAF010404', 'OAF002535', 'OAF005005', 'OAF016369', 'OAF002012', 'OAF004256', 'OAF002572', 'OAF006292', 'OAF000146', 'OAF000161', 'OAF010605', 'OAF010266', 'OAF010429', 'OAF004333', 'OAF000487', 'OAF002529', 'OAF016422', 'OAF003310', 'OAF001266', 'OAF003223', 'OAF002251', 'OAF016413', 'OAF010418', 'OAF003913', 'OAF002420', 'OAF005395', 'OAF006178', 'OAF003928', 'OAF000335', 'OAF004991', 'OAF010246', 'OAF001260', 'OAF002627', 'OAF001381', 'OAF002371', 'OAF002281', 'OAF000358', 'OAF002186', 'OAF002719', 'OAF001695', 'OAF000866', 'OAF001841', 'OAF010068', 'OAF003738', 'OAF004912', 'OAF002454', 'OAF006090', 'OAF002015', 'OAF002154', 'OAF003088', 'OAF001645', 'OAF000093', 'OAF002688', 'OAF005055', 'OAF001503', 'OAF010435', 'OAF000553', 'OAF005103', 'OAF010057', 'OAF004942', 'OAF003849', 'OAF002208', 'OAF002333', 'OAF001652', 'OAF000613', 'OAF000440', 'OAF010361', 'OAF004191', 'OAF005826', 'OAF002331', 'OAF005986', 'OAF010097', 'OAF003042', 'OAF002841', 'OAF003488', 'OAF000520', 'OAF006787', 'OAF002533', 'OAF001451', 'OAF016945', 'OAF005376', 'OAF001220', 'OAF006180', 'OAF016888', 'OAF002057', 'OAF003568', 'OAF000326', 'OAF010482', 'OAF002147', 'OAF001648', 'OAF002882', 'OAF002947', 'OAF002606', 'OAF002803', 'OAF001135', 'OAF005927', 'OAF004776', 'OAF016414', 'OAF006241', 'OAF003334', 'OAF000598', 'OAF000443', 'OAF002888', 'OAF005841', 'OAF003224', 'OAF000564', 'OAF005846', 'OAF006444', 'OAF003839', 'OAF003004', 'OAF004618', 'OAF000303', 'OAF010481', 'OAF001708', 'OAF006253', 'OAF006515', 'OAF010628', 'OAF005472', 'OAF001549', 'OAF002028', 'OAF016794', 'OAF001122', 'OAF001104', 'OAF005225', 'OAF003481', 'OAF004691', 'OAF005548', 'OAF010603', 'OAF005451', 'OAF000039', 'OAF010005', 'OAF000202', 'OAF004959', 'OAF003992', 'OAF002327', 'OAF010484', 'OAF010174', 'OAF010181', 'OAF010267', 'OAF005355', 'OAF005559', 'OAF010320', 'OAF010364', 'OAF000447', 'OAF001880', 'OAF003167', 'OAF010491', 'OAF002389', 'OAF006213', 'OAF016930', 'OAF006455', 'OAF002558', 'OAF003400', 'OAF001602', 'OAF010652', 'OAF002647', 'OAF004501', 'OAF004884', 'OAF002731', 'OAF003525', 'OAF003589', 'OAF010184', 'OAF016839', 'OAF001457', 'OAF004748', 'OAF005566', 'OAF002765', 'OAF000531', 'OAF002447', 'OAF005904', 'OAF006226', 'OAF006404', 'OAF005834', 'OAF005496', 'OAF010205', 'OAF000505', 'OAF016894', 'OAF010282', 'OAF005023', 'OAF001797', 'OAF002070', 'OAF001803', 'OAF010288', 'OAF003633', 'OAF005810', 'OAF002238', 'OAF006500', 'OAF002897', 'OAF010619', 'OAF000206', 'OAF000101', 'OAF010328', 'OAF000337', 'OAF006506', 'OAF002701', 'OAF004775', 'OAF002531', 'OAF016327', 'OAF005258', 'OAF016955', 'OAF005382', 'OAF003006', 'OAF006096', 'OAF005805', 'OAF005785', 'OAF005543', 'OAF006258', 'OAF010350', 'OAF005306', 'OAF016485', 'OAF003651', 'OAF010314', 'OAF005192', 'OAF005112', 'OAF006589', 'OAF001557', 'OAF003829', 'OAF004044', 'OAF006699', 'OAF016532', 'OAF002828', 'OAF010473', 'OAF006013', 'OAF001415', 'OAF000623', 'OAF001401', 'OAF002821', 'OAF006807', 'OAF004282', 'OAF010200', 'OAF001332', 'OAF006791', 'OAF001484', 'OAF004784', 'OAF001200', 'OAF004055', 'OAF002767', 'OAF004505', 'OAF006530', 'OAF016333', 'OAF004793', 'OAF005011', 'OAF001424', 'OAF003074', 'OAF005677', 'OAF003562', 'OAF001989', 'OAF004783', 'OAF010048', 'OAF000407', 'OAF002623', 'OAF001439', 'OAF001534', 'OAF000298', 'OAF001770', 'OAF005007', 'OAF001594', 'OAF002515', 'OAF005532', 'OAF016854', 'OAF006774', 'OAF001473', 'OAF001717', 'OAF003036', 'OAF003817', 'OAF003290', 'OAF000892', 'OAF003841', 'OAF006379', 'OAF010070', 'OAF003071', 'OAF003390', 'OAF001929', 'OAF000986', 'OAF002582', 'OAF006047', 'OAF003714', 'OAF002115', 'OAF004953', 'OAF004114', 'OAF000185', 'OAF006472', 'OAF002857', 'OAF006484', 'OAF006249', 'OAF002470', 'OAF006637', 'OAF000050', 'OAF003522', 'OAF010321', 'OAF001974', 'OAF004920', 'OAF006216', 'OAF006350', 'OAF001956', 'OAF003169', 'OAF006417', 'OAF003242', 'OAF001274', 'OAF002808', 'OAF000960', 'OAF000662', 'OAF000241', 'OAF001799', 'OAF001403', 'OAF005531', 'OAF006685', 'OAF001212', 'OAF001063', 'OAF005315', 'OAF001205', 'OAF002423', 'OAF005991', 'OAF010410', 'OAF005893', 'OAF001171', 'OAF002004', 'OAF005560', 'OAF005270', 'OAF001025', 'OAF010073', 'OAF004781', 'OAF000654', 'OAF006494', 'OAF004171', 'OAF000978', 'OAF010447', 'OAF016885', 'OAF016419', 'OAF005066', 'OAF000418', 'OAF000511', 'OAF016317', 'OAF010450', 'OAF000139', 'OAF003847', 'OAF006070', 'OAF004353', 'OAF003805', 'OAF005474', 'OAF005371', 'OAF004840', 'OAF000240', 'OAF005069', 'OAF003519', 'OAF016879', 'OAF003583', 'OAF002831', 'OAF002381', 'OAF001333', 'OAF005913', 'OAF001464', 'OAF010074', 'OAF004778', 'OAF000854', 'OAF004526', 'OAF001583', 'OAF006198', 'OAF001735', 'OAF003794', 'OAF006621', 'OAF000582', 'OAF004679', 'OAF006761', 'OAF006170', 'OAF004343', 'OAF003226', 'OAF004350', 'OAF001599', 'OAF004792', 'OAF002136', 'OAF016390', 'OAF006705', 'OAF005419', 'OAF002332', 'OAF004963', 'OAF004413', 'OAF000528', 'OAF010236', 'OAF000604', 'OAF000508', 'OAF003639', 'OAF006655', 'OAF000514', 'OAF001351', 'OAF004811', 'OAF003945', 'OAF001290', 'OAF004112', 'OAF010101', 'OAF000334', 'OAF004977', 'OAF000329', 'OAF006741', 'OAF005105', 'OAF010339', 'OAF004785', 'OAF003373', 'OAF006286', 'OAF005430', 'OAF002434', 'OAF001813', 'OAF000037', 'OAF005299', 'OAF002760', 'OAF005324', 'OAF005905', 'OAF001792', 'OAF002307', 'OAF000625', 'OAF004910', 'OAF002027', 'OAF005022', 'OAF016347', 'OAF006254', 'OAF001236', 'OAF010412', 'OAF004448', 'OAF001593', 'OAF002078', 'OAF000150', 'OAF004704', 'OAF001031', 'OAF001490', 'OAF000364', 'OAF006359', 'OAF010616', 'OAF004828', 'OAF010445', 'OAF000876', 'OAF005844', 'OAF002990', 'OAF002176', 'OAF003967', 'OAF002272', 'OAF000464', 'OAF004298', 'OAF002270', 'OAF003278', 'OAF004941', 'OAF004888', 'OAF006772', 'OAF002754', 'OAF004222', 'OAF000260', 'OAF004814', 'OAF001822', 'OAF000365', 'OAF016510', 'OAF006354', 'OAF006546', 'OAF000276', 'OAF003527', 'OAF010372', 'OAF001756', 'OAF002972', 'OAF000089', 'OAF006282', 'OAF002148', 'OAF000406', 'OAF000812', 'OAF003843', 'OAF006147', 'OAF000284', 'OAF003896', 'OAF010544', 'OAF016336', 'OAF000004', 'OAF004981', 'OAF005302', 'OAF004695', 'OAF003314', 'OAF001975', 'OAF000650', 'OAF001521', 'OAF001877', 'OAF001072', 'OAF005811', 'OAF001633', 'OAF005432', 'OAF001988', 'OAF000776', 'OAF004956', 'OAF010401', 'OAF010650', 'OAF000463', 'OAF000387', 'OAF006551', 'OAF003831', 'OAF006126', 'OAF005257', 'OAF003605', 'OAF005803', 'OAF003165', 'OAF000091', 'OAF001170', 'OAF004879', 'OAF004786', 'OAF001245', 'OAF001437', 'OAF005284', 'OAF001418', 'OAF001337', 'OAF006191', 'OAF004467', 'OAF016918', 'OAF016802', 'OAF003386', 'OAF010064', 'OAF006224', 'OAF004143', 'OAF002228', 'OAF003458', 'OAF002727', 'OAF003092', 'OAF001331', 'OAF005645', 'OAF010355', 'OAF006450', 'OAF006257', 'OAF005338', 'OAF016400', 'OAF000300', 'OAF006211', 'OAF003433', 'OAF001890', 'OAF002695', 'OAF000020', 'OAF016831', 'OAF000897', 'OAF003573', 'OAF002149', 'OAF004891', 'OAF010573', 'OAF005442', 'OAF010569', 'OAF002757', 'OAF003204', 'OAF004985', 'OAF003130', 'OAF006496', 'OAF006563', 'OAF003361', 'OAF003578', 'OAF006564', 'OAF010240', 'OAF002931', 'OAF005909', 'OAF006575', 'OAF004571', 'OAF005184', 'OAF000107', 'OAF016322', 'OAF005098', 'OAF006118', 'OAF000755', 'OAF002844', 'OAF002218', 'OAF010130', 'OAF004338', 'OAF016673', 'OAF006251', 'OAF003211', 'OAF000759', 'OAF000765', 'OAF005788', 'OAF005830', 'OAF003285', 'OAF004940', 'OAF010487', 'OAF001265', 'OAF000417', 'OAF016670', 'OAF000058', 'OAF006670', 'OAF010570', 'OAF003100', 'OAF006520', 'OAF016836', 'OAF002987', 'OAF010365', 'OAF000924', 'OAF010387', 'OAF002424', 'OAF006558', 'OAF004508', 'OAF000200', 'OAF000105', 'OAF001059', 'OAF010454', 'OAF003008', 'OAF004869', 'OAF000852', 'OAF005164', 'OAF000180', 'OAF003979', 'OAF004988', 'OAF003309', 'OAF005920', 'OAF001355', 'OAF006034', 'OAF010277', 'OAF004540', 'OAF005280', 'OAF010526', 'OAF003548', 'OAF010248', 'OAF001943', 'OAF001580', 'OAF004900', 'OAF003079', 'OAF000069', 'OAF003152', 'OAF003625', 'OAF016314', 'OAF001690', 'OAF004056', 'OAF004975', 'OAF006066', 'OAF004854', 'OAF002277', 'OAF003683', 'OAF010261', 'OAF010698', 'OAF016840', 'OAF003567', 'OAF010705', 'OAF001635', 'OAF005637', 'OAF005208', 'OAF004385', 'OAF003510', 'OAF010147', 'OAF000430', 'OAF001110', 'OAF010598', 'OAF001048', 'OAF002391', 'OAF005446', 'OAF002716', 'OAF004802', 'OAF005285', 'OAF006657', 'OAF002164', 'OAF002463', 'OAF003129', 'OAF001879', 'OAF001435', 'OAF010197', 'OAF001287', 'OAF016902', 'OAF016548', 'OAF006236', 'OAF000877', 'OAF000476', 'OAF006805', 'OAF010144', 'OAF002573', 'OAF005319', 'OAF005505', 'OAF001141', 'OAF003556', 'OAF006196', 'OAF002624', 'OAF006395', 'OAF006398', 'OAF003359', 'OAF003188', 'OAF000086', 'OAF003842', 'OAF004850', 'OAF004312', 'OAF001847', 'OAF000011', 'OAF004777', 'OAF001747', 'OAF001004', 'OAF002173', 'OAF005967', 'OAF004437', 'OAF000985', 'OAF002324', 'OAF005449', 'OAF010095', 'OAF000884', 'OAF000071', 'OAF003051', 'OAF001666', 'OAF002199', 'OAF004885', 'OAF004295', 'OAF006718', 'OAF000800', 'OAF002045', 'OAF016669', 'OAF004971', 'OAF002395', 'OAF006423', 'OAF000055', 'OAF005201', 'OAF001800', 'OAF003086', 'OAF000056', 'OAF003531', 'OAF004416', 'OAF004610', 'OAF006521', 'OAF005679', 'OAF006753', 'OAF003382', 'OAF010027', 'OAF002157', 'OAF016828', 'OAF001269', 'OAF005265', 'OAF002707', 'OAF000707', 'OAF003426', 'OAF003029', 'OAF010099', 'OAF004100', 'OAF002671', 'OAF000785', 'OAF001367', 'OAF010533', 'OAF000778', 'OAF000140', 'OAF004983', 'OAF001621', 'OAF005610', 'OAF001313', 'OAF006219', 'OAF004277', 'OAF004859', 'OAF000402', 'OAF001860', 'OAF004923', 'OAF003892', 'OAF002896', 'OAF003757', 'OAF010342', 'OAF003279', 'OAF010202', 'OAF000285', 'OAF006598', 'OAF000646', 'OAF010179', 'OAF004481', 'OAF001820', 'OAF005751', 'OAF010381', 'OAF005149', 'OAF001255', 'OAF006427', 'OAF006610', 'OAF001327', 'OAF002426', 'OAF000372', 'OAF004246', 'OAF016406', 'OAF001263', 'OAF005880', 'OAF005503', 'OAF001967', 'OAF000046', 'OAF005384', 'OAF001807', 'OAF002940', 'OAF003908', 'OAF016906', 'OAF000673', 'OAF005622', 'OAF003778', 'OAF000797', 'OAF004579', 'OAF005057', 'OAF001384', 'OAF001692', 'OAF001921', 'OAF005327', 'OAF000975', 'OAF004422', 'OAF010186', 'OAF003428', 'OAF000197', 'OAF000380', 'OAF002443', 'OAF005736', 'OAF010049', 'OAF016805', 'OAF004034', 'OAF000309', 'OAF001038', 'OAF004964', 'OAF000651', 'OAF006043', 'OAF001082', 'OAF000397', 'OAF010465', 'OAF016553', 'OAF000278', 'OAF000824', 'OAF006425', 'OAF006109', 'OAF006316', 'OAF002461', 'OAF002113', 'OAF003626', 'OAF000432', 'OAF003912', 'OAF003662', 'OAF010540', 'OAF010502', 'OAF006054', 'OAF002055', 'OAF006458', 'OAF003570', 'OAF016493', 'OAF000957', 'OAF004646', 'OAF003708', 'OAF001982', 'OAF000935', 'OAF005815', 'OAF006461', 'OAF000579', 'OAF001978', 'OAF001001', 'OAF005328', 'OAF005891', 'OAF005178', 'OAF005555', 'OAF004851', 'OAF003013', 'OAF000353', 'OAF010679', 'OAF002595', 'OAF004203', 'OAF000858', 'OAF002273', 'OAF000243', 'OAF003765', 'OAF004335', 'OAF002105', 'OAF004187', 'OAF016823', 'OAF016378', 'OAF003887', 'OAF003447', 'OAF003981', 'OAF001304', 'OAF003220', 'OAF016666', 'OAF001845', 'OAF001632', 'OAF003065', 'OAF006152', 'OAF005537', 'OAF010699', 'OAF003446', 'OAF004293', 'OAF002358', 'OAF005614', 'OAF002924', 'OAF010464', 'OAF001207', 'OAF005121', 'OAF010182', 'OAF010137', 'OAF000619', 'OAF005916', 'OAF006045', 'OAF002253', 'OAF004660', 'OAF005545', 'OAF002824', 'OAF016315', 'OAF006288', 'OAF001113', 'OAF010029', 'OAF005238', 'OAF006283', 'OAF003717', 'OAF001020', 'OAF002019', 'OAF000390', 'OAF002875', 'OAF010045', 'OAF006344', 'OAF001734', 'OAF006602', 'OAF003162', 'OAF005176', 'OAF002266', 'OAF005748', 'OAF006764', 'OAF000786', 'OAF003947', 'OAF003134', 'OAF010104', 'OAF002869', 'OAF006281', 'OAF000559', 'OAF004262', 'OAF004613', 'OAF001942', 'OAF002908', 'OAF003023', 'OAF016804', 'OAF010125', 'OAF002185', 'OAF000104', 'OAF004361', 'OAF001659', 'OAF000401', 'OAF004680', 'OAF004247', 'OAF004004', 'OAF005588', 'OAF002793', 'OAF001582', 'OAF001069', 'OAF004616', 'OAF001446', 'OAF003268', 'OAF000652', 'OAF004796', 'OAF001321', 'OAF000292', 'OAF001574', 'OAF006549', 'OAF010551', 'OAF004799', 'OAF004903', 'OAF004998', 'OAF001658', 'OAF004334', 'OAF003067', 'OAF002532', 'OAF003262', 'OAF000333', 'OAF001611', 'OAF010417', 'OAF001213', 'OAF016388', 'OAF003824', 'OAF004102', 'OAF010207', 'OAF001080', 'OAF001423', 'OAF004555', 'OAF010530', 'OAF005607', 'OAF006502', 'OAF000631', 'OAF005439', 'OAF002798', 'OAF001517', 'OAF016484', 'OAF006223', 'OAF006304', 'OAF002487', 'OAF016818', 'OAF006366', 'OAF003935', 'OAF004497', 'OAF003592', 'OAF003322', 'OAF002849', 'OAF005051', 'OAF003942', 'OAF000465', 'OAF006769', 'OAF004411', 'OAF000114', 'OAF006573', 'OAF006448', 'OAF006509', 'OAF005233', 'OAF001108', 'OAF006662', 'OAF001932', 'OAF003229', 'OAF010397', 'OAF001050', 'OAF000918', 'OAF003897', 'OAF000634', 'OAF003346', 'OAF004354', 'OAF004830', 'OAF002886', 'OAF005186', 'OAF002853', 'OAF000558', 'OAF002541', 'OAF005345', 'OAF006539', 'OAF006656', 'OAF003848', 'OAF000748', 'OAF005867', 'OAF005968', 'OAF003882', 'OAF016511', 'OAF003137', 'OAF005591', 'OAF006708', 'OAF001359', 'OAF006505', 'OAF002181', 'OAF010395', 'OAF002873', 'OAF002344', 'OAF006414', 'OAF003815', 'OAF001541', 'OAF005590', 'OAF005593', 'OAF003656', 'OAF001329', 'OAF010624', 'OAF002452', 'OAF001992', 'OAF000420', 'OAF004035', 'OAF006327', 'OAF005858', 'OAF003093', 'OAF003657', 'OAF006512', 'OAF003764', 'OAF005619', 'OAF010323', 'OAF001280', 'OAF002602', 'OAF006200', 'OAF002982', 'OAF000444', 'OAF001764', 'OAF005919', 'OAF016332', 'OAF004901', 'OAF000933', 'OAF010475', 'OAF016383', 'OAF002702', 'OAF005860', 'OAF002071', 'OAF002710', 'OAF006725', 'OAF004296', 'OAF005512', 'OAF005850', 'OAF002607', 'OAF003700', 'OAF003795', 'OAF001007', 'OAF001204', 'OAF004919', 'OAF001767', 'OAF002890', 'OAF005535', 'OAF005711', 'OAF000734', 'OAF003104', 'OAF001181', 'OAF010434', 'OAF000162', 'OAF005519', 'OAF004916', 'OAF004951', 'OAF006301', 'OAF010584', 'OAF006507', 'OAF000388', 'OAF010021', 'OAF000808', 'OAF001642', 'OAF006440', 'OAF003041', 'OAF000223', 'OAF002129', 'OAF001289', 'OAF002923', 'OAF001628', 'OAF003837', 'OAF000864', 'OAF000182', 'OAF003769', 'OAF002043', 'OAF010706', 'OAF006663', 'OAF002576', 'OAF004015', 'OAF006001', 'OAF010576', 'OAF010452', 'OAF016897', 'OAF016423', 'OAF003973', 'OAF005300', 'OAF004643', 'OAF003131', 'OAF016803', 'OAF003276', 'OAF001691', 'OAF006434', 'OAF001615', 'OAF004059', 'OAF004150', 'OAF000109', 'OAF001335', 'OAF004842', 'OAF006474', 'OAF006199', 'OAF005322', 'OAF005551', 'OAF006087', 'OAF010241', 'OAF001608', 'OAF016339', 'OAF001964', 'OAF016499', 'OAF001676', 'OAF010572', 'OAF016798', 'OAF003498', 'OAF006771', 'OAF002910', 'OAF000310', 'OAF000019', 'OAF000587', 'OAF002965', 'OAF006037', 'OAF002932', 'OAF003833', 'OAF001396', 'OAF001216', 'OAF006794', 'OAF000275', 'OAF002925', 'OAF005261', 'OAF005459', 'OAF003961', 'OAF004699', 'OAF006518', 'OAF016672', 'OAF001448', 'OAF004530', 'OAF003305', 'OAF002467', 'OAF000974', 'OAF001235', 'OAF004001', 'OAF004432', 'OAF003972', 'OAF004976', 'OAF005648', 'OAF002137', 'OAF003231', 'OAF003460', 'OAF010191', 'OAF006785', 'OAF000624', 'OAF000668', 'OAF010366', 'OAF002215', 'OAF003785', 'OAF006272', 'OAF005325', 'OAF010091', 'OAF010176', 'OAF001434', 'OAF005172', 'OAF005702', 'OAF010368', 'OAF001208', 'OAF001707', 'OAF004119', 'OAF003331', 'OAF006260', 'OAF000196', 'OAF000119', 'OAF003836', 'OAF001193', 'OAF005801', 'OAF004589', 'OAF001071', 'OAF006446', 'OAF006499', 'OAF005918', 'OAF010630', 'OAF002733', 'OAF005415', 'OAF000253', 'OAF003431', 'OAF001524', 'OAF003094', 'OAF006231', 'OAF005205', 'OAF006378', 'OAF005569', 'OAF004848', 'OAF003415', 'OAF006517', 'OAF003062', 'OAF004061', 'OAF006240', 'OAF001126', 'OAF004861', 'OAF010206', 'OAF016859', 'OAF001760', 'OAF006706', 'OAF002722', 'OAF002795', 'OAF005406', 'OAF003414', 'OAF001554', 'OAF001752', 'OAF000842', 'OAF002318', 'OAF002438', 'OAF010615', 'OAF001413', 'OAF004146', 'OAF001270', 'OAF001316', 'OAF003919', 'OAF010062', 'OAF002468', 'OAF001225', 'OAF003146', 'OAF003118', 'OAF004049', 'OAF006387', 'OAF005723', 'OAF005145', 'OAF001970', 'OAF002477', 'OAF000881', 'OAF003425', 'OAF001283', 'OAF010003', 'OAF005766', 'OAF004013', 'OAF006469', 'OAF000267', 'OAF003620', 'OAF000045', 'OAF002836', 'OAF010428', 'OAF004407', 'OAF005339', 'OAF016546', 'OAF016790', 'OAF002097', 'OAF002342', 'OAF002101', 'OAF002044', 'OAF006694', 'OAF001429', 'OAF003517', 'OAF006736', 'OAF006729', 'OAF004935', 'OAF010583', 'OAF005740', 'OAF005083', 'OAF002840', 'OAF005144', 'OAF001411', 'OAF005840', 'OAF004647', 'OAF010411', 'OAF002460', 'OAF005731', 'OAF004693', 'OAF001003', 'OAF001315', 'OAF004011', 'OAF006202', 'OAF010581', 'OAF006709', 'OAF001343', 'OAF002608', 'OAF004890', 'OAF005875', 'OAF000214', 'OAF004459', 'OAF001196', 'OAF002384', 'OAF004967', 'OAF002349', 'OAF000462', 'OAF005291', 'OAF000031', 'OAF006707', 'OAF000190', 'OAF010635', 'OAF006595', 'OAF001683', 'OAF000173', 'OAF000908', 'OAF016350', 'OAF003368', 'OAF004042', 'OAF004531', 'OAF004003', 'OAF010256', 'OAF002312', 'OAF006355', 'OAF005568', 'OAF001525', 'OAF000266', 'OAF001923', 'OAF016952', 'OAF003039', 'OAF010132', 'OAF010437', 'OAF005894', 'OAF005392', 'OAF004856', 'OAF005283', 'OAF001936', 'OAF005960', 'OAF005675', 'OAF005288', 'OAF000007', 'OAF004545', 'OAF004301', 'OAF004612', 'OAF004836', 'OAF010247', 'OAF004969', 'OAF006094', 'OAF010156', 'OAF002294', 'OAF010627', 'OAF010443', 'OAF001173', 'OAF006443', 'OAF005930', 'OAF001405', 'OAF002662', 'OAF005476', 'OAF000477', 'OAF002066', 'OAF010243', 'OAF000366', 'OAF002670', 'OAF006099', 'OAF002645', 'OAF004868', 'OAF004092', 'OAF006592', 'OAF003823', 'OAF003254', 'OAF010567', 'OAF005784', 'OAF004921', 'OAF006049', 'OAF002230', 'OAF001402', 'OAF010617', 'OAF016552', 'OAF010110', 'OAF006277', 'OAF004142', 'OAF006173', 'OAF002580', 'OAF005337', 'OAF004492', 'OAF002991', 'OAF010333', 'OAF005481', 'OAF003825', 'OAF002304', 'OAF005495', 'OAF004523', 'OAF006451', 'OAF000415', 'OAF005761', 'OAF000057', 'OAF000896', 'OAF004378', 'OAF005431', 'OAF000082', 'OAF004800', 'OAF001431', 'OAF002006', 'OAF004491', 'OAF016871', 'OAF001156', 'OAF003269', 'OAF001578', 'OAF016781', 'OAF016780', 'OAF004488', 'OAF003787', 'OAF002168', 'OAF004806', 'OAF003951', 'OAF003288', 'OAF004355', 'OAF001455', 'OAF010233', 'OAF006349', 'OAF005196', 'OAF003551', 'OAF002172', 'OAF006306', 'OAF001404', 'OAF016365', 'OAF002171', 'OAF001551', 'OAF003341', 'OAF001693', 'OAF001214', 'OAF005497', 'OAF002833', 'OAF006679', 'OAF006320', 'OAF000347', 'OAF010001', 'OAF005089', 'OAF003549', 'OAF004024', 'OAF000413', 'OAF003674', 'OAF002127', 'OAF001550', 'OAF000404', 'OAF005492', 'OAF001058', 'OAF000021', 'OAF000663', 'OAF003600', 'OAF006238', 'OAF006227', 'OAF003904', 'OAF001791', 'OAF005412', 'OAF000199', 'OAF002681', 'OAF006337', 'OAF006322', 'OAF001428', 'OAF005596', 'OAF004577', 'OAF002658', 'OAF001011', 'OAF010613', 'OAF000077', 'OAF001931', 'OAF005490', 'OAF005758', 'OAF002684', 'OAF002260', 'OAF006525', 'OAF003496', 'OAF000115', 'OAF004834', 'OAF004297', 'OAF006072', 'OAF001790', 'OAF003158', 'OAF001219', 'OAF000474', 'OAF000060', 'OAF006092', 'OAF002376', 'OAF004694', 'OAF004084', 'OAF016811', 'OAF016533', 'OAF006580', 'OAF005268', 'OAF001539', 'OAF005600', 'OAF005290', 'OAF001223', 'OAF000575', 'OAF003232', 'OAF003494', 'OAF005589', 'OAF000546', 'OAF002759', 'OAF000989', 'OAF016858', 'OAF016344', 'OAF004075', 'OAF003228', 'OAF006130', 'OAF002077', 'OAF006492', 'OAF016377', 'OAF003291', 'OAF010561', 'OAF004692', 'OAF003119', 'OAF006006', 'OAF001802', 'OAF001468', 'OAF005452', 'OAF001377', 'OAF003866', 'OAF003990', 'OAF004573', 'OAF010177', 'OAF005349', 'OAF003363', 'OAF003043', 'OAF005416', 'OAF000455', 'OAF005460', 'OAF001138', 'OAF005228', 'OAF006312', 'OAF004519', 'OAF000901', 'OAF006624', 'OAF010555', 'OAF006630', 'OAF016876', 'OAF000070', 'OAF003754', 'OAF006480', 'OAF006696', 'OAF003545', 'OAF001425', 'OAF000711', 'OAF006287', 'OAF006187', 'OAF010515', 'OAF006382', 'OAF005320', 'OAF006313', 'OAF000164', 'OAF005890', 'OAF002170', 'OAF001237', 'OAF001527', 'OAF004905', 'OAF003875', 'OAF000699', 'OAF002393', 'OAF010122', 'OAF000735', 'OAF001218', 'OAF016671', 'OAF006157', 'OAF010135', 'OAF005119', 'OAF002356', 'OAF004472', 'OAF003588', 'OAF003707', 'OAF002823', 'OAF006377', 'OAF005255', 'OAF002713', 'OAF010500', 'OAF010596', 'OAF004864', 'OAF006278', 'OAF016415', 'OAF004133', 'OAF000583', 'OAF010102', 'OAF000299', 'OAF002035', 'OAF000724', 'OAF001618', 'OAF000992', 'OAF001893', 'OAF005256', 'OAF016424', 'OAF001868', 'OAF001772', 'OAF010006', 'OAF006156', 'OAF006605', 'OAF002466', 'OAF004563', 'OAF000744', 'OAF003641', 'OAF003598', 'OAF006704', 'OAF005357', 'OAF004560', 'OAF010625', 'OAF005608', 'OAF001370', 'OAF001211', 'OAF006385', 'OAF003391', 'OAF002678', 'OAF001376', 'OAF002405', 'OAF001015', 'OAF001559', 'OAF000701', 'OAF000022', 'OAF004220', 'OAF010264', 'OAF016817', 'OAF004517', 'OAF000016', 'OAF010023', 'OAF000936', 'OAF002258', 'OAF005684', 'OAF010451', 'OAF005421', 'OAF006230', 'OAF006165', 'OAF004466', 'OAF003768', 'OAF006677', 'OAF005411', 'OAF006276', 'OAF006442', 'OAF006035', 'OAF003532', 'OAF016325', 'OAF006164', 'OAF016417', 'OAF003085', 'OAF002051', 'OAF004631', 'OAF004252', 'OAF016500', 'OAF004255', 'OAF005269', 'OAF002482', 'OAF002093', 'OAF001240', 'OAF002188', 'OAF001983', 'OAF001159', 'OAF006553', 'OAF005498', 'OAF003090', 'OAF002368', 'OAF010620', 'OAF016411', 'OAF004129', 'OAF006148', 'OAF000653', 'OAF005988', 'OAF002194', 'OAF016911', 'OAF005818', 'OAF005791', 'OAF004950', 'OAF000945', 'OAF004141', 'OAF005917', 'OAF005694', 'OAF016329', 'OAF001553', 'OAF005809', 'OAF003402', 'OAF000489', 'OAF004313', 'OAF005001', 'OAF004893', 'OAF000376', 'OAF001389', 'OAF000049', 'OAF001829', 'OAF001662', 'OAF000742', 'OAF006235', 'OAF005445', 'OAF005401', 'OAF006463', 'OAF002316', 'OAF006559', 'OAF002816', 'OAF016375', 'OAF004321', 'OAF003418', 'OAF000798', 'OAF003237', 'OAF004952', 'OAF005609', 'OAF004669', 'OAF016958', 'OAF000891', 'OAF002751', 'OAF001665', 'OAF002557', 'OAF004939', 'OAF006416', 'OAF000950', 'OAF006692', 'OAF005456', 'OAF016551', 'OAF001816', 'OAF003281', 'OAF004212', 'OAF004248', 'OAF005963', 'OAF010281', 'OAF001596', 'OAF001160', 'OAF006233', 'OAF003623', 'OAF000426', 'OAF006751', 'OAF001277', 'OAF016409', 'OAF016658', 'OAF002773', 'OAF000731', 'OAF000729', 'OAF000061', 'OAF010585', 'OAF002485', 'OAF010031', 'OAF002862', 'OAF004401', 'OAF000959', 'OAF003102', 'OAF002633', 'OAF010141', 'OAF001716', 'OAF000108', 'OAF004640', 'OAF002001', 'OAF005599', 'OAF004458', 'OAF001244', 'OAF006462', 'OAF016959', 'OAF002459', 'OAF006169', 'OAF004567', 'OAF000216', 'OAF010367', 'OAF005742', 'OAF003638', 'OAF005797', 'OAF000152', 'OAF002276', 'OAF016399', 'OAF006562', 'OAF001687', 'OAF016785', 'OAF000563', 'OAF004014', 'OAF005767', 'OAF002088', 'OAF006750', 'OAF010356', 'OAF016374', 'OAF001339', 'OAF005323', 'OAF001675', 'OAF010518', 'OAF016355', 'OAF003933', 'OAF002579', 'OAF002636', 'OAF016934', 'OAF004600', 'OAF002201', 'OAF002123', 'OAF000793', 'OAF003718', 'OAF000915', 'OAF006361', 'OAF010189', 'OAF004594', 'OAF003202', 'OAF004908', 'OAF006483', 'OAF002382', 'OAF016418', 'OAF006669', 'OAF003993', 'OAF006430', 'OAF002308', 'OAF000178', 'OAF016880', 'OAF005933', 'OAF004099', 'OAF006218', 'OAF000560', 'OAF010291', 'OAF003720', 'OAF006773', 'OAF003926', 'OAF001052', 'OAF000593', 'OAF016354', 'OAF000165', 'OAF005852', 'OAF005336', 'OAF005350', 'OAF004524', 'OAF010599', 'OAF003299', 'OAF000839', 'OAF004465', 'OAF002394', 'OAF016326', 'OAF001773', 'OAF016786', 'OAF002790', 'OAF010357', 'OAF001522', 'OAF001612', 'OAF005895', 'OAF001483', 'OAF006042', 'OAF000412', 'OAF005393', 'OAF001079', 'OAF003177', 'OAF006082', 'OAF000307', 'OAF005889', 'OAF004807', 'OAF003055', 'OAF001098', 'OAF002524', 'OAF001866', 'OAF003603', 'OAF005252', 'OAF000782', 'OAF001393', 'OAF003002', 'OAF000485', 'OAF016791', 'OAF006661', 'OAF002878', 'OAF002406', 'OAF006441', 'OAF002856', 'OAF001801', 'OAF016929', 'OAF002526', 'OAF006519', 'OAF005453', 'OAF005768', 'OAF010090', 'OAF005190', 'OAF005423', 'OAF002268', 'OAF006508', 'OAF002914', 'OAF005188', 'OAF006587', 'OAF002628', 'OAF003103', 'OAF004215', 'OAF010507', 'OAF003622', 'OAF000302', 'OAF006567', 'OAF003575', 'OAF003535', 'OAF003294', 'OAF002699', 'OAF006038', 'OAF003864', 'OAF006293', 'OAF004117', 'OAF016393', 'OAF002797', 'OAF005792', 'OAF001197', 'OAF005644', 'OAF016555', 'OAF004602', 'OAF010490', 'OAF006454', 'OAF003563', 'OAF005534', 'OAF000920', 'OAF004169', 'OAF005617', 'OAF003868', 'OAF016483', 'OAF006737', 'OAF002762', 'OAF002772', 'OAF001823', 'OAF002804', 'OAF002081', 'OAF010471', 'OAF016950', 'OAF000425', 'OAF003483', 'OAF006299', 'OAF003475', 'OAF002184', 'OAF004487', 'OAF004583', 'OAF016873', 'OAF003658', 'OAF010134', 'OAF010087', 'OAF004929', 'OAF001748', 'OAF000873', 'OAF002255', 'OAF006390', 'OAF001667', 'OAF001466', 'OAF010153', 'OAF005278', 'OAF005277', 'OAF006261', 'OAF010198', 'OAF005776', 'OAF000023', 'OAF002986', 'OAF001934', 'OAF016874', 'OAF005052', 'OAF002566', 'OAF003611', 'OAF002717', 'OAF010554', 'OAF005462', 'OAF001855', 'OAF005625', 'OAF010468', 'OAF016352', 'OAF004360', 'OAF001907', 'OAF003466', 'OAF003702', 'OAF006544', 'OAF005056', 'OAF005346', 'OAF005601', 'OAF000029', 'OAF002207', 'OAF000296', 'OAF004656', 'OAF000622', 'OAF002570', 'OAF004486', 'OAF003468', 'OAF002257', 'OAF000733', 'OAF001023', 'OAF005868', 'OAF000648', 'OAF000205', 'OAF004134', 'OAF016477', 'OAF004127', 'OAF006401', 'OAF001927', 'OAF005313', 'OAF004094', 'OAF016792', 'OAF006493', 'OAF000601', 'OAF005713', 'OAF001528', 'OAF002786', 'OAF005950', 'OAF004423', 'OAF005998', 'OAF002200', 'OAF001137', 'OAF000144', 'OAF001152', 'OAF002030', 'OAF005638', 'OAF006058', 'OAF003971', 'OAF006171', 'OAF001184', 'OAF004925', 'OAF004768', 'OAF005487', 'OAF002953', 'OAF016554', 'OAF016849', 'OAF004320', 'OAF001779', 'OAF001639', 'OAF001976', 'OAF003752', 'OAF002592', 'OAF001925', 'OAF010559', 'OAF002737', 'OAF000496', 'OAF002234', 'OAF006027', 'OAF005266', 'OAF002613', 'OAF006071', 'OAF006248', 'OAF005378', 'OAF004661', 'OAF016345', 'OAF003272', 'OAF005725', 'OAF005620', 'OAF001192', 'OAF000686', 'OAF016318', 'OAF006701', 'OAF002995', 'OAF002038', 'OAF005390', 'OAF005170', 'OAF016923', 'OAF006255', 'OAF002167', 'OAF004254', 'OAF000156', 'OAF004938', 'OAF005806', 'OAF010213', 'OAF003396', 'OAF000964', 'OAF003505', 'OAF000819', 'OAF001990', 'OAF004690', 'OAF002811', 'OAF002530', 'OAF003048', 'OAF006342', 'OAF005191', 'OAF004242', 'OAF000270', 'OAF003988', 'OAF003301', 'OAF010042', 'OAF001296', 'OAF002299', 'OAF006285', 'OAF000947', 'OAF000121', 'OAF010644', 'OAF016901', 'OAF005479', 'OAF010126', 'OAF004813', 'OAF003185', 'OAF004972', 'OAF006360', 'OAF005174', 'OAF005362', 'OAF004537', 'OAF010124', 'OAF002879', 'OAF002998', 'OAF001125', 'OAF003111', 'OAF005316', 'OAF016425', 'OAF005248', 'OAF006733', 'OAF005775', 'OAF002338', 'OAF006418', 'OAF010638', 'OAF001843', 'OAF006269', 'OAF010343', 'OAF004895', 'OAF005502', 'OAF005030', 'OAF006476', 'OAF004650', 'OAF000762', 'OAF005869', 'OAF004199', 'OAF003756', 'OAF016496', 'OAF004101', 'OAF000703', 'OAF003395', 'OAF005232', 'OAF004349']\n",
      "crosssections\n",
      "Index(['code', 'geometry', 'ruwheidswaarde', 'ruwheidstypecode',\n",
      "       'codegerelateerdobject', 'branch_id', 'branch_offset'],\n",
      "      dtype='object')\n",
      "bridges\n",
      "Index(['code', 'geometry', 'hoogtebovenzijde', 'hoogteonderzijde', 'lengte',\n",
      "       'dwarsprofielcode', 'intreeverlies', 'uittreeverlies',\n",
      "       'ruwheidstypecode', 'ruwheidswaarde', 'branch_id', 'branch_offset'],\n",
      "      dtype='object')\n",
      "culverts\n",
      "Index(['code', 'geometry', 'lengte', 'hoogteopening', 'breedteopening',\n",
      "       'hoogtebinnenonderkantbenedenstrooms',\n",
      "       'hoogtebinnenonderkantbovenstrooms', 'vormcode', 'intreeverlies',\n",
      "       'uittreeverlies', 'ruwheidstypecode', 'ruwheidswaarde', 'branch_id',\n",
      "       'branch_offset'],\n",
      "      dtype='object')\n",
      "orifices\n",
      "Index(['code', 'geometry', 'laagstedoorstroomhoogte',\n",
      "       'laagstedoorstroombreedte', 'schuifhoogte', 'afvoercoefficient'],\n",
      "      dtype='object')\n",
      "weirs\n",
      "Index(['code', 'geometry', 'soortstuwcode', 'soortregelbaarheidcode',\n",
      "       'laagstedoorstroomhoogte', 'laagstedoorstroombreedte',\n",
      "       'afvoercoefficient', 'branch_id', 'branch_offset'],\n",
      "      dtype='object')\n",
      "gemalen\n",
      "Index(['code', 'maximalecapaciteit', 'geometry', 'branch_id', 'branch_offset'], dtype='object')\n",
      "pumps\n",
      "Index(['code', 'maximalecapaciteit', 'geometry', 'codegerelateerdobject',\n",
      "       'branch_id', 'branch_offset'],\n",
      "      dtype='object')\n"
     ]
    }
   ],
   "source": [
    "hydamo = hydrotools.filter_model(hydamo, attribute_filter={\"HydroModel\": \"Boezemmodel_v4\"})\n",
    "hydrotools.export_shapes(hydamo, path=Path(r\"./hydamo_shp\"))"
   ]
  },
  {
   "cell_type": "markdown",
   "metadata": {},
   "source": [
    "## Converteren naar DFM\n",
    "\n",
    "### Aanmaken dfm-klasse"
   ]
  },
  {
   "cell_type": "code",
   "execution_count": 13,
   "metadata": {},
   "outputs": [],
   "source": [
    "dfmmodel = DFlowFMModel()"
   ]
  },
  {
   "cell_type": "markdown",
   "metadata": {},
   "source": [
    "### Inlezen kunstwerken"
   ]
  },
  {
   "cell_type": "code",
   "execution_count": 14,
   "metadata": {},
   "outputs": [],
   "source": [
    "dfmmodel.structures.io.weirs_from_hydamo(hydamo.weirs,\n",
    "                                         yz_profiles=hydamo.crosssections,\n",
    "                                         parametrised_profiles=hydamo.parametrised_profiles)\n",
    "\n",
    "dfmmodel.structures.io.culverts_from_hydamo(hydamo.culverts,\n",
    "                                            hydamo.afsluitmiddel)\n",
    "\n",
    "dfmmodel.structures.io.bridges_from_hydamo(hydamo.bridges,\n",
    "                                           yz_profiles=hydamo.crosssections,\n",
    "                                           parametrised_profiles=hydamo.parametrised_profiles)\n",
    "\n",
    "dfmmodel.structures.io.orifices_from_hydamo(hydamo.orifices)\n",
    "\n",
    "dfmmodel.structures.io.pumps_from_hydamo(pompen=hydamo.pumps,\n",
    "                                         sturing=hydamo.sturing,\n",
    "                                         gemalen=hydamo.gemalen)"
   ]
  },
  {
   "cell_type": "markdown",
   "metadata": {},
   "source": [
    "### Aanmaken 1d netwerk"
   ]
  },
  {
   "cell_type": "code",
   "execution_count": 15,
   "metadata": {},
   "outputs": [],
   "source": [
    "dfmmodel.network.set_branches(hydamo.branches)\n",
    "dfmmodel.network.generate_1dnetwork(one_d_mesh_distance=100.0, seperate_structures=True)"
   ]
  },
  {
   "cell_type": "markdown",
   "metadata": {},
   "source": [
    "### Toevoegen cross-sections"
   ]
  },
  {
   "cell_type": "code",
   "execution_count": 16,
   "metadata": {},
   "outputs": [
    {
     "name": "stdout",
     "output_type": "stream",
     "text": [
      "No parametrised crossections available for branches.\n",
      "867 branches are still missing a cross section.\n",
      "0 structures are still missing a cross section.\n"
     ]
    }
   ],
   "source": [
    "dfmmodel.crosssections.io.from_hydamo(\n",
    "    dwarsprofielen=hydamo.crosssections,\n",
    "    parametrised=hydamo.parametrised_profiles,\n",
    "    branches=hydamo.branches\n",
    ")\n",
    "\n",
    "print(f\"{len(dfmmodel.crosssections.get_branches_without_crosssection())} branches are still missing a cross section.\")\n",
    "print(f\"{len(dfmmodel.crosssections.get_structures_without_crosssection())} structures are still missing a cross section.\")"
   ]
  },
  {
   "cell_type": "markdown",
   "metadata": {},
   "source": [
    "### Wegschrijven model"
   ]
  },
  {
   "cell_type": "code",
   "execution_count": 17,
   "metadata": {},
   "outputs": [
    {
     "name": "stdout",
     "output_type": "stream",
     "text": [
      "Model is weggeschreven\n"
     ]
    }
   ],
   "source": [
    "dfmmodel.mdu_parameters[\"refdate\"] = 20000101\n",
    "dfmmodel.mdu_parameters[\"tstart\"] = 0.0 * 3600\n",
    "dfmmodel.mdu_parameters[\"tstop\"] = 144.0 * 1 * 3600\n",
    "dfmmodel.mdu_parameters[\"hisinterval\"] = \"120. 0. 0.\"\n",
    "dfmmodel.mdu_parameters[\"cflmax\"] = 0.7\n",
    "\n",
    "dimr_path = r\"dummypath\\run_dimr.bat\"\n",
    "dfmmodel.dimr_path = dimr_path\n",
    "fm_writer = DFlowFMWriter(dfmmodel, output_dir=\"dfm_model\", name=\"boezemmodel\")\n",
    "\n",
    "fm_writer.objects_to_ldb()\n",
    "fm_writer.write_all()\n",
    "\n",
    "if Path(r\".\\dfm_model\\fm\\boezemmodel.mdu\").exists():\n",
    "    print(\"Model is weggeschreven\")\n",
    "else:\n",
    "    print(\"Er is geen model geschreven. Waarschijnlijk is iets fout gegaan\")"
   ]
  },
  {
   "cell_type": "markdown",
   "metadata": {},
   "source": [
    "## Importeren in de D-Hydro suite\n",
    "\n",
    "Open het model nu in D-Hydro:\n",
    "1. Open een \"Empty Project\"\n",
    "2. In de \"Home\" ribbon, ga naar \"Import\" en selecteer \"Flow Flexible Mesh Model\"\n",
    "3. Selecteer het bestand \"boezemmodel.mdu\" in \".\\dfm_model\\fm\\boezemmodel.mdu\"\n",
    "4. Wacht tot het model is geimporteerd.....\n",
    "\n",
    "Het geimporteerde model is nu zichtbaar in de D-Hydro suite\n",
    "<img src=\"png/boezemmodel.png\"/>"
   ]
  },
  {
   "cell_type": "code",
   "execution_count": null,
   "metadata": {},
   "outputs": [],
   "source": []
  },
  {
   "cell_type": "code",
   "execution_count": null,
   "metadata": {},
   "outputs": [],
   "source": []
  },
  {
   "cell_type": "code",
   "execution_count": null,
   "metadata": {},
   "outputs": [],
   "source": []
  },
  {
   "cell_type": "code",
   "execution_count": null,
   "metadata": {},
   "outputs": [],
   "source": []
  }
 ],
 "metadata": {
  "kernelspec": {
   "display_name": "Python 3",
   "language": "python",
   "name": "python3"
  },
  "language_info": {
   "codemirror_mode": {
    "name": "ipython",
    "version": 3
   },
   "file_extension": ".py",
   "mimetype": "text/x-python",
   "name": "python",
   "nbconvert_exporter": "python",
   "pygments_lexer": "ipython3",
   "version": "3.7.8"
  }
 },
 "nbformat": 4,
 "nbformat_minor": 4
}
